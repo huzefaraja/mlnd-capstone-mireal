{
 "cells": [
  {
   "cell_type": "markdown",
   "metadata": {},
   "source": [
    "# Music Information Retrieval and Emotion Annotation using Lyrics"
   ]
  },
  {
   "cell_type": "markdown",
   "metadata": {},
   "source": [
    "This notebook attempts to label a dataset of lyrics with emotions, and then perform multilabel classification using the prepared dataset.  \n",
    "  \n",
    "  \n",
    "Please make sure that the required datasets are available. For information on how to get the datasets, read the [README file](https://github.com/huzefaraja/mlnd-capstone-mireal/blob/master/README.md)  \n",
    "\n",
    "Before continuing, please make sure that the following files are present in the same directory as this notebook:\n",
    "- text_utils.py\n",
    "- data_utils.py\n",
    "- display_utils.py\n",
    "- lyrics.csv\n",
    "- NRC-Emotion-Lexicon-Wordlevel-v0.92.txt\n",
    "\n",
    "Also, this notebook requires Gensim, NLTK, SKLearn, TensorFlow and Keras to be installed.\n",
    "\n",
    "Let's begin with some imports: "
   ]
  },
  {
   "cell_type": "code",
   "execution_count": 1,
   "metadata": {},
   "outputs": [],
   "source": [
    "import numpy as np\n",
    "import pandas as pd\n",
    "\n",
    "import warnings\n",
    "warnings.filterwarnings('ignore') # to hide warnings such as 'Gensims: detected Windows', and to hide deprecation warnings for TF's random seed\n",
    "\n",
    "from numpy.random import seed\n",
    "seed(42)\n",
    "\n",
    "from tensorflow import set_random_seed\n",
    "set_random_seed(42)\n",
    "\n",
    "from IPython.display import display # to display DataFrames\n",
    "import matplotlib.pyplot as plt\n",
    "%matplotlib inline\n",
    "\n",
    "import text_utils # contains methods for processing text\n",
    "import data_utils # contains methods for retrieving info from topic models, dataframes and word embeddings\n",
    "import display_utils # contains methods for displaying time and data in some predecided formats\n",
    "\n",
    "from time import time as now"
   ]
  },
  {
   "cell_type": "markdown",
   "metadata": {},
   "source": [
    "## Datasets\n",
    "\n",
    "### Lyrics\n",
    "\n",
    "The cell below opens the Lyrics dataset, and removes any rows with missing data:"
   ]
  },
  {
   "cell_type": "code",
   "execution_count": 2,
   "metadata": {},
   "outputs": [
    {
     "name": "stdout",
     "output_type": "stream",
     "text": [
      "Number of songs in the CSV: 362237\n",
      "Number of songs in the CSV after removing missing data: 266556\n"
     ]
    }
   ],
   "source": [
    "all_data = pd.read_csv(\"lyrics.csv\")\n",
    "print(\"Number of songs in the CSV: \" + str(len(all_data)))\n",
    "\n",
    "all_data = all_data.dropna(axis=0, how='any')[['artist', 'song', 'genre', 'year', 'lyrics']].reset_index(drop=True)\n",
    "print(\"Number of songs in the CSV after removing missing data: \" + str(len(all_data)))\n"
   ]
  },
  {
   "cell_type": "markdown",
   "metadata": {},
   "source": [
    "### Data Preprocessing\n",
    "\n",
    "Below, we remove songs by a few of the artists, and then take the top 500 artists from the remainder of the dataset. Duplicate songs by the same artists are dropped, and songs that have identical lyrics are only kept once.  "
   ]
  },
  {
   "cell_type": "code",
   "execution_count": 3,
   "metadata": {
    "scrolled": false
   },
   "outputs": [
    {
     "name": "stdout",
     "output_type": "stream",
     "text": [
      "Number of songs: 89634\n",
      "Number of songs after dropping duplicates: 80539\n",
      "Sample Data: \n"
     ]
    },
    {
     "data": {
      "text/html": [
       "<div>\n",
       "<table border=\"1\" class=\"dataframe\">\n",
       "  <thead>\n",
       "    <tr style=\"text-align: right;\">\n",
       "      <th></th>\n",
       "      <th>artist</th>\n",
       "      <th>song</th>\n",
       "      <th>genre</th>\n",
       "      <th>year</th>\n",
       "      <th>lyrics</th>\n",
       "    </tr>\n",
       "  </thead>\n",
       "  <tbody>\n",
       "    <tr>\n",
       "      <th>27641</th>\n",
       "      <td>cocteau-twins</td>\n",
       "      <td>know-who-you-are-at-every-age</td>\n",
       "      <td>Pop</td>\n",
       "      <td>2006</td>\n",
       "      <td>It seems things are indicative to,\\nA distinct...</td>\n",
       "    </tr>\n",
       "    <tr>\n",
       "      <th>34816</th>\n",
       "      <td>bad-religion</td>\n",
       "      <td>the-world-won-t-stop</td>\n",
       "      <td>Rock</td>\n",
       "      <td>2006</td>\n",
       "      <td>You've got to quit your little charade\\nAnd jo...</td>\n",
       "    </tr>\n",
       "    <tr>\n",
       "      <th>23120</th>\n",
       "      <td>doris-day</td>\n",
       "      <td>t-ain-t-me</td>\n",
       "      <td>Jazz</td>\n",
       "      <td>2016</td>\n",
       "      <td>`Tain't me baby gee I'm blue\\n`Tain't me that ...</td>\n",
       "    </tr>\n",
       "    <tr>\n",
       "      <th>62398</th>\n",
       "      <td>beautiful-south</td>\n",
       "      <td>love-is</td>\n",
       "      <td>Pop</td>\n",
       "      <td>2006</td>\n",
       "      <td>Ooh you care, you really, really care\\nFrom th...</td>\n",
       "    </tr>\n",
       "    <tr>\n",
       "      <th>67964</th>\n",
       "      <td>george-strait</td>\n",
       "      <td>get-along-with-you</td>\n",
       "      <td>Country</td>\n",
       "      <td>2007</td>\n",
       "      <td>I don't get along\\nWith people who aren't kind...</td>\n",
       "    </tr>\n",
       "  </tbody>\n",
       "</table>\n",
       "</div>"
      ],
      "text/plain": [
       "                artist                           song    genre  year  \\\n",
       "27641    cocteau-twins  know-who-you-are-at-every-age      Pop  2006   \n",
       "34816     bad-religion           the-world-won-t-stop     Rock  2006   \n",
       "23120        doris-day                     t-ain-t-me     Jazz  2016   \n",
       "62398  beautiful-south                        love-is      Pop  2006   \n",
       "67964    george-strait             get-along-with-you  Country  2007   \n",
       "\n",
       "                                                  lyrics  \n",
       "27641  It seems things are indicative to,\\nA distinct...  \n",
       "34816  You've got to quit your little charade\\nAnd jo...  \n",
       "23120  `Tain't me baby gee I'm blue\\n`Tain't me that ...  \n",
       "62398  Ooh you care, you really, really care\\nFrom th...  \n",
       "67964  I don't get along\\nWith people who aren't kind...  "
      ]
     },
     "metadata": {},
     "output_type": "display_data"
    }
   ],
   "source": [
    "data_to_use = all_data[~all_data['artist'].isin(set(['chris-brown','american-idol', 'chumbawamba', \n",
    "                                                     'celine-dion', '50-cent', 'chamillionaire', '2pac',\n",
    "                                                     'frank-zappa','2-chainz','beenie-man', 'akon','ace-hood']))]\n",
    "\n",
    "n_artists = 500\n",
    "artists = set(data_to_use['artist'].value_counts()[:n_artists].keys())\n",
    "\n",
    "data_to_use = data_to_use[data_to_use['artist'].isin(artists)]\n",
    "print('Number of songs: {0}'.format(len(data_to_use)))\n",
    "\n",
    "data_to_use = data_to_use.drop_duplicates(subset=['artist', 'song']) # same song from same artist\n",
    "data_to_use = data_to_use.drop_duplicates(subset=['lyrics']).reset_index(drop=True) # songs with identical lyricss\n",
    "print('Number of songs after dropping duplicates: {0}'.format(len(data_to_use)))\n",
    "\n",
    "print(\"Sample Data: \")\n",
    "display(data_to_use.sample(5, random_state = 1))"
   ]
  },
  {
   "cell_type": "markdown",
   "metadata": {},
   "source": [
    "The cell below uses data_utils (which in turn uses text_utils) to process the data. This is a time consuming process. Each song is parsed, and various changes are made to the lyrics to 'clean' the text. I wish I could make a more efficient version."
   ]
  },
  {
   "cell_type": "code",
   "execution_count": 4,
   "metadata": {
    "scrolled": false
   },
   "outputs": [
    {
     "name": "stdout",
     "output_type": "stream",
     "text": [
      "Cleaning lyrics, counting words and detecing language. This may take some time ... 43m 49s 955ms\n",
      "Removing data with missing features ... 59ms\n",
      "Removing duplicate data ... 56ms\n",
      "Sorting data by artist & song title ... 837ms\n",
      "Saving processed data ... Wall time: 3.87 s\n"
     ]
    }
   ],
   "source": [
    "data = data_utils.process_data(data_to_use)\n",
    "print('Saving processed data ... ', end='')\n",
    "%time data.to_csv('processed_data.csv',encoding='utf-8', index=False)"
   ]
  },
  {
   "cell_type": "markdown",
   "metadata": {},
   "source": [
    "### Data Preprocessing Checkpoint\n",
    "\n",
    "The preprocessing above is a time consuming process. If it has already been performed, the next cell can be executed without repeating it (thought the earlier imports are still necessary)."
   ]
  },
  {
   "cell_type": "code",
   "execution_count": 5,
   "metadata": {
    "scrolled": false
   },
   "outputs": [
    {
     "name": "stdout",
     "output_type": "stream",
     "text": [
      "Loading processed data ... 1s 898ms\n",
      "Number of processed songs: 72999\n"
     ]
    }
   ],
   "source": [
    "print(\"Loading processed data ... \", end='')\n",
    "last = now()\n",
    "data = pd.read_csv('processed_data.csv')\n",
    "data = data[['artist', 'song', 'genre', 'year', 'lyrics', 'old_word_count', 'cleaned_lyrics', 'new_word_count']]\n",
    "display_utils.print_time(now() - last)\n",
    "print(\"Number of processed songs: %d\" % len(data))"
   ]
  },
  {
   "cell_type": "code",
   "execution_count": 6,
   "metadata": {},
   "outputs": [
    {
     "name": "stdout",
     "output_type": "stream",
     "text": [
      "Removing songs with word count less than 100 ... 12ms\n",
      "Number of songs remaining: 12014 \n"
     ]
    }
   ],
   "source": [
    "df_orig = data_utils.get_songs_with_min_length(data, 100)\n",
    "print(\"Number of songs remaining: %d \" % len(df_orig))"
   ]
  },
  {
   "cell_type": "code",
   "execution_count": 10,
   "metadata": {
    "scrolled": false
   },
   "outputs": [
    {
     "name": "stdout",
     "output_type": "stream",
     "text": [
      "A sample of the number of songs by different artists: \n"
     ]
    },
    {
     "data": {
      "text/plain": [
       "david-hasselhoff    17\n",
       "edguy               14\n",
       "annihilator          3\n",
       "elvis-presley       12\n",
       "b-b-king            18\n",
       "Name: artist, dtype: int64"
      ]
     },
     "metadata": {},
     "output_type": "display_data"
    }
   ],
   "source": [
    "print(\"A sample of the number of songs by different artists: \")\n",
    "display(df_orig.artist.value_counts().sample(5, random_state=23))"
   ]
  },
  {
   "cell_type": "markdown",
   "metadata": {},
   "source": [
    "### EmoLex (Emotion-Lexicon-Dataset)\n",
    "\n",
    "Let's take a little bit of a detour now, and access the second piece of data, the lexicon-to-emotions database.  \n",
    "The code below will parse the TXT and transform to a pandas friendly CSV, that can be then be loaded as necessary."
   ]
  },
  {
   "cell_type": "code",
   "execution_count": 8,
   "metadata": {
    "collapsed": true
   },
   "outputs": [],
   "source": [
    "nrc = pd.read_csv('NRC-Emotion-Lexicon-Wordlevel-v0.92.txt', delimiter='\\t')\n",
    "\n",
    "def word_to_emotion(row):\n",
    "    global df_w2e\n",
    "    w2e = {}\n",
    "    w2e = {'word':row['word'][row['word'].index[0]]}\n",
    "    s = 0\n",
    "    for index, value in row['emotion'].iteritems():\n",
    "        is_active = row['active'][index]\n",
    "        w2e[value] = is_active\n",
    "        s += is_active\n",
    "    df_w2e = df_w2e.append(w2e, ignore_index=True)\n",
    "    \n",
    "df_w2e = pd.DataFrame(columns=['word', \n",
    "                               'anger', 'anticipation', \n",
    "                               'disgust', 'fear', \n",
    "                               'joy', 'sadness', \n",
    "                               'surprise', 'trust', \n",
    "                               'sum'])\n",
    "nrc.groupby(by=['word']).apply(word_to_emotion)\n",
    "df_w2e['sum'] = df_w2e.anger + df_w2e.anticipation + df_w2e.disgust + df_w2e.fear + df_w2e.joy + df_w2e.sadness + df_w2e.surprise + df_w2e.trust\n",
    "df_w2e.to_csv('word_to_emotion.csv', encoding='utf-8', index=False)"
   ]
  },
  {
   "cell_type": "markdown",
   "metadata": {},
   "source": [
    "### Another Data Checkpoint\n",
    "\n",
    "We can continue from below (after loading the previous checkpoint CSV), if the second dataset has already been parsed."
   ]
  },
  {
   "cell_type": "code",
   "execution_count": 11,
   "metadata": {
    "collapsed": true
   },
   "outputs": [],
   "source": [
    "df_w2e = pd.read_csv('word_to_emotion.csv')\n",
    "df_w2e = df_w2e[df_w2e['sum'] != 0]\n",
    "words_w2e = [value for idx, value in df_w2e['word'].iteritems()]"
   ]
  },
  {
   "cell_type": "markdown",
   "metadata": {},
   "source": [
    "## Vectorization\n",
    "### Creating the Word2Vec model\n",
    "\n",
    "The cell below will split the lyrics into lists of words, which will then be used to create a Word2Vec Model."
   ]
  },
  {
   "cell_type": "code",
   "execution_count": 12,
   "metadata": {
    "collapsed": true
   },
   "outputs": [],
   "source": [
    "lyrics_raw_orig = df_orig.cleaned_lyrics.values\n",
    "lyrics_raw_words_orig = [lines.split() for lines in lyrics_raw_orig]"
   ]
  },
  {
   "cell_type": "code",
   "execution_count": 13,
   "metadata": {},
   "outputs": [],
   "source": [
    "from gensim.models.word2vec import Word2Vec\n",
    "w2v_model = Word2Vec(lyrics_raw_words_orig, \n",
    "                     workers=1, # to ensure that the model is deterministic\n",
    "                     size=200, min_count=50, \n",
    "                     window=10, sample=1e-3)"
   ]
  },
  {
   "cell_type": "markdown",
   "metadata": {},
   "source": [
    "Let's see how well the model performs:"
   ]
  },
  {
   "cell_type": "code",
   "execution_count": 14,
   "metadata": {},
   "outputs": [
    {
     "data": {
      "text/plain": [
       "{'daughter', 'mother', 'sister'}"
      ]
     },
     "execution_count": 14,
     "metadata": {},
     "output_type": "execute_result"
    }
   ],
   "source": [
    "data_utils.get_similar_words(w2v_model, 'father', min_relevance=.6)"
   ]
  },
  {
   "cell_type": "markdown",
   "metadata": {},
   "source": [
    "That seems to be good. The vocabulary of this model will now be combined with emotion carrying words from the Emotion-Lexicon database. This will tell us the number of allowed words:"
   ]
  },
  {
   "cell_type": "code",
   "execution_count": 15,
   "metadata": {},
   "outputs": [
    {
     "name": "stdout",
     "output_type": "stream",
     "text": [
      "Number of words allowed: 8156\n"
     ]
    }
   ],
   "source": [
    "words_w2v = set(w2v_model.wv.vocab.keys())\n",
    "words_w2v.update(words_w2e)\n",
    "words_w2v.remove('don')\n",
    "print(\"Number of words allowed: %d\" % (len(words_w2v)))"
   ]
  },
  {
   "cell_type": "markdown",
   "metadata": {},
   "source": [
    "The two cells below will remove words that are not allowed and update the dataset:"
   ]
  },
  {
   "cell_type": "code",
   "execution_count": 16,
   "metadata": {},
   "outputs": [],
   "source": [
    "lyrics_raw_words = lyrics_raw_words_orig\n",
    "lyrics_raw = []\n",
    "for lyrics in lyrics_raw_words:\n",
    "    lyrics_raw.append(' '.join([word for word in lyrics if word in words_w2v]))"
   ]
  },
  {
   "cell_type": "code",
   "execution_count": 17,
   "metadata": {
    "collapsed": true,
    "scrolled": false
   },
   "outputs": [],
   "source": [
    "df_temp = df_orig\n",
    "df_temp['constrained_lyrics'] = lyrics_raw\n",
    "df_temp['constrained_word_count'] = df_temp['constrained_lyrics'].apply(lambda x: len(x.split()))\n",
    "df_temp = df_temp[df_temp.constrained_word_count>=90]\n",
    "df_temp = df_temp.dropna(how='any')\n",
    "df = df_temp.reset_index(drop=True)\n",
    "lyrics_raw = df.constrained_lyrics.values"
   ]
  },
  {
   "cell_type": "markdown",
   "metadata": {},
   "source": [
    "### CountVectorizer\n",
    "\n",
    "The code below will Vectorize the Documents, and then we create a topic model in the next cell. It will be visualized below."
   ]
  },
  {
   "cell_type": "code",
   "execution_count": 18,
   "metadata": {},
   "outputs": [
    {
     "name": "stdout",
     "output_type": "stream",
     "text": [
      "Number of documents: 10752, number of words: 5474\n"
     ]
    }
   ],
   "source": [
    "from sklearn.feature_extraction.text import CountVectorizer\n",
    "\n",
    "vectorizer = CountVectorizer(strip_accents = 'unicode',\n",
    "                                lowercase = True,\n",
    "                                stop_words = 'english',\n",
    "                                token_pattern = r'\\b[a-zA-Z]{3,}\\b',\n",
    "                                max_df = 0.5, \n",
    "                                min_df = 10)\n",
    "lyrics_vectorized = vectorizer.fit_transform(lyrics_raw)\n",
    "print(\"Number of documents: {0}, number of words: {1}\".format(lyrics_vectorized.shape[0], lyrics_vectorized.shape[1]))"
   ]
  },
  {
   "cell_type": "markdown",
   "metadata": {},
   "source": [
    "## Topic Modeling"
   ]
  },
  {
   "cell_type": "code",
   "execution_count": 21,
   "metadata": {},
   "outputs": [
    {
     "name": "stdout",
     "output_type": "stream",
     "text": [
      "Creating Topic Model using LDA with 30 iterations ... Wall time: 2min 41s\n"
     ]
    },
    {
     "data": {
      "text/plain": [
       "LatentDirichletAllocation(batch_size=128, doc_topic_prior=None,\n",
       "             evaluate_every=-1, learning_decay=0.7,\n",
       "             learning_method='online', learning_offset=10.0,\n",
       "             max_doc_update_iter=100, max_iter=30, mean_change_tol=0.001,\n",
       "             n_components=20, n_jobs=1, n_topics=None, perp_tol=0.1,\n",
       "             random_state=8, topic_word_prior=None,\n",
       "             total_samples=1000000.0, verbose=0)"
      ]
     },
     "execution_count": 21,
     "metadata": {},
     "output_type": "execute_result"
    }
   ],
   "source": [
    "from sklearn.decomposition import LatentDirichletAllocation\n",
    "n_topics = 20 # number of topics\n",
    "\n",
    "topic_model = LatentDirichletAllocation(n_components=n_topics, random_state=8, learning_method='online', max_iter=30)\n",
    "print(\"Creating Topic Model using LDA with {} iterations ... \".format(topic_model.max_iter), end='')\n",
    "%time topic_model.fit(lyrics_vectorized)"
   ]
  },
  {
   "cell_type": "code",
   "execution_count": 22,
   "metadata": {},
   "outputs": [
    {
     "data": {
      "text/html": [
       "\n",
       "<link rel=\"stylesheet\" type=\"text/css\" href=\"https://cdn.rawgit.com/bmabey/pyLDAvis/files/ldavis.v1.0.0.css\">\n",
       "\n",
       "\n",
       "<div id=\"ldavis_el267628940608089768139056416\"></div>\n",
       "<script type=\"text/javascript\">\n",
       "\n",
       "var ldavis_el267628940608089768139056416_data = {\"mdsDat\": {\"Freq\": [6.00141404201556, 3.915098854523189, 2.2633179443412605, 2.847439314248807, 3.48492448547116, 9.438642338810585, 9.118416478117634, 0.8183942215453522, 2.5809083637901447, 13.196071853450647, 2.299887169074068, 2.573008070458129, 8.687119122304814, 12.015099008599018, 1.8942182134701515, 1.8501633755380422, 6.083210693419764, 1.4130688318821547, 7.6948509727869565, 1.824746646152562], \"cluster\": [1, 1, 1, 1, 1, 1, 1, 1, 1, 1, 1, 1, 1, 1, 1, 1, 1, 1, 1, 1], \"topics\": [1, 2, 3, 4, 5, 6, 7, 8, 9, 10, 11, 12, 13, 14, 15, 16, 17, 18, 19, 20], \"x\": [-0.19953783520965349, -0.04623216099684855, 0.024684575694542518, -0.07550796909009577, -0.11992671886803354, -0.09546888095896443, -0.1420178764429901, 0.2619729334502298, -0.07819663353879573, 0.04333942843739674, -0.08712188601703195, 0.08973472209868211, -0.14775883378265497, 0.025414709948238967, 0.16549580607913625, 0.09387745034700963, 0.019460757103931352, 0.20265661994814024, -0.09782577578823101, 0.16295756758599267], \"y\": [-0.10576361252687165, 0.10069995976646594, -0.060120657847363194, -0.10616481032530252, -0.09259752913124812, 0.0921240064619129, -0.07279017761160153, -0.11697775861790434, -0.10878377142222076, 0.20576400376893897, 0.0037142886275054066, 0.10081144251754492, 0.03926728222505847, 0.22724728768714297, 0.12444473383743539, -0.2284552705181543, 0.07903191098369189, -0.11450804880199754, 0.05357137599318729, -0.020514655066220237]}, \"tinfo\": {\"Category\": [\"Default\", \"Default\", \"Default\", \"Default\", \"Default\", \"Default\", \"Default\", \"Default\", \"Default\", \"Default\", \"Default\", \"Default\", \"Default\", \"Default\", \"Default\", \"Default\", \"Default\", \"Default\", \"Default\", \"Default\", \"Default\", \"Default\", \"Default\", \"Default\", \"Default\", \"Default\", \"Default\", \"Default\", \"Default\", \"Default\", \"Topic1\", \"Topic1\", \"Topic1\", \"Topic1\", \"Topic1\", \"Topic1\", \"Topic1\", \"Topic1\", \"Topic1\", \"Topic1\", \"Topic1\", \"Topic1\", \"Topic1\", \"Topic1\", \"Topic1\", \"Topic1\", \"Topic1\", \"Topic1\", \"Topic1\", \"Topic1\", \"Topic1\", \"Topic1\", \"Topic1\", \"Topic1\", \"Topic1\", \"Topic1\", \"Topic1\", \"Topic1\", \"Topic1\", \"Topic1\", \"Topic1\", \"Topic1\", \"Topic1\", \"Topic1\", \"Topic1\", \"Topic1\", \"Topic1\", \"Topic1\", \"Topic1\", \"Topic1\", \"Topic1\", \"Topic1\", \"Topic1\", \"Topic1\", \"Topic1\", \"Topic1\", \"Topic1\", \"Topic1\", \"Topic1\", \"Topic1\", \"Topic1\", \"Topic1\", \"Topic1\", \"Topic1\", \"Topic1\", \"Topic1\", \"Topic1\", \"Topic1\", \"Topic1\", \"Topic1\", \"Topic1\", \"Topic1\", \"Topic1\", \"Topic2\", \"Topic2\", \"Topic2\", \"Topic2\", \"Topic2\", \"Topic2\", \"Topic2\", \"Topic2\", \"Topic2\", \"Topic2\", \"Topic2\", \"Topic2\", \"Topic2\", \"Topic2\", \"Topic2\", \"Topic2\", \"Topic2\", \"Topic2\", \"Topic2\", \"Topic2\", \"Topic2\", \"Topic2\", \"Topic2\", \"Topic2\", \"Topic2\", \"Topic2\", \"Topic2\", \"Topic2\", \"Topic2\", \"Topic2\", \"Topic2\", \"Topic2\", \"Topic2\", \"Topic2\", \"Topic2\", \"Topic2\", \"Topic2\", \"Topic2\", \"Topic2\", \"Topic2\", \"Topic2\", \"Topic2\", \"Topic2\", \"Topic2\", \"Topic2\", \"Topic2\", \"Topic2\", \"Topic2\", \"Topic2\", \"Topic2\", \"Topic2\", \"Topic2\", \"Topic2\", \"Topic2\", \"Topic2\", \"Topic2\", \"Topic2\", \"Topic2\", \"Topic2\", \"Topic2\", \"Topic2\", \"Topic2\", \"Topic2\", \"Topic2\", \"Topic2\", \"Topic2\", \"Topic2\", \"Topic2\", \"Topic2\", \"Topic2\", \"Topic3\", \"Topic3\", \"Topic3\", \"Topic3\", \"Topic3\", \"Topic3\", \"Topic3\", \"Topic3\", \"Topic3\", \"Topic3\", \"Topic3\", \"Topic3\", \"Topic3\", \"Topic3\", \"Topic3\", \"Topic3\", \"Topic3\", \"Topic3\", \"Topic3\", \"Topic3\", \"Topic3\", \"Topic3\", \"Topic3\", \"Topic3\", \"Topic3\", \"Topic3\", \"Topic3\", \"Topic3\", \"Topic3\", \"Topic3\", \"Topic3\", \"Topic3\", \"Topic3\", \"Topic3\", \"Topic3\", \"Topic3\", \"Topic3\", \"Topic3\", \"Topic3\", \"Topic3\", \"Topic3\", \"Topic3\", \"Topic3\", \"Topic3\", \"Topic3\", \"Topic3\", \"Topic3\", \"Topic3\", \"Topic3\", \"Topic3\", \"Topic3\", \"Topic3\", \"Topic3\", \"Topic3\", \"Topic3\", \"Topic3\", \"Topic3\", \"Topic3\", \"Topic3\", \"Topic3\", \"Topic3\", \"Topic3\", \"Topic4\", \"Topic4\", \"Topic4\", \"Topic4\", \"Topic4\", \"Topic4\", \"Topic4\", \"Topic4\", \"Topic4\", \"Topic4\", \"Topic4\", \"Topic4\", \"Topic4\", \"Topic4\", \"Topic4\", \"Topic4\", \"Topic4\", \"Topic4\", \"Topic4\", \"Topic4\", \"Topic4\", \"Topic4\", \"Topic4\", \"Topic4\", \"Topic4\", \"Topic4\", \"Topic4\", \"Topic4\", \"Topic4\", \"Topic4\", \"Topic4\", \"Topic4\", \"Topic4\", \"Topic4\", \"Topic4\", \"Topic4\", \"Topic4\", \"Topic4\", \"Topic4\", \"Topic4\", \"Topic4\", \"Topic4\", \"Topic4\", \"Topic4\", \"Topic4\", \"Topic4\", \"Topic4\", \"Topic4\", \"Topic4\", \"Topic4\", \"Topic4\", \"Topic4\", \"Topic4\", \"Topic4\", \"Topic4\", \"Topic4\", \"Topic4\", \"Topic4\", \"Topic4\", \"Topic4\", \"Topic4\", \"Topic4\", \"Topic4\", \"Topic4\", \"Topic4\", \"Topic4\", \"Topic4\", \"Topic4\", \"Topic5\", \"Topic5\", \"Topic5\", \"Topic5\", \"Topic5\", \"Topic5\", \"Topic5\", \"Topic5\", \"Topic5\", \"Topic5\", \"Topic5\", \"Topic5\", \"Topic5\", \"Topic5\", \"Topic5\", \"Topic5\", \"Topic5\", \"Topic5\", \"Topic5\", \"Topic5\", \"Topic5\", \"Topic5\", \"Topic5\", \"Topic5\", \"Topic5\", \"Topic5\", \"Topic5\", \"Topic5\", \"Topic5\", \"Topic5\", \"Topic5\", \"Topic5\", \"Topic5\", \"Topic5\", \"Topic5\", \"Topic5\", \"Topic5\", \"Topic5\", \"Topic5\", \"Topic5\", \"Topic5\", \"Topic5\", \"Topic5\", \"Topic5\", \"Topic5\", \"Topic5\", \"Topic5\", \"Topic5\", \"Topic5\", \"Topic5\", \"Topic5\", \"Topic5\", \"Topic5\", \"Topic5\", \"Topic5\", \"Topic5\", \"Topic5\", \"Topic5\", \"Topic5\", \"Topic5\", \"Topic5\", \"Topic5\", \"Topic5\", \"Topic5\", \"Topic5\", \"Topic5\", \"Topic5\", \"Topic5\", \"Topic5\", \"Topic6\", \"Topic6\", \"Topic6\", \"Topic6\", \"Topic6\", \"Topic6\", \"Topic6\", \"Topic6\", \"Topic6\", \"Topic6\", \"Topic6\", \"Topic6\", \"Topic6\", \"Topic6\", \"Topic6\", \"Topic6\", \"Topic6\", \"Topic6\", \"Topic6\", \"Topic6\", \"Topic6\", \"Topic6\", \"Topic6\", \"Topic6\", \"Topic6\", \"Topic6\", \"Topic6\", \"Topic6\", \"Topic6\", \"Topic6\", \"Topic6\", \"Topic6\", \"Topic6\", \"Topic6\", \"Topic6\", \"Topic6\", \"Topic6\", \"Topic6\", \"Topic6\", \"Topic6\", \"Topic6\", \"Topic6\", \"Topic6\", \"Topic6\", \"Topic6\", \"Topic6\", \"Topic6\", \"Topic6\", \"Topic6\", \"Topic6\", \"Topic6\", \"Topic6\", \"Topic6\", \"Topic6\", \"Topic6\", \"Topic6\", \"Topic6\", \"Topic6\", \"Topic6\", \"Topic6\", \"Topic6\", \"Topic6\", \"Topic6\", \"Topic6\", \"Topic6\", \"Topic6\", \"Topic6\", \"Topic6\", \"Topic6\", \"Topic6\", \"Topic6\", \"Topic6\", \"Topic6\", \"Topic6\", \"Topic6\", \"Topic6\", \"Topic6\", \"Topic6\", \"Topic6\", \"Topic6\", \"Topic6\", \"Topic6\", \"Topic6\", \"Topic6\", \"Topic6\", \"Topic6\", \"Topic7\", \"Topic7\", \"Topic7\", \"Topic7\", \"Topic7\", \"Topic7\", \"Topic7\", \"Topic7\", \"Topic7\", \"Topic7\", \"Topic7\", \"Topic7\", \"Topic7\", \"Topic7\", \"Topic7\", \"Topic7\", \"Topic7\", \"Topic7\", \"Topic7\", \"Topic7\", \"Topic7\", \"Topic7\", \"Topic7\", \"Topic7\", \"Topic7\", \"Topic7\", \"Topic7\", \"Topic7\", \"Topic7\", \"Topic7\", \"Topic7\", \"Topic7\", \"Topic7\", \"Topic7\", \"Topic7\", \"Topic7\", \"Topic7\", \"Topic7\", \"Topic7\", \"Topic7\", \"Topic7\", \"Topic7\", \"Topic7\", \"Topic7\", \"Topic7\", \"Topic7\", \"Topic7\", \"Topic7\", \"Topic7\", \"Topic7\", \"Topic7\", \"Topic7\", \"Topic7\", \"Topic7\", \"Topic7\", \"Topic7\", \"Topic7\", \"Topic7\", \"Topic7\", \"Topic7\", \"Topic7\", \"Topic7\", \"Topic7\", \"Topic7\", \"Topic7\", \"Topic7\", \"Topic7\", \"Topic7\", \"Topic7\", \"Topic7\", \"Topic7\", \"Topic7\", \"Topic7\", \"Topic7\", \"Topic7\", \"Topic7\", \"Topic8\", \"Topic8\", \"Topic8\", \"Topic8\", \"Topic8\", \"Topic8\", \"Topic8\", \"Topic8\", \"Topic8\", \"Topic8\", \"Topic8\", \"Topic8\", \"Topic8\", \"Topic8\", \"Topic8\", \"Topic8\", \"Topic8\", \"Topic8\", \"Topic8\", \"Topic8\", \"Topic8\", \"Topic8\", \"Topic8\", \"Topic8\", \"Topic8\", \"Topic8\", \"Topic8\", \"Topic8\", \"Topic8\", \"Topic8\", \"Topic8\", \"Topic8\", \"Topic8\", \"Topic8\", \"Topic8\", \"Topic8\", \"Topic8\", \"Topic8\", \"Topic8\", \"Topic8\", \"Topic8\", \"Topic8\", \"Topic8\", \"Topic8\", \"Topic8\", \"Topic8\", \"Topic8\", \"Topic8\", \"Topic8\", \"Topic8\", \"Topic9\", \"Topic9\", \"Topic9\", \"Topic9\", \"Topic9\", \"Topic9\", \"Topic9\", \"Topic9\", \"Topic9\", \"Topic9\", \"Topic9\", \"Topic9\", \"Topic9\", \"Topic9\", \"Topic9\", \"Topic9\", \"Topic9\", \"Topic9\", \"Topic9\", \"Topic9\", \"Topic9\", \"Topic9\", \"Topic9\", \"Topic9\", \"Topic9\", \"Topic9\", \"Topic9\", \"Topic9\", \"Topic9\", \"Topic9\", \"Topic9\", \"Topic9\", \"Topic9\", \"Topic9\", \"Topic9\", \"Topic9\", \"Topic9\", \"Topic9\", \"Topic9\", \"Topic9\", \"Topic9\", \"Topic9\", \"Topic9\", \"Topic9\", \"Topic9\", \"Topic9\", \"Topic9\", \"Topic9\", \"Topic9\", \"Topic9\", \"Topic9\", \"Topic9\", \"Topic9\", \"Topic9\", \"Topic9\", \"Topic9\", \"Topic9\", \"Topic9\", \"Topic9\", \"Topic9\", \"Topic9\", \"Topic9\", \"Topic9\", \"Topic9\", \"Topic9\", \"Topic9\", \"Topic9\", \"Topic9\", \"Topic9\", \"Topic9\", \"Topic10\", \"Topic10\", \"Topic10\", \"Topic10\", \"Topic10\", \"Topic10\", \"Topic10\", \"Topic10\", \"Topic10\", \"Topic10\", \"Topic10\", \"Topic10\", \"Topic10\", \"Topic10\", \"Topic10\", \"Topic10\", \"Topic10\", \"Topic10\", \"Topic10\", \"Topic10\", \"Topic10\", \"Topic10\", \"Topic10\", \"Topic10\", \"Topic10\", \"Topic10\", \"Topic10\", \"Topic10\", \"Topic10\", \"Topic10\", \"Topic10\", \"Topic10\", \"Topic10\", \"Topic10\", \"Topic10\", \"Topic10\", \"Topic10\", \"Topic10\", \"Topic10\", \"Topic10\", \"Topic10\", \"Topic10\", \"Topic10\", \"Topic10\", \"Topic10\", \"Topic10\", \"Topic10\", \"Topic10\", \"Topic10\", \"Topic10\", \"Topic10\", \"Topic10\", \"Topic10\", \"Topic10\", \"Topic10\", \"Topic10\", \"Topic10\", \"Topic10\", \"Topic10\", \"Topic10\", \"Topic10\", \"Topic10\", \"Topic10\", \"Topic10\", \"Topic10\", \"Topic10\", \"Topic10\", \"Topic10\", \"Topic10\", \"Topic10\", \"Topic10\", \"Topic10\", \"Topic10\", \"Topic10\", \"Topic10\", \"Topic10\", \"Topic10\", \"Topic10\", \"Topic10\", \"Topic10\", \"Topic10\", \"Topic10\", \"Topic10\", \"Topic10\", \"Topic11\", \"Topic11\", \"Topic11\", \"Topic11\", \"Topic11\", \"Topic11\", \"Topic11\", \"Topic11\", \"Topic11\", \"Topic11\", \"Topic11\", \"Topic11\", \"Topic11\", \"Topic11\", \"Topic11\", \"Topic11\", \"Topic11\", \"Topic11\", \"Topic11\", \"Topic11\", \"Topic11\", \"Topic11\", \"Topic11\", \"Topic11\", \"Topic11\", \"Topic11\", \"Topic11\", \"Topic11\", \"Topic11\", \"Topic11\", \"Topic11\", \"Topic11\", \"Topic11\", \"Topic11\", \"Topic11\", \"Topic11\", \"Topic11\", \"Topic11\", \"Topic11\", \"Topic11\", \"Topic11\", \"Topic11\", \"Topic11\", \"Topic11\", \"Topic11\", \"Topic11\", \"Topic11\", \"Topic11\", \"Topic11\", \"Topic11\", \"Topic11\", \"Topic11\", \"Topic11\", \"Topic11\", \"Topic11\", \"Topic11\", \"Topic11\", \"Topic11\", \"Topic11\", \"Topic11\", \"Topic11\", \"Topic11\", \"Topic11\", \"Topic11\", \"Topic11\", \"Topic11\", \"Topic11\", \"Topic12\", \"Topic12\", \"Topic12\", \"Topic12\", \"Topic12\", \"Topic12\", \"Topic12\", \"Topic12\", \"Topic12\", \"Topic12\", \"Topic12\", \"Topic12\", \"Topic12\", \"Topic12\", \"Topic12\", \"Topic12\", \"Topic12\", \"Topic12\", \"Topic12\", \"Topic12\", \"Topic12\", \"Topic12\", \"Topic12\", \"Topic12\", \"Topic12\", \"Topic12\", \"Topic12\", \"Topic12\", \"Topic12\", \"Topic12\", \"Topic12\", \"Topic12\", \"Topic12\", \"Topic12\", \"Topic12\", \"Topic12\", \"Topic12\", \"Topic12\", \"Topic12\", \"Topic12\", \"Topic12\", \"Topic12\", \"Topic12\", \"Topic12\", \"Topic12\", \"Topic12\", \"Topic12\", \"Topic12\", \"Topic12\", \"Topic12\", \"Topic12\", \"Topic12\", \"Topic12\", \"Topic12\", \"Topic12\", \"Topic12\", \"Topic12\", \"Topic12\", \"Topic12\", \"Topic12\", \"Topic12\", \"Topic12\", \"Topic12\", \"Topic12\", \"Topic12\", \"Topic12\", \"Topic13\", \"Topic13\", \"Topic13\", \"Topic13\", \"Topic13\", \"Topic13\", \"Topic13\", \"Topic13\", \"Topic13\", \"Topic13\", \"Topic13\", \"Topic13\", \"Topic13\", \"Topic13\", \"Topic13\", \"Topic13\", \"Topic13\", \"Topic13\", \"Topic13\", \"Topic13\", \"Topic13\", \"Topic13\", \"Topic13\", \"Topic13\", \"Topic13\", \"Topic13\", \"Topic13\", \"Topic13\", \"Topic13\", \"Topic13\", \"Topic13\", \"Topic13\", \"Topic13\", \"Topic13\", \"Topic13\", \"Topic13\", \"Topic13\", \"Topic13\", \"Topic13\", \"Topic13\", \"Topic13\", \"Topic13\", \"Topic13\", \"Topic13\", \"Topic13\", \"Topic13\", \"Topic13\", \"Topic13\", \"Topic13\", \"Topic13\", \"Topic13\", \"Topic13\", \"Topic13\", \"Topic13\", \"Topic13\", \"Topic13\", \"Topic13\", \"Topic13\", \"Topic13\", \"Topic13\", \"Topic13\", \"Topic13\", \"Topic13\", \"Topic13\", \"Topic13\", \"Topic13\", \"Topic13\", \"Topic13\", \"Topic13\", \"Topic13\", \"Topic13\", \"Topic13\", \"Topic13\", \"Topic13\", \"Topic13\", \"Topic13\", \"Topic13\", \"Topic13\", \"Topic13\", \"Topic13\", \"Topic13\", \"Topic13\", \"Topic14\", \"Topic14\", \"Topic14\", \"Topic14\", \"Topic14\", \"Topic14\", \"Topic14\", \"Topic14\", \"Topic14\", \"Topic14\", \"Topic14\", \"Topic14\", \"Topic14\", \"Topic14\", \"Topic14\", \"Topic14\", \"Topic14\", \"Topic14\", \"Topic14\", \"Topic14\", \"Topic14\", \"Topic14\", \"Topic14\", \"Topic14\", \"Topic14\", \"Topic14\", \"Topic14\", \"Topic14\", \"Topic14\", \"Topic14\", \"Topic14\", \"Topic14\", \"Topic14\", \"Topic14\", \"Topic14\", \"Topic14\", \"Topic14\", \"Topic14\", \"Topic14\", \"Topic14\", \"Topic14\", \"Topic14\", \"Topic14\", \"Topic14\", \"Topic14\", \"Topic14\", \"Topic14\", \"Topic14\", \"Topic14\", \"Topic14\", \"Topic14\", \"Topic14\", \"Topic14\", \"Topic14\", \"Topic14\", \"Topic14\", \"Topic14\", \"Topic14\", \"Topic14\", \"Topic14\", \"Topic14\", \"Topic14\", \"Topic14\", \"Topic14\", \"Topic14\", \"Topic15\", \"Topic15\", \"Topic15\", \"Topic15\", \"Topic15\", \"Topic15\", \"Topic15\", \"Topic15\", \"Topic15\", \"Topic15\", \"Topic15\", \"Topic15\", \"Topic15\", \"Topic15\", \"Topic15\", \"Topic15\", \"Topic15\", \"Topic15\", \"Topic15\", \"Topic15\", \"Topic15\", \"Topic15\", \"Topic15\", \"Topic15\", \"Topic15\", \"Topic15\", \"Topic15\", \"Topic15\", \"Topic15\", \"Topic15\", \"Topic15\", \"Topic15\", \"Topic15\", \"Topic15\", \"Topic15\", \"Topic15\", \"Topic15\", \"Topic15\", \"Topic15\", \"Topic15\", \"Topic15\", \"Topic15\", \"Topic15\", \"Topic15\", \"Topic15\", \"Topic15\", \"Topic15\", \"Topic15\", \"Topic15\", \"Topic15\", \"Topic15\", \"Topic15\", \"Topic15\", \"Topic15\", \"Topic15\", \"Topic15\", \"Topic15\", \"Topic15\", \"Topic15\", \"Topic15\", \"Topic15\", \"Topic15\", \"Topic16\", \"Topic16\", \"Topic16\", \"Topic16\", \"Topic16\", \"Topic16\", \"Topic16\", \"Topic16\", \"Topic16\", \"Topic16\", \"Topic16\", \"Topic16\", \"Topic16\", \"Topic16\", \"Topic16\", \"Topic16\", \"Topic16\", \"Topic16\", \"Topic16\", \"Topic16\", \"Topic16\", \"Topic16\", \"Topic16\", \"Topic16\", \"Topic16\", \"Topic16\", \"Topic16\", \"Topic16\", \"Topic16\", \"Topic16\", \"Topic16\", \"Topic16\", \"Topic16\", \"Topic16\", \"Topic16\", \"Topic16\", \"Topic16\", \"Topic16\", \"Topic16\", \"Topic16\", \"Topic16\", \"Topic16\", \"Topic16\", \"Topic16\", \"Topic16\", \"Topic16\", \"Topic16\", \"Topic16\", \"Topic16\", \"Topic16\", \"Topic16\", \"Topic17\", \"Topic17\", \"Topic17\", \"Topic17\", \"Topic17\", \"Topic17\", \"Topic17\", \"Topic17\", \"Topic17\", \"Topic17\", \"Topic17\", \"Topic17\", \"Topic17\", \"Topic17\", \"Topic17\", \"Topic17\", \"Topic17\", \"Topic17\", \"Topic17\", \"Topic17\", \"Topic17\", \"Topic17\", \"Topic17\", \"Topic17\", \"Topic17\", \"Topic17\", \"Topic17\", \"Topic17\", \"Topic17\", \"Topic17\", \"Topic17\", \"Topic17\", \"Topic17\", \"Topic17\", \"Topic17\", \"Topic17\", \"Topic17\", \"Topic17\", \"Topic17\", \"Topic17\", \"Topic17\", \"Topic17\", \"Topic17\", \"Topic17\", \"Topic17\", \"Topic17\", \"Topic17\", \"Topic17\", \"Topic17\", \"Topic17\", \"Topic17\", \"Topic17\", \"Topic17\", \"Topic17\", \"Topic17\", \"Topic17\", \"Topic17\", \"Topic17\", \"Topic17\", \"Topic17\", \"Topic17\", \"Topic17\", \"Topic17\", \"Topic17\", \"Topic17\", \"Topic17\", \"Topic17\", \"Topic17\", \"Topic17\", \"Topic18\", \"Topic18\", \"Topic18\", \"Topic18\", \"Topic18\", \"Topic18\", \"Topic18\", \"Topic18\", \"Topic18\", \"Topic18\", \"Topic18\", \"Topic18\", \"Topic18\", \"Topic18\", \"Topic18\", \"Topic18\", \"Topic18\", \"Topic18\", \"Topic18\", \"Topic18\", \"Topic18\", \"Topic18\", \"Topic18\", \"Topic18\", \"Topic18\", \"Topic18\", \"Topic18\", \"Topic18\", \"Topic18\", \"Topic18\", \"Topic18\", \"Topic18\", \"Topic18\", \"Topic18\", \"Topic18\", \"Topic18\", \"Topic18\", \"Topic18\", \"Topic18\", \"Topic18\", \"Topic18\", \"Topic18\", \"Topic18\", \"Topic18\", \"Topic18\", \"Topic18\", \"Topic18\", \"Topic18\", \"Topic18\", \"Topic18\", \"Topic18\", \"Topic18\", \"Topic19\", \"Topic19\", \"Topic19\", \"Topic19\", \"Topic19\", \"Topic19\", \"Topic19\", \"Topic19\", \"Topic19\", \"Topic19\", \"Topic19\", \"Topic19\", \"Topic19\", \"Topic19\", \"Topic19\", \"Topic19\", \"Topic19\", \"Topic19\", \"Topic19\", \"Topic19\", \"Topic19\", \"Topic19\", \"Topic19\", \"Topic19\", \"Topic19\", \"Topic19\", \"Topic19\", \"Topic19\", \"Topic19\", \"Topic19\", \"Topic19\", \"Topic19\", \"Topic19\", \"Topic19\", \"Topic19\", \"Topic19\", \"Topic19\", \"Topic19\", \"Topic19\", \"Topic19\", \"Topic19\", \"Topic19\", \"Topic19\", \"Topic19\", \"Topic19\", \"Topic19\", \"Topic19\", \"Topic19\", \"Topic19\", \"Topic19\", \"Topic19\", \"Topic19\", \"Topic19\", \"Topic19\", \"Topic19\", \"Topic19\", \"Topic19\", \"Topic19\", \"Topic19\", \"Topic19\", \"Topic19\", \"Topic19\", \"Topic19\", \"Topic19\", \"Topic19\", \"Topic19\", \"Topic19\", \"Topic19\", \"Topic19\", \"Topic19\", \"Topic19\", \"Topic19\", \"Topic19\", \"Topic19\", \"Topic19\", \"Topic19\", \"Topic20\", \"Topic20\", \"Topic20\", \"Topic20\", \"Topic20\", \"Topic20\", \"Topic20\", \"Topic20\", \"Topic20\", \"Topic20\", \"Topic20\", \"Topic20\", \"Topic20\", \"Topic20\", \"Topic20\", \"Topic20\", \"Topic20\", \"Topic20\", \"Topic20\", \"Topic20\", \"Topic20\", \"Topic20\", \"Topic20\", \"Topic20\", \"Topic20\", \"Topic20\", \"Topic20\", \"Topic20\", \"Topic20\", \"Topic20\", \"Topic20\", \"Topic20\", \"Topic20\", \"Topic20\", \"Topic20\", \"Topic20\", \"Topic20\", \"Topic20\", \"Topic20\", \"Topic20\", \"Topic20\", \"Topic20\", \"Topic20\", \"Topic20\", \"Topic20\", \"Topic20\", \"Topic20\", \"Topic20\", \"Topic20\", \"Topic20\", \"Topic20\", \"Topic20\", \"Topic20\", \"Topic20\", \"Topic20\", \"Topic20\", \"Topic20\", \"Topic20\", \"Topic20\", \"Topic20\", \"Topic20\", \"Topic20\"], \"Freq\": [26299.0, 19920.0, 11563.0, 13197.0, 7537.0, 7662.0, 6809.0, 11960.0, 8075.0, 7033.0, 6678.0, 7191.0, 4360.0, 7177.0, 3722.0, 4847.0, 3355.0, 3934.0, 4246.0, 2900.0, 2987.0, 5006.0, 4163.0, 5580.0, 8912.0, 2779.0, 3184.0, 2310.0, 5349.0, 3796.0, 874.6734832245022, 56.12074002945566, 38.07405623917566, 27.17900486670053, 405.5314417936674, 181.28671559654816, 10.6974886971763, 9.792666378775554, 18118.453972643438, 957.2181308298387, 212.7217056092469, 10016.000234457642, 161.34074687967927, 51.093795436192494, 56.032868896510784, 70.43347714914927, 34.66378747019285, 46.45437301688005, 55.07870696389324, 40.53621630447039, 423.2797285613397, 313.29480124252626, 46.00045485025793, 71.22495417848215, 10.215907695723093, 86.90550368750965, 41.526865087486925, 36.235855468937245, 72.04881672543276, 27.37166702223443, 2604.8277748167557, 1285.1006032359746, 653.4319605463418, 590.6790575120913, 450.13402914554644, 228.17207429949664, 664.060719455407, 350.0806103142863, 628.9981632410068, 204.59720080678426, 654.7841261633508, 741.1743899156681, 404.82990595846195, 384.5385250189968, 876.4380199269531, 291.56376224381063, 368.14112403389805, 202.73517836347642, 1354.154321855787, 632.7568924740947, 951.7607200776274, 472.0482540834523, 580.9497531941576, 415.6278572875413, 334.41484579345115, 860.1589977471772, 442.332207506216, 672.2936468647665, 541.8613656551147, 447.54562276505703, 489.1068079534791, 481.2395821468237, 436.89559154280994, 222.8181997731933, 211.93595926371734, 196.2686818450203, 177.04231798981368, 157.7404359232574, 157.45388812745048, 138.12040384885074, 128.38216387112598, 104.38943822077414, 99.50376193418818, 96.91261152258024, 92.9127147644774, 75.11222830246051, 54.08568819432683, 48.63549836625248, 44.16340800002829, 39.55463765435688, 23.55114287044417, 29.560794200686306, 19.88748590872552, 216.1320507179733, 114.58838901267052, 11.40688086563917, 92.48667466434193, 56.51724843564255, 72.90940058238294, 138.32800929681284, 107.58686448902014, 286.2204255106844, 150.1144744417845, 6549.834531691251, 231.6571000741099, 162.89315701283175, 211.7983518587945, 301.72320068245205, 307.5369948874029, 847.458298867689, 876.2381094666521, 496.888434636123, 232.67011592061914, 1384.7190753617958, 500.93921955804075, 351.37385200133525, 1481.1067628178419, 1398.699236652239, 1138.990578577402, 512.2227268875637, 1647.916998123013, 850.2468854319291, 364.5072084263888, 290.0218042664994, 642.323103239165, 412.1144545899563, 305.1995173501242, 1366.7166160559627, 718.0278656234252, 651.7472392272437, 509.05579508182706, 505.1474596536414, 284.3531215527377, 264.35579067606795, 282.8386118868529, 287.28131914946346, 451.4380608983193, 347.41599548032644, 347.77562869632766, 335.46226736271615, 322.7417016022225, 307.73237274282997, 311.0883630386185, 745.8897339219274, 349.4687906549905, 347.4032889259345, 2296.443287381754, 276.4152849251912, 200.36933793314122, 185.78705572000712, 90.92526794278697, 75.0377974615984, 75.46393811421956, 69.98959588733759, 67.64144943697595, 61.48596482578978, 59.701621854997605, 48.39964802556108, 48.01525653129782, 38.642198661240656, 29.78769094890834, 27.30894133086216, 20.004115721910363, 18.71902582256617, 18.409277377615215, 17.56367453807982, 61.34098187667193, 15.018117859541318, 14.951746560109257, 14.223036667768422, 13.487272082610653, 11.306510253806188, 45.92296557666315, 102.04038504797468, 1149.5974171144383, 222.01031630175288, 700.4842057634316, 2395.291758465228, 1428.5088977982846, 95.88291018759931, 66.55389794403378, 482.9180375133961, 496.792892544783, 234.57164172370463, 703.6031264787588, 1786.4783077621562, 121.18425956103776, 448.729970703369, 628.9951145485546, 371.2788464524129, 353.40167923351174, 159.27697602543438, 223.53821389747134, 288.8993011098321, 199.83935904172523, 181.50524799772896, 211.63051123918655, 261.67839504094985, 140.3379878952889, 199.75772804621377, 221.31685507458707, 304.00937957849675, 207.6529284359427, 210.42025017349752, 217.94455713783657, 239.96444184105718, 194.7202385424624, 194.23291628854426, 116.86739559356714, 88.31249761280773, 82.58482710357141, 78.11763288980704, 64.02775843822724, 64.01689078553306, 50.03808870188737, 49.68638177898863, 49.164538110693655, 46.379774822885445, 46.22668433394788, 44.91215782474463, 44.89348916238894, 152.56691931508666, 34.37122836253562, 28.219387694174785, 19.905150721332127, 19.38093108979807, 16.721943120998958, 13.94000384380754, 13.56335817121351, 13.557454000393328, 11.83624032291489, 55.86490485038433, 10.332268616696686, 10.013861115202676, 25.378277133110057, 50.268055592427956, 1552.3185708484225, 43.94446277819868, 178.6524008927016, 240.62238756207796, 1819.7111753593376, 4118.379858002683, 1083.0713777628764, 91.55314326592385, 695.2083817418772, 296.33611405425216, 410.4516513915573, 942.1003792590277, 154.98912309055007, 3525.2420385702894, 1832.9677132810366, 165.22099006930281, 2180.4029064171723, 348.6242848539493, 180.32559932286864, 261.60273181637433, 451.2122932657699, 273.0374844134323, 346.18653686529456, 212.3503224363819, 507.5140877655066, 266.2048341247359, 273.9993596101449, 557.4638776260018, 485.18906671724267, 365.9007041461354, 302.58934551978086, 475.59265848191626, 422.0161769732767, 306.6566250562364, 289.7640642265323, 262.5370546062159, 262.7589248999617, 240.7445477495112, 146.75460619342576, 114.02398438645487, 109.57316949327988, 96.45285306254483, 94.96979565335081, 81.73336209816308, 73.29062797950682, 72.61613953035786, 57.871551752689804, 54.42184977035045, 51.501970320615335, 47.453354055562166, 39.381762468215385, 33.30084907580665, 29.566099513332137, 28.61498819376558, 24.934962062822464, 19.581657691948546, 52.55463328967233, 75.65068899844212, 14.813476697233105, 12.635934155564154, 12.335855910755452, 56.34373492313313, 11.994774036296507, 11.219255998146888, 159.12571250388626, 76.89620642828119, 52.87407730504571, 6256.110589702547, 48.74272759037792, 205.16668834563015, 117.07713810415774, 103.44033730309121, 213.64677073651185, 431.05924928134937, 587.6056970861979, 288.3582498606881, 768.3495572486436, 792.274175903442, 741.4261838477443, 174.93094154601806, 1129.7093349713462, 652.2952895882224, 253.5861290925568, 304.19528720911177, 425.85875534391425, 306.5929343544485, 783.5310267216545, 429.6105673954717, 145.17989693971765, 561.1561640263407, 156.90701984952702, 565.4086894949254, 320.6678152267544, 1182.6580402382167, 379.56907360053714, 314.80962220920804, 347.8615453661564, 352.05853061765583, 382.9236428372253, 564.5323358589892, 465.8967482643296, 313.1423528910996, 414.6791009030676, 450.7396258280061, 321.1735203262277, 273.0663366545652, 223.2666253396796, 184.96304693005703, 145.8546466061132, 123.50952733927447, 108.98295494695112, 103.93030844125516, 97.50608389454668, 81.6302769243923, 79.57029822293579, 111.73986178500071, 68.74668315279669, 68.83042271786863, 68.31816893396646, 68.19541606476423, 88.60186299994268, 65.57667554749997, 65.3914953765631, 61.89314174276763, 61.03114844598373, 60.91996818946755, 59.01969248986677, 56.91430541624875, 55.79236572027806, 53.63026805808619, 53.47116646045102, 51.66755459333819, 50.78666461297881, 49.9843500713106, 49.30953292333576, 48.953697874156816, 123.11963971141437, 67.93957678921521, 363.53863564812303, 141.88396372605024, 86.55127896260205, 183.32137635141675, 416.2255555689746, 334.9170353397962, 309.65870402648017, 418.92658695065785, 178.3832498793845, 673.5727872742585, 152.67103247289535, 118.0425637356727, 329.48695553985135, 305.49771578940937, 138.86256412498227, 128.30021415371021, 114.76451134616286, 240.12222384146202, 1072.9051682184338, 185.29147612108767, 517.9874177091282, 779.6324709320278, 446.3365140959074, 645.238005524404, 167.40534565866025, 421.4890947450317, 675.6836441945861, 606.6752466515545, 3071.0486316561014, 391.10807817324627, 397.78917352446973, 544.1321894337742, 901.4348377839985, 764.6654544065613, 459.4956538227536, 267.01557293103485, 438.0940264945228, 465.5848425704837, 781.0191266414658, 628.4826319857506, 454.91462046741003, 885.8911801556669, 472.2491904876004, 542.8265677943841, 859.8693715110777, 705.0655689979891, 698.655638092512, 576.3842191154113, 648.7421622942934, 489.45792476543494, 529.0086286203946, 478.78243248656696, 465.6529935060152, 462.022692771578, 276.3694691795014, 251.31794613410807, 204.95235878403338, 187.51897612720487, 157.33729411252153, 142.32289616825517, 141.5851415426817, 132.97760243836694, 127.27396528210645, 115.54059815113892, 111.00663228569339, 99.4829473931188, 88.45824872476803, 89.885527578636, 86.74511812900288, 84.16277311314502, 78.37869314928764, 78.78253410115401, 74.91061552470995, 70.108983301893, 68.52245067789885, 67.11777637362857, 62.8606228458051, 61.25839054277877, 61.16884293837612, 396.9375201480785, 60.13366436240436, 59.30594608200701, 58.563998860014244, 54.6991892308344, 80.30935842833779, 569.2531742965243, 150.90422294285307, 94.76391660123988, 267.98915219516175, 739.6885991422179, 369.2433536733472, 1176.0991379973525, 275.61034910503463, 454.2090159803735, 1276.6552805256842, 2357.8700201308125, 776.2890443037171, 873.690809646107, 250.821836558567, 198.12226206996027, 620.3020832251453, 496.5900802951493, 751.6170519537536, 1264.0213258034598, 1142.6662095495135, 312.9271830535697, 322.17033537565504, 2213.9219045978875, 817.0389593383123, 1054.7867258408298, 530.7550574454436, 743.2088019925257, 449.0127506662392, 2818.5191798500414, 1082.6002728777223, 808.9204197010997, 1704.4183131512007, 1060.8214071010284, 385.548785829699, 792.857036956424, 538.8632526075504, 733.4595968415679, 853.4980645458596, 1343.7583927183073, 1091.836756619082, 954.5254263100904, 799.8039746161871, 562.6890100715477, 573.5257537666905, 570.9944569776573, 659.7656076730126, 599.2070037305152, 328.6120975027294, 259.0446797767308, 241.67549117042026, 237.85103129448314, 202.10083144448103, 163.11890281987468, 131.71324364507453, 91.367337318838, 84.68839301726976, 84.43901022902294, 84.28766193412206, 82.75798117735363, 79.58528523949579, 68.23509636000871, 59.22247456316176, 55.42087253161713, 55.09383670424523, 54.30943900632687, 54.123785645975644, 42.42054167634, 40.48979940536031, 27.847980385536108, 22.912127728345425, 22.440273826503546, 22.322150833878506, 115.74620884236921, 18.923577794529, 12.799434682653647, 85.71311491288502, 413.0003643745998, 715.1329976470706, 394.8286320181384, 272.1918804084147, 162.58875473051674, 287.22417959577706, 386.0492565674294, 283.8937760462121, 654.5372075278711, 78.70987925459578, 166.54277921113064, 135.44560723189662, 156.0070582603443, 99.78907503446077, 150.02590841223932, 120.74124052824737, 92.45602024068764, 90.68190404776504, 96.23596110127072, 209.00650924291585, 166.21168430655794, 163.0439112479358, 129.52984974526208, 111.46907202196554, 107.14362981742343, 105.3706320745994, 85.93765086481683, 75.4353553323683, 69.14495351049449, 66.49431320453775, 64.78692946343494, 64.58384579552532, 64.06703627798177, 63.51087742159877, 60.76880307388161, 59.322947427642404, 59.05184924142546, 58.56266562894285, 56.29546937976761, 54.8320295413287, 51.32400616491561, 49.53626136258429, 39.43996042350752, 37.673074189362765, 35.515444870249084, 31.965095477322418, 30.557904653471304, 30.120422060245833, 26.317144999044267, 107.4370149536906, 101.83162698397378, 97.53298863484011, 152.04607646788872, 2811.998785423837, 380.6276451917274, 730.1674663214052, 1528.6421606665654, 302.91520584368226, 596.4461022649325, 223.67147643634257, 134.9118854251082, 258.16192995085584, 95.49233777999027, 94.25718446896686, 898.1279464535513, 1945.4936390535504, 500.2735886296608, 231.1099287149365, 328.5933608264925, 450.4931964990719, 240.91524007929502, 257.81563384579727, 180.18314971815124, 426.68594596899413, 251.7529274951463, 448.43153638857575, 383.7983444119283, 182.7915319524558, 256.61717557856656, 203.8069283704653, 325.88262704487744, 305.36210001995727, 242.54153558280572, 242.52855855871942, 339.75345298767616, 236.89461762238287, 254.7793037248149, 220.1973727162274, 214.53158599942552, 666.075722063016, 325.2117523533054, 202.40020287462755, 187.1828814326364, 156.17830802596296, 132.62836449799053, 131.2946261482329, 126.22413311579507, 116.82581190511902, 114.10775487367113, 104.38149932631146, 103.98238045010838, 395.12470507696906, 100.79710150544348, 99.60227124135308, 111.5200692519326, 97.05190884097095, 96.87671989586478, 94.70363557226656, 93.82575887443336, 87.0071345766576, 86.05142797540178, 84.17441554383085, 80.33000933307284, 79.65382557834701, 75.92045840783561, 73.84341692746825, 73.64533169246931, 72.50222136229664, 71.7714231614021, 25762.106287594364, 190.21011093753756, 860.0280405595117, 291.20741900447194, 122.97626391199928, 192.63775269825302, 685.5254857045967, 1722.1070155849393, 174.08943887589706, 624.2167903928516, 155.76613652266374, 1402.3197572706808, 1022.6999382353288, 191.45103696709194, 608.9618159663817, 314.48814886212904, 568.7333340071499, 468.0790865758265, 247.45264583663678, 246.2634041729642, 669.6773383820952, 482.62654218400195, 1376.6461499531847, 512.0164544009289, 2390.2240837860604, 558.2893656015707, 370.4070473068546, 824.37931889449, 237.3748261195054, 594.003789866237, 488.93706085735056, 1222.340878972505, 295.5021588249723, 549.5588481904167, 428.3524522327013, 1978.1350625805171, 507.29067514115053, 725.6071032104971, 1253.6679410448194, 559.223933065898, 985.2554188761882, 700.2789810371979, 1714.1407828365786, 1071.692068768541, 647.7989917583789, 911.8547008636804, 766.7363797001162, 731.4876913446968, 708.820143601345, 644.1014789085294, 735.7656133814589, 754.5330136804629, 672.9207322886897, 661.6191518564985, 280.92374741483155, 155.58855411726228, 112.48220869345924, 98.88210063403092, 87.26745743368134, 83.49417800342802, 74.99071804331598, 73.45127348766141, 68.20491883277259, 67.90085873845075, 62.56280722531075, 60.905795583196834, 57.957480970223855, 52.04329103846244, 48.94408806346718, 46.83682323450662, 43.43399115461457, 32.601176071930404, 209.2358418177596, 28.551921757461503, 26.714897957326688, 26.457281849044005, 25.078636414336053, 22.291914103434944, 19.74110299695946, 19.32983798175524, 19.113845869065496, 19.05777440919949, 17.8427855531613, 16.65405001447611, 704.9588376350563, 56.379130631677725, 243.0433121803294, 64.78152398584021, 186.18168372634503, 383.6582077814281, 102.3484521223296, 313.71144476483005, 104.16363046853867, 136.34849618187397, 3694.0870900227155, 72.78528622594311, 412.4480343236604, 492.21595957380424, 1374.3732215487544, 402.779795610203, 233.34617221195626, 947.2825846665734, 931.9624223599225, 151.57033159878014, 694.5121344981466, 250.6085784158435, 417.3647869562782, 592.2488336998529, 221.72656176147333, 194.1905269260712, 182.60586303394962, 268.9477276530935, 232.90200548081677, 217.83537806851427, 210.4366219487827, 273.75161520800486, 388.55680170455594, 173.31143889389003, 202.30066149697572, 208.61631466837335, 215.11314494860082, 240.79425065425602, 165.6061507938554, 144.52302621170654, 120.91796479097002, 103.45199927432057, 98.05658535524678, 89.2242934435846, 84.40991730272079, 78.34799233541882, 76.1231216932122, 66.89508948527642, 63.25392567277631, 55.540701540178965, 54.61485310946305, 54.5119848672526, 50.14954263157388, 47.95355035881498, 44.222883029812664, 41.22521466084984, 35.4754781227214, 30.17858233789876, 25.04332203337789, 21.417159988321284, 21.214016404814632, 20.4355600954653, 20.36666599349366, 20.1514284066465, 18.343587701077993, 17.8142264267144, 17.488378320634606, 1139.5587365188985, 57.43974280446465, 380.8884159101971, 41.56498323364865, 210.04640188791518, 73.73749101954145, 946.6721139189292, 182.7366703251246, 2319.65972824171, 854.7723206551233, 1202.8683326762284, 1555.85805837837, 488.100852979884, 203.57523898062564, 1066.6950306158972, 106.06491507927367, 381.66710578084104, 286.8803054050577, 190.54816437663365, 632.2644753502938, 261.57782849865964, 211.045022697433, 137.09665242371787, 285.18663698825065, 480.936362390537, 682.1870820550715, 209.11223976309907, 324.4221638488284, 427.15434018605333, 350.460441415255, 247.27067215419385, 189.06795384083128, 225.86940013347166, 228.47064320155738, 192.12992056596326, 193.9879477807524, 194.56137969901718, 185.24454277258315, 181.16738126137537, 156.00107591654788, 139.59370408124892, 137.80717633771908, 131.93228804946162, 126.7117736397073, 104.09809790925273, 106.81634601612599, 157.4260421474989, 65.36770918407633, 64.39877762564011, 61.00657543434437, 60.576171022229616, 59.59194504109872, 58.60702462922803, 57.22608346631898, 56.094748753507204, 55.38632102342353, 55.17698898625725, 53.236031242979706, 54.41258390923757, 183.00772206056982, 50.409713358971736, 49.966511905671624, 49.58184149047726, 49.39604645151674, 48.98443319990599, 48.45507096801555, 138.8084423531486, 228.55663551655914, 234.7586345423514, 70.09106607640118, 184.45724002687845, 236.18450594339916, 610.9070786019021, 131.68428964533817, 80.50539647502077, 771.4421311250587, 110.797369981558, 363.26749218007956, 365.4349334801163, 118.96510100052193, 964.3899157378519, 226.91419707783544, 621.2991725769789, 1051.7990835693872, 990.800673899716, 476.2770514077838, 838.8908254072784, 772.0734338387997, 1334.1675286544264, 255.4766178577122, 983.4682428437778, 579.5257321564616, 912.1632638805338, 693.1402936680935, 448.934054480918, 1141.8929766536512, 1239.6928448964231, 823.7041241132773, 1433.5926822819808, 422.6967402851635, 575.7045979003311, 341.1207828833893, 394.77745725155086, 558.9077228360032, 752.953200024418, 999.4811484777591, 531.4219847803126, 529.1453621959533, 547.8681889495639, 574.3868345006941, 706.2769916219823, 635.2626005914051, 712.3238954496336, 605.6628533058034, 709.4454774665097, 630.1959268757467, 574.026529353016, 549.6592620245464, 1793.5020604740089, 1157.3248178970323, 1133.5707574353044, 1003.7884101385598, 910.8018820572139, 442.0616401733768, 228.3393631277923, 200.05010942854304, 197.2409656654566, 183.45851558103521, 173.65869330695702, 147.73112312943314, 145.4295786931463, 143.8034248680312, 6633.123064103748, 115.10805338219787, 113.27731057250432, 4963.31461571392, 104.3172224011341, 95.64044800543847, 88.5658777262153, 86.87007664889272, 84.43704895819181, 83.4064955940326, 83.19836133080777, 81.9023734931552, 79.29226603814317, 78.78208517682924, 77.0518131063776, 344.4993503159232, 7919.341493789075, 1094.9302290544713, 12435.295645093964, 108.97419655946163, 4968.188867912343, 910.9147272344936, 558.1137174081836, 473.76902624410906, 283.6524571088682, 693.5421673425943, 380.6152752828683, 963.5017484662482, 331.2426487449935, 343.2499461112833, 2271.083002608888, 1434.4914002337925, 487.6492164827276, 1255.4460571648558, 1414.5841401685338, 689.8884331791882, 616.7236816547858, 1008.5505167717071, 662.3536848729077, 1246.1697213024995, 904.6265978174853, 1061.5756292133333, 976.759557573626, 1430.7018952887554, 1262.5812466709071, 782.3334825063058, 745.0253047306351, 715.6965757129238, 912.2514110627201, 889.579764513313, 706.9082414057967, 399.8579196432776, 368.03310895652675, 210.86227228177543, 185.0618966448437, 100.62591956000416, 96.07117427428942, 86.50753313575164, 81.24296022942153, 72.99950976736223, 72.10365391740893, 66.04671132587376, 65.53090858677494, 64.20279860021043, 61.90675887606762, 60.44408026147973, 59.73966455295172, 61.23666824446032, 56.89472695468901, 58.33512713166618, 55.967314046639956, 55.02966728368572, 54.97448028188097, 53.45943500903484, 51.5491142440532, 49.379981212200065, 48.621123097987436, 48.5730881090573, 48.290333491914126, 48.91647099669567, 47.96381069411713, 217.07218973675282, 60.18021317642711, 219.260585365565, 1088.6945948246369, 124.32958743180077, 224.6666391196027, 297.06630686090773, 1432.8430864893276, 346.3194377800049, 166.04577339540063, 571.6941774164674, 392.77634193914724, 1085.1905253475438, 214.9382251894826, 952.3926486619391, 362.64494394260055, 75.05937130848208, 160.74002675853492, 88.83152457810765, 287.97824335536677, 103.32367951526831, 138.7052438930643, 286.40756846967673, 190.63592425088237, 257.9781066996238, 164.4005846090957, 222.34586772789157, 160.4954085950984, 129.37886463228136, 173.19472220490863, 140.64713664390115, 132.5239086259369, 252.4071209014746, 231.77497905232866, 154.15084265553884, 149.5363027158351, 140.99367980752638, 132.3288497370933, 108.58177603538945, 60.48135750378214, 59.436193653027765, 57.19139042420633, 54.61685833375515, 53.54100440144147, 51.817549763323235, 47.56213032359287, 46.75889018490489, 42.771633965244106, 33.658894412119196, 18.554098504921125, 89.2874331735687, 2718.808891771028, 13.229668452466727, 11.04106543048517, 45.39734787313203, 96.33581343230517, 293.1780229966617, 11.229633346112305, 36.0379037249076, 201.51573888624188, 209.0739756123227, 2383.2948462580675, 1895.1906911328622, 2027.2726718633414, 2556.0255020474215, 1166.538564299221, 186.70773501571924, 442.2861856579024, 370.03496034785155, 345.62991626166826, 232.22221795198527, 1608.6818015155054, 410.56322773817624, 1034.4034271238277, 144.91096422447336, 137.60789894930272, 146.8639753450337, 253.85655055004088, 231.91460550937796, 193.20036921323822, 154.53033820768832, 148.41745217773757, 149.71516569559114, 418.94844763467637, 412.74711502038934, 393.3054598854901, 329.8641362362428, 292.8464889782152, 177.0510881414367, 576.4712496112915, 171.330109616537, 170.39806760111793, 165.1817520648298, 140.6238903429684, 115.8995041466531, 110.2905340846718, 108.45637407447693, 106.93751734271294, 104.16415772216594, 99.05210615571337, 97.78554418722364, 89.51922862478496, 82.85110627307783, 82.61884855844669, 79.44831263740916, 78.42914575911782, 75.63345469407784, 68.52388025068805, 66.1614980428186, 58.606526760460305, 57.8989608468958, 55.468684459125264, 54.669351835900876, 353.8306913560859, 875.8853269894627, 1771.3373384656768, 85.63220629522999, 197.70327219877944, 645.5187244943031, 705.0936699490176, 246.77140330977838, 781.4806658583436, 1948.5426010456829, 1253.275671178371, 1302.417516918167, 629.2787124122277, 392.0991613392204, 909.3226044649853, 528.7879137653341, 216.3683277622591, 1502.1391442506792, 703.5581004016436, 494.2784433061274, 1117.8091953801247, 476.7579370977374, 564.4288542957443, 892.9446320221205, 712.4828604448433, 726.8877847597045, 530.5634335121468, 796.6533078090449, 1323.4261999401206, 781.2795946927432, 886.1363384906836, 733.4429897590031, 793.687368165223, 722.9186903288071, 527.8090470215873, 822.6600214458142, 571.8286995450584, 681.647593553025, 535.4460451218143, 1615.1461667974093, 139.1996736116649, 126.16605972121913, 106.87336388644829, 103.97353894324937, 95.22606617794918, 86.29126534743602, 69.98803104534392, 61.12115151838617, 59.078673321220954, 57.7200427416561, 37.21961666739588, 33.16496123075069, 30.62563081087479, 27.559372548358485, 27.130740371728926, 26.85303536824824, 24.996333709519384, 24.898958885715835, 2178.3746293602894, 51.91311324709132, 67.70466225193844, 11.325661228485426, 61.26096065253369, 201.398098329933, 57.62583576711861, 66.50567683498953, 75.54693283495516, 219.90102165709095, 360.05497138551397, 2194.76199717928, 1520.5695447358669, 217.81730367092374, 1502.0276551680868, 134.55598504334122, 245.08580154806995, 391.1115507287744, 350.5326462404446, 480.6467043108085, 750.9756125939513, 761.6123056600459, 472.8955547268027, 142.8267644177848, 229.38422362274045, 131.11799882580627, 322.31280507549013, 158.2822327761869, 123.72918916841842, 235.32103291437832, 212.50934810173666, 124.91623730318783, 130.96004401989887, 251.4832471251612, 220.37041228690896, 145.66686283874697, 135.94468008024327, 127.4641774223281, 111.46052127244845, 109.10091096616546, 99.99983952783262, 97.96520709311908, 95.83440087307451, 95.27018300153375, 93.74198531107, 91.02027659362423, 86.8394716877392, 77.84732725604546, 77.04225681631266, 75.08436324632568, 71.68098583514795, 70.87804419743617, 69.86602843973363, 66.89876629231664, 65.55711341936347, 64.79526899877824, 63.73679101819955, 60.07393607869418, 59.41720052647808, 58.386648779410386, 58.38387928619975, 53.48782073853424, 53.23840034836391, 155.95197935273305, 426.41817089860484, 511.958553298709, 132.9373919569758, 226.07259670037277, 157.05598193611013, 409.4564720594602, 189.4168862943652, 1231.8706639846916, 173.99142069101183, 1195.2456237573654, 106.45203858308, 434.72657638381577, 2503.11134051879, 323.90883211355515, 1396.5486983634416, 844.2196536197675, 996.9592656247571, 154.7899809920287, 335.59673916704224, 1600.6460205109638, 265.31678014799195, 4332.407240037976, 714.1544694245379, 562.3685586364921, 942.2192089151638, 562.5642920097204, 450.53350791176535, 606.569233408909, 1653.4011703600938, 495.61730302784457, 279.4442688269358, 1503.0332107054105, 580.3665282409421, 502.0485256528501, 769.6485619992455, 546.6163514531537, 757.3356196366192, 654.61205156639, 680.0717835413536, 1377.410686670728, 613.9828357517675, 585.9709118225069, 542.2171052366598, 524.2009913207496, 488.96267688854016, 124.97954327929521, 115.4698771556519, 107.96972167183709, 106.06746159245134, 101.64108860638268, 96.69965733044528, 86.95340320405728, 79.92990883207032, 79.62110926254012, 75.70979193827958, 67.44329016875619, 64.76174989477188, 62.80833088017174, 54.493329067054326, 50.489283080508415, 48.75105001239962, 44.022769019736664, 37.840277264366236, 32.74175647834276, 19.751070763806887, 19.3970672285153, 164.39450016527525, 17.61746620365627, 16.296727779384913, 13.902730448798058, 13.090891841611702, 10.684310890007907, 10.194163959926415, 83.51842262188238, 379.4710922210043, 158.30454361743642, 1757.8704787435718, 336.0261409104895, 62.162121859424936, 1435.0313232289893, 1379.772361472261, 790.0015251595828, 74.20849344141588, 990.7718833971264, 1772.287848736439, 504.9189864208178, 580.3134894507582, 243.584108632322, 637.7323721286431, 336.59651854111763, 191.1445990677542, 382.556152378135, 293.1828114185039, 445.30545865538596, 263.86036622497795, 158.2429798829739, 316.223532235463, 202.6541274844572, 274.30459847642584, 348.06000773875553, 302.89755567304206, 223.1786726418993, 229.45018561735876, 304.3475032169056, 190.52384338394117, 216.83142656644608, 179.7559016765164], \"Term\": [\"nigga\", \"love\", \"baby\", \"shit\", \"money\", \"girl\", \"day\", \"man\", \"fuck\", \"good\", \"bitch\", \"feel\", \"boy\", \"night\", \"turn\", \"mind\", \"rock\", \"mother\", \"hard\", \"tonight\", \"ready\", \"fucking\", \"big\", \"real\", \"life\", \"roll\", \"ride\", \"dance\", \"ass\", \"high\", \"babe\", \"heartache\", \"astray\", \"senseless\", \"darling\", \"kisses\", \"ally\", \"endeavor\", \"love\", \"loving\", \"romance\", \"baby\", \"worthy\", \"darlin\", \"affair\", \"ohhh\", \"moaning\", \"affection\", \"everlasting\", \"mend\", \"lover\", \"joy\", \"haunting\", \"anytime\", \"tenderness\", \"satisfied\", \"decisions\", \"complicated\", \"tender\", \"fragile\", \"heart\", \"crazy\", \"lie\", \"hurt\", \"falling\", \"searching\", \"touch\", \"feels\", \"wait\", \"lucky\", \"true\", \"fall\", \"calling\", \"trust\", \"hold\", \"honey\", \"happy\", \"share\", \"feel\", \"believe\", \"long\", \"forever\", \"break\", \"sweet\", \"kinda\", \"life\", \"care\", \"night\", \"mind\", \"leave\", \"girl\", \"good\", \"eyes\", \"racks\", \"hustling\", \"bling\", \"lac\", \"stunting\", \"greedy\", \"trill\", \"hustla\", \"finest\", \"ching\", \"stuntin\", \"turnt\", \"stunna\", \"mommas\", \"boi\", \"hata\", \"liking\", \"delirious\", \"accounts\", \"authentic\", \"pimping\", \"depend\", \"chemist\", \"account\", \"lighters\", \"flexing\", \"superstar\", \"baller\", \"balling\", \"thugging\", \"money\", \"hustler\", \"hatin\", \"mayne\", \"candy\", \"bills\", \"paper\", \"cash\", \"dollar\", \"counting\", \"living\", \"bought\", \"diamonds\", \"bad\", \"coming\", \"talking\", \"rich\", \"better\", \"running\", \"hustle\", \"super\", \"pay\", \"cars\", \"grind\", \"life\", \"ride\", \"bitches\", \"making\", \"hoes\", \"keys\", \"keeping\", \"haters\", \"thugs\", \"good\", \"young\", \"lot\", \"live\", \"real\", \"watch\", \"love\", \"train\", \"bop\", \"american\", \"girls\", \"bells\", \"wipe\", \"bands\", \"elevator\", \"commas\", \"chuck\", \"hum\", \"stares\", \"bodyguard\", \"vous\", \"wop\", \"umbrella\", \"fright\", \"homework\", \"unemployed\", \"instructions\", \"graduation\", \"loo\", \"drool\", \"rodeo\", \"gem\", \"engaged\", \"signature\", \"policy\", \"simmer\", \"ahhh\", \"raining\", \"boys\", \"fancy\", \"ring\", \"mother\", \"father\", \"haha\", \"niggers\", \"wants\", \"beautiful\", \"daughter\", \"woman\", \"big\", \"ringing\", \"pretty\", \"friends\", \"rolling\", \"business\", \"drum\", \"grown\", \"year\", \"dollars\", \"dress\", \"laugh\", \"buy\", \"married\", \"funny\", \"hair\", \"man\", \"drink\", \"club\", \"girl\", \"dum\", \"oooh\", \"heartbeat\", \"lullaby\", \"shorts\", \"healing\", \"illusion\", \"mas\", \"guitars\", \"tire\", \"afar\", \"rim\", \"groovy\", \"colour\", \"decay\", \"goodness\", \"wee\", \"entertain\", \"barbarian\", \"conspiracy\", \"professor\", \"pollution\", \"blindness\", \"illness\", \"persuade\", \"octopus\", \"thankful\", \"fairly\", \"hangman\", \"reggae\", \"personality\", \"music\", \"ruled\", \"surrender\", \"worried\", \"hands\", \"good\", \"sing\", \"independent\", \"moving\", \"jam\", \"songs\", \"times\", \"shades\", \"man\", \"real\", \"movin\", \"feel\", \"stuff\", \"hello\", \"clap\", \"easy\", \"special\", \"singing\", \"wave\", \"air\", \"beats\", \"tear\", \"song\", \"stand\", \"feet\", \"women\", \"hear\", \"people\", \"feeling\", \"things\", \"throw\", \"free\", \"paradise\", \"christmas\", \"biggie\", \"ordinary\", \"breast\", \"goodnight\", \"sweetest\", \"sharing\", \"cheeks\", \"tempted\", \"blanket\", \"romantic\", \"tangled\", \"rod\", \"deceiving\", \"contagious\", \"cheerful\", \"erotic\", \"tickle\", \"joined\", \"perfume\", \"curiosity\", \"providing\", \"hiss\", \"redneck\", \"cussed\", \"annoy\", \"cheat\", \"saint\", \"telly\", \"girl\", \"treating\", \"lovely\", \"hearted\", \"marry\", \"amazing\", \"loves\", \"summer\", \"woke\", \"bed\", \"morning\", \"kiss\", \"awake\", \"best\", \"sleep\", \"blues\", \"supposed\", \"shoes\", \"single\", \"change\", \"lady\", \"smiling\", \"thinking\", \"hotel\", \"days\", \"met\", \"night\", \"forget\", \"clothes\", \"happy\", \"today\", \"friend\", \"bad\", \"things\", \"lay\", \"head\", \"good\", \"face\", \"smile\", \"swinging\", \"french\", \"leaf\", \"suga\", \"strut\", \"sideways\", \"weird\", \"diva\", \"stressing\", \"program\", \"kidding\", \"goat\", \"recording\", \"fling\", \"farm\", \"gifts\", \"guru\", \"aha\", \"clover\", \"sidewalk\", \"healthy\", \"alike\", \"girlfriends\", \"blond\", \"speakin\", \"anxious\", \"audience\", \"format\", \"types\", \"hun\", \"soup\", \"pregnant\", \"girlfriend\", \"telephone\", \"popular\", \"birthday\", \"lines\", \"bus\", \"nasty\", \"guys\", \"parents\", \"sex\", \"coffee\", \"sore\", \"folks\", \"table\", \"lazy\", \"naughty\", \"female\", \"fish\", \"car\", \"couch\", \"guy\", \"kids\", \"read\", \"phone\", \"apple\", \"bar\", \"late\", \"brother\", \"man\", \"dumb\", \"bottle\", \"school\", \"walk\", \"lot\", \"kinda\", \"hat\", \"great\", \"fine\", \"told\", \"door\", \"sit\", \"big\", \"half\", \"hope\", \"good\", \"people\", \"play\", \"talking\", \"long\", \"help\", \"house\", \"till\", \"father\", \"hand\", \"skies\", \"beneath\", \"lightning\", \"sword\", \"southern\", \"traveling\", \"someday\", \"winds\", \"hopes\", \"marching\", \"roads\", \"yea\", \"velvet\", \"tower\", \"saints\", \"whispers\", \"fiddle\", \"behold\", \"ache\", \"bridges\", \"twilight\", \"sadness\", \"prayed\", \"lonesome\", \"honky\", \"darkness\", \"wished\", \"railroad\", \"waltz\", \"loneliness\", \"ghosts\", \"sea\", \"mountains\", \"fills\", \"shadows\", \"moon\", \"clouds\", \"dark\", \"midnight\", \"river\", \"rain\", \"light\", \"tears\", \"stars\", \"memories\", \"prayer\", \"lives\", \"snow\", \"wind\", \"dream\", \"sky\", \"edge\", \"storm\", \"eyes\", \"road\", \"sun\", \"rise\", \"land\", \"magic\", \"night\", \"cold\", \"dreams\", \"heart\", \"inside\", \"bright\", \"deep\", \"hide\", \"free\", \"hand\", \"day\", \"long\", \"hear\", \"place\", \"open\", \"lost\", \"life\", \"bye\", \"missing\", \"army\", \"eyed\", \"monster\", \"fever\", \"murda\", \"weep\", \"loop\", \"mourn\", \"heroin\", \"crumble\", \"phones\", \"deeds\", \"link\", \"strain\", \"fountain\", \"fabolous\", \"suicidal\", \"darker\", \"gotta\", \"heathen\", \"sneaking\", \"bogus\", \"sizzle\", \"paranoia\", \"excellent\", \"flirt\", \"erupt\", \"marine\", \"shattered\", \"goodbye\", \"dirty\", \"dirt\", \"chains\", \"woo\", \"nah\", \"sad\", \"problems\", \"mad\", \"dragon\", \"view\", \"lane\", \"hungry\", \"rear\", \"putting\", \"poor\", \"den\", \"electric\", \"green\", \"misery\", \"hump\", \"remains\", \"drowning\", \"lifted\", \"ticking\", \"stream\", \"fantasies\", \"faced\", \"saturday\", \"egg\", \"celebrity\", \"superman\", \"wicket\", \"sha\", \"effects\", \"apologies\", \"satisfaction\", \"anthem\", \"cheaper\", \"hangover\", \"boost\", \"strife\", \"larger\", \"ribbon\", \"bomber\", \"madman\", \"sharpen\", \"intoxicated\", \"swamp\", \"lemme\", \"beware\", \"upgrade\", \"tattoo\", \"mind\", \"meant\", \"wake\", \"feeling\", \"pressure\", \"killing\", \"message\", \"millions\", \"bones\", \"arrive\", \"ecstasy\", \"soul\", \"feel\", \"brain\", \"flame\", \"scream\", \"control\", \"insane\", \"breathe\", \"pour\", \"dreams\", \"count\", \"pain\", \"drink\", \"explain\", \"feels\", \"cover\", \"help\", \"air\", \"swear\", \"telling\", \"better\", \"walking\", \"matter\", \"listen\", \"things\", \"motherfuckers\", \"killa\", \"ridin\", \"doe\", \"stacking\", \"dimes\", \"walkin\", \"illest\", \"salute\", \"slippin\", \"rowdy\", \"slay\", \"chrome\", \"unit\", \"sippin\", \"killas\", \"rugged\", \"emcees\", \"mutha\", \"fitted\", \"molly\", \"dolla\", \"albums\", \"pinky\", \"layin\", \"clack\", \"ruggish\", \"batch\", \"bastards\", \"batteries\", \"nigga\", \"fam\", \"thug\", \"gots\", \"flop\", \"broads\", \"ghetto\", \"hood\", \"actin\", \"gangsta\", \"gangstas\", \"block\", \"dope\", \"rappin\", \"dough\", \"bricks\", \"flip\", \"talkin\", \"represent\", \"rep\", \"homie\", \"raw\", \"streets\", \"cats\", \"game\", \"gettin\", \"homies\", \"crack\", \"brick\", \"double\", \"team\", \"rap\", \"grill\", \"respect\", \"boss\", \"real\", \"chain\", \"dog\", \"hit\", \"spot\", \"stay\", \"straight\", \"man\", \"hard\", \"catch\", \"boy\", \"black\", \"hold\", \"play\", \"bring\", \"money\", \"shit\", \"live\", \"die\", \"monkey\", \"sweater\", \"crossroads\", \"undercover\", \"thicker\", \"mula\", \"grateful\", \"brighter\", \"exhale\", \"yap\", \"bloom\", \"honeys\", \"courts\", \"costs\", \"forgetting\", \"shouts\", \"theory\", \"smith\", \"wow\", \"ditty\", \"lava\", \"director\", \"hateful\", \"incense\", \"principal\", \"feeble\", \"lifeless\", \"vent\", \"lieutenant\", \"huff\", \"boom\", \"manage\", \"closet\", \"pointing\", \"lied\", \"bow\", \"fallin\", \"harder\", \"adore\", \"hooked\", \"day\", \"pays\", \"everyday\", \"pray\", \"stay\", \"grow\", \"lord\", \"wrong\", \"house\", \"addicted\", \"damn\", \"longer\", \"nice\", \"care\", \"bird\", \"owe\", \"birds\", \"god\", \"bone\", \"higher\", \"felt\", \"true\", \"life\", \"waste\", \"understand\", \"good\", \"man\", \"person\", \"drip\", \"circles\", \"hail\", \"dee\", \"farther\", \"terrible\", \"pon\", \"drifting\", \"remorse\", \"fireworks\", \"session\", \"pyramid\", \"slips\", \"rays\", \"sights\", \"strutting\", \"riddle\", \"survivor\", \"dinosaur\", \"backbone\", \"inferno\", \"spur\", \"accidentally\", \"enslaved\", \"voyage\", \"momentum\", \"oblivion\", \"trump\", \"hypocrite\", \"burn\", \"buzzed\", \"flying\", \"abyss\", \"sunshine\", \"cooling\", \"water\", \"motion\", \"high\", \"shine\", \"fly\", \"hot\", \"push\", \"boogie\", \"white\", \"eagle\", \"higher\", \"wicked\", \"ship\", \"forever\", \"sweat\", \"ocean\", \"hardcore\", \"wet\", \"set\", \"watch\", \"lift\", \"bet\", \"sun\", \"sky\", \"burning\", \"wings\", \"heat\", \"dog\", \"space\", \"glass\", \"worked\", \"louder\", \"leg\", \"lack\", \"cracking\", \"talked\", \"toys\", \"terror\", \"sermon\", \"allowed\", \"patience\", \"puppet\", \"reminisce\", \"limits\", \"richer\", \"magical\", \"favors\", \"drain\", \"bandit\", \"lad\", \"hallway\", \"airport\", \"swelling\", \"changes\", \"galore\", \"huge\", \"obsessed\", \"mate\", \"rank\", \"successful\", \"bedroom\", \"honest\", \"faster\", \"inhale\", \"celebrate\", \"sucker\", \"learn\", \"hush\", \"opportunity\", \"wanted\", \"busted\", \"sense\", \"locked\", \"enter\", \"words\", \"bell\", \"story\", \"waiting\", \"remember\", \"worth\", \"guess\", \"word\", \"left\", \"yesterday\", \"thought\", \"bit\", \"heard\", \"years\", \"point\", \"things\", \"face\", \"friends\", \"head\", \"write\", \"broke\", \"fame\", \"takes\", \"room\", \"best\", \"better\", \"lose\", \"close\", \"son\", \"door\", \"leave\", \"place\", \"hear\", \"change\", \"life\", \"feel\", \"people\", \"break\", \"dick\", \"motherfucker\", \"pussy\", \"fucked\", \"hoe\", \"bullets\", \"slugs\", \"yay\", \"muthafucka\", \"nut\", \"cum\", \"muthafucking\", \"homicide\", \"slut\", \"bitch\", \"realer\", \"mothafucka\", \"fucking\", \"err\", \"cking\", \"bong\", \"marijuana\", \"iller\", \"indo\", \"shitting\", \"pullin\", \"copped\", \"dubs\", \"stank\", \"blunt\", \"fuck\", \"weed\", \"shit\", \"shits\", \"ass\", \"bang\", \"suck\", \"bullshit\", \"spray\", \"shots\", \"hating\", \"shoot\", \"nuts\", \"cock\", \"bitches\", \"gun\", \"buck\", \"smoke\", \"hoes\", \"guns\", \"smoking\", \"bust\", \"motherfucking\", \"kill\", \"mouth\", \"shot\", \"hate\", \"head\", \"hit\", \"playing\", \"street\", \"pull\", \"real\", \"man\", \"blow\", \"boo\", \"extra\", \"ron\", \"tick\", \"radical\", \"witch\", \"tock\", \"bumper\", \"lingo\", \"sway\", \"lounge\", \"dynamite\", \"connection\", \"giddy\", \"scandalous\", \"eminem\", \"honestly\", \"sic\", \"dock\", \"beleive\", \"crowds\", \"beotch\", \"ina\", \"bin\", \"bah\", \"nineteen\", \"melting\", \"goo\", \"bums\", \"bizarre\", \"smooth\", \"chinese\", \"tat\", \"cool\", \"liar\", \"stops\", \"brown\", \"talk\", \"bomb\", \"dis\", \"fool\", \"perfect\", \"black\", \"master\", \"hold\", \"number\", \"exit\", \"bags\", \"cruise\", \"strong\", \"preach\", \"situation\", \"catch\", \"pack\", \"blow\", \"ahead\", \"listen\", \"cat\", \"slide\", \"pull\", \"clock\", \"white\", \"cowboy\", \"cocaine\", \"stroke\", \"bodied\", \"singer\", \"hallelujah\", \"rocky\", \"ignorance\", \"ambassador\", \"patter\", \"wrecking\", \"suede\", \"cowboys\", \"penitentiary\", \"tonite\", \"palace\", \"shank\", \"communicate\", \"neat\", \"tonight\", \"messenger\", \"suspicion\", \"absolutely\", \"celebration\", \"serve\", \"manure\", \"dam\", \"guitar\", \"likes\", \"rock\", \"roll\", \"ready\", \"boy\", \"wish\", \"saved\", \"trouble\", \"country\", \"radio\", \"doctor\", \"night\", \"star\", \"long\", \"boat\", \"position\", \"video\", \"middle\", \"devil\", \"handle\", \"coast\", \"hear\", \"baby\", \"shorty\", \"funk\", \"booty\", \"bump\", \"rapping\", \"mami\", \"funky\", \"gga\", \"ding\", \"beep\", \"crunk\", \"bon\", \"dot\", \"def\", \"dub\", \"pow\", \"ggas\", \"nutting\", \"jock\", \"dancin\", \"dong\", \"critical\", \"banger\", \"thong\", \"gimme\", \"wan\", \"nana\", \"codeine\", \"yellin\", \"spaz\", \"bass\", \"mic\", \"party\", \"correct\", \"rockin\", \"freak\", \"rhymes\", \"microphone\", \"jump\", \"body\", \"low\", \"club\", \"chick\", \"sexy\", \"style\", \"hip\", \"fellas\", \"beat\", \"rhyme\", \"knock\", \"check\", \"rocking\", \"hop\", \"pop\", \"step\", \"flow\", \"ladies\", \"throw\", \"hit\", \"bring\", \"rock\", \"rap\", \"hot\", \"break\", \"kick\", \"baby\", \"drop\", \"girl\", \"floor\", \"shake\", \"champion\", \"duh\", \"cos\", \"chained\", \"sung\", \"trace\", \"mouths\", \"beds\", \"wobble\", \"reminds\", \"widow\", \"charity\", \"rave\", \"battered\", \"pleased\", \"unable\", \"homicidal\", \"pleasant\", \"dance\", \"shh\", \"according\", \"herpes\", \"benefit\", \"mood\", \"guap\", \"splash\", \"piano\", \"sugar\", \"shout\", \"turn\", \"song\", \"groove\", \"hard\", \"porch\", \"raise\", \"lights\", \"standing\", \"floor\", \"leave\", \"play\", \"drop\", \"mercy\", \"loud\", \"twist\", \"young\", \"lean\", \"attitude\", \"sweet\", \"hand\", \"shaking\", \"box\", \"halo\", \"gates\", \"thee\", \"modern\", \"hatred\", \"spiritual\", \"victory\", \"society\", \"thy\", \"graves\", \"weave\", \"justice\", \"waits\", \"savior\", \"cursed\", \"tongues\", \"torture\", \"western\", \"horror\", \"sinners\", \"punish\", \"repent\", \"cease\", \"canibus\", \"unholy\", \"retreat\", \"fury\", \"corpse\", \"haunted\", \"dreamer\", \"torn\", \"holy\", \"evil\", \"warriors\", \"final\", \"destruction\", \"flesh\", \"religion\", \"war\", \"gods\", \"death\", \"heroes\", \"faith\", \"die\", \"human\", \"blood\", \"peace\", \"alive\", \"mass\", \"survive\", \"dead\", \"sin\", \"life\", \"born\", \"devil\", \"fight\", \"heaven\", \"died\", \"fear\", \"live\", \"power\", \"nation\", \"people\", \"men\", \"breath\", \"kill\", \"truth\", \"believe\", \"hell\", \"stand\", \"man\", \"soul\", \"lost\", \"hate\", \"living\", \"pain\", \"jingle\", \"doom\", \"york\", \"dah\", \"sleigh\", \"ling\", \"steam\", \"swagger\", \"santa\", \"grabbing\", \"pussies\", \"opening\", \"yeh\", \"jukebox\", \"whining\", \"offa\", \"woogie\", \"sequel\", \"smother\", \"saloon\", \"fret\", \"guilty\", \"diaper\", \"boomerang\", \"elf\", \"infamous\", \"scalpel\", \"threaten\", \"flawless\", \"horse\", \"pity\", \"round\", \"noise\", \"saddle\", \"town\", \"city\", \"fun\", \"shouting\", \"red\", \"ride\", \"shut\", \"wild\", \"wheel\", \"blue\", \"turning\", \"spinning\", \"riding\", \"bounce\", \"ground\", \"trip\", \"wheels\", \"drive\", \"driving\", \"green\", \"street\", \"lose\", \"corner\", \"ball\", \"coming\", \"meet\", \"head\", \"feel\"], \"Total\": [26299.0, 19920.0, 11563.0, 13197.0, 7537.0, 7662.0, 6809.0, 11960.0, 8075.0, 7033.0, 6678.0, 7191.0, 4360.0, 7177.0, 3722.0, 4847.0, 3355.0, 3934.0, 4246.0, 2900.0, 2987.0, 5006.0, 4163.0, 5580.0, 8912.0, 2779.0, 3184.0, 2310.0, 5349.0, 3796.0, 875.6247629726427, 57.07201973710688, 39.0253359581393, 28.130284619020884, 432.99447927693257, 196.72115754198734, 11.648768456009758, 10.743946098428289, 19920.52750982858, 1058.8980846915395, 244.38542142733723, 11563.827364005752, 188.78494414043556, 60.24020499658786, 66.50448688934091, 84.96506689234937, 43.777640554354974, 59.409521456554394, 71.45580685545804, 53.27236500715789, 584.1835959721915, 434.39531664403887, 64.03231822851346, 105.32187271523168, 15.25853760678262, 130.92868463462577, 63.34822743164138, 55.9929938311039, 116.12047203986836, 45.93025452650167, 4796.7178993623975, 2493.670518696639, 1303.9094090636781, 1263.7509364418347, 933.0745941642995, 435.3078413237224, 1622.148587506245, 784.7673909091492, 1684.5905217060379, 409.88567295778137, 1839.9265931512023, 2190.2330301441557, 1083.9863626355905, 1018.3698187750507, 3286.7937986708603, 712.8653667413115, 1017.5499104010236, 430.25286143750515, 7191.392742746642, 2429.5128163530067, 4635.904508671699, 1577.5764169702531, 2442.179562959095, 1404.23454552616, 935.635651868113, 8912.816522062813, 1841.00695413555, 7177.557363914559, 4847.816354722884, 3321.6539166241396, 7662.3284913803045, 7033.686771338872, 3699.2764226079503, 223.77641255020143, 212.88761806417367, 197.2203405513394, 177.9939766841836, 158.6922020349679, 158.40554723337178, 139.0720640763094, 129.34549168886758, 105.34109695048112, 100.45542063253694, 97.86446996331354, 93.86437348857608, 76.06388719837996, 55.03734691120765, 49.58715707048566, 45.11506669607639, 40.506296388818484, 24.50280160022966, 30.791663220608964, 20.8391446341065, 233.61892608114496, 124.08755777875417, 12.358539584705756, 100.55719862144575, 63.07920135229768, 81.38190951349623, 155.0644358793915, 121.51878342160015, 323.61762895022287, 170.1222733936332, 7537.127094374897, 264.4479712690362, 188.11135643119678, 249.2181421807696, 373.84837274698526, 383.03015199427057, 1290.26651701581, 1377.8154667339122, 750.511634851613, 309.63591388084626, 2832.2719779254817, 811.29811567232, 532.2284994881525, 3538.496704912639, 3572.9152249842355, 2810.5452269805837, 953.1294743156848, 5075.290718055785, 2036.7714924444138, 608.0251570960712, 441.8505712999573, 1579.4200092145973, 828.1981162635651, 516.4127287005248, 8912.816522062813, 3184.9288831412387, 2923.733530888846, 1794.4621978234716, 2036.855861100038, 497.2811806152597, 460.9477909454855, 601.8417335420895, 641.5189853071861, 7033.686771338872, 1961.144605591305, 1975.2381640632932, 3821.2006310787783, 5580.887379404806, 2904.1140403287404, 19920.52750982858, 746.8409609898488, 350.42001751540937, 348.35475121842535, 2303.1472062490893, 277.36651179219064, 201.32056480863267, 186.73828259242907, 91.87649481667519, 75.98902432671548, 76.42221176619047, 70.94082276083522, 68.59267631812968, 62.437191692442966, 60.65284871501096, 49.350874891152266, 48.96648340328296, 39.59342553971113, 30.738917823471763, 28.26016821288085, 20.955342604028377, 19.67025269372552, 19.36050424998661, 18.51490142484566, 65.17105191030468, 15.969344755753072, 15.902973447763308, 15.174263546526387, 14.43849895477259, 12.257737159310162, 51.83275216382316, 120.27952206925009, 1614.2860131412185, 282.5158386177461, 1033.526849705922, 3934.633655256525, 2412.6159239113886, 122.16348303271032, 82.9961685457924, 809.717911914926, 842.7105345639802, 363.42244489876504, 1353.2075332957015, 4163.8580725746015, 168.370685159606, 1077.5942988282181, 1954.7907169839696, 934.3061852012087, 896.9531261249688, 285.0666633125365, 610.0230043680347, 1114.1742777275397, 542.310773757414, 458.30916319935375, 645.4657387806559, 1022.9743240753481, 273.3946299688978, 719.3842310516158, 1101.5444396448709, 11960.162847363625, 1304.144903148642, 1865.3171943814557, 7662.3284913803045, 240.91532936026934, 195.67112613757547, 195.1838038089995, 117.8182831138229, 89.26338515884979, 83.53571462659566, 79.06852042301236, 64.97864595665587, 64.9677783089283, 50.98897623826085, 50.63726931792685, 50.11542565593824, 47.33066235620417, 47.177664564467214, 45.86304536359435, 45.84437669585827, 156.2232357600454, 35.32211589891576, 29.17027522960381, 20.856038268336604, 20.331818616812285, 17.672830652789564, 14.890891372800521, 14.514245714367382, 14.508341532865057, 12.787127880271935, 60.6818595028191, 11.283156163388929, 10.964748675109782, 27.867881254936602, 56.6722539915844, 1945.7853398162592, 49.81719364179428, 220.05029318042799, 303.2638986196647, 2670.438981054427, 7033.686771338872, 1667.9218747891082, 112.31384461791342, 1071.441214592495, 433.4164624807095, 682.3009543718028, 2001.832407787468, 221.92701791098463, 11960.162847363625, 5580.887379404806, 246.10329701787012, 7191.392742746642, 661.4549757420717, 277.85483682689716, 486.48927968557865, 1049.4282767244026, 556.1510078847937, 793.8562848413561, 393.566344836434, 1546.854559744936, 578.9015626385898, 637.2473018555118, 2662.7647336100717, 2096.669178669034, 1371.5335368176372, 950.7726768483374, 3870.5366761753194, 3939.9358804342987, 2676.9549964527396, 3168.850880705704, 1819.4899265216307, 1884.9280792688094, 241.6958290657874, 147.70588752343724, 114.97526569516752, 110.52445080564667, 97.40413441293467, 95.9210769687578, 82.68464342926941, 74.24190929768493, 73.56742085414056, 58.82283306559704, 55.37313109564678, 52.45325164499473, 48.40463537678132, 40.333043799416686, 34.25213039025133, 30.51738084709387, 29.566269620577838, 25.886244705964497, 20.53293902328461, 55.389126876341, 80.01396853464816, 15.764758032761485, 13.587215497501418, 13.287137236287636, 60.793112519902074, 12.946055361364104, 12.170537332386065, 176.2558684085724, 85.26412869508218, 58.6772538957258, 7662.3284913803045, 54.501472217917296, 248.55448667504655, 139.2454179014079, 128.279618906097, 286.6826231622267, 632.3117497176316, 901.0429787307987, 406.5010449162123, 1273.8090395393585, 1400.5524370642975, 1315.9898435069015, 242.0360629682216, 2792.3237635344, 1567.3747693612572, 448.7545372062281, 573.1996584433757, 910.5559657689473, 592.470011207143, 2331.9424865039946, 1002.09060542557, 213.81591377882313, 1701.4020306200036, 247.69266997399043, 1937.4493190311755, 778.5068836506078, 7177.557363914559, 1139.0000172939706, 824.081431899488, 1017.5499104010236, 1112.4840519210177, 1459.147971364004, 3538.496704912639, 3168.850880705704, 1229.4487374290786, 4663.932770891116, 7033.686771338872, 3595.076231993558, 1007.5589758153023, 224.21802685916376, 185.91444993156875, 146.80604775872686, 124.46092848059165, 109.93435610091538, 104.88170959436404, 98.4574850645661, 82.58168956624046, 80.52169940072127, 113.19208773234857, 69.69808430295302, 69.78439998597389, 69.2695700817101, 69.14681723211434, 89.87773474955688, 66.52807672764676, 66.34289654089312, 62.844542886335965, 61.982549610152496, 61.87141035574419, 59.97109451958321, 57.86570884555027, 56.74386145883433, 54.581669209705346, 54.42256764113279, 52.61895619221382, 51.7380657621616, 50.9357512347562, 50.26093408630186, 49.90509902460658, 125.75899744378137, 69.43384520768514, 381.84050549687834, 147.87765036469204, 89.55472146212445, 198.00893298630305, 493.85583575234676, 395.4051357033099, 368.3741670606891, 513.9756447100476, 203.36230652423862, 894.7654919217822, 173.73423156609388, 131.02147794622195, 433.3015656022864, 401.83527197575626, 160.50006823835443, 146.17071259910674, 128.14224059829692, 309.3840870190665, 1880.8016904509307, 227.49915173393248, 803.0202686908722, 1359.745214774506, 687.8133865355733, 1108.805902949912, 203.90267449970392, 666.3513737724661, 1251.205334248492, 1143.1595611026653, 11960.162847363625, 662.1554833016829, 681.1527637812009, 1114.5008377628092, 2531.9353248749258, 1975.2381640632932, 935.635651868113, 402.3732159932419, 932.859438474884, 1068.6187362395665, 2730.0211281328693, 1915.585311218694, 1069.1471716437275, 4163.8580725746015, 1228.049625762316, 1840.1310042968225, 7033.686771338872, 3939.9358804342987, 3864.2075185368285, 2810.5452269805837, 4635.904508671699, 1610.6780277314433, 2541.6358179332174, 1960.8044904123542, 2412.6159239113886, 2632.093200109946, 277.3204707176229, 252.27503826870466, 205.9033615492373, 188.46997757365062, 158.28829593007916, 143.2738976134728, 142.5361429847761, 133.9286038703367, 128.2253657103011, 116.49159959136301, 111.95763387645691, 100.43394886563715, 89.40925015877497, 90.86873238762549, 87.69611974429222, 85.11377455477096, 79.32969458802013, 79.77535655788662, 75.86169023138916, 71.06000362945777, 69.47345292690946, 68.06877886800739, 63.81162429469032, 62.20939198840042, 62.11984438878022, 403.1455196668583, 61.08466581153506, 60.25694752297211, 59.51500032812401, 55.65019066904371, 81.80567514091443, 596.4524368161289, 155.17175668941417, 96.96228873515473, 280.9628546526597, 802.6803916874021, 398.218056535877, 1370.9902586779856, 298.45558326301244, 510.83147842118296, 1546.149653890037, 3014.5579865835725, 913.6815863116718, 1038.1767511653566, 274.7477711583255, 213.6431599195522, 733.3378123562821, 603.334944719525, 958.2155790409267, 1752.2069675816401, 1581.4562647344305, 366.8706422965111, 379.5111796108875, 3699.2764226079503, 1178.6696344759523, 1634.0894055399715, 708.8191306384493, 1076.9604104721475, 589.6381726574315, 7177.557363914559, 2103.510101698214, 1407.7705489645462, 4796.7178993623975, 2470.105967435486, 508.51135363627213, 1714.728224171027, 922.7606536967781, 1884.9280792688094, 2632.093200109946, 6809.333411479103, 4635.904508671699, 3870.5366761753194, 2570.633904751927, 1609.8142626270376, 2034.908914826343, 8912.816522062813, 660.7157613646337, 600.1572174835767, 329.56225119367537, 259.99483380613924, 242.62564486642788, 238.80118658823153, 203.05100542062036, 164.06905650897545, 132.66638587554306, 92.31749100902398, 85.63854671352466, 85.38916392059186, 85.23781563706103, 83.70813486896104, 80.53543894305605, 69.18525006370056, 60.17262826077127, 56.371026234888404, 56.0439904028999, 55.259592711046984, 55.07393933542165, 43.37069536343269, 41.439953108354345, 28.798134087879863, 23.862281428574473, 23.39042752582506, 23.272304528625305, 121.30601466419633, 19.873731795884225, 13.749588378469694, 105.10184850764011, 573.2699244822202, 1050.6202051875096, 585.2286978991642, 398.75281287034926, 221.29443794095192, 437.53704326503293, 626.455444181822, 458.4467030257472, 1620.5388957539149, 100.64471416864936, 364.09423338093256, 268.187565550504, 437.8826009101092, 177.6157076871747, 515.5020234196102, 460.5685176420699, 151.91132976306216, 144.66430051066885, 931.4307412040275, 210.003652858583, 167.1620748936047, 163.9943012880865, 130.48023978400303, 112.41946206718328, 108.09401985636964, 106.3322198785599, 86.88824909327658, 76.38574538219946, 70.09534360630384, 67.44470325807517, 65.73731950110887, 65.53423583534934, 65.01742632610338, 64.46126746865673, 61.71919311579145, 60.27333746609679, 60.0022392866013, 59.51305567004481, 57.245859418267784, 55.782419575512705, 52.274396215791924, 50.48665140183089, 40.39035047300598, 38.62346424111883, 36.46583492945028, 32.91550410923522, 31.508296193013337, 31.070812094687234, 27.26753504293412, 111.69576676307096, 106.29911927460935, 106.55156149642511, 178.67804359558212, 4847.816354722884, 526.8631741335628, 1107.7085395188974, 2676.9549964527396, 411.8638099481697, 979.0655768250814, 307.81323880643515, 168.98404826736558, 387.17078756085397, 110.49519195959066, 109.12749173815432, 2276.724315454579, 7191.392742746642, 1119.7608987070591, 383.1132139404482, 636.2479438261897, 1002.5896436759407, 431.73331895808354, 503.76924474195795, 300.38328477838337, 1407.7705489645462, 563.8507838578461, 1655.5872820480613, 1304.144903148642, 340.21323754464186, 784.7673909091492, 468.30986884013726, 1610.6780277314433, 1546.854559744936, 887.8110858081518, 1042.4570885524056, 5075.290718055785, 991.6872499206808, 1476.2435013569086, 1395.815696268744, 3168.850880705704, 667.0281287927115, 326.1642415725074, 203.35260320254338, 188.1352817889715, 157.1307082812358, 133.58083981517896, 132.24702660578603, 127.17653337101736, 117.7782121619682, 115.06015512634346, 105.33402744288998, 104.93478070660016, 398.77668845780113, 101.74950176289374, 100.55467150623194, 112.59308608764661, 98.00430910542305, 97.8291201510815, 95.65603583824353, 94.77815912912058, 87.95953484317408, 87.00382823342555, 85.126815834145, 81.28302244677431, 80.6062290762193, 76.87285866379078, 74.79590006744371, 74.59773194553145, 73.45462171347188, 72.72382342666488, 26299.111588244177, 192.90371121728091, 889.7799205479017, 298.7595255033472, 125.10004787463326, 198.07483025281138, 739.4552138326341, 1918.7442689293678, 180.54477595866396, 686.8690321949357, 161.50611128138092, 1655.3103433562765, 1191.8952844625744, 201.0278288454452, 692.1081026804295, 343.9117261463243, 662.9021214690789, 542.7131576267861, 269.59158390412694, 270.3066809626418, 829.1987209455216, 575.7795807038074, 1903.5347557138666, 628.3144805035957, 3787.34922141605, 708.0325704352887, 441.8247189824052, 1162.960269278087, 262.8558770090764, 830.3756940596007, 656.7807211365496, 2203.275664609122, 348.9896817389488, 836.2018638857847, 598.3229710114432, 5580.887379404806, 771.1499291805343, 1552.008469209686, 4533.4341443447165, 998.6458321451557, 3276.909925511016, 1665.5343541179777, 11960.162847363625, 4246.41484776799, 1483.5555440635592, 4360.892725256166, 2826.7401333085872, 3286.7937986708603, 3864.2075185368285, 2296.6853670420887, 7537.127094374897, 13197.608076698967, 3821.2006310787783, 3235.992565355224, 281.8749215131785, 156.5397282309367, 113.43338377976346, 99.83327473471168, 88.21863153660755, 84.44535242032336, 75.94189214830378, 74.40244758943906, 69.15609335798673, 68.85203283045061, 63.51398135019401, 61.85696969035475, 58.908655065156026, 52.99446514179411, 49.89526217816371, 47.78799733069259, 44.38516525618518, 33.55235017965553, 215.78795429433322, 29.503095860369992, 27.666072063247295, 27.408455943041364, 26.029810506892606, 23.24308820835944, 20.692277097816785, 20.28101208630821, 20.065019974603224, 20.008948523311602, 18.793959659486948, 17.605224110309862, 758.8516534262109, 60.49648819685047, 278.8625864854802, 71.04698179061639, 222.23459172046773, 489.4621112001969, 119.9729397918121, 406.3638426732575, 122.89023475415493, 166.4254932514695, 6809.333411479103, 83.73663035506148, 659.4868925393639, 843.5674523848969, 3276.909925511016, 738.1624297839868, 376.6795729520382, 2349.6765058475703, 2541.6358179332174, 230.9659319830339, 2102.6217680371888, 488.4440342912849, 1076.239616100126, 1841.00695413555, 427.40771921452057, 373.76077179327854, 380.0982985574852, 887.9843881927231, 724.5565887989958, 650.7741334252667, 744.8937886923435, 1839.9265931512023, 8912.816522062813, 529.1078060570649, 1501.6267482933886, 7033.686771338872, 11960.162847363625, 241.7451832214296, 166.55708334527523, 145.4739587689501, 121.86889734365475, 104.40293182872564, 99.00761463140043, 90.17522600446931, 85.36084985391209, 79.29892489051905, 77.07405426323673, 67.84602203654514, 64.20485823742983, 56.49226888273345, 55.56578567077527, 55.46340832153655, 51.10047519103567, 48.90448291159439, 45.174030497728744, 42.17614721483098, 36.42641067593348, 31.12951492599574, 25.994254578301526, 22.36809254613882, 22.164948980094405, 21.386492651480026, 21.317598654832075, 21.10236103814427, 19.294520251590857, 18.76515899476432, 18.439310874931518, 1262.3595185158338, 61.714458514933455, 431.3412488118391, 44.637225816223236, 241.90249453677893, 82.3886956890517, 1303.4342041479715, 229.1641098536624, 3796.418076155671, 1325.4205573909571, 2130.0660568610683, 2867.0212876310675, 774.2312261093359, 284.0384268160234, 2098.6374258162596, 130.74758747117286, 650.7741334252667, 500.6966830548361, 291.76025307074633, 1577.5764169702531, 471.05997030127645, 357.68472193410844, 199.48801768767623, 605.9147584376416, 1585.2634427328076, 2904.1140403287404, 415.9149796623246, 909.5056863007917, 1634.0894055399715, 1581.4562647344305, 730.9552281833252, 424.38090294668376, 961.4983147907844, 1552.008469209686, 517.2476343551781, 654.7369067754573, 195.51254749242477, 186.1957105591035, 182.11854926344066, 157.06332976699068, 140.54487187597906, 138.75834412441395, 132.8834578292825, 127.66294143215595, 105.04926570763564, 107.90608389064614, 159.55890018769088, 66.31887696926529, 65.34994541407951, 61.95774322924517, 61.527338809761254, 60.54311283148648, 59.55829059101863, 58.177251258683825, 57.04591654251241, 56.33748880249018, 56.12822078805409, 54.18719903191068, 55.38525806893906, 186.34884075494764, 51.360881137930015, 50.91767969503379, 50.53300927419782, 50.34753239057897, 49.93560098069063, 49.40623882003989, 141.97574209369168, 245.40951880916066, 255.33611289274458, 72.99160202724892, 205.41494692318182, 273.58300039621037, 770.7346770604958, 145.53910601310096, 85.52870264670428, 1084.1639517760661, 123.30802945935001, 477.59053198992706, 481.30043582616184, 134.2163680947836, 1534.1550899688687, 288.6224992843783, 944.3012911488896, 1777.609478571585, 1663.4262680166717, 696.1152515703573, 1429.519925967128, 1381.001153417152, 2816.1400349687274, 350.3803630421928, 2235.206797782982, 1083.9080242962398, 2143.387610325869, 1470.709079073782, 785.5843202478545, 3168.850880705704, 3595.076231993558, 1954.7907169839696, 4663.932770891116, 771.1940171215543, 1286.254601897772, 563.7659950679652, 749.1347558664822, 1466.3677670412312, 2792.3237635344, 5075.290718055785, 1428.4991179116641, 1436.6448884284964, 1601.7528576852087, 1915.585311218694, 3321.6539166241396, 2570.633904751927, 3870.5366761753194, 2331.9424865039946, 8912.816522062813, 7191.392742746642, 3939.9358804342987, 2442.179562959095, 1794.4554842879104, 1158.277576466363, 1134.5235693339748, 1004.7411848011437, 911.7548091636402, 443.01439875586937, 229.29212169539343, 201.00286800357802, 198.19374858053052, 184.4112741544814, 174.61145254914487, 148.6838839282622, 146.38233727155813, 144.75618343619635, 6678.079069680909, 116.0608348942695, 114.24599425391104, 5006.598438167479, 105.26998097202251, 96.5932066368199, 89.5186363099943, 87.82283521983732, 85.38980776871063, 84.35926397828904, 84.15111990005327, 82.85513207265349, 80.2450246418455, 79.73484377049178, 78.00461142401265, 348.7939916634196, 8075.575696543257, 1113.7647224839252, 13197.608076698967, 110.42154117297113, 5349.307613632293, 961.8429988136081, 587.1609031165124, 497.13904354229595, 297.8070169300231, 758.3663919533313, 410.3057919278978, 1103.7569512567404, 355.719316147456, 370.8497015506666, 2923.733530888846, 1772.0148789429832, 564.3622681415903, 1646.1897163916042, 2036.855861100038, 893.5072264146471, 792.7406762332373, 1476.1335344079187, 870.3414729644998, 2117.524598766591, 1376.6722176509725, 1782.9669796845787, 2064.171487764918, 4663.932770891116, 4533.4341443447165, 1675.8735052317008, 1787.249598492211, 1584.4548719545246, 5580.887379404806, 11960.162847363625, 1793.3971888266642, 400.8091660768272, 368.9843553864197, 211.81351882921385, 186.01314360443388, 101.57716601132654, 97.02242070797038, 87.45877979528304, 82.19420670611878, 73.9507561995545, 73.05490035378838, 66.99795776085789, 66.48215532835424, 65.15404503977561, 62.85800529794237, 61.39532669752813, 60.69091141191962, 62.233083376931646, 57.845973484697375, 59.316429805072296, 56.91856046781078, 55.98091372509687, 55.92572671150144, 54.41068142903723, 52.50036070707887, 50.338108665138854, 49.57236953495962, 49.524334543559, 49.24157991763639, 49.880173532007596, 48.91505712248832, 226.347004826674, 62.17100713857075, 247.46906486181092, 1523.9184246580703, 146.46626078779204, 298.94320267805756, 430.9927262233436, 3139.1278651021407, 583.5956806981017, 233.29283363555027, 1166.4748118325724, 730.726815602922, 2826.7401333085872, 334.56006689791474, 3286.7937986708603, 939.6087492341319, 85.80066515132586, 334.19968554508466, 118.15589745008812, 1179.6629410214416, 160.15310865771175, 307.51647153442644, 1483.5555440635592, 626.1815992403948, 1793.3971888266642, 566.1694514864616, 1395.815696268744, 584.9236631705838, 346.91846564303825, 1584.4548719545246, 547.8645086525935, 2098.6374258162596, 253.35690228767427, 232.7247603696895, 155.10062396766335, 150.4860848043808, 141.9434611219172, 133.27863103829853, 109.5315573409963, 61.431138826748516, 60.385974953653864, 58.14117174427024, 55.56663964722761, 54.490785716827354, 52.767339961311244, 48.511911650996936, 47.70867148393774, 43.721415303724406, 34.60867573367759, 19.503879836740094, 94.74113562961044, 2900.4083782660978, 14.179449776192193, 11.99084674696342, 51.675346084118736, 112.01760099259914, 346.60103307450544, 13.658958038577241, 47.70425003190313, 272.7867943075866, 293.61955796647084, 3355.864866999842, 2779.1127454184484, 2987.152390871228, 4360.892725256166, 1911.3998266067845, 276.6681192467519, 797.5801242173882, 646.3977349457573, 637.1358503232435, 384.08831917704254, 7177.557363914559, 1069.9142915277978, 4635.904508671699, 265.08204687242863, 243.88519251709766, 274.5986976572809, 719.0539447723667, 844.2687835656376, 613.8935150907105, 538.9474263534266, 3870.5366761753194, 11563.827364005752, 419.9068952693501, 413.69909341251713, 394.2573305186433, 330.8160048706601, 293.7983574219125, 178.00306246152311, 579.6337334000815, 172.2819780954826, 171.34993602912016, 166.1336205321447, 141.575758768033, 116.85137256953804, 111.24240252799106, 109.40824250358986, 107.88938578100532, 105.11602615340698, 100.00397628949172, 98.73741262777753, 90.4710970549042, 83.80297471097735, 83.570716987275, 80.40018108042787, 79.38101418831596, 76.58545510616652, 69.4758788361322, 67.11336647759198, 59.55839519523663, 58.85082929518803, 56.42055291428741, 55.62122041840988, 369.2147241713671, 938.055404400709, 1942.8536134223136, 87.92008482329655, 208.3574933182108, 721.0121626537505, 797.3765232695732, 272.38833577010763, 1027.5866809506106, 2892.978714267981, 1763.386703607764, 1865.3171943814557, 824.2491364429574, 487.7432126549863, 1303.6011331216298, 707.8404783458805, 247.67077502367644, 2534.4178902445283, 1030.3156628106337, 692.7381730832753, 1908.837377960985, 696.6768554553645, 884.0492151966959, 1841.6711125225643, 1381.1024079154472, 1437.5878672408326, 910.9250501595972, 1819.4899265216307, 4533.4341443447165, 2296.6853670420887, 3355.864866999842, 2203.275664609122, 2867.0212876310675, 2442.179562959095, 989.1647290248652, 11563.827364005752, 1955.8049177423004, 7662.3284913803045, 1637.094255555851, 1616.0963651509453, 140.14987194356723, 127.11625804440308, 107.82356221904456, 104.923737269878, 96.17626451782571, 87.24146368963996, 70.9382293887509, 62.07134985169731, 60.02887165449332, 58.67024107761906, 38.169815005665214, 34.11515957029045, 31.575829150880228, 28.509570889743514, 28.080938705290567, 27.803233712078157, 25.946532046822494, 25.849168398118625, 2310.5119482331597, 55.20343949793164, 73.37999288950842, 12.275859574983912, 68.78231343449295, 277.3102923869756, 79.53804839835267, 93.79661895362203, 107.96503817141202, 330.90244962606977, 547.7638488073006, 3722.0694797030537, 2662.7647336100717, 358.19237891916833, 4246.41484776799, 229.18282185217137, 553.5728293106187, 1197.6127344353413, 1033.4374349277298, 1637.094255555851, 3321.6539166241396, 3864.2075185368285, 1955.8049177423004, 294.6286073647985, 650.3082769000408, 308.3551388669972, 1961.144605591305, 461.4743350433557, 289.4451453962262, 1404.23454552616, 2632.093200109946, 343.455695021047, 630.2380955803468, 252.4342722321372, 221.32143740334158, 146.61880414076904, 136.89570519853257, 128.41622464046634, 112.41154864768045, 110.05193611359304, 100.95086464996554, 98.9162330131308, 96.78542797788288, 96.22120814573114, 94.6930104324477, 91.97130189853266, 87.79049705179486, 78.79835512411633, 77.9932819628124, 76.03539232933146, 72.63201096469382, 71.82906936967146, 70.81705355935539, 67.84979141279243, 66.50814006298097, 65.75486234665703, 64.7130642692824, 61.02496119599056, 60.36822563952716, 59.33767388660661, 59.334904408622855, 54.4388459594585, 54.18942546498574, 160.3185945928617, 447.8524535004806, 551.8165848488179, 137.61264761250783, 237.94247197063683, 164.02311144543407, 445.41160497568734, 200.13195614544532, 1414.9833121092015, 183.92060554075903, 1438.3934633014483, 110.39517211226574, 493.24519024571606, 3235.992565355224, 361.03724122337906, 1756.2207742615594, 1030.4202475920433, 1235.5418058103712, 165.25651490296696, 406.13109839198705, 2447.7209499054006, 312.7356488292237, 8912.816522062813, 1055.2813263543705, 844.2687835656376, 1635.7550148964915, 877.7176562800046, 660.4128625089503, 994.2556382981458, 3821.2006310787783, 784.4695183334261, 358.7239674580976, 3939.9358804342987, 1030.7222562939974, 860.8303428655804, 2117.524598766591, 1250.9812622514567, 2429.5128163530067, 1890.3891045610576, 2096.669178669034, 11960.162847363625, 2276.724315454579, 2034.908914826343, 2064.171487764918, 2832.2719779254817, 1655.5872820480613, 125.92974118676132, 116.42007501186421, 108.9199195229177, 107.01765943509808, 102.59136042494687, 97.64985563606126, 87.9036033295779, 80.8801066960364, 80.57130711479506, 76.65998980381674, 68.39348803529967, 65.71194775343038, 63.75852872769758, 55.44352691934537, 51.43948093525025, 49.7012479541228, 44.972966863631115, 38.79047512277359, 33.69195434379081, 20.70126861083987, 20.34726509196396, 172.75986317239963, 18.56766406384402, 17.246925638349712, 14.86074732167741, 14.04108972399011, 11.634508766325776, 11.144361813249448, 92.37481939408362, 433.7446004854555, 183.82618395906505, 2211.9987447523918, 433.27770101570553, 72.60902257112241, 2097.2357924539583, 2091.516548732554, 1214.1730777815874, 89.46790858284056, 1622.5899754174845, 3184.9288831412387, 777.3329828503901, 1047.6636092779672, 370.1520499933748, 1245.6310281687033, 593.4947952661307, 302.68021892962145, 965.8743952345185, 665.0317733029651, 1280.826801208125, 603.9852346269112, 270.19217176518396, 1093.2048686980909, 491.73846487194623, 931.4307412040275, 1787.249598492211, 1428.4991179116641, 881.3741200814324, 1025.2541777763388, 3572.9152249842355, 977.9106305651663, 4663.932770891116, 7191.392742746642], \"loglift\": [30.0, 29.0, 28.0, 27.0, 26.0, 25.0, 24.0, 23.0, 22.0, 21.0, 20.0, 19.0, 18.0, 17.0, 16.0, 15.0, 14.0, 13.0, 12.0, 11.0, 10.0, 9.0, 8.0, 7.0, 6.0, 5.0, 4.0, 3.0, 2.0, 1.0, 2.8121, 2.7964, 2.7885, 2.7788, 2.7476, 2.7315, 2.728, 2.7205, 2.7184, 2.7122, 2.6744, 2.6695, 2.6561, 2.6485, 2.6418, 2.6256, 2.5797, 2.5672, 2.5529, 2.54, 2.491, 2.4864, 2.4824, 2.422, 2.412, 2.4033, 2.3909, 2.378, 2.3359, 2.2956, 2.2026, 2.1503, 2.1223, 2.0526, 2.0842, 2.1672, 1.92, 2.006, 1.828, 2.1183, 1.78, 1.7296, 1.8282, 1.8393, 1.4914, 1.9191, 1.7965, 2.0607, 1.1435, 1.4678, 1.2299, 1.6066, 1.3772, 1.5957, 1.7843, 0.475, 1.3872, 0.4452, 0.6219, 0.8087, 0.0617, 0.1311, 0.677, 3.236, 3.2358, 3.2355, 3.235, 3.2343, 3.2343, 3.2335, 3.2329, 3.2313, 3.2308, 3.2306, 3.2301, 3.2277, 3.2229, 3.221, 3.219, 3.2166, 3.2007, 3.1995, 3.1936, 3.1625, 3.1607, 3.1602, 3.1567, 3.1305, 3.1304, 3.1261, 3.1186, 3.1175, 3.1152, 3.0999, 3.1079, 3.0964, 3.0776, 3.026, 3.0208, 2.82, 2.7877, 2.8279, 2.9546, 2.5247, 2.7582, 2.8251, 2.3694, 2.3025, 2.3371, 2.6193, 2.1155, 2.3667, 2.7287, 2.8193, 2.3406, 2.5424, 2.7144, 1.3653, 1.7507, 1.7394, 1.9804, 1.846, 2.6814, 2.6843, 2.4852, 2.437, 0.4943, 1.5096, 1.5034, 0.8075, 0.3901, 0.9957, -0.9191, 3.7871, 3.7856, 3.7856, 3.7854, 3.7849, 3.7836, 3.7832, 3.7779, 3.7757, 3.7757, 3.7748, 3.7744, 3.773, 3.7725, 3.7689, 3.7687, 3.764, 3.7569, 3.7541, 3.7419, 3.7388, 3.738, 3.7356, 3.7278, 3.7269, 3.7267, 3.7236, 3.7202, 3.7076, 3.6673, 3.6239, 3.4489, 3.5473, 3.3994, 3.292, 3.2643, 3.5461, 3.5676, 3.2715, 3.2599, 3.3505, 3.1343, 2.9421, 3.4595, 2.9123, 2.6544, 2.8655, 2.8569, 3.2063, 2.7844, 2.4385, 2.79, 2.8621, 2.6732, 2.425, 3.1215, 2.507, 2.1835, 0.1161, 1.9509, 1.6063, 0.2285, 3.5548, 3.5539, 3.5539, 3.5506, 3.548, 3.5473, 3.5467, 3.544, 3.544, 3.5399, 3.5398, 3.5396, 3.5385, 3.5384, 3.5378, 3.5378, 3.5351, 3.5315, 3.5256, 3.5121, 3.5109, 3.5034, 3.4928, 3.491, 3.491, 3.4815, 3.476, 3.4707, 3.468, 3.4652, 3.4388, 3.3328, 3.4333, 3.3503, 3.3274, 3.1752, 3.0235, 3.127, 3.3544, 3.1262, 3.1785, 3.0505, 2.805, 3.1998, 2.3371, 2.4453, 3.1603, 2.3654, 2.9183, 3.1264, 2.9384, 2.7147, 2.8473, 2.7288, 2.9417, 2.4443, 2.7819, 2.7147, 1.995, 2.0952, 2.2374, 2.4139, 1.4622, 1.3249, 1.392, 1.1667, 1.6228, 1.5883, 3.3528, 3.3503, 3.3484, 3.3481, 3.3469, 3.3468, 3.3452, 3.3438, 3.3437, 3.3404, 3.3394, 3.3384, 3.3369, 3.3329, 3.3286, 3.3251, 3.324, 3.3193, 3.3093, 3.3042, 3.3006, 3.2945, 3.2841, 3.2824, 3.2807, 3.2804, 3.2753, 3.2545, 3.2534, 3.2526, 3.154, 3.2451, 3.1649, 3.1833, 3.1415, 3.0627, 2.9736, 2.9292, 3.0133, 2.8512, 2.787, 2.783, 3.032, 2.4518, 2.4801, 2.786, 2.7232, 2.5968, 2.6979, 2.2661, 2.5098, 2.9696, 2.2475, 2.9002, 2.1251, 2.4698, 1.5535, 2.2579, 2.3944, 2.2834, 2.2062, 2.019, 1.5213, 1.4396, 1.9891, 0.9366, 0.6091, 0.9414, 2.0512, 2.3561, 2.3552, 2.3539, 2.3527, 2.3517, 2.3512, 2.3506, 2.3488, 2.3485, 2.3474, 2.3466, 2.3466, 2.3465, 2.3465, 2.3461, 2.346, 2.3459, 2.3451, 2.3449, 2.3449, 2.3444, 2.3438, 2.3434, 2.3428, 2.3427, 2.3421, 2.3418, 2.3415, 2.3412, 2.3411, 2.3391, 2.3386, 2.3112, 2.319, 2.3262, 2.2833, 2.1893, 2.1943, 2.1867, 2.1559, 2.2293, 2.0764, 2.2311, 2.256, 2.0865, 2.0863, 2.2155, 2.23, 2.2501, 2.1069, 1.799, 2.1551, 1.9219, 1.8041, 1.9279, 1.8189, 2.1631, 1.9023, 1.7442, 1.7268, 1.0008, 1.8338, 1.8225, 1.6434, 1.3276, 1.4114, 1.6493, 1.9503, 1.6045, 1.5295, 1.1089, 1.2459, 1.5059, 0.8128, 1.4047, 1.1396, 0.2587, 0.6397, 0.65, 0.776, 0.3938, 1.1692, 0.7908, 0.9505, 0.7153, 0.6204, 2.3914, 2.3911, 2.3902, 2.3898, 2.3888, 2.3882, 2.3882, 2.3877, 2.3874, 2.3867, 2.3863, 2.3854, 2.3842, 2.384, 2.384, 2.3836, 2.3828, 2.3824, 2.3823, 2.3814, 2.3811, 2.3808, 2.3799, 2.3795, 2.3794, 2.3794, 2.3792, 2.379, 2.3788, 2.3776, 2.3764, 2.3482, 2.367, 2.3719, 2.3476, 2.3131, 2.3193, 2.2415, 2.3152, 2.2774, 2.2033, 2.1492, 2.2319, 2.2224, 2.3038, 2.3195, 2.2275, 2.2002, 2.152, 2.0683, 2.0699, 2.2358, 2.2311, 1.8815, 2.0284, 1.9571, 2.1056, 2.024, 2.1224, 1.4601, 1.7306, 1.8408, 1.3602, 1.5497, 2.1181, 1.6235, 1.857, 1.451, 1.2687, 0.7721, 0.9489, 0.9949, 1.2273, 1.3437, 1.1285, -0.353, 4.8041, 4.804, 4.8027, 4.8019, 4.8017, 4.8016, 4.8009, 4.7998, 4.7984, 4.7952, 4.7944, 4.7944, 4.7944, 4.7942, 4.7937, 4.7918, 4.7897, 4.7886, 4.7885, 4.7882, 4.7882, 4.7834, 4.7824, 4.772, 4.7649, 4.7641, 4.7639, 4.7587, 4.7566, 4.734, 4.6017, 4.4777, 4.4209, 4.412, 4.4237, 4.4973, 4.3847, 4.3215, 4.3263, 3.899, 4.5598, 4.0234, 4.1225, 3.7735, 4.229, 3.5712, 3.4668, 4.309, 4.3385, 2.5357, 3.6523, 3.6513, 3.6512, 3.6497, 3.6485, 3.6482, 3.6479, 3.646, 3.6445, 3.6434, 3.6428, 3.6425, 3.6424, 3.6423, 3.6422, 3.6415, 3.6411, 3.6411, 3.6409, 3.6403, 3.6398, 3.6387, 3.638, 3.6332, 3.6321, 3.6306, 3.6277, 3.6264, 3.626, 3.6216, 3.6182, 3.6141, 3.5686, 3.4956, 3.1124, 3.3319, 3.2403, 3.0967, 3.3498, 3.1614, 3.3377, 3.4318, 3.2517, 3.5111, 3.5105, 2.7268, 2.3497, 2.8513, 3.1516, 2.9963, 2.857, 3.0737, 2.9872, 3.1459, 2.4633, 2.8507, 2.3509, 2.4338, 3.0358, 2.5392, 2.8251, 2.0592, 2.0345, 2.3594, 2.1988, 0.9531, 2.2252, 1.9002, 1.8103, 0.9644, 2.0238, 2.0223, 2.0206, 2.0202, 2.0192, 2.0181, 2.018, 2.0177, 2.0171, 2.0169, 2.0162, 2.0161, 2.0161, 2.0158, 2.0157, 2.0157, 2.0155, 2.0155, 2.0152, 2.0152, 2.0144, 2.0142, 2.014, 2.0135, 2.0134, 2.0128, 2.0124, 2.0124, 2.0122, 2.0121, 2.0046, 2.0112, 1.9912, 1.9996, 2.0081, 1.9974, 1.9495, 1.9171, 1.9888, 1.9296, 1.9891, 1.8594, 1.8722, 1.9764, 1.8973, 1.9358, 1.872, 1.8773, 1.9396, 1.9321, 1.8116, 1.8488, 1.7012, 1.8206, 1.565, 1.7876, 1.8489, 1.6812, 1.9233, 1.6903, 1.7301, 1.4361, 1.8589, 1.6055, 1.6911, 0.9881, 1.6065, 1.265, 0.7398, 1.4454, 0.8235, 1.1588, 0.0826, 0.6484, 1.1966, 0.4603, 0.7205, 0.5227, 0.3293, 0.7539, -0.3014, -0.8364, 0.2886, 0.4379, 3.7689, 3.7662, 3.7639, 3.7627, 3.7615, 3.761, 3.7597, 3.7594, 3.7585, 3.7584, 3.7572, 3.7568, 3.756, 3.7542, 3.7531, 3.7522, 3.7506, 3.7436, 3.7415, 3.7395, 3.7373, 3.737, 3.7351, 3.7305, 3.7253, 3.7243, 3.7237, 3.7236, 3.7204, 3.7168, 3.6986, 3.7018, 3.6348, 3.68, 3.5953, 3.5288, 3.6134, 3.5135, 3.607, 3.573, 3.1607, 3.6321, 3.303, 3.2336, 2.9034, 3.1665, 3.2934, 2.8639, 2.769, 3.3511, 2.6646, 3.105, 2.825, 2.6382, 3.116, 3.1175, 3.0392, 2.5779, 2.6374, 2.6779, 2.5083, 1.8671, 0.6395, 2.6562, 1.7678, 0.2543, -0.2459, 3.6562, 3.6544, 3.6535, 3.6523, 3.6509, 3.6504, 3.6495, 3.6489, 3.648, 3.6477, 3.646, 3.6452, 3.6431, 3.6428, 3.6428, 3.6413, 3.6405, 3.6388, 3.6373, 3.6336, 3.6291, 3.6228, 3.6167, 3.6162, 3.6146, 3.6145, 3.614, 3.6096, 3.6081, 3.6071, 3.5578, 3.5883, 3.5357, 3.5888, 3.5189, 3.5492, 3.3403, 3.4337, 3.1675, 3.2214, 3.0887, 3.0488, 3.1987, 3.327, 2.9834, 3.4509, 3.1265, 3.1032, 3.2341, 2.7458, 3.0718, 3.1325, 3.285, 2.9065, 2.4673, 2.2115, 2.9725, 2.6292, 2.3184, 2.1532, 2.5762, 2.8516, 2.2116, 1.7442, 2.6697, 2.4437, 2.4385, 2.4382, 2.4381, 2.4365, 2.4365, 2.4365, 2.4361, 2.4359, 2.4342, 2.4332, 2.4299, 2.4289, 2.4287, 2.4279, 2.4277, 2.4275, 2.4272, 2.4268, 2.4265, 2.4263, 2.4262, 2.4256, 2.4256, 2.4252, 2.4246, 2.4245, 2.4243, 2.4242, 2.4241, 2.4239, 2.4208, 2.3722, 2.3593, 2.4028, 2.3357, 2.2963, 2.2109, 2.3433, 2.3828, 2.103, 2.3363, 2.1697, 2.1679, 2.3227, 1.9791, 2.2028, 2.0247, 1.9186, 1.9252, 2.0638, 1.9103, 1.8618, 1.6963, 2.1274, 1.6223, 1.8172, 1.589, 1.6911, 1.8838, 1.4226, 1.3786, 1.5791, 1.2637, 1.842, 1.6394, 1.9409, 1.8027, 1.4788, 1.1327, 0.8184, 1.4545, 1.4445, 1.3705, 1.2389, 0.8951, 1.0455, 0.7507, 1.0952, -0.0874, 0.0087, 0.5171, 0.952, 2.1185, 2.1182, 2.1182, 2.1181, 2.118, 2.1169, 2.1148, 2.1143, 2.1142, 2.1138, 2.1135, 2.1126, 2.1125, 2.1124, 2.1123, 2.1108, 2.1105, 2.1103, 2.1099, 2.1091, 2.1083, 2.1081, 2.1078, 2.1076, 2.1076, 2.1074, 2.1071, 2.107, 2.1067, 2.1066, 2.0995, 2.102, 2.0595, 2.1058, 2.0451, 2.0646, 2.0683, 2.0709, 2.0703, 2.0297, 2.0439, 1.9831, 2.0477, 2.0417, 1.8664, 1.9077, 1.9729, 1.848, 1.7544, 1.8604, 1.8679, 1.7381, 1.8459, 1.5888, 1.6991, 1.6005, 1.3708, 0.9373, 0.8407, 1.3572, 1.244, 1.3243, 0.3078, -0.4796, 1.188, 3.964, 3.9638, 3.9619, 3.9612, 3.957, 3.9565, 3.9554, 3.9547, 3.9534, 3.9533, 3.9521, 3.952, 3.9517, 3.9511, 3.9507, 3.9506, 3.9502, 3.9498, 3.9497, 3.9495, 3.9492, 3.9492, 3.9487, 3.9481, 3.9471, 3.947, 3.947, 3.9469, 3.9469, 3.9467, 3.9245, 3.9338, 3.8453, 3.6301, 3.8025, 3.6807, 3.5942, 3.1821, 3.4445, 3.6263, 3.2532, 3.3456, 3.009, 3.5239, 2.7277, 3.0143, 3.8326, 3.2344, 3.6811, 2.5563, 3.5281, 3.1702, 2.3216, 2.7771, 2.0274, 2.7298, 2.1294, 2.6731, 2.98, 1.7528, 2.6066, 1.2041, 3.9861, 3.9858, 3.9838, 3.9836, 3.9832, 3.9827, 3.9812, 3.9743, 3.974, 3.9734, 3.9727, 3.9723, 3.9717, 3.9701, 3.9698, 3.9679, 3.9621, 3.94, 3.9306, 3.9252, 3.9206, 3.9074, 3.8604, 3.8391, 3.8225, 3.7941, 3.7094, 3.6871, 3.6503, 3.6477, 3.6071, 3.6023, 3.4557, 3.4961, 3.5966, 3.4003, 3.4321, 3.3783, 3.4867, 2.4944, 3.0321, 2.4899, 3.386, 3.4176, 3.3641, 2.9487, 2.6978, 2.8338, 2.7407, 0.7288, -0.357, 2.7974, 2.7973, 2.7972, 2.7968, 2.7964, 2.7943, 2.7942, 2.7941, 2.7941, 2.7939, 2.7929, 2.7915, 2.791, 2.7909, 2.7908, 2.7905, 2.7901, 2.79, 2.7891, 2.7882, 2.7882, 2.7877, 2.7876, 2.7871, 2.7858, 2.7854, 2.7835, 2.7833, 2.7826, 2.7824, 2.7571, 2.7311, 2.7072, 2.7733, 2.7471, 2.689, 2.6766, 2.7009, 2.5259, 2.4044, 2.4582, 2.4404, 2.5297, 2.5814, 2.4395, 2.508, 2.6645, 2.2766, 2.4182, 2.4621, 2.2645, 2.4203, 2.3509, 2.0757, 2.1378, 2.1177, 2.2591, 1.9737, 1.5684, 1.7213, 1.468, 1.6997, 1.5153, 1.5823, 2.1715, 0.1565, 1.5699, 0.3801, 1.6821, 4.2588, 4.2526, 4.2519, 4.2506, 4.2503, 4.2495, 4.2485, 4.2459, 4.244, 4.2435, 4.2431, 4.2342, 4.2312, 4.2289, 4.2255, 4.225, 4.2246, 4.2221, 4.222, 4.2005, 4.198, 4.1789, 4.1788, 4.1436, 3.9396, 3.9371, 3.9156, 3.9024, 3.8508, 3.8398, 3.7312, 3.6991, 3.762, 3.2201, 3.7269, 3.4446, 3.1403, 3.1782, 3.0339, 2.7726, 2.6353, 2.8397, 3.5353, 3.2174, 3.4043, 2.4536, 3.1894, 3.4095, 2.4731, 1.7429, 3.248, 2.6882, 2.5608, 2.5603, 2.5581, 2.5576, 2.5572, 2.5561, 2.5559, 2.5552, 2.555, 2.5547, 2.5547, 2.5545, 2.5542, 2.5537, 2.5525, 2.5524, 2.552, 2.5514, 2.5513, 2.5511, 2.5505, 2.5502, 2.5499, 2.5494, 2.5489, 2.5487, 2.5485, 2.5485, 2.547, 2.5469, 2.537, 2.5156, 2.4896, 2.5301, 2.5134, 2.5212, 2.4805, 2.5096, 2.426, 2.5091, 2.3794, 2.5282, 2.4383, 2.3078, 2.4561, 2.3355, 2.3653, 2.3501, 2.4992, 2.3739, 2.1399, 2.4002, 1.8433, 2.1742, 2.1583, 2.013, 2.1198, 2.1822, 2.0704, 1.7269, 2.1054, 2.3149, 1.6009, 1.9903, 2.0254, 1.5525, 1.7367, 1.399, 1.5041, 1.4387, 0.4032, 1.2541, 1.3197, 1.2278, 0.8777, 1.345, 3.9962, 3.9955, 3.995, 3.9948, 3.9944, 3.994, 3.9929, 3.9919, 3.9919, 3.9913, 3.9897, 3.9892, 3.9887, 3.9864, 3.9851, 3.9844, 3.9824, 3.9789, 3.9751, 3.9567, 3.9559, 3.9541, 3.9512, 3.9471, 3.9371, 3.9337, 3.9185, 3.9146, 3.9029, 3.8701, 3.8543, 3.7739, 3.7495, 3.8484, 3.6243, 3.5878, 3.5739, 3.8167, 3.5104, 3.4176, 3.5723, 3.413, 3.5853, 3.3343, 3.4366, 3.5441, 3.0776, 3.1847, 2.9472, 3.1756, 3.4687, 2.7633, 3.1173, 2.7812, 2.3677, 2.4527, 2.6302, 2.5067, 1.5408, 2.3681, 0.9352, 0.3147], \"logprob\": [30.0, 29.0, 28.0, 27.0, 26.0, 25.0, 24.0, 23.0, 22.0, 21.0, 20.0, 19.0, 18.0, 17.0, 16.0, 15.0, 14.0, 13.0, 12.0, 11.0, 10.0, 9.0, 8.0, 7.0, 6.0, 5.0, 4.0, 3.0, 2.0, 1.0, -4.5977, -7.3441, -7.7321, -8.0692, -5.3664, -6.1715, -9.0016, -9.09, -1.5669, -4.5076, -6.0116, -2.1597, -6.2881, -7.4379, -7.3457, -7.1169, -7.8259, -7.5331, -7.3628, -7.6694, -5.3236, -5.6245, -7.5429, -7.1058, -9.0477, -6.9068, -7.6453, -7.7815, -7.0943, -8.0621, -3.5065, -4.213, -4.8894, -4.9903, -5.2621, -5.9415, -4.8732, -5.5134, -4.9275, -6.0506, -4.8873, -4.7634, -5.3681, -5.4196, -4.5957, -5.6963, -5.4631, -6.0597, -4.1607, -4.9215, -4.5133, -5.2145, -5.0069, -5.3418, -5.5592, -4.6145, -5.2795, -4.8609, -5.0766, -5.2678, -5.179, -5.1952, -5.2919, -5.5381, -5.5882, -5.665, -5.7681, -5.8835, -5.8853, -6.0163, -6.0894, -6.2963, -6.3442, -6.3706, -6.4128, -6.6255, -6.9539, -7.0601, -7.1565, -7.2668, -7.7853, -7.558, -7.9544, -5.5686, -6.2031, -8.5102, -6.4174, -6.9099, -6.6552, -6.0148, -6.2661, -5.2877, -5.933, -2.1572, -5.4992, -5.8513, -5.5888, -5.2349, -5.2158, -4.2022, -4.1688, -4.7361, -5.4948, -3.7112, -4.728, -5.0826, -3.6439, -3.7011, -3.9065, -4.7057, -3.5372, -4.1989, -5.0459, -5.2745, -4.4794, -4.9231, -5.2235, -3.7243, -4.3679, -4.4648, -4.7119, -4.7196, -5.2942, -5.3671, -5.2996, -5.284, -4.832, -5.0939, -5.0929, -5.1289, -5.1676, -5.2152, -5.2044, -3.7819, -4.54, -4.5459, -2.6573, -4.7745, -5.0963, -5.1718, -5.8864, -6.0784, -6.0728, -6.1481, -6.1822, -6.2776, -6.3071, -6.5169, -6.5249, -6.7421, -7.0023, -7.0892, -7.4005, -7.4669, -7.4836, -7.5306, -6.28, -7.6872, -7.6916, -7.7416, -7.7947, -7.9711, -6.5695, -5.7711, -3.3493, -4.9937, -3.8447, -2.6152, -3.132, -5.8333, -6.1984, -4.2166, -4.1883, -4.9387, -3.8402, -2.9084, -5.5991, -4.29, -3.9523, -4.4795, -4.5288, -5.3258, -4.9869, -4.7304, -5.0989, -5.1951, -5.0416, -4.8293, -5.4524, -5.0993, -4.9968, -4.6794, -5.0606, -5.0473, -5.0122, -5.1455, -5.3545, -5.357, -5.865, -6.1451, -6.2122, -6.2678, -6.4667, -6.4669, -6.7132, -6.7203, -6.7308, -6.7892, -6.7925, -6.8213, -6.8217, -5.5984, -7.0888, -7.286, -7.635, -7.6617, -7.8093, -7.9913, -8.0187, -8.0191, -8.1549, -6.6031, -8.2908, -8.3221, -7.3921, -6.7087, -3.2785, -6.8431, -5.4406, -5.1428, -3.1196, -2.3028, -3.6385, -6.1091, -4.0818, -4.9345, -4.6088, -3.7779, -5.5827, -2.4583, -3.1123, -5.5187, -2.9388, -4.772, -5.4313, -5.0592, -4.5141, -5.0164, -4.779, -5.2678, -4.3965, -5.0418, -5.0129, -4.3026, -4.4415, -4.7237, -4.9136, -4.4615, -4.581, -4.9003, -4.957, -5.0556, -5.0548, -5.3443, -5.8393, -6.0916, -6.1315, -6.259, -6.2745, -6.4246, -6.5336, -6.5429, -6.7698, -6.8313, -6.8864, -6.9683, -7.1547, -7.3225, -7.4414, -7.4741, -7.6118, -7.8535, -6.8662, -6.5019, -8.1325, -8.2915, -8.3155, -6.7966, -8.3436, -8.4104, -5.7584, -6.4856, -6.8601, -2.0867, -6.9415, -5.5042, -6.0652, -6.1891, -5.4637, -4.7618, -4.452, -5.1638, -4.1838, -4.1531, -4.2195, -5.6637, -3.7983, -4.3476, -5.2923, -5.1104, -4.7739, -5.1025, -4.1642, -4.7652, -5.8501, -4.498, -5.7724, -4.4905, -5.0576, -3.7525, -4.889, -5.0761, -4.9762, -4.9643, -4.8802, -4.4921, -4.6841, -5.0814, -4.8005, -4.7172, -5.0561, -5.2183, -6.416, -6.6043, -6.8418, -7.0081, -7.1332, -7.1807, -7.2445, -7.4222, -7.4478, -7.1082, -7.594, -7.5928, -7.6002, -7.602, -7.3403, -7.6412, -7.644, -7.699, -7.713, -7.7149, -7.7465, -7.7829, -7.8028, -7.8423, -7.8453, -7.8796, -7.8968, -7.9127, -7.9263, -7.9335, -7.0113, -7.6058, -5.9285, -6.8694, -7.3637, -6.6132, -5.7932, -6.0105, -6.0889, -5.7867, -6.6405, -5.3118, -6.7961, -7.0534, -6.0269, -6.1025, -6.8909, -6.97, -7.0815, -6.3433, -4.8463, -6.6025, -5.5745, -5.1656, -5.7233, -5.3548, -6.704, -5.7806, -5.3087, -5.4164, -3.7946, -5.8554, -5.8385, -5.5252, -5.0204, -5.185, -5.6943, -6.2371, -5.742, -5.6811, -5.1638, -5.3811, -5.7043, -5.0378, -5.6669, -5.5276, -5.0676, -5.2661, -5.2753, -5.4676, -5.3494, -5.6311, -5.5534, -5.6532, -5.681, -5.6888, -6.1682, -6.2632, -6.4671, -6.556, -6.7315, -6.8318, -6.837, -6.8997, -6.9436, -7.0403, -7.0803, -7.1899, -7.3074, -7.2914, -7.3269, -7.3571, -7.4283, -7.4232, -7.4736, -7.5398, -7.5627, -7.5834, -7.649, -7.6748, -7.6763, -5.8061, -7.6933, -7.7072, -7.7198, -7.788, -7.404, -5.4456, -6.7733, -7.2385, -6.199, -5.1837, -5.8784, -4.7199, -6.1709, -5.6713, -4.6379, -4.0244, -5.1354, -5.0172, -6.2652, -6.501, -5.3597, -5.5821, -5.1677, -4.6478, -4.7488, -6.0439, -6.0148, -4.0874, -5.0842, -4.8288, -5.5156, -5.1789, -5.6828, -3.8459, -4.8028, -5.0942, -4.3489, -4.8231, -5.8352, -5.1143, -5.5004, -5.1921, -5.0406, -4.5867, -4.7943, -4.9287, -5.1055, -5.4572, -5.4381, -5.4425, -2.8873, -2.9836, -3.5843, -3.8222, -3.8916, -3.9075, -4.0704, -4.2847, -4.4986, -4.8643, -4.9402, -4.9432, -4.945, -4.9633, -5.0024, -5.1562, -5.2979, -5.3642, -5.3702, -5.3845, -5.3879, -5.6316, -5.6781, -6.0524, -6.2475, -6.2683, -6.2736, -4.6278, -6.4388, -6.8298, -4.9282, -3.3557, -2.8067, -3.4007, -3.7727, -4.288, -3.7189, -3.4232, -3.7306, -2.8953, -5.0134, -4.2639, -4.4706, -4.3293, -4.7761, -4.3684, -4.5855, -4.8525, -4.8718, -4.8124, -5.1854, -5.4145, -5.4337, -5.6638, -5.814, -5.8536, -5.8703, -6.0741, -6.2045, -6.2915, -6.3306, -6.3566, -6.3598, -6.3678, -6.3765, -6.4207, -6.4447, -6.4493, -6.4576, -6.4971, -6.5235, -6.5896, -6.625, -6.853, -6.8988, -6.9578, -7.0631, -7.1081, -7.1225, -7.2575, -5.8508, -5.9044, -5.9476, -5.5036, -2.5861, -4.5859, -3.9345, -3.1956, -4.8143, -4.1368, -5.1176, -5.6231, -4.9742, -5.9687, -5.9817, -3.7274, -2.9545, -4.3126, -5.0848, -4.7329, -4.4174, -5.0433, -4.9755, -5.3338, -4.4717, -4.9993, -4.422, -4.5776, -5.3194, -4.9802, -5.2106, -4.7412, -4.8062, -5.0366, -5.0366, -4.6995, -5.0601, -4.9873, -5.1332, -5.1593, -5.6581, -6.375, -6.8493, -6.9274, -7.1085, -7.272, -7.2821, -7.3215, -7.3988, -7.4224, -7.5115, -7.5153, -6.1803, -7.5464, -7.5583, -7.4453, -7.5843, -7.5861, -7.6088, -7.6181, -7.6935, -7.7046, -7.7266, -7.7734, -7.7818, -7.8298, -7.8576, -7.8603, -7.8759, -7.886, -2.0029, -6.9114, -5.4026, -6.4855, -7.3475, -6.8987, -5.6293, -4.7082, -7.0, -5.723, -7.1112, -4.9136, -5.2293, -6.9049, -5.7478, -6.4086, -5.8161, -6.0109, -6.6483, -6.6531, -5.6527, -5.9803, -4.9321, -5.9212, -4.3804, -5.8346, -6.2449, -5.4449, -6.6899, -5.7726, -5.9673, -5.051, -6.4708, -5.8504, -6.0996, -4.5696, -5.9304, -5.5725, -5.0257, -5.833, -5.2666, -5.608, -4.7129, -5.1825, -5.6859, -5.344, -5.5174, -5.5644, -5.5959, -5.6917, -5.5586, -5.5334, -5.6479, -5.6648, -4.7744, -5.3652, -5.6897, -5.8185, -5.9435, -5.9877, -6.0951, -6.1158, -6.1899, -6.1944, -6.2763, -6.3031, -6.3528, -6.4604, -6.5218, -6.5658, -6.6412, -6.9281, -5.069, -7.0607, -7.1272, -7.1369, -7.1904, -7.3082, -7.4298, -7.4508, -7.462, -7.465, -7.5309, -7.5998, -3.8543, -6.3804, -4.9192, -6.2414, -5.1857, -4.4627, -5.7841, -4.664, -5.7665, -5.4972, -2.198, -6.1249, -4.3904, -4.2135, -3.1867, -4.4141, -4.9599, -3.5589, -3.5752, -5.3914, -3.8693, -4.8886, -4.3785, -4.0285, -5.011, -5.1436, -5.2051, -4.8179, -4.9618, -5.0287, -5.0633, -4.8002, -4.45, -5.2574, -5.1027, -5.072, -5.0413, -5.0407, -5.4151, -5.5512, -5.7296, -5.8856, -5.9391, -6.0335, -6.089, -6.1635, -6.1923, -6.3216, -6.3775, -6.5076, -6.5244, -6.5263, -6.6097, -6.6544, -6.7354, -6.8056, -6.9558, -7.1175, -7.3041, -7.4605, -7.47, -7.5074, -7.5108, -7.5214, -7.6154, -7.6447, -7.6631, -3.4863, -6.4739, -4.5822, -6.7974, -5.1773, -6.2242, -3.6717, -5.3166, -2.7755, -3.7738, -3.4322, -3.1749, -4.3342, -5.2086, -3.5524, -5.8606, -4.5801, -4.8656, -5.2748, -4.0754, -4.9579, -5.1726, -5.604, -4.8715, -4.3489, -3.9994, -5.1818, -4.7426, -4.4675, -4.6654, -5.0142, -5.2826, -5.1047, -5.0933, -5.2665, -5.2569, -6.4707, -6.5198, -6.542, -6.6916, -6.8027, -6.8156, -6.8592, -6.8995, -7.0961, -7.0703, -6.6825, -7.5614, -7.5763, -7.6305, -7.6375, -7.6539, -7.6706, -7.6944, -7.7144, -7.7271, -7.7309, -7.7667, -7.7448, -6.5319, -7.8213, -7.8301, -7.8378, -7.8416, -7.8499, -7.8608, -6.8083, -6.3097, -6.2829, -7.4916, -6.524, -6.2768, -5.3265, -6.861, -7.3531, -5.0932, -7.0337, -5.8463, -5.8404, -6.9626, -4.8699, -6.3169, -5.3096, -4.7832, -4.8429, -5.5754, -5.0094, -5.0924, -4.5454, -6.1983, -4.8504, -5.3792, -4.9256, -5.2002, -5.6346, -4.701, -4.6188, -5.0276, -4.4735, -5.6948, -5.3858, -5.9092, -5.7631, -5.4155, -5.1174, -4.8342, -5.4659, -5.4702, -5.4354, -5.3881, -5.1814, -5.2874, -5.1729, -5.3351, -5.177, -5.2954, -5.3888, -5.4321, -4.5738, -5.0119, -5.0326, -5.1542, -5.2514, -5.9743, -6.6349, -6.7672, -6.7813, -6.8538, -6.9087, -7.0704, -7.0861, -7.0973, -3.2659, -7.3199, -7.3359, -3.5559, -7.4183, -7.5052, -7.582, -7.6014, -7.6298, -7.642, -7.6445, -7.6602, -7.6926, -7.6991, -7.7213, -6.2237, -3.0887, -5.0673, -2.6375, -7.3747, -3.555, -5.2513, -5.7412, -5.905, -6.418, -5.524, -6.124, -5.1952, -6.2629, -6.2273, -4.3378, -4.7972, -5.8762, -4.9305, -4.8112, -5.5292, -5.6413, -5.1495, -5.57, -4.9379, -5.2582, -5.0983, -5.1815, -4.7998, -4.9249, -5.4035, -5.4523, -5.4925, -5.2499, -5.275, -5.5049, -4.2273, -4.3102, -4.8672, -4.9977, -5.607, -5.6533, -5.7582, -5.821, -5.928, -5.9403, -6.028, -6.0359, -6.0564, -6.0928, -6.1167, -6.1284, -6.1037, -6.1772, -6.1522, -6.1936, -6.2105, -6.2115, -6.2395, -6.2759, -6.3189, -6.3344, -6.3353, -6.3412, -6.3283, -6.348, -4.8382, -6.1211, -4.8281, -3.2257, -5.3955, -4.8038, -4.5245, -2.951, -4.371, -5.1061, -3.8698, -4.2452, -3.2289, -4.8481, -3.3594, -4.325, -5.9001, -5.1386, -5.7317, -4.5555, -5.5805, -5.2861, -4.561, -4.968, -4.6655, -5.1161, -4.8142, -5.1401, -5.3557, -5.064, -5.2722, -5.3316, -4.6638, -4.7491, -5.1569, -5.1873, -5.2462, -5.3096, -5.5074, -6.0925, -6.11, -6.1485, -6.1945, -6.2144, -6.2471, -6.3328, -6.3499, -6.439, -6.6786, -7.2742, -5.703, -2.2869, -7.6124, -7.7933, -6.3794, -5.627, -4.5141, -7.7763, -6.6103, -4.889, -4.8522, -2.4186, -2.6478, -2.5804, -2.3487, -3.1331, -4.9653, -4.1029, -4.2813, -4.3495, -4.7472, -2.8117, -4.1773, -3.2533, -5.2188, -5.2705, -5.2054, -4.6581, -4.7485, -4.9311, -5.1545, -5.1948, -5.1861, -5.3474, -5.3623, -5.4105, -5.5865, -5.7055, -6.2087, -5.0282, -6.2415, -6.247, -6.2781, -6.439, -6.6324, -6.682, -6.6988, -6.7129, -6.7392, -6.7895, -6.8024, -6.8907, -6.9681, -6.9709, -7.01, -7.0229, -7.0592, -7.158, -7.193, -7.3143, -7.3264, -7.3693, -7.3838, -5.5163, -4.6099, -3.9056, -6.9351, -6.0984, -4.9151, -4.8268, -5.8767, -4.7239, -3.8103, -4.2516, -4.2132, -4.9406, -5.4136, -4.5724, -5.1145, -6.0082, -4.0705, -4.829, -5.182, -4.366, -5.2181, -5.0493, -4.5906, -4.8164, -4.7964, -5.1112, -4.7047, -4.1972, -4.7242, -4.5983, -4.7874, -4.7084, -4.8018, -5.1164, -4.6726, -5.0363, -4.8606, -5.102, -2.5382, -4.9895, -5.0878, -5.2537, -5.2812, -5.3691, -5.4676, -5.677, -5.8125, -5.8465, -5.8698, -6.3085, -6.4239, -6.5035, -6.609, -6.6247, -6.635, -6.7066, -6.7105, -2.239, -5.9758, -5.7102, -7.4983, -5.8102, -4.6201, -5.8714, -5.7281, -5.6006, -4.5322, -4.0391, -2.2315, -2.5985, -4.5417, -2.6108, -5.0234, -4.4238, -3.9564, -4.0659, -3.7502, -3.304, -3.2899, -3.7665, -4.9637, -4.49, -5.0493, -4.1498, -4.861, -5.1073, -4.4644, -4.5664, -5.0977, -5.0505, -6.0928, -6.2248, -6.6388, -6.7079, -6.7723, -6.9065, -6.9279, -7.015, -7.0355, -7.0575, -7.0634, -7.0796, -7.1091, -7.1561, -7.2654, -7.2758, -7.3015, -7.3479, -7.3592, -7.3736, -7.417, -7.4372, -7.4489, -7.4654, -7.5246, -7.5356, -7.5531, -7.5531, -7.6407, -7.6454, -6.5706, -5.5647, -5.3819, -6.7303, -6.1993, -6.5636, -5.6053, -6.3762, -4.5039, -6.4611, -4.534, -6.9525, -5.5454, -3.7949, -5.8397, -4.3784, -4.8817, -4.7154, -6.5781, -5.8042, -4.242, -6.0392, -3.2463, -5.0491, -5.288, -4.7719, -5.2876, -5.5097, -5.2123, -4.2096, -5.4143, -5.9874, -4.3049, -5.2565, -5.4015, -4.9742, -5.3164, -4.9903, -5.1361, -5.098, -4.3922, -5.2002, -5.2469, -5.3245, -5.3583, -5.4279, -5.3529, -5.432, -5.4992, -5.517, -5.5596, -5.6094, -5.7157, -5.7999, -5.8038, -5.8541, -5.9698, -6.0103, -6.041, -6.183, -6.2593, -6.2943, -6.3963, -6.5477, -6.6924, -7.1978, -7.2159, -5.0788, -7.3122, -7.3901, -7.549, -7.6091, -7.8123, -7.8592, -5.756, -4.2423, -5.1165, -2.7092, -4.3639, -6.0513, -2.9121, -2.9514, -3.509, -5.8742, -3.2826, -2.701, -3.9566, -3.8175, -4.6856, -3.7231, -4.3622, -4.928, -4.2342, -4.5002, -4.0823, -4.6056, -5.1169, -4.4246, -4.8695, -4.5668, -4.3287, -4.4676, -4.7731, -4.7454, -4.4629, -4.9313, -4.8019, -4.9894]}, \"token.table\": {\"Topic\": [2, 16, 6, 12, 12, 9, 18, 2, 9, 2, 7, 10, 11, 2, 11, 17, 19, 1, 11, 4, 1, 19, 1, 4, 7, 6, 2, 4, 5, 7, 13, 15, 16, 3, 4, 3, 4, 7, 9, 10, 13, 17, 20, 13, 10, 6, 1, 7, 12, 13, 19, 20, 13, 1, 5, 13, 14, 17, 16, 3, 5, 9, 6, 1, 10, 12, 17, 19, 9, 6, 13, 17, 8, 1, 9, 6, 10, 14, 17, 1, 2, 14, 15, 18, 6, 2, 5, 13, 1, 1, 2, 3, 4, 6, 10, 11, 14, 16, 17, 20, 12, 1, 2, 4, 5, 6, 7, 9, 11, 13, 14, 16, 17, 19, 1, 4, 10, 15, 19, 15, 3, 6, 7, 8, 10, 13, 14, 16, 17, 18, 20, 2, 10, 2, 10, 14, 13, 3, 12, 14, 17, 2, 5, 6, 7, 10, 13, 14, 20, 4, 2, 3, 17, 10, 10, 18, 10, 1, 3, 6, 7, 10, 13, 16, 17, 19, 4, 6, 7, 9, 10, 14, 15, 19, 20, 1, 3, 4, 5, 7, 1, 3, 4, 5, 7, 12, 13, 14, 19, 13, 19, 18, 17, 7, 15, 1, 2, 5, 6, 7, 10, 11, 12, 13, 14, 17, 19, 20, 6, 7, 13, 3, 7, 12, 18, 15, 1, 2, 3, 4, 5, 9, 10, 13, 14, 17, 19, 1, 2, 6, 10, 12, 13, 14, 17, 1, 2, 3, 4, 5, 6, 7, 9, 10, 11, 12, 13, 14, 15, 16, 17, 18, 19, 6, 9, 2, 3, 5, 6, 10, 11, 12, 13, 14, 15, 17, 20, 5, 2, 6, 15, 10, 11, 12, 1, 6, 7, 11, 13, 17, 4, 6, 1, 6, 13, 14, 17, 18, 2, 10, 14, 2, 14, 15, 3, 7, 10, 11, 12, 14, 15, 18, 19, 5, 4, 2, 2, 6, 10, 14, 17, 19, 6, 10, 12, 14, 18, 19, 11, 4, 7, 9, 10, 12, 14, 15, 16, 17, 19, 1, 5, 6, 7, 10, 16, 18, 19, 20, 5, 16, 20, 14, 15, 2, 4, 16, 16, 1, 4, 6, 7, 9, 10, 11, 12, 14, 16, 17, 19, 3, 8, 2, 10, 14, 15, 9, 17, 2, 4, 5, 7, 10, 11, 15, 19, 3, 7, 9, 19, 14, 15, 12, 17, 20, 11, 17, 20, 9, 17, 3, 5, 6, 7, 9, 10, 12, 13, 19, 3, 4, 7, 10, 13, 16, 2, 5, 6, 10, 12, 17, 2, 3, 5, 6, 10, 13, 14, 15, 17, 10, 17, 20, 5, 11, 12, 17, 19, 6, 10, 14, 18, 19, 1, 3, 4, 5, 6, 7, 10, 13, 16, 17, 18, 20, 3, 10, 14, 16, 17, 20, 9, 11, 12, 13, 14, 15, 16, 17, 18, 1, 2, 4, 6, 7, 10, 12, 13, 14, 15, 17, 19, 5, 1, 5, 7, 9, 10, 13, 15, 17, 19, 20, 1, 7, 9, 10, 13, 19, 10, 19, 10, 11, 13, 19, 7, 2, 5, 7, 10, 17, 20, 11, 1, 2, 4, 6, 7, 8, 10, 11, 12, 14, 17, 19, 2, 10, 4, 6, 7, 10, 11, 13, 14, 17, 6, 7, 13, 14, 17, 19, 20, 2, 3, 5, 7, 14, 15, 10, 14, 20, 14, 11, 14, 17, 17, 15, 15, 2, 12, 14, 1, 7, 8, 12, 16, 17, 18, 19, 3, 6, 10, 13, 14, 3, 6, 10, 11, 14, 15, 17, 10, 12, 13, 14, 17, 13, 14, 1, 2, 3, 5, 6, 7, 14, 12, 14, 8, 1, 3, 6, 7, 10, 11, 17, 2, 6, 10, 19, 5, 6, 7, 12, 13, 14, 17, 20, 1, 2, 3, 4, 6, 11, 13, 14, 16, 17, 19, 2, 7, 10, 14, 20, 2, 6, 8, 10, 14, 17, 5, 6, 10, 13, 15, 6, 7, 10, 11, 12, 14, 15, 17, 19, 20, 6, 10, 13, 14, 15, 19, 19, 7, 13, 2, 16, 9, 3, 6, 7, 10, 11, 14, 15, 18, 8, 10, 14, 18, 1, 2, 5, 6, 7, 9, 10, 13, 14, 17, 7, 13, 18, 9, 2, 5, 2, 6, 10, 11, 13, 17, 20, 5, 5, 2, 1, 6, 14, 17, 4, 15, 2, 5, 10, 12, 3, 12, 2, 7, 10, 17, 20, 14, 10, 4, 10, 2, 5, 6, 8, 10, 13, 14, 15, 19, 20, 1, 2, 7, 10, 13, 14, 17, 19, 11, 14, 3, 5, 6, 8, 14, 17, 20, 5, 7, 13, 6, 3, 14, 17, 10, 16, 20, 16, 11, 14, 17, 17, 5, 6, 1, 2, 7, 8, 10, 11, 12, 13, 14, 17, 4, 1, 2, 4, 7, 9, 10, 12, 13, 14, 15, 17, 19, 20, 3, 16, 1, 9, 15, 4, 5, 1, 7, 9, 11, 13, 16, 17, 1, 2, 3, 5, 6, 10, 12, 13, 14, 15, 16, 17, 20, 12, 13, 14, 5, 6, 7, 10, 13, 17, 20, 19, 7, 17, 18, 11, 5, 6, 10, 14, 1, 2, 5, 6, 9, 10, 13, 15, 2, 5, 6, 9, 20, 3, 7, 8, 13, 14, 16, 17, 19, 11, 1, 5, 6, 7, 9, 10, 18, 16, 16, 4, 10, 13, 14, 15, 17, 20, 13, 1, 2, 3, 6, 9, 11, 13, 15, 17, 20, 17, 11, 15, 4, 11, 15, 8, 17, 14, 5, 19, 5, 20, 9, 16, 1, 3, 5, 6, 8, 10, 11, 13, 14, 15, 16, 17, 20, 4, 6, 16, 17, 18, 17, 3, 5, 7, 10, 11, 8, 1, 7, 1, 5, 15, 1, 5, 3, 14, 1, 2, 3, 4, 5, 6, 7, 10, 11, 12, 13, 14, 16, 17, 19, 1, 2, 3, 5, 6, 7, 10, 12, 13, 14, 16, 19, 20, 5, 7, 10, 12, 13, 14, 18, 19, 20, 7, 10, 14, 15, 19, 4, 5, 1, 6, 10, 12, 8, 1, 4, 6, 7, 9, 10, 11, 13, 17, 19, 17, 2, 6, 8, 1, 2, 6, 19, 7, 10, 11, 16, 19, 1, 2, 6, 7, 10, 12, 20, 14, 2, 8, 10, 12, 14, 19, 7, 10, 11, 19, 10, 17, 12, 11, 8, 10, 2, 6, 8, 10, 14, 20, 14, 15, 11, 6, 15, 6, 8, 10, 11, 16, 19, 10, 2, 6, 10, 12, 14, 15, 16, 18, 19, 10, 2, 6, 13, 14, 2, 3, 6, 10, 14, 17, 20, 1, 5, 6, 7, 8, 10, 13, 14, 16, 19, 6, 10, 14, 16, 17, 17, 4, 5, 10, 13, 18, 3, 10, 11, 13, 14, 17, 8, 12, 13, 1, 2, 3, 5, 7, 9, 10, 11, 13, 17, 19, 1, 3, 6, 7, 9, 12, 13, 19, 3, 6, 7, 10, 11, 18, 12, 3, 5, 6, 7, 9, 14, 17, 12, 1, 2, 4, 5, 6, 7, 8, 11, 13, 14, 17, 20, 4, 5, 7, 10, 11, 13, 17, 20, 3, 4, 10, 11, 13, 14, 17, 18, 9, 3, 7, 14, 17, 17, 14, 18, 4, 3, 6, 17, 15, 12, 14, 19, 1, 4, 6, 7, 9, 10, 11, 14, 17, 1, 9, 1, 7, 14, 19, 9, 9, 8, 13, 17, 20, 3, 20, 10, 15, 1, 3, 12, 13, 17, 4, 5, 14, 8, 1, 4, 1, 2, 10, 11, 14, 7, 8, 14, 19, 8, 11, 7, 15, 1, 9, 10, 15, 15, 8, 1, 3, 5, 6, 7, 9, 12, 13, 14, 15, 17, 18, 19, 8, 1, 3, 5, 6, 7, 10, 12, 13, 14, 17, 18, 19, 9, 4, 1, 7, 19, 1, 2, 3, 6, 7, 10, 11, 12, 13, 14, 16, 19, 5, 11, 1, 2, 5, 7, 9, 11, 12, 13, 20, 6, 10, 10, 12, 13, 14, 17, 3, 5, 6, 9, 6, 12, 2, 13, 1, 2, 3, 5, 6, 10, 11, 14, 16, 19, 13, 2, 4, 7, 13, 19, 11, 1, 2, 4, 5, 6, 7, 9, 10, 12, 13, 14, 16, 17, 20, 1, 2, 3, 4, 5, 6, 9, 14, 16, 17, 20, 1, 5, 7, 9, 13, 16, 2, 4, 5, 6, 7, 12, 13, 14, 17, 18, 19, 20, 6, 17, 1, 3, 5, 6, 7, 9, 11, 12, 13, 5, 6, 17, 8, 7, 1, 2, 5, 7, 11, 13, 14, 17, 19, 7, 13, 1, 12, 19, 1, 4, 6, 7, 9, 11, 12, 15, 17, 18, 2, 12, 6, 7, 10, 14, 16, 10, 1, 9, 10, 12, 4, 20, 5, 10, 17, 19, 2, 3, 6, 10, 11, 16, 17, 3, 8, 2, 3, 5, 6, 7, 11, 12, 13, 14, 17, 18, 10, 15, 4, 7, 9, 10, 12, 14, 15, 17, 1, 2, 4, 6, 7, 10, 11, 12, 13, 17, 5, 12, 2, 4, 5, 6, 7, 10, 14, 1, 4, 5, 7, 13, 14, 15, 18, 1, 7, 9, 10, 12, 1, 2, 4, 5, 6, 7, 9, 10, 11, 13, 15, 17, 11, 6, 8, 1, 19, 6, 11, 15, 17, 1, 3, 4, 6, 7, 9, 10, 11, 13, 14, 16, 17, 19, 6, 20, 1, 5, 6, 7, 8, 11, 13, 16, 19, 1, 2, 3, 5, 6, 13, 14, 19, 3, 10, 14, 14, 13, 14, 19, 1, 3, 5, 13, 16, 17, 20, 17, 4, 17, 3, 6, 8, 10, 13, 14, 20, 19, 13, 1, 3, 5, 6, 7, 8, 10, 11, 13, 14, 16, 17, 10, 14, 2, 10, 19, 3, 10, 14, 15, 17, 17, 17, 2, 10, 12, 16, 5, 7, 15, 6, 17, 1, 3, 4, 5, 6, 14, 17, 6, 17, 6, 2, 3, 1, 2, 6, 9, 10, 12, 13, 17, 19, 6, 6, 7, 10, 11, 14, 19, 10, 19, 15, 1, 2, 3, 4, 5, 6, 7, 8, 10, 11, 12, 13, 14, 16, 17, 5, 7, 8, 4, 5, 2, 10, 8, 20, 3, 11, 19, 3, 4, 5, 6, 7, 11, 13, 2, 2, 3, 5, 8, 10, 11, 12, 14, 15, 20, 2, 10, 14, 2, 10, 14, 17, 15, 17, 18, 4, 7, 10, 11, 12, 13, 17, 19, 20, 1, 3, 6, 7, 11, 14, 16, 19, 20, 1, 2, 3, 5, 6, 10, 12, 14, 19, 10, 18, 1, 3, 5, 6, 7, 8, 9, 10, 13, 15, 5, 16, 20, 4, 6, 16, 4, 6, 7, 14, 19, 10, 14, 18, 20, 6, 3, 4, 5, 6, 13, 14, 3, 6, 12, 14, 16, 20, 1, 3, 5, 16, 12, 3, 5, 6, 7, 8, 10, 13, 16, 17, 1, 3, 6, 7, 9, 10, 13, 14, 19, 16, 13, 19, 1, 2, 4, 5, 6, 7, 10, 12, 13, 14, 17, 18, 19, 1, 2, 6, 10, 12, 14, 16, 17, 4, 6, 7, 10, 13, 18, 19, 4, 9, 1, 4, 5, 6, 7, 13, 1, 2, 3, 4, 5, 6, 7, 10, 11, 13, 15, 17, 18, 19, 20, 3, 12, 11, 14, 19, 6, 11, 14, 17, 2, 1, 2, 5, 6, 10, 14, 17, 19, 11, 2, 10, 14, 17, 2, 10, 6, 12, 14, 19, 19, 1, 13, 2, 3, 4, 5, 6, 7, 9, 10, 12, 13, 14, 17, 18, 19, 20, 4, 6, 1, 2, 4, 6, 7, 9, 10, 11, 12, 13, 14, 15, 16, 17, 19, 20, 1, 2, 4, 5, 6, 7, 10, 11, 12, 13, 14, 15, 19, 20, 1, 4, 5, 7, 9, 10, 13, 15, 19, 1, 4, 5, 7, 1, 2, 6, 7, 10, 12, 14, 15, 18, 8, 1, 3, 5, 7, 11, 19, 5, 6, 9, 10, 13, 14, 17, 19, 4, 5, 6, 10, 11, 17, 1, 2, 5, 6, 7, 9, 13, 14, 17, 19, 17, 19, 8, 18, 1, 2, 6, 7, 11, 14, 17, 19, 2, 4, 5, 6, 7, 8, 9, 10, 11, 12, 13, 14, 16, 17, 20, 9, 11, 12, 4, 9, 10, 14, 17, 5, 2, 5, 6, 9, 10, 11, 13, 14, 15, 17, 14, 2, 10, 14, 1, 2, 5, 6, 7, 10, 11, 13, 14, 15, 17, 18, 7, 19, 3, 18, 14, 2, 10, 11, 14, 10, 14, 17, 1, 6, 13, 15, 1, 2, 6, 7, 13, 16, 17, 20, 11, 7, 2, 6, 10, 17, 11, 16, 4, 6, 10, 14, 17, 20, 1, 2, 3, 6, 7, 13, 17, 19, 7, 19, 15, 20, 3, 10, 12, 14, 15, 17, 5, 6, 13, 2, 3, 4, 6, 7, 10, 11, 13, 14, 15, 16, 17, 18, 11, 13, 3, 4, 5, 13, 17, 19, 9, 6, 7, 8, 10, 11, 13, 19, 1, 5, 7, 10, 13, 14, 17, 18, 7, 10, 13, 2, 2, 10, 14, 17, 2, 14, 2, 12, 16, 14, 10, 4, 4, 15, 11, 4, 11, 14, 20, 12, 3, 13, 1, 7, 8, 9, 11, 14, 1, 5, 6, 7, 9, 11, 12, 13, 15, 17, 20, 3, 9, 4, 10, 13, 15, 20, 17, 5, 17, 1, 4, 5, 18, 20, 2, 7, 11, 12, 13, 14, 17, 19, 2, 4, 7, 12, 13, 18, 2, 6, 10, 11, 12, 13, 14, 17, 4, 6, 10, 12, 13, 14, 17, 6, 2, 3, 6, 10, 13, 14, 19, 7, 10, 12, 13, 14, 15, 17, 19, 10, 10, 2, 9, 13, 17, 19, 1, 3, 4, 6, 11, 17, 1, 2, 3, 5, 6, 9, 13, 19, 1, 3, 13, 14, 17, 19, 2, 13, 13, 3, 4, 6, 17, 18, 1, 5, 6, 17, 4, 6, 7, 10, 15, 19, 20, 8, 10, 9, 1, 2, 5, 6, 7, 11, 14, 19, 3, 4, 6, 7, 12, 14, 19, 11, 2, 5, 7, 12, 13, 14, 15, 17, 19, 20, 10, 6, 7, 10, 6, 2, 5, 7, 10, 15, 18, 2, 6, 7, 9, 12, 13, 1, 2, 3, 4, 5, 6, 7, 9, 10, 11, 12, 13, 14, 17, 18, 19, 20, 1, 3, 5, 6, 7, 8, 9, 10, 13, 17, 18, 19, 13, 4, 9, 11, 15, 1, 2, 5, 6, 8, 14, 19, 1, 11, 19, 11, 1, 2, 3, 4, 5, 6, 7, 9, 10, 11, 12, 13, 14, 17, 19, 11, 1, 4, 5, 7, 10, 12, 13, 14, 15, 19, 9, 1, 4, 5, 6, 7, 9, 10, 11, 13, 15, 16, 17, 2, 14, 7, 1, 4, 5, 7, 13, 16, 17, 18, 20, 7, 13, 14, 16, 2, 13, 6, 10, 18, 20, 15, 8, 1, 2, 6, 7, 9, 10, 13, 14, 15, 17, 19, 1, 2, 4, 6, 7, 9, 10, 12, 13, 14, 16, 17, 19, 1, 2, 5, 7, 12, 1, 2, 4, 5, 6, 7, 9, 10, 13, 19, 12, 13, 18, 7, 7, 1, 3, 4, 5, 6, 7, 10, 11, 13, 14, 16, 17, 18, 19, 20, 1, 7, 9, 11, 12, 19, 3, 8, 4, 6, 7, 10, 11, 1, 2, 3, 5, 7, 10, 13, 14, 17, 20, 1, 3, 5, 6, 7, 8, 10, 13, 14, 19, 20, 1, 2, 3, 6, 7, 10, 13, 14, 17, 20, 3, 4, 6, 7, 10, 12, 15, 16, 17, 18, 19, 20, 13, 15, 1, 2, 3, 4, 5, 6, 7, 10, 11, 13, 14, 17, 19, 5, 10, 15, 19, 1, 2, 7, 1, 5, 13, 1, 3, 10, 16, 2, 4, 6, 7, 10, 12, 13, 14, 17, 1, 5, 6, 7, 13, 17, 4, 6, 8, 9, 10, 13, 14, 17, 19, 9, 1, 6, 7, 9, 10, 12, 14, 13, 1, 2, 4, 5, 6, 9, 12, 13, 17, 17, 1, 2, 3, 4, 5, 6, 7, 8, 10, 11, 12, 13, 14, 15, 17, 18, 19, 20, 11, 16, 10, 16, 7, 14, 8, 2, 3, 5, 6, 13, 14, 5, 6, 4, 13, 19, 7, 11, 15, 17, 13, 1, 2, 4, 6, 7, 9, 11, 12, 14, 15, 17, 18, 19, 2, 14, 1, 4, 5, 9, 1, 2, 5, 6, 7, 10, 11, 14, 15, 16, 17, 19, 20, 15, 1, 7, 3, 4, 6, 7, 13, 14, 19, 1, 11, 7, 11, 18, 1, 4, 5, 9, 18, 16, 1, 3, 5, 6, 7, 10, 13, 10, 17, 13, 17, 4, 7, 9, 10, 14, 16, 20, 1, 7, 8, 17, 4, 9, 1, 2, 4, 6, 7, 9, 10, 11, 12, 13, 14, 15, 17, 19, 9, 8, 1, 7, 19, 10, 12, 2, 2, 6, 10, 14, 17, 11, 8, 1, 15, 18, 4, 7, 11, 12, 4, 5, 6, 7, 9, 12, 13, 16, 14, 3, 5, 6, 7, 10, 11, 13, 14, 16, 17, 19, 14, 10, 10, 14, 12, 17, 7, 9, 8, 1, 6, 7, 11, 12, 13, 14, 15, 16, 17, 18, 4, 14, 17, 4, 6, 7, 9, 10, 13, 14, 17, 20, 11, 8, 4, 7, 10, 13, 14, 17, 10, 14, 14, 8, 10, 17, 6, 14, 2, 18, 19, 2, 6, 16, 19, 1, 2, 6, 11, 14, 15, 16, 17, 2, 10, 14, 3, 10, 1, 2, 3, 4, 5, 6, 7, 11, 13, 14, 16, 17, 18, 20, 15, 10, 15, 20, 1, 6, 10, 14, 15, 17, 18, 20, 14, 8, 13, 14, 17, 17, 12, 13, 7, 12, 4, 20, 1, 4, 6, 4, 1, 4, 6, 7, 9, 10, 11, 12, 14, 17, 19, 20, 20, 6, 13, 5, 10, 11, 13, 14, 6, 10, 11, 13, 14, 15, 17, 1, 7, 8, 9, 10, 13, 14, 19, 16, 2, 6, 10, 12, 13, 14, 19, 5, 8, 6, 13, 19, 4, 5, 6, 17, 13, 19, 16, 2, 3, 6, 7, 10, 11, 13, 14, 17, 19, 11, 16, 6, 7, 11, 17, 19, 16, 1, 2, 3, 4, 6, 7, 11, 13, 14, 15, 17, 19, 20, 1, 3, 4, 5, 7, 9, 12, 13, 15, 1, 5, 11, 12, 2, 4, 4, 1, 2, 5, 6, 8, 13, 16, 17, 8, 6, 18, 2, 14, 17, 10, 9, 20, 1, 3, 4, 5, 6, 7, 10, 11, 12, 13, 14, 16, 17, 19, 20, 1, 2, 3, 5, 6, 7, 10, 11, 13, 14, 16, 17, 18, 1, 5, 6, 7, 11, 13, 14, 17, 18, 18, 2, 6, 8, 9, 10, 13, 14, 15, 17, 19, 1, 11, 17, 3, 4, 12, 6, 7, 8, 18, 19, 3, 10, 14, 17, 6, 19, 6, 10, 13, 14, 18, 19, 4, 16, 2, 9, 10, 14, 17, 1, 2, 6, 7, 14, 17, 19, 2, 5, 7, 11, 19, 7, 5, 7, 10, 15, 19, 6, 15, 9, 10, 14, 1, 3, 5, 6, 7, 10, 14, 15, 20, 11, 1, 2, 4, 5, 8, 14, 4, 6, 10, 5, 1, 3, 7, 10, 13, 14, 15, 16, 17, 19, 20, 14, 19, 13, 1, 10, 12, 14, 17, 20, 14, 1, 6, 8, 10, 12, 13, 17, 12, 2, 15, 4, 6, 7, 13, 16, 17, 18, 7, 1, 2, 7, 9, 10, 12, 17, 18, 20, 1, 3, 9, 5, 7, 10, 12, 14, 17, 18, 19, 13, 6, 10, 14, 17, 10, 14, 17, 17, 18, 6, 7, 10, 14, 15, 17, 19, 12, 6, 8, 10, 18, 19, 1, 14, 16, 17, 18, 19, 1, 2, 3, 4, 6, 7, 10, 13, 14, 15, 17, 19, 14, 6, 8, 17, 6, 2, 5, 6, 7, 10, 12, 14, 15, 19, 20, 5, 9, 4, 12, 2, 19, 9, 1, 2, 4, 5, 6, 7, 13, 18, 13, 12, 10, 14, 19, 10, 14, 17, 5, 6, 10, 13, 14, 19, 19, 13, 14, 17, 19, 6, 13, 14, 17, 9, 2, 6, 7, 10, 13, 14, 19, 13, 12, 1, 2, 5, 7, 12, 14, 16, 17, 20, 10, 2, 6, 7, 9, 10, 12, 14, 17, 20, 4, 3, 5, 7, 8, 13, 14, 3, 8, 7, 9, 10, 13, 19, 1, 7, 9, 13, 1, 6, 7, 9, 10, 13, 14, 7, 10, 16, 17, 11, 17, 2, 10, 16, 17, 18, 20, 16, 5, 3, 10, 10, 15, 16, 17, 2, 3, 7, 16, 17, 1, 6, 15, 5, 15, 3, 5, 6, 7, 9, 10, 11, 13, 14, 17, 20, 1, 2, 3, 5, 6, 7, 9, 13, 14, 15, 17, 20, 10, 10, 10, 4, 13, 1, 2, 6, 7, 9, 10, 12, 13, 14, 15, 19, 20, 1, 5, 6, 7, 8, 10, 19, 20, 7, 3, 5, 7, 20, 10, 20, 9, 1, 7, 17, 9, 1, 16, 19, 19, 20, 15, 3, 5, 6, 10, 11, 14, 15, 16, 17, 6, 7, 9, 10, 17, 7, 12, 19, 1, 5, 7, 13, 19, 1, 3, 7, 9, 10, 13, 17, 19, 1, 20, 13, 16, 18, 12, 1, 2, 7, 9, 10, 12, 13, 14, 15, 16, 17, 19, 5, 6, 11, 12, 13, 14, 1, 6, 17, 9, 4, 7, 1, 7, 19, 18, 2, 4, 6, 7, 15, 16, 18, 20, 16, 1, 6, 7, 10, 11, 5, 9, 8, 12, 15, 18, 1, 2, 7, 10, 12, 17, 3, 10, 11, 12, 19, 10, 13, 14, 17, 10, 14, 14, 5, 6, 8, 13, 14, 15, 16, 17, 9, 14, 15, 16, 4, 17, 7, 10, 13, 14, 17, 19, 6, 10, 13, 14, 3, 13, 17, 18, 19, 20, 11, 9, 14, 15, 20, 15, 6, 6, 12, 3, 3, 7, 17, 18, 19, 1, 3, 4, 5, 6, 7, 11, 19, 20, 16, 1, 4, 6, 7, 11, 5, 7, 10, 13, 14, 15, 19, 20, 19, 10, 1, 2, 3, 5, 6, 9, 10, 12, 13, 17, 19, 1, 2, 6, 10, 15, 19, 8, 7, 1, 2, 4, 7, 10, 11, 12, 17, 19, 10, 1, 4, 5, 6, 7, 10, 12, 13, 19, 20, 1, 6, 9, 10, 14, 15, 17, 10, 12, 14, 14, 1, 3, 4, 5, 6, 7, 11, 13, 15, 1, 5, 13, 14, 11, 9, 11, 12, 13, 14, 15, 16, 2, 9, 10, 13, 14, 16, 2, 15, 20, 8, 5, 7, 11, 15, 20, 19, 7, 3, 4, 7, 10, 13, 14, 15, 19, 1, 4, 5, 6, 7, 10, 13, 14, 18, 20, 4, 6, 7, 13, 16, 19, 6, 7, 1, 4, 5, 7, 8, 9, 11, 12, 16, 17, 19, 6, 15, 7, 4, 6, 7, 12, 13, 14, 20, 17, 6, 1, 4, 5, 6, 7, 10, 13, 2, 4, 6, 12, 13, 19, 20, 19, 14, 18, 6, 9, 10, 12, 13, 14, 17, 11, 14, 17, 12, 10, 1, 2, 3, 4, 6, 7, 8, 10, 11, 15, 17, 19, 1, 2, 6, 7, 10, 13, 17, 18, 14, 1, 3, 5, 6, 7, 10, 12, 13, 16, 17, 3, 1, 7, 10, 13, 17, 20, 1, 3, 6, 7, 10, 11, 12, 14, 17, 20, 1, 3, 4, 6, 7, 9, 10, 11, 17, 19, 1, 9, 13, 15, 7, 9, 10, 17, 19, 1, 6, 7, 9, 10, 11, 13, 18, 1, 2, 4, 6, 7, 10, 11, 13, 14, 15, 16, 17, 8, 9, 1, 2, 4, 5, 6, 7, 12, 13, 14, 15, 17, 19, 20, 2, 4, 6, 7, 10, 12, 14, 19, 20, 6, 9, 16, 1, 2, 4, 5, 7, 9, 13, 14, 15, 19, 6, 12, 4, 6, 11, 14, 17, 2, 2, 2, 2, 4, 6, 10, 11, 13, 17, 13, 11, 14, 15, 3, 4, 13, 19, 16, 6, 1, 5, 15, 18, 8, 5, 6, 7, 10, 14, 1, 5, 6, 7, 9, 12, 18, 20, 18, 1, 12, 2, 4, 6, 13, 14, 9, 2, 17, 2, 5, 15, 17, 4, 13, 2, 7, 10, 12, 19, 12, 16, 20, 9, 15, 1, 2, 4, 5, 6, 9, 10, 11, 13, 14, 1, 5, 6, 9, 10, 12, 13, 15, 11, 1, 4, 5, 6, 7, 10, 14, 17, 18, 5, 13, 6, 7, 3, 5, 6, 7, 9, 10, 14, 1, 4, 5, 7, 10, 13, 16, 17, 1, 2, 6, 8, 10, 13, 14, 15, 16, 20, 13, 10, 14, 15, 1, 2, 6, 9, 10, 13, 14, 16, 17, 5, 14, 15, 6, 9, 3, 10, 11, 15, 17, 1, 4, 7, 9, 14, 15, 1, 7, 19, 1, 6, 1, 2, 5, 6, 9, 11, 14, 17, 5, 19, 5, 1, 5, 7, 13, 1, 5, 12, 13, 4, 15, 19, 11, 11, 1, 2, 3, 4, 5, 6, 7, 9, 10, 13, 14, 15, 17, 19, 1, 2, 3, 5, 6, 10, 11, 13, 14, 17, 17, 1, 2, 5, 6, 7, 8, 10, 11, 12, 13, 14, 17, 20, 2, 4, 6, 7, 10, 11, 13, 14, 17, 10, 11, 14, 2, 14, 2, 11, 14, 17, 19, 15, 9, 5, 1, 4, 6, 7, 10, 12, 14, 17, 19, 1, 2, 4, 7, 8, 9, 10, 11, 13, 14, 18, 19, 4, 15, 2, 4, 5, 6, 7, 11, 13, 19, 1, 2, 5, 6, 7, 10, 11, 13, 14, 16, 19, 19, 1, 5, 16, 18, 16, 1, 13, 19, 19, 1, 2, 4, 7, 9, 10, 13, 16, 17, 7, 2, 4, 5, 6, 7, 10, 11, 13, 16, 17, 20, 13, 18, 3, 7, 5, 6, 2, 2, 3, 6, 7, 10, 13, 14, 15, 20, 1, 2, 4, 6, 7, 8, 13, 14, 16, 19, 1, 3, 4, 5, 6, 7, 11, 12, 13, 14, 15, 17, 12, 1, 2, 10, 12, 13, 14, 19, 1, 6, 9, 11, 13, 14, 19, 1, 2, 5, 6, 7, 8, 10, 11, 12, 13, 14, 16, 17, 18, 1, 12, 20, 2, 7, 10, 13, 14, 17, 18, 19, 6, 3, 18, 11, 1, 2, 4, 5, 6, 7, 11, 13, 14, 17, 19, 3, 19, 10, 9, 10, 7, 11, 19, 2, 6, 16, 2, 3, 7, 8, 12, 13, 19, 3, 12, 1, 5, 6, 10, 11, 13, 17, 19, 20, 1, 5, 6, 7, 12, 13, 19, 20, 19, 1, 2, 5, 6, 7, 9, 11, 13, 16, 1, 3, 6, 7, 8, 9, 10, 11, 12, 13, 17, 20, 10, 1, 2, 4, 5, 6, 7, 9, 10, 11, 19, 20, 7, 17, 1, 5, 6, 10, 11, 13, 14, 19, 3, 6, 7, 16, 10, 14, 19, 8, 19, 1, 4, 9, 10, 11, 13, 19, 2, 3, 5, 6, 10, 12, 13, 14, 15, 17, 5, 7, 8, 9, 10, 11, 12, 14, 4, 6, 7, 12, 19, 19, 4, 10, 11, 14, 8, 6, 19, 10, 11, 12, 13, 14, 2, 7, 18, 19, 20, 2, 13, 14, 17, 18, 20, 20, 7, 4, 5, 6, 7, 10, 12, 13, 14, 15, 16, 19, 20, 12, 14, 9, 18, 7, 10, 12, 13, 17, 20, 7, 11, 12, 13, 15, 19, 7, 5, 7, 12, 19, 3, 1, 3, 5, 6, 7, 9, 13, 16, 7, 15, 18, 5, 6, 7, 9, 13, 14, 1, 3, 5, 6, 7, 16, 2, 4, 6, 13, 14, 19, 4, 8, 20, 20, 3, 1, 2, 3, 4, 6, 7, 11, 13, 14, 17, 19, 20, 1, 6, 7, 13, 19, 13, 2, 4, 13, 3, 4, 5, 7, 13, 15, 18, 1, 13, 1, 11, 16, 2, 4, 6, 9, 12, 13, 1, 2, 4, 5, 6, 7, 10, 11, 13, 16, 19, 11, 14, 7, 3, 5, 6, 7, 10, 13, 14, 17, 20, 4, 6, 7, 10, 13, 14, 19, 20, 17, 1, 7, 13, 16, 20, 1, 2, 5, 6, 7, 10, 11, 14, 16, 18, 19], \"Freq\": [0.09675793930554126, 0.8708214537498714, 0.04480565186183921, 0.9409186890986234, 0.947441837960439, 0.06813846394791462, 0.9266831096916388, 0.9149021776783988, 0.06961212221466077, 0.9742896895521025, 0.9886412993335518, 0.9637498458545132, 0.027693961087773365, 0.20349321476317334, 0.6581057158298371, 0.09092250021333276, 0.047626071540317165, 0.1464721752384106, 0.8462836791552614, 0.9874150141484576, 0.842048448448002, 0.15036579436571462, 0.7742866609965771, 0.05049695615195068, 0.15149086845585202, 0.9865613966217648, 0.11304036244267478, 0.030026346273835488, 0.10950785111634119, 0.049455158568670214, 0.3991737798756953, 0.28966592875935415, 0.008831278315833968, 0.8874697576276077, 0.09646410408995737, 0.0433137036561781, 0.3284083799602757, 0.18101249289149057, 0.19717432261394507, 0.15515356533556335, 0.026505400744825405, 0.036848971767196294, 0.031030713067112668, 0.9780907842973847, 0.986763091945781, 0.9850393460510275, 0.02104339964680275, 0.10197955213450564, 0.025899568796064927, 0.018615315072171665, 0.8069334403023979, 0.0250902072711879, 0.9916030323965386, 0.9443058329762706, 0.7464700777448329, 0.19184978633628882, 0.0034881779333870693, 0.05581084693419311, 0.9770480653046076, 0.9961110011742716, 0.9038220498883611, 0.9913791072518724, 0.9882370112027153, 0.6741239798495527, 0.08545233547388698, 0.06646292759080098, 0.05696822364925798, 0.11393644729851596, 0.9788739512423211, 0.8190181929185166, 0.01961720222559321, 0.1520333172483474, 0.9982939454029128, 0.1267023456108385, 0.8597659166449756, 0.007851483413099346, 0.0009347004063213508, 0.9287183237208941, 0.062437987142266234, 0.9737264027851257, 0.06218794920660875, 0.27639088536270556, 0.23147736649126588, 0.42840587231219357, 0.9857345698705773, 0.9597322899360702, 0.7230327491443985, 0.27268663682017313, 0.9992864946275369, 0.8661492155422857, 0.014614538481094877, 0.001816007740254393, 0.000691812472477864, 0.00172953118119466, 0.021878569442112448, 0.000605335913418131, 0.007436984079137038, 0.012971483858959949, 0.07117020810616026, 0.000778289031537597, 0.9637156271570264, 0.09636860747293499, 0.41853931867277633, 0.021195441526305352, 0.15967232616483365, 0.07008625998031637, 0.0002826058870174047, 0.011586841367713593, 0.019782412091218327, 0.11812926077327515, 0.0666949893361075, 0.0011304235480696187, 0.00847817661052214, 0.008195570723504736, 0.05386001477123395, 0.06283668389977294, 0.37103565731294497, 0.48174790989825916, 0.029922230428463304, 0.9734175816171348, 0.0019507357720187743, 0.15605886176150194, 0.02048272560619713, 0.0029261036580281617, 0.440866284476243, 0.007802943088075097, 0.10436436380300443, 0.007802943088075097, 0.02828566869427223, 0.0048768394300469356, 0.22335924589614967, 0.8887514914077295, 0.10697934618796744, 0.8837590242773548, 0.018540399110713736, 0.09579206207202097, 0.9816653565074556, 0.9960464314966394, 0.05198353583866894, 0.947140022980548, 0.9826027142329049, 0.015007097446781319, 0.10054755289343484, 0.6317988025094935, 0.012005677957425055, 0.08253903595729725, 0.0075035487233906595, 0.08403974570197538, 0.06453051902115967, 0.9598812414215365, 0.010833804120291375, 0.027084510300728434, 0.9587916646457866, 0.9938108494351078, 0.9919872638223386, 0.9821263220090473, 0.99004695583154, 0.02840889037168737, 0.027619754528029387, 0.06036889203983566, 0.04103506387021509, 0.11955408031418435, 0.08680494280237808, 0.03235456958997728, 0.5926410185871449, 0.011047901811211755, 0.45949089995126635, 0.07946083232239944, 0.0017274093983130313, 0.031093369169634563, 0.3351174232727281, 0.01381927518650425, 0.0017274093983130313, 0.05009487255107791, 0.0276385503730085, 0.06882553097548412, 0.5897636016347518, 0.015426412115194715, 0.016613059200978924, 0.3097148893896785, 0.011775705411404819, 0.000785047027426988, 0.00785047027426988, 0.6029161170639268, 0.08635517301696867, 0.017271034603393735, 0.259065519050906, 0.001570094054853976, 0.012560752438831807, 0.9790404892426767, 0.014086913514283119, 0.98274002652984, 0.9931764532157092, 0.9902807509569198, 0.9838618464651745, 0.2605460632844941, 0.031281991800350004, 0.018522231987049345, 0.0436301464583829, 0.05844793204802238, 0.05433188049534474, 0.02304988869499474, 0.011936549502765133, 0.11895388987238358, 0.059682747513825664, 0.006174077329016448, 0.3115851025376968, 0.0012348154658032896, 0.10394200062151478, 0.10740673397556527, 0.7864944713694618, 0.9950732632308025, 0.9949458405498424, 0.10177034837112124, 0.8868558929483422, 0.983447211758608, 0.017906233028190187, 0.02291997827608344, 0.0010743739816914113, 0.003223121945074234, 0.4046808664370983, 0.00035812466056380377, 0.18550857417205036, 0.26966786940454424, 0.07269930609445216, 0.010385615156350309, 0.011818113798605524, 0.030785953756796897, 0.03958194054445316, 0.10335284475496102, 0.16272575557164076, 0.3562374649000784, 0.11544732658798837, 0.12864130676947275, 0.061571907513593795, 0.03467781645962956, 0.32471046321289493, 0.000591099144198231, 0.020491436998872008, 0.03999770875741363, 0.07053783120765557, 0.010836817643634237, 0.06699123634246619, 0.002364396576792924, 0.020491436998872008, 0.00394066096132154, 0.19683601501801093, 0.13417950573299844, 0.006502090586180541, 0.00019703304806607702, 0.038027378276752864, 0.0007881321922643081, 0.027584626729250782, 0.028222246999525056, 0.959556397983852, 0.04082752030375651, 0.4289291250735831, 0.004322913914515395, 0.21278342934781336, 0.12536450352094647, 0.0057638852193538604, 0.0028819426096769302, 0.003842590146235907, 0.14817988251422218, 0.001200809420698721, 0.01897278884703979, 0.006244208987633349, 0.9915176043362819, 0.8041142411279598, 0.1958070392357045, 0.9904693853463106, 0.17313678876927022, 0.5194103663078107, 0.3064989098483027, 0.03946347578225593, 0.11575952896128405, 0.11575952896128405, 0.48145440454352234, 0.22625726115160066, 0.02104718708386983, 0.0707038808242476, 0.9242007279169507, 0.18082715101888738, 0.06919406288988038, 0.5351007530150749, 0.021219512619563313, 0.19005302607087143, 0.00369035002079362, 0.0062892337095383985, 0.0002994873195018285, 0.9932496951278142, 0.22300253874428327, 0.7767465728347658, 0.9812929356251814, 0.0035376439037200767, 0.1425670493199191, 0.27133728741532986, 0.006721523417068146, 0.014150575614880307, 0.07429052197812161, 0.3838343635536283, 0.0038914082940920843, 0.09940779369453415, 0.9752022132670275, 0.9401720588447908, 0.9938122987318251, 0.018727606049476486, 0.05074577123083951, 0.8469710864956784, 0.03201816518136302, 0.05014165490666284, 0.0012082326483533216, 0.9893431399565568, 0.032456056115135565, 0.015373921317695794, 0.148045168244478, 0.008541067398719885, 0.7954580770674453, 0.9919075872860167, 0.02955285105285317, 0.06412411077505877, 0.011709620228488992, 0.15055226008057276, 0.018400831787625558, 0.3942238810257961, 0.1438610485214362, 0.005018408669352425, 0.15445546682340242, 0.02732244719980765, 0.016858924934515875, 0.034520655818294416, 0.06823850568732616, 0.20953235275755447, 0.1164068626430858, 0.0016056118985253215, 0.028901014173455787, 0.012042089238939912, 0.5121901956295776, 0.5660109902872639, 0.25849320816268745, 0.17381439859215192, 0.9862555210869408, 0.008601065590874485, 0.2527519339408297, 0.19616568007347976, 0.5470004540510494, 0.9967699019812186, 0.07984849624393127, 0.0013826579436178575, 0.00034566448590446437, 0.0017283224295223218, 0.0349121130763509, 0.03318379064682858, 0.00034566448590446437, 0.02315952055559911, 0.025579171956930363, 0.018320217752936612, 0.673700083027801, 0.10715599063038396, 0.9769818011751333, 0.972285215234977, 0.9881590898697611, 0.12337308582180226, 0.2810164732607718, 0.5928762179769942, 0.9872254418320183, 0.9927140558915438, 0.2663698087680236, 0.0013801544495752518, 0.012421390046177264, 0.07038787692833784, 0.20426285853713724, 0.32157598675103366, 0.037264170138531796, 0.08556957587366561, 0.005165678982652192, 0.13947333253160918, 0.6663725887621328, 0.1859644433754789, 0.994206387280093, 0.9979811687323735, 0.7182126808924144, 0.16547056863697782, 0.11618146308553762, 0.9290353349260413, 0.06984237269656764, 0.9277015704423814, 0.9756210246689194, 0.9968108886726613, 0.9959476700975083, 0.013266604506653333, 0.037904584304723814, 0.06633302253326667, 0.002842843822854286, 0.10234237762275429, 0.08812815850848287, 0.01231898989903524, 0.67659682983932, 0.2222879722888933, 0.006685352550041904, 0.010028028825062856, 0.7153327228544837, 0.013370705100083808, 0.03008408647518857, 0.08808596718734468, 0.09249026554671191, 0.5843035823427197, 0.05431967976552922, 0.011744795624979291, 0.1673633376559549, 0.617528859394457, 0.09737481016399621, 0.009860740269771767, 0.14298073391169064, 0.03204740587675824, 0.05916444161863061, 0.01232592533721471, 0.013558517870936182, 0.014791110404657653, 0.324796511491787, 0.23307157074642124, 0.4405804530883963, 0.006129177175009074, 0.7845346784011614, 0.014301413408354505, 0.02860282681670901, 0.165487783725245, 0.40778239494289026, 0.33162070250219483, 0.04442765392373902, 0.20785795228606468, 0.00793350962923911, 0.037148357046660405, 0.044027682425671594, 0.007108636224978226, 0.028205234053945864, 0.046091480039374945, 0.003898284381439672, 0.20913149152194005, 0.0004586216919340791, 0.5861185222917531, 0.036689735354726326, 0.00022931084596703954, 0.0009172433838681582, 0.7123892486451207, 0.15176988340700395, 0.03407079015259273, 0.00805309585424919, 0.017345129532229026, 0.07557520724756932, 0.4465238968223743, 0.0017860955872894971, 0.004465238968223743, 0.13485021684035703, 0.30006405866463554, 0.011609621317381733, 0.0035721911745789942, 0.0660855367297114, 0.029470577190276705, 0.23790224470473606, 0.003275762405572958, 0.0004094703006966197, 0.02825345074806676, 0.05773531239822338, 0.05077431728638084, 0.020473515034830986, 0.22520866538314083, 0.05486902029334704, 0.0008189406013932395, 0.29604702740365607, 0.024158747741100564, 0.9855844475042304, 0.03601174175251009, 0.05459844717316046, 0.024395050864603612, 0.0673768071498576, 0.03020339630855685, 0.09990354163599574, 0.025556719953394258, 0.0023233381775812963, 0.5831578825729054, 0.07434682168260148, 0.08138646895961489, 0.08734157644446476, 0.5121392436970889, 0.01588028662626632, 0.1250572571818473, 0.17666818871721282, 0.9016347768089523, 0.09510915367183041, 0.9130249890531568, 0.005815445790147495, 0.031984951845811224, 0.04652356632117996, 0.9850829781126222, 0.05112963518725537, 0.025564817593627685, 0.7590784300877144, 0.027531342023906738, 0.04326353746613916, 0.09242664822311548, 0.981150518096153, 0.05616790260049406, 0.022205914981590677, 0.0013062302930347456, 0.057909542991207055, 0.1336708999872223, 0.0004354100976782486, 0.28040410290479206, 0.023076735176947173, 0.005660331269817231, 0.00304787068374774, 0.3400552862867121, 0.075325946898337, 0.020194388125410124, 0.9743792270510384, 0.0007774510571426334, 0.07385785042855017, 0.027988238057134802, 0.3560725841713261, 0.0007774510571426334, 0.44781180891415684, 0.09173922474283075, 0.0007774510571426334, 0.530984493026067, 0.030616898279921492, 0.026243055668504135, 0.027992592713071078, 0.09797407449574877, 0.2755520845192934, 0.010497222267401653, 0.013921348632901884, 0.055685394531607535, 0.199539330404927, 0.027842697265803767, 0.013921348632901884, 0.6891067573286432, 0.07087646049002798, 0.8646928179783413, 0.06378881444102517, 0.9977102352458112, 0.010057548416179882, 0.9534555898538528, 0.036207174298247574, 0.997533357338684, 0.9854709139004334, 0.9823542407798, 0.009506008251998207, 0.9030707839398298, 0.08713840897665023, 0.004104218540793573, 0.5896393970273434, 0.006840364234655955, 0.33791399319200416, 0.004104218540793573, 0.03420182117327977, 0.012312655622380719, 0.009576509928518337, 0.015174309735071492, 0.8472322935414917, 0.015174309735071492, 0.025290516225119155, 0.09357491003294087, 0.3935545679237846, 0.07692709684629219, 0.4426095282315652, 0.013378625538485596, 0.047940074846240056, 0.013378625538485596, 0.011148854615404664, 0.12464996947163247, 0.0020323364587766166, 0.013548909725177442, 0.683542495635202, 0.17681327191356563, 0.9001846877829841, 0.0973172635441064, 0.015640666264485348, 0.28935232589297893, 0.2561159100809476, 0.004887708207651671, 0.2864197009683879, 0.0009775416415303342, 0.14663124622955015, 0.9236085249975471, 0.0486109749998709, 0.9989166879216633, 0.3736209365358511, 0.002767562492858156, 0.08118183312383925, 0.3985289989715745, 0.06180889567383215, 0.04335847905477778, 0.03874587490001419, 0.8078141353965151, 0.147118468366915, 0.04279809988855709, 0.9889811388576005, 0.047851934872741475, 0.5705014013161289, 0.0010633763305053661, 0.01382389229656976, 0.002658440826263415, 0.29934043703726054, 0.012760515966064392, 0.05263712836001562, 0.24008600239510902, 0.006518172010726942, 0.08039078813229895, 0.08039078813229895, 0.10754983817699454, 0.3215631525291958, 0.07713170212693547, 0.02009769703307474, 0.019011335031286915, 0.03584994605899818, 0.011406801018772148, 0.4974655120670251, 0.024148811265389567, 0.16421191660464907, 0.14247798646579846, 0.17024911942099646, 0.6357890596746913, 0.028305677314284204, 0.0014515731956043182, 0.1756403566681225, 0.15314097213625555, 0.004354719586812954, 0.022225122385258592, 0.4804045684813588, 0.20515497586392548, 0.01538662318979441, 0.2735399678185673, 0.21367585545986065, 0.04516177386691061, 0.4367884994889265, 0.0006740563263718002, 0.012807070201064204, 0.051228280804256815, 0.19278010934233483, 0.018873577138410404, 0.0020221689791154003, 0.024266027749384807, 0.09231046203727923, 0.8148785614325339, 0.007957798451489589, 0.014324037212681261, 0.05252146977983129, 0.017507156593277097, 0.9885200528186429, 0.0973638982925586, 0.8957478642915392, 0.13390752763033223, 0.8570081768341262, 0.9887838520538332, 0.024638529138154015, 0.050573822967789825, 0.0401997054359355, 0.6574596985812677, 0.16598588050966917, 0.05187058765927161, 0.0064838234574089515, 0.9911961078216074, 0.6821268495689289, 0.1880864474914326, 0.12789878429417417, 0.9917954120997682, 0.09948787388312057, 0.10592027952211543, 0.33620040139813157, 0.0008576540851993153, 0.04888628285636097, 0.0038594433833969185, 0.13207872912069454, 0.25986918781539253, 0.010291849022391783, 0.002144135212998288, 0.010732559386457568, 0.9820291838608675, 0.9673119051959059, 0.9782366894142528, 0.090777119334892, 0.9020976233904894, 0.01990740564845367, 0.05395954688922968, 0.29599168924674535, 0.0036671536720835705, 0.0392909322008954, 0.5856968293413474, 0.001571637288035816, 0.9922870633827768, 0.980847444474912, 0.890072805496613, 0.09099190606818479, 0.07400675026879029, 0.07158029944030536, 0.7631187855585098, 0.016084667854441147, 0.9650800712664688, 0.995466440440254, 0.9952209926410331, 0.9905293148593846, 0.007523007454628237, 0.9813900732087989, 0.9967419683016747, 0.1027962222580972, 0.02199361034359289, 0.2094174202281236, 0.005737463567893797, 0.6598083103077866, 0.9938587126623688, 0.988645424679622, 0.5385524634157044, 0.4604418007828923, 0.0292043009673141, 0.04745698907188541, 0.2208575260653129, 0.012776881673199918, 0.14419623602611337, 0.14237096721565623, 0.007301075241828525, 0.2573629022744555, 0.0018252688104571312, 0.1350698919738277, 0.16148736675893371, 0.00417639741617932, 0.26868156710753627, 0.06891055736695878, 0.36821903885981005, 0.06751842489489901, 0.05986169629857026, 0.0006960662360298867, 0.8713969237054771, 0.12550984497815512, 0.03883111396678452, 0.38224377811053517, 0.21235765450585287, 0.012134723114620164, 0.20264987601415674, 0.148043621998366, 0.0024269446229240326, 0.035156617763109105, 0.9266279967562329, 0.035156617763109105, 0.9841479639619155, 0.11258138864132251, 0.18870785143688346, 0.6980046095761996, 0.5250975998063613, 0.2875976253356396, 0.18554685505525134, 0.9968857616673954, 0.016179061153107768, 0.9249029959193275, 0.05662671403587719, 0.9855426116270957, 0.11511836107204573, 0.8806554622011498, 0.01426187588820243, 0.06798160840043159, 0.5148537195641077, 0.001426187588820243, 0.09127600568449555, 0.015688063477022673, 0.00950791725880162, 0.2571891618505838, 0.015212667614082593, 0.012360292436442107, 0.9750376671813001, 0.017072893186338936, 0.39155700930636345, 0.038344038795548104, 0.1385423299547176, 0.024909631042363364, 0.0011195339794320613, 0.0005597669897160307, 0.12146943676837865, 0.04786007762072062, 0.002518951453722138, 0.11531199988150233, 0.015393592217190845, 0.08508458243683667, 0.9869846423812054, 0.9741651486289964, 0.6429375808800231, 0.33932816768667884, 0.9822874383459832, 0.9589548955883807, 0.9830463548072429, 0.04787601817231085, 0.0458811840817979, 0.4488376703654143, 0.026930260221924854, 0.10273395566141703, 0.10472878975193, 0.22142658404693769, 0.0013124062073393138, 0.03149774897614353, 0.007874437244035883, 0.02559192104311662, 0.11680415245319893, 0.0059058279330269125, 0.013780265177062797, 0.007874437244035883, 0.061026888641278094, 0.7146051798962564, 0.0059058279330269125, 0.0059058279330269125, 0.003281015518348285, 0.8981814723622765, 0.0971006997148407, 0.984484712324504, 0.0011345919708960906, 0.28478258469491874, 0.01588428759254527, 0.33583922338524286, 0.10778623723512862, 0.0011345919708960906, 0.2530140095098282, 0.9775022068051253, 0.011373965368775735, 0.9781610217147132, 0.9923619457371341, 0.9812345470582017, 0.03956058706770822, 0.8131898452806691, 0.10109927806192101, 0.03956058706770822, 0.07094075444272949, 0.2571602348548944, 0.0035470377221364746, 0.04256445266563769, 0.4469267529891958, 0.047885009248842404, 0.0904494619144801, 0.03724389608243298, 0.7524966890296285, 0.04844399285598467, 0.009688798571196934, 0.13564317999675707, 0.05490319190344929, 0.08972803718884796, 0.12995095041143498, 0.04486401859442398, 0.003094070247891309, 0.021658491735239163, 0.5724029958598922, 0.01392331611551089, 0.12221577479170671, 0.9845751856980777, 0.004270676603406626, 0.021353383017033132, 0.05338345754258283, 0.2284811982822545, 0.4356090135474759, 0.2541052579026943, 0.002135338301703313, 0.9946443050281157, 0.9854580510999066, 0.008598746031287506, 0.7085366729780905, 0.11436332221612383, 0.0816880872972313, 0.012898119046931259, 0.06105109682214129, 0.012038244443802509, 0.996123146517506, 0.5153046444450199, 0.06135533898839537, 0.010025382187646302, 0.10586803590154495, 0.02325888667533942, 0.026065993687880384, 0.06817259887599485, 0.0016040611500234081, 0.17444165006504564, 0.014035535062704822, 0.9825848516556548, 0.9873636514048947, 0.9824777114229718, 0.14387771043913578, 0.09309734204885256, 0.7532421311225344, 0.9837313792897221, 0.9959332107908645, 0.9964982105112906, 0.9514893897405716, 0.9898683783074047, 0.9269232723824518, 0.9904907335810754, 0.2305874213019498, 0.7546497424427449, 0.01997506191482421, 0.005707160547092633, 0.004755967122577194, 0.1331670794321614, 0.013316707943216143, 0.08798539176767808, 0.33053971501911494, 0.04946205807480281, 0.28583362406688934, 0.007609547396123509, 0.004280370410319474, 0.05184004163609141, 0.005707160547092633, 0.001298413540901223, 0.001298413540901223, 0.00043280451363374097, 0.05410056420421762, 0.9426482306942878, 0.9904183030047957, 0.016776195056395493, 0.025528992477123577, 0.8577741472313521, 0.0773163772164314, 0.021881993551820206, 0.9772058994782424, 0.012402469470904154, 0.9847560759897898, 0.8466106648024978, 0.11620146379642127, 0.016600209113774467, 0.9376562968608485, 0.06235645323951455, 0.6466303974853881, 0.35220719522608374, 0.03803602854331975, 0.018063442126750304, 0.0016154297836931167, 0.010720579473599775, 0.024965733020711804, 0.04464460493115523, 0.19737614811668625, 0.04126688811070598, 0.5424906928147611, 0.00234971604900817, 0.04244174613521007, 0.025112590273774812, 0.004405717591890318, 0.0004405717591890318, 0.006314861881709456, 0.011355135736402712, 0.0072259954686199074, 0.0020645701338914023, 0.29162053141216054, 0.10890607456277146, 0.1775530315146606, 0.09445408362553165, 0.024258699073223977, 0.20645701338914021, 0.00980670813598416, 0.0010322850669457011, 0.05729182121548641, 0.0072259954686199074, 0.0024512598138410704, 0.0016341732092273803, 0.03554326730069552, 0.005311062929988985, 0.06250712525294728, 0.226741532780299, 0.009396495953057436, 0.6540778269932589, 0.002042716511534225, 0.009733080938693045, 0.06256980603445529, 0.09524514918578195, 0.0013904401340990064, 0.8307879801241563, 0.9811821182664109, 0.9634437223032496, 0.663001976579722, 0.2052148975127711, 0.1262860907770899, 0.9865623330288543, 0.9915404294926703, 0.1539602581205712, 0.002915913979556273, 0.019828215060982656, 0.46246395715762484, 0.0046654623672900365, 0.27176318289464463, 0.013413204305958855, 0.008164559142757565, 0.04373870969334409, 0.0192450322650714, 0.9871285520051777, 0.9794798322072302, 0.388384461461979, 0.6056164483813911, 0.0725294313233792, 0.9267649557987343, 0.03658021084422626, 0.9571821837572538, 0.03198033674296201, 0.021320224495308005, 0.004737827665624001, 0.2747940046061921, 0.6656647870201722, 0.024425599178740303, 0.6594911778259881, 0.0018788922445184847, 0.08830793549236879, 0.1841314399628115, 0.03945673713488818, 0.9694272762641475, 0.999746171308289, 0.0040173145449031505, 0.005871459719473835, 0.20457401759429888, 0.010506822655900546, 0.0012360967830471231, 0.7734875619917373, 0.18776133391605387, 0.0696533980656329, 0.0590539679252105, 0.6829061419043573, 0.9956517729939218, 0.9921217593633024, 0.9608413058145228, 0.9486123572240504, 0.6749498126424058, 0.32295066984661946, 0.0009518187400760343, 0.11517006754920016, 0.6805503991543645, 0.08756732408699516, 0.10660369888851584, 0.008566368660684309, 0.2829062469321501, 0.711552075617226, 0.9829476925828053, 0.9929561919924892, 0.977806658131678, 0.28899603153210035, 0.033846382071327064, 0.04426065347788924, 0.018224974961483804, 0.6040277415806061, 0.010414271406562174, 0.9939656093308169, 0.0019329791425221157, 0.13208690807234458, 0.467780952490352, 0.1469064148316808, 0.21584933758163624, 0.0012886527616814104, 0.007731916570088463, 0.011597874855132693, 0.015463833140176925, 0.9884622521352469, 0.6622149170255889, 0.24649851036163772, 0.010659395042665415, 0.07861303843965743, 0.3872318422608676, 0.3687922307246358, 0.06822656268405762, 0.1585806592115934, 0.01659565038260861, 0.9931708496965282, 0.9878021465651908, 0.014616942318369741, 0.0015661009626824723, 0.3278371348548642, 0.15086772607174484, 0.002610168271137454, 0.03915252406706181, 0.2996473175265797, 0.12163384143500536, 0.03863049041283432, 0.002610168271137454, 0.005872999156260862, 0.8582968766935517, 0.03943299433489436, 0.00335599951786335, 0.09228998674124213, 0.9888315741142102, 0.01565556421388572, 0.14571717460616707, 0.7153388571575474, 0.11079322366749893, 0.012042741702989013, 0.03756638579913449, 0.8799203442951116, 0.00433458297682321, 0.005779443969097613, 0.03756638579913449, 0.03467666381458568, 0.784939384572353, 0.20865477311416977, 0.979764405618801, 0.0462274157668683, 0.04337387158372828, 0.0005707088366280037, 0.03880820089070425, 0.7213759694977967, 0.06791435155873243, 0.008560632549420055, 0.019404100445352124, 0.05250521296977634, 0.0011414176732560074, 0.9780505983449801, 0.049013669202521246, 0.01846891882993554, 0.03480680856410929, 0.5746675128237636, 0.30331647463009526, 0.005682744255364782, 0.007813773351126575, 0.005682744255364782, 0.3971118507199348, 0.3098345208913777, 0.08073153009141532, 0.1440075942171192, 0.041456731668564624, 0.02618319894856713, 0.9836198928004086, 0.15949147943439293, 0.06441002054081253, 0.29751295202184835, 0.004600715752915181, 0.29444580818657157, 0.0950814588935804, 0.08357966951129245, 0.9966553007888569, 0.007317933014264091, 0.08690045454438608, 0.0018294832535660228, 0.052140272726631645, 0.3805325167417327, 0.007317933014264091, 0.013721124401745171, 0.0009147416267830114, 0.06860562200872586, 0.0640319138748108, 0.028356990430273354, 0.2890583540634316, 0.0549072361199791, 0.29690579531544253, 0.012201608026662022, 0.04880643210664809, 0.0040672026755540075, 0.12404968160439722, 0.04473922943109408, 0.41282107156873177, 0.972189891102812, 0.0005112984382687606, 0.31598243485009403, 0.006646879697493888, 0.02658751878997555, 0.11555344704873989, 0.29246270668973107, 0.24184416130112377, 0.9963194443480635, 0.5577642722315738, 0.06314312515829137, 0.05261927096524281, 0.3227315285868226, 0.9917565034357448, 0.9907839065615159, 0.9912186052234706, 0.9962006180233531, 0.010571535200608991, 0.5904957519197308, 0.3971876796800235, 0.9927475978181982, 0.8107224159938768, 0.16061481826293786, 0.02294497403756255, 0.18390966231862363, 0.42975781194662827, 0.07527908457601692, 0.11911247559496349, 0.00476449902379854, 0.11434797657116495, 0.01905799609519416, 0.023822495118992697, 0.030492793752310652, 0.12829031234028784, 0.861377811427647, 0.03816058955375601, 0.8531617521661166, 0.08177269190090573, 0.02725756396696858, 0.9883473344435633, 0.9785794408117261, 0.6290425466322207, 0.24193944101239256, 0.10368833186245396, 0.020737666372490794, 0.9904600755783719, 0.9420791361937878, 0.9915248123482961, 0.9886158998794682, 0.9307567171677156, 0.943219835540233, 0.9351697038839103, 0.8866280744235472, 0.10430918522629967, 0.9625697423478432, 0.9657638751378914, 0.9879359627474424, 0.9560358464702049, 0.7697065140031921, 0.20991995836450694, 0.08491450039950177, 0.05155523238541179, 0.14405138460629766, 0.6247281100820488, 0.09249615222088586, 0.045304908707753486, 0.018121963483101394, 0.007248785393240557, 0.9278445303347913, 0.9453296717108376, 0.9832828417301971, 0.11654921302023813, 0.874119097651786, 0.2557219719840681, 0.5378979410699363, 0.07642265829408931, 0.12639131948637847, 0.9973322571213383, 0.9961736401005529, 0.11813121001969344, 0.007839370916638696, 0.06649949122390066, 0.049198810580284226, 0.5984954210151059, 0.02054455826429451, 0.0016219388103390403, 0.06920272257446572, 0.03703426950274142, 0.006758078376412668, 0.008380017186751708, 0.0002703231350565067, 0.015949064968333898, 0.9756785297969284, 0.03171003690700161, 0.005563164369649405, 0.08928878813287296, 0.06481086490641556, 0.11154144561147057, 0.06508902312489803, 0.007788430117509167, 0.3449161909182631, 0.1515962290729463, 0.018358442419843038, 0.00027815821848247026, 0.10903802164512834, 0.9818585866346421, 0.8862768409115478, 0.09123251658588441, 0.026356060347033274, 0.8819143269968825, 0.3383201649329657, 0.08903162235078045, 0.006848586334675419, 0.0031960069561818624, 0.19860900370558715, 0.06072413216745538, 0.003652579378493557, 0.057071552788961824, 0.05570183552202674, 0.044287524964234375, 0.0027394345338701675, 0.13879801638275516, 0.1416986199512985, 0.8501917197077911, 0.4822765541087728, 0.013932433785364547, 0.009645531082175456, 0.3075852689538173, 0.07823597433320092, 0.002143451351594546, 0.03215177027391819, 0.046084204059282735, 0.02893659324652637, 0.010367866887471442, 0.9849473543097869, 0.35298333305117036, 0.028380569491551384, 0.6048608872886889, 0.0017737855932219615, 0.01064271355933177, 0.785796651565344, 0.02477737189620454, 0.1876001014998344, 0.9897771090734833, 0.9902341247028235, 0.9898228572100063, 0.07832812904299642, 0.920355516255208, 0.013678099225383392, 0.01616502635727128, 0.5923031452446323, 0.008289757106292964, 0.19315134057662608, 0.0024869271318878894, 0.026941710595452136, 0.01616502635727128, 0.0004144878553146482, 0.13014918656879954, 0.9906261481738561, 0.006034665300234174, 0.004023110200156116, 0.2735714936106159, 0.10460086520405902, 0.6105069728736906, 0.936836875750741, 0.18828063609314993, 0.0197458274189271, 0.3031401674173315, 0.003615433189381018, 0.004727874170729024, 0.021553544013617608, 0.27046221359023387, 0.01390551226685007, 0.0026420473307015133, 0.08760472728115544, 0.03281700894976616, 0.0030592126987070154, 0.023222205485639615, 0.025029922080330124, 0.12700997979067166, 0.017930820676330117, 0.0026149113486314754, 0.11468254057569471, 0.05939584349034351, 0.01494235056360843, 0.5711713502939323, 0.001494235056360843, 0.0041091464049923185, 0.08554495697665827, 0.001494235056360843, 0.4459920277708363, 0.02421099579327397, 0.057341832141964665, 0.32748557467744266, 0.11723219015690554, 0.028033784602738282, 0.013853106387821628, 0.2668545756811956, 0.004374665175101567, 0.08530597091448056, 0.13780195301569934, 0.04520487347604952, 0.13269817697808087, 0.10061729902733603, 0.034997321400812534, 0.04593398433856645, 0.056870647276320366, 0.07436930797672663, 0.12112854250620449, 0.8721255060446723, 0.09934302194935274, 0.0040274198087575435, 0.04027419808757544, 0.09128818233183765, 0.2335903489079375, 0.04967151097467637, 0.28191938661302807, 0.026849465391716957, 0.17183657850698852, 0.039019139798515845, 0.8974402153658644, 0.06243062367762535, 0.9966449639565107, 0.9832383750507854, 0.07336061874008282, 0.004890707916005521, 0.0024453539580027604, 0.08191935759309248, 0.005502046405506211, 0.0495184176495559, 0.016506139216518632, 0.18951493174521394, 0.5758808571096501, 0.9797623513145964, 0.010313287908574699, 0.016810786098303703, 0.02941887567203148, 0.9498094145541592, 0.2535983983900937, 0.03275256067768737, 0.43607695073720903, 0.0711198460429783, 0.0149725991669428, 0.04304622260496055, 0.03930307281322485, 0.019651536406612425, 0.06550512135537474, 0.024330473646282047, 0.9872690052666573, 0.9875302632173567, 0.7757347907334661, 0.07110902248390105, 0.04848342442084163, 0.06787679418917827, 0.029090054652504978, 0.991789678800783, 0.03654272285731232, 0.6029549271456532, 0.13573011347001718, 0.22186653163368192, 0.0866036875901311, 0.9093387196963765, 0.008980457525839137, 0.0426571732477359, 0.029186486958977194, 0.9182517820170517, 0.8970052489109243, 0.09830194508612869, 0.9834147502658774, 0.8583469287125234, 0.021119256593981242, 0.006034073312566069, 0.11313887461061381, 0.04121807161698601, 0.9562592615140756, 0.04947790863299905, 0.009162575672777602, 0.009162575672777602, 0.13255192806618266, 0.034206949178369715, 0.0207685048582959, 0.0030541918909258673, 0.09162575672777602, 0.0299310805310735, 0.3267985323290678, 0.29381325990706847, 0.9832130529898935, 0.007993602056828402, 0.015303412404435964, 0.012520973785447607, 0.09460291304560414, 0.3276321473858791, 0.004869267583229625, 0.038954140665837, 0.0006956096547470893, 0.5057082190011339, 0.030046016551389207, 0.060092033102778414, 0.0023473450430772816, 0.0009389380172309127, 0.025351326465234643, 0.1774592852566425, 0.007042035129231845, 0.564771217364394, 0.002816814051692738, 0.1291039773692505, 0.11591750183347557, 0.8832913639710839, 0.14539527433377814, 0.011539307486807789, 0.0046157229947231156, 0.7592864326319525, 0.023078614973615578, 0.04846509144459271, 0.0023078614973615578, 0.11487603387636065, 0.0025718515046946415, 0.05658073310328211, 0.12259158839044457, 0.008572838348982138, 0.20146170120108023, 0.49036635356177827, 0.0017145676697964275, 0.29919311351425965, 0.18889734709163006, 0.08684206896494402, 0.02345369745768561, 0.4006145079258731, 0.02019315158101864, 0.023705004029891445, 0.004389815561091009, 0.33362598264291665, 0.019315188468800436, 0.06409130719192872, 0.022827040917673246, 0.08340649566072916, 0.002633889336654605, 0.37664617514160853, 0.02546093025432785, 0.021949077805455044, 0.9820571705793036, 0.9816287928994423, 0.9805122645517589, 0.587847820099082, 0.39189854673272134, 0.08599022764304473, 0.0013869391555329795, 0.016643269866395756, 0.8959626944743048, 0.07586496353509241, 0.00901891174892707, 0.139527869998107, 0.08010915729929338, 0.38887425364491424, 0.009549435969452192, 0.0037136695436758523, 0.006896814866826583, 0.020690444600479748, 0.08063968151981851, 0.0015915726615753653, 0.015385202395228531, 0.16764565368593848, 0.9950813401975729, 0.933786428501585, 0.06921847679751474, 0.2624819466678034, 0.26385260957468487, 0.046602538833970315, 0.008223977441288879, 0.05825317354246289, 0.2748179128297367, 0.004797320174085179, 0.010965303255051838, 0.03376320514854442, 0.06292233686774187, 0.32177357633991577, 0.09770866944503007, 0.05678357229527925, 0.42152850064243336, 0.004604073429346966, 0.0005115637143718851, 0.9850120182423736, 0.01919367805150382, 0.9806112031603791, 0.9992623127106207, 0.0007989456413173182, 0.9912918044644625, 0.007789720002843852, 0.019766539416151724, 0.05353437758541092, 0.056005195012429884, 0.09636187965373966, 0.03129702074224023, 0.09142024479970172, 0.6506485891149942, 0.9983101403323115, 0.0034504548040504347, 0.9937309835665251, 0.27801554630636605, 0.3211079559838528, 0.008340466389190981, 0.19739103787751988, 0.019461088241445622, 0.15985893912616048, 0.013900777315318302, 0.9774565836678586, 0.973503547684952, 0.044358201522590665, 0.0031684429658993332, 0.005016701362673944, 0.05307141967881383, 0.0026403691382494445, 0.0034324798797242774, 0.6310482240416172, 0.0010561476552997777, 0.14284397037929494, 0.08317162785485749, 0.0023763322244245, 0.027723875951619164, 0.9084701314979458, 0.09026466050139846, 0.030958580826014975, 0.9659077217716672, 0.9940293293824342, 0.9392996537692093, 0.7880993379399895, 0.07909240667498103, 0.0805047710798914, 0.05084511857677352, 0.9925588380766553, 0.9899606362992467, 0.07032204118283425, 0.9277100048350826, 0.0013523469458237357, 0.0013523469458237357, 0.012224090789269195, 0.9779272631415356, 0.9863501029999999, 0.9920623479045004, 0.9931504452465493, 0.0638187204516353, 0.028450881510135976, 0.0003915258923413208, 0.8164619941624343, 0.0015661035693652831, 0.00026101726156088054, 0.08900688619226026, 0.9532775982640632, 0.04452120651233262, 0.9868908911076844, 0.0026051309198649153, 0.9968967653349743, 0.0030546620777036813, 0.02901928973818497, 0.277974249071035, 0.03971060701014786, 0.027491958699333133, 0.2963022215372571, 0.27950158010988685, 0.012218648310814725, 0.0336012828547405, 0.9887596656827092, 0.09009167397956241, 0.00788302147321171, 0.1013531332270077, 0.3029332537562786, 0.06756875548467181, 0.42906159732766597, 0.048934158157746446, 0.9460603910497647, 0.9747859447297769, 0.06838518911021126, 0.06412000060021887, 0.023600709755291202, 0.5854682094716215, 0.06412000060021887, 0.1222687372864484, 0.00014217295033307954, 0.0005686918013323182, 0.00924124177165017, 0.029714146619613625, 0.0002843459006661591, 0.011373836026646362, 0.016634235188970305, 0.0036964967086600678, 0.0002843459006661591, 0.027910063508828353, 0.2494461926101534, 0.7204285143216319, 0.9815816735504977, 0.9903975539280298, 0.023430215281693416, 0.974027520996112, 0.9805000450597706, 0.9913906875606722, 0.9659255677005452, 0.9875971993631079, 0.9918848529753637, 0.043950887249455506, 0.1254208245899096, 0.0021439457194856342, 0.46952411256735394, 0.2047468162108781, 0.06324639872482621, 0.09004572021839664, 0.9911269064883123, 0.09555192464976285, 0.052607239413914375, 0.05690170793749923, 0.10306724456603633, 0.19754555208490296, 0.0032208513926886354, 0.0010736171308962119, 0.14279107840919616, 0.051533622283018166, 0.29417109386556206, 0.0028654142294900855, 0.8481626119290653, 0.14900153993348444, 0.5906128626369973, 0.3001475203565068, 0.017427920536829428, 0.08907603829935042, 0.03070975444310701, 0.3601416657418913, 0.6086114971452117, 0.9718858285525398, 0.28809515826179233, 0.05543294373058877, 0.0054652198044242446, 0.01171118529519481, 0.08978575392982688, 0.03981803000366235, 0.16161435707368837, 0.3474318304241127, 0.027094307693027304, 0.00270943076930273, 0.10973194615676057, 0.16933942308142064, 0.5459503000145002, 0.04470560769349505, 0.006773576923256826, 0.06909048461721963, 0.023030161539073207, 0.016392824415465607, 0.09671766405124707, 0.36719926690642957, 0.006557129766186242, 0.37867424399725547, 0.018032106857012165, 0.016392824415465607, 0.008196412207732803, 0.09179981672660739, 0.26402458223295977, 0.729210750929127, 0.0027981421786015597, 0.03217863505391794, 0.08044658763479484, 0.14200571556402916, 0.0006995355446503899, 0.010493033169755849, 0.10562986724220888, 0.039173990500421835, 0.5869103219616771, 0.0006995355446503899, 0.017365144570682226, 0.028941907617803714, 0.9492945698639618, 0.05498799910044923, 0.20162266336831383, 0.7405050545527162, 0.9851037185799025, 0.01862286846015914, 0.012979574987383644, 0.8092482839960063, 0.15801221723771391, 0.11751443849125959, 0.7722377386568487, 0.0335755538546456, 0.07610458873719668, 0.9797582467617256, 0.027396568751453323, 0.004981194318446059, 0.1955118769990078, 0.6450646642387646, 0.07222731761746785, 0.053547838923295135, 0.05642290699661451, 0.8152137252269476, 0.005836852447925639, 0.054477289513972633, 0.011673704895851279, 0.054477289513972633, 0.05730026540030535, 0.7858322112041876, 0.13097203520069792, 0.02455725660013086, 0.9928702288886345, 0.20062740280478256, 0.20153521910706665, 0.25600419724411166, 0.10621450736723782, 0.001815632604568168, 0.006354714115988588, 0.08896599762384023, 0.09168944653069248, 0.04629863141648828, 0.026057578886631627, 0.0008142993402072383, 0.38434928857781653, 0.00977159208248686, 0.027686177567046107, 0.18973174626828654, 0.08468713138155279, 0.19624614098994445, 0.07980133534030937, 0.9904063312450208, 0.9798992240941617, 0.9943182349232744, 0.0193762135770381, 0.0003799257564125118, 0.033053540807888526, 0.06534723010295203, 0.17552569946258045, 0.3240766702198726, 0.10485950876985325, 0.004939034833362653, 0.044451313500263885, 0.07560522552608985, 0.007218589371837725, 0.08092418611586502, 0.0642074528337145, 0.07656050902094179, 0.00814473500222785, 0.0325789400089114, 0.29483940708064815, 0.00814473500222785, 0.04072367501113924, 0.314386771085995, 0.22316573906104306, 0.6815358871376908, 0.039693848371755616, 0.125073069397796, 0.06141312389592379, 0.016851162044613233, 0.03819596730112333, 0.03669808623049104, 0.9120136079999916, 0.9859737246704844, 0.36165302186992343, 0.000982752776820444, 0.34199796633351454, 0.19949881369455016, 0.01670679720594755, 0.07862022214563552, 0.037207857843434285, 0.07088332411945392, 0.006829290363668318, 0.008477739761795153, 0.0004709855423219529, 0.05298587351121971, 0.043095177122458694, 0.2524482506845668, 0.017661957837073236, 0.12763708196924925, 0.0016484493981268353, 0.004945348194380506, 0.35371014228378667, 0.014365059040819564, 0.0075357686771512465, 0.30578277686584276, 0.6867580398462371, 0.7727065428222069, 0.22147639762419943, 0.00492169772498221, 0.6635630538700777, 0.14911529300451185, 0.09941019533634124, 0.08698392091929857, 0.9752839399842145, 0.10754920379235608, 0.035365278724513484, 0.0033911911105697864, 0.1114248507758644, 0.00532901460232395, 0.47331338786095445, 0.0004844558729385409, 0.2625750831326892, 0.9604372645502004, 0.47022328999092006, 0.49846991871828983, 0.009969398374365796, 0.019938796748731592, 0.8665080253122227, 0.12758400372695303, 0.026809273026136095, 0.04386971949731361, 0.9285757293598047, 0.9889716066296808, 0.973569499240854, 0.7183872343312457, 0.26549093442676475, 0.0012864679434162615, 0.0021441132390271024, 0.0019297019151243923, 0.08898069941962476, 0.022513189009784575, 0.04931460449762336, 0.01608084929270327, 0.06668192173374289, 0.028731117402963174, 0.3074658384764865, 0.3068226045047784, 0.015223203997092429, 0.014579970025384296, 0.03216169858540654, 0.04652725728688813, 0.9935869989382349, 0.9838072903727627, 0.06484888815161062, 0.0015501726251381024, 0.12298036159428945, 0.033845435648848565, 0.24673580950114796, 0.010592846271777033, 0.09016837436219961, 0.0033587073544658883, 0.0007750863125690512, 0.1839538181830548, 0.06381543973485188, 0.0007750863125690512, 0.03823759142007319, 0.09895268590464887, 0.022477503064502483, 0.017051898876519127, 0.02146135387663569, 0.030325826130028696, 0.03405823549987838, 0.00653171639723695, 0.06018510108882618, 0.06485061280113828, 0.17122427984185432, 0.01912859802047964, 0.022394456219098115, 0.42549466816286413, 0.10590711586948483, 0.0009331023424624214, 0.030792377301259905, 0.00699826756846816, 0.54307967544772, 0.005837324726501405, 0.005837324726501405, 0.3552429047842284, 0.019179781244218902, 0.00917293885593078, 0.05420372960322733, 0.0010423794154466794, 0.006254276492680077, 0.9812163693865231, 0.9939349280734485, 0.8402430885218882, 0.1508128620423902, 0.013520564518959883, 0.005200217122676878, 0.003120130273606127, 0.09672403848178993, 0.5231418425412939, 0.23504981394499488, 0.07800325684015316, 0.013520564518959883, 0.031201302736061268, 0.9683958176841138, 0.04215478603542694, 0.004557274165992102, 0.06380183832388943, 0.20393801892814656, 0.04443342311842299, 0.6414363388633884, 0.07458781880397039, 0.201545808257537, 0.03438445547700763, 0.018514706795311798, 0.1370088302853073, 0.15234958734427995, 0.03438445547700763, 0.34648951288369223, 0.647820286504998, 0.08997503979236084, 0.15835607003455507, 0.05758402546711094, 0.0215940095501666, 0.017995007958472167, 0.13907186671906888, 0.011796274409206735, 0.03476796667976722, 0.30359885190011016, 0.02359254881841347, 0.20239923460007345, 0.06705250716812249, 0.0037251392871179164, 0.001241713095705972, 0.21233293936572123, 0.02717510143422909, 0.9601869173427612, 0.9925436997937307, 0.8960675977767053, 0.10403564522978229, 0.006502227826861393, 0.018422978842773947, 0.5841167997797151, 0.023841502031825106, 0.19831794871927247, 0.019506683480584177, 0.04443189015021952, 0.027921055551220462, 0.006058342242245949, 0.0010536247377819041, 0.02660402462899308, 0.02265293186231094, 0.0018438432911183323, 0.03002830502678427, 0.007375373164473329, 0.019755463833410702, 0.6111023479135045, 0.02871127410455689, 0.1804332363451511, 0.010536247377819042, 0.019755463833410702, 0.0063217484266914255, 0.0768315724794275, 0.3349856560103039, 0.5869932137428261, 0.026842206091971764, 0.04238243067153436, 0.17800620882044432, 0.0042382430671534365, 0.747343527508056, 0.9031290778895231, 0.03749916610392773, 0.005514583250577607, 0.07455716554780925, 0.0024264166302541473, 0.27661149584897277, 0.0026469999602772515, 0.030219916213165287, 0.2785967458191807, 0.00022058333002310428, 0.29183174562056696, 0.9991721358022421, 0.24793114213161177, 0.05695051977676627, 0.6946981507252092, 0.2665211308218495, 0.000304247866234988, 0.008214692388344677, 0.0076061966558747, 0.15851313830842875, 0.22240519021777624, 0.004259470127289832, 0.017646376241629305, 0.000608495732469976, 0.2896439686557086, 0.016429384776689353, 0.007301948789639712, 0.04689044312666128, 0.951206131997986, 0.9759614886992691, 0.963519901422109, 0.9905566662117594, 0.12421630352076617, 0.808008964649644, 0.008441884705294788, 0.05909319293706352, 0.837436168922759, 0.12222041384278104, 0.0362134559534166, 0.008149643134076118, 0.05704750193853282, 0.9331341388517155, 0.9801860471951367, 0.4096145129546777, 0.08136178681976475, 0.3969894081033349, 0.0014027894279269783, 0.005611157711707913, 0.022444630846831654, 0.0519032088332982, 0.030861367414393524, 0.9861459477461538, 0.9819728397616128, 0.0781761292679706, 0.018762271024312945, 0.8974619639963025, 0.00521174195119804, 0.8171824961606304, 0.174252149916605, 0.03167244483529139, 0.005655793720587749, 0.17532960533822023, 0.13121441431763578, 0.6379735316822981, 0.016967381161763245, 0.11629606778011807, 0.03369325328209028, 0.0016303187071979167, 0.2950876860028229, 0.21574550891919098, 0.20324639883067364, 0.002173758276263889, 0.13259925485209723, 0.9904436559528357, 0.9884577459105781, 0.1221917228264775, 0.8737860934195278, 0.0006975881234744996, 0.1743970308686249, 0.5427235600631607, 0.003139146555635248, 0.0017439703086862492, 0.27694248501937635, 0.63385000459031, 0.18975127525951957, 0.17360223055658175, 0.023213396499887635, 0.06531226811832792, 0.009442737559276326, 0.20813367370238237, 0.004721368779638163, 0.09403392819446009, 0.36669297521856403, 0.06255813633020567, 0.12432937786380498, 0.0007868947966063606, 0.011016527152489047, 0.029508554872738523, 0.0003934473983031803, 0.9656224705509182, 0.9819771894451959, 0.9867379214925792, 0.030467771033055667, 0.005539594733282849, 0.06370533943275276, 0.0027697973666414243, 0.8974143467918215, 0.9930482144688361, 0.9818635962597669, 0.1804136538784685, 0.35625987348153276, 0.22837171377021329, 0.006851151413106399, 0.1667113510522557, 0.05937664558025546, 0.46765543981632596, 0.07438174508076927, 0.028486625775613762, 0.03086051125691491, 0.2666664690661622, 0.08466858216640757, 0.04510382414472179, 0.002373885481301147, 0.07558106066014872, 0.01374201102911795, 0.9069727279217847, 0.9895976916450704, 0.600304108703726, 0.3782738219228958, 0.0016446687909691122, 0.018091356700660234, 0.8772992240654203, 0.12100678952626485, 0.9958305791936377, 0.9219433478455922, 0.976703364871931, 0.9837239618518043, 0.9907488170983163, 0.9645695873910733, 0.9864861462274008, 0.9740734467573788, 0.9465179412814706, 0.8191332093828665, 0.17807243682236226, 0.9838871996484125, 0.9258540651434382, 0.9617509871149962, 0.027400412437219402, 0.959014435302679, 0.05095738279615142, 0.1297097016629309, 0.013897468035314024, 0.5582149660851132, 0.013897468035314024, 0.22930822258268138, 0.12469100680719856, 0.011335546073381688, 0.014979114454111517, 0.4295362279949275, 0.07246652668340436, 0.017408160041264737, 0.012550068866958298, 0.21092212515113784, 0.014574273522919314, 0.06720359457790573, 0.023885614940339986, 0.9544105471296506, 0.9655363982304688, 0.6829459091281618, 0.19150172451904537, 0.0346087453950082, 0.08767548833402078, 0.9926169848520339, 0.994792844673716, 0.9568665005015362, 0.03610816983024665, 0.7205418382916979, 0.15423739030525166, 0.0690615180471276, 0.05294716383613116, 0.9739640134826687, 0.0009731539134731773, 0.03211407914461485, 0.012651000875151306, 0.025302001750302613, 0.05546977306797111, 0.11093954613594222, 0.7600332064225516, 0.9926815038482477, 0.5727329758072802, 0.03688053253304456, 0.023863873991970007, 0.015186101631253642, 0.2885359309938192, 0.06074440652501457, 0.5711054652191379, 0.09451393262429394, 0.09652486736098104, 0.0040218694733742105, 0.006032804210061315, 0.1588638441982813, 0.026142151576932365, 0.038207759997054995, 0.005054769800505404, 0.029317664842931343, 0.021230033162122696, 0.05560246780555945, 0.10311730393031024, 0.25071658210506803, 0.5337836909333706, 0.9899841680021119, 0.0022062956849585283, 0.05295109643900468, 0.5736368780892174, 0.11913996698776054, 0.02868184390446087, 0.11252107993288495, 0.11031478424792643, 0.0023612476581912597, 0.028807221429933368, 0.0042502457847442675, 0.0009444990632765038, 0.5884229164212619, 0.006139243911297275, 0.005666994379659023, 0.36363213936145394, 0.9964305051746496, 0.9947324821775919, 0.1327796657110187, 0.6087436981828241, 0.001021382043930913, 0.09600991212950583, 0.15933559885322243, 0.3569765638292293, 0.005343960536365708, 0.009619128965458275, 0.49057557723837203, 0.0064127526436388495, 0.12932384498005015, 0.2591205408480128, 0.008358727124129444, 0.002279652852035303, 0.5630742544527199, 0.01595756996424712, 0.02963548707645894, 0.06686981699303556, 0.053191899880823734, 0.9200840532944105, 0.07625005966528264, 0.037532217813662325, 0.21653202584805187, 0.7131121384595841, 0.03031448361872726, 0.9944156723575697, 0.993229929808771, 0.9762593464685799, 0.20638360968013972, 0.13832092989200853, 0.03622691020981176, 0.5829239188306075, 0.03512912505193868, 0.2784179379483492, 0.4291029151175274, 0.16964533853483643, 0.12274339199873459, 0.02042786325855287, 0.058497972058583224, 0.689904654595672, 0.10585347324886488, 0.001857078478050261, 0.11142470868301566, 0.010213931629276436, 0.50337904265952, 0.49219284171153077, 0.9655771624478675, 0.09750597816406892, 0.006393834633709437, 0.03276840249776086, 0.5402790265484474, 0.21818960687533454, 0.047953759752820777, 0.04635530109439342, 0.010389981279777836, 0.32844500840662355, 0.020140495798519367, 0.266474252103487, 0.21070057143066415, 0.007746344537892065, 0.15027908403510606, 0.013943420168205716, 0.9759245887264159, 0.01708082603257901, 0.254585645152249, 0.21229026640491053, 0.011387217355052673, 0.026027925382977535, 0.32941593062830943, 0.01626745336436096, 0.04148200607912045, 0.0862175028311131, 0.005693608677526336, 0.9924791286831436, 0.8660432454992777, 0.024922107784151874, 0.10591895808264547, 0.9945094376489749, 0.07150993564333244, 0.004333935493535299, 0.10834838733838248, 0.4550632268212064, 0.017335741974141197, 0.34238090398928867, 0.03632897394313329, 0.032436583877797576, 0.05060107084936422, 0.009082243485783322, 0.07784780130671419, 0.7927501099733728, 0.13487256988389415, 0.022880168105303474, 0.02318122294879431, 0.03281497794050103, 0.02679388107068433, 0.034922361844936876, 0.03642763606239106, 0.00030105484349083516, 0.020772784200867627, 0.005720042026325868, 0.0012042193739633406, 0.21254471950452963, 0.18484767390337278, 0.03401919731446437, 0.22609218746161722, 0.001806329060945011, 0.00030105484349083516, 0.023081238572257936, 0.015979319011563187, 0.017399702923702135, 0.12144282448788021, 0.1544667504451108, 0.00035509597803473744, 0.0028407678242778995, 0.07989659505781593, 0.47369803469833976, 0.0170446069456674, 0.0007101919560694749, 0.09339024222313595, 0.993858125556323, 0.026858672328769623, 0.9579593130594499, 0.14337773004546006, 0.846611358363669, 0.5008016626468794, 0.055218560046822844, 0.04064699559002237, 0.016872337792084757, 0.0007669244450947617, 0.06288780449777046, 0.32210826693979994, 0.05849674391082972, 0.8369534128780253, 0.09899448969525029, 0.9577545299728167, 0.09649026184609023, 0.15337463714372715, 0.00011219797889080259, 0.02255179375705132, 0.002804949472270065, 0.006844076712338958, 0.06406504594664827, 0.00695627469122976, 0.021542011947034097, 0.04364501378852221, 0.0010097818100172234, 0.07954836703357904, 0.01424914331913193, 0.0007853858522356181, 0.4860416445549568, 0.9469215592134348, 0.04568241330337712, 0.01923470033826405, 0.026447712965113068, 0.0793431388953392, 0.06251277609935817, 0.5025065463371483, 0.12262121465643332, 0.0745344638107732, 0.016830362795981043, 0.04808675084566012, 0.9873735201976417, 0.0016586179540260056, 0.010283431314961235, 0.0013268943632208045, 0.004312406680467615, 0.7822042271186642, 0.01161032567818204, 0.0600419699357414, 0.00597102463449362, 0.006966195406909224, 0.002653788726441609, 0.02686961085522129, 0.08591641001854709, 0.9036258985216806, 0.09511851563386112, 0.995612691592598, 0.020039867070481415, 0.013359911380320943, 0.02504983383810177, 0.32063787312770264, 0.01669988922540118, 0.005009966767620354, 0.1669988922540118, 0.32648283435659303, 0.10604429658129749, 0.006811535354972454, 0.24521527277900834, 0.034057676774862274, 0.7118054445946215, 0.9875007978029252, 0.9845419929886489, 0.8423510868637604, 0.14781641668522716, 0.008099529681382311, 0.9933450425315193, 0.9871433877296818, 0.993351511457774, 0.08023981984111177, 0.002149280888601208, 0.1776738867910332, 0.050149887400694856, 0.15761393183075526, 0.09026979732125073, 0.0702098423609728, 0.07379197717530814, 0.1590467857564894, 0.11821044887306645, 0.020059954960277942, 0.06751804600408091, 0.0876687806642136, 0.0007850935581869875, 0.00314037423274795, 0.042918447847555316, 0.0020935828218319667, 0.1761226548866142, 0.0062807484654959, 0.11514705520075816, 0.009159424845514854, 0.03271223159112448, 0.023552806745609625, 0.43258655056103007, 0.04363609711761766, 0.029999816768362136, 0.05181786532717097, 0.8454493816538421, 0.027272560698511035, 0.0017653671818842365, 0.4890067093819335, 0.017300598382465518, 0.024008993673625616, 0.12887180427754927, 0.08968065283971921, 0.040956518619714284, 0.01694752494608867, 0.006355321854783252, 0.18501048066146797, 0.03739867795694521, 0.7583620807936111, 0.20153732010131584, 0.9883164700564918, 0.9805593343746886, 0.20535366900229174, 0.018335149018061762, 0.001294245813039654, 0.028473407886872387, 0.13999425544378924, 0.23555273797321702, 0.037317420942643356, 0.006902644336211488, 0.052201247792599374, 0.000215707635506609, 0.22304169511383368, 0.01660948793400889, 0.000215707635506609, 0.03170902241947152, 0.002588491626079308, 0.0716561111259835, 0.07370342858672588, 0.05323025397930202, 0.5138766826463388, 0.0020473174607423855, 0.2845771270431916, 0.9297278504516455, 0.9949769802565647, 0.010619105168491075, 0.005309552584245538, 0.24423941887529474, 0.11681015685340183, 0.6185628760646051, 0.15120765374764275, 0.01400070868033729, 0.0042002126041011875, 0.004900248038118052, 0.07840396860988884, 0.07980403947792256, 0.3717188154629551, 0.014700744114354156, 0.06790343709963587, 0.21211073650710996, 0.060444965916568644, 0.006879914819772041, 0.05995354342944207, 0.004914224871265744, 0.28207650761065367, 0.029976771714721035, 0.04127948891863225, 0.2186830067713256, 0.004422802384139169, 0.2879735774561726, 0.0034399574098860205, 0.01620057802759962, 0.17618128605014585, 0.07897781788454815, 0.3872950684723034, 0.0025313403168124404, 0.11289777812983484, 0.13922371742468423, 0.05619575503323618, 0.022782062851311964, 0.007594020950437322, 0.036905573637176774, 0.06766021833482408, 0.10149032750223613, 0.026141447993000215, 0.06458475386505935, 0.007688661174411828, 0.04766969928135333, 0.01691505458370602, 0.14608456231382472, 0.35214068178806174, 0.04151877034182387, 0.09072620185805957, 0.9935782056658928, 0.9851046540191569, 0.9095140673890674, 0.015612036370349925, 0.001556183689649028, 0.0006023936863157527, 0.0027609710622805337, 0.013453458994385145, 0.012951464255788685, 0.009086104768595938, 0.0019577794805261963, 0.0014055852680700898, 0.020230387965437364, 0.005923537915438235, 0.004819149490526022, 0.8247688574940572, 0.06034894079224808, 0.03620936447534885, 0.0724187289506977, 0.7240874323012243, 0.013694324960779656, 0.2601921742548135, 0.30048468984618326, 0.6816257964405525, 0.01581498367611491, 0.9037696959087212, 0.02833133842974048, 0.05760705480713897, 0.010388157424238176, 0.04309888457506762, 0.04083052222901143, 0.018713989354963573, 0.08052686328499477, 0.05273942454580643, 0.017012717595421428, 0.02438489522010405, 0.011908902316795, 0.7105645049021017, 0.5001394621107316, 0.004879409386446162, 0.31228220073255436, 0.056113207944130855, 0.11222641588826171, 0.014638228159338485, 0.993054701764476, 0.10243506060542452, 0.4041865343165847, 0.018512360350377927, 0.2061042785675409, 0.02961977656060468, 0.17648450200693622, 0.05985663179955529, 0.0030853933917296544, 0.9721862346024847, 0.039006972524084804, 0.12041282822652265, 0.7614839418832207, 0.005087865981402365, 0.03391910654268244, 0.015263597944207096, 0.025439329907011827, 0.9910293209898513, 0.15547833793233595, 0.28365044447153764, 0.0763459938950897, 0.0005572700284313117, 0.1571501480176299, 0.0523833826725433, 0.0005572700284313117, 0.13263026676665218, 0.14098931719312185, 0.9943649145826357, 0.007859424758645355, 0.014548296893662679, 0.02541771411306583, 0.29472842844920083, 0.01672218033754331, 0.2567690790829775, 0.010033308202525985, 0.0007524981151894489, 0.14330908549274615, 0.017976343862859057, 8.361090168771654e-05, 0.008277479267083937, 0.07441370250206772, 0.001839439837129764, 0.011789137137968033, 0.0002508327050631496, 0.11513221162398568, 8.361090168771654e-05, 0.9256735666668902, 0.04958965535715483, 0.14642405331002292, 0.805332293205126, 0.9957799567257426, 0.9906307372361914, 0.9454828495343566, 0.07681204273247438, 0.5120802848831626, 0.04755031216772224, 0.21946297923564112, 0.10241605697663252, 0.036577163205940184, 0.8029334735972193, 0.18709129481876957, 0.9849389604500427, 0.060511986506986803, 0.9379357908582955, 0.22716399092301143, 0.00298899988056594, 0.642634974321677, 0.12254899510320354, 0.9732353836107542, 0.23912044298622512, 0.0006773950226238672, 0.16189741040710426, 0.17341312579171, 0.008128740271486407, 0.17273573076908613, 0.03861151628956043, 0.002709580090495469, 0.14089816470576438, 0.029805380995450156, 0.0006773950226238672, 0.0020321850678716017, 0.030482776018074025, 0.8506603818843431, 0.14846431193264478, 0.11957563764748748, 0.009490129972022816, 0.14614800156915136, 0.7231479038681385, 0.038858356594445205, 0.025564708285819214, 0.08896518483465087, 0.20349507795512095, 0.08896518483465087, 0.023519531622953678, 0.04192612158874351, 0.11555248145190285, 0.0030677649942983058, 0.03681317993157967, 0.022496943291520907, 0.11759765811476838, 0.19531437130365878, 0.9894125878037225, 0.08371314498033205, 0.9135651908723195, 0.17948579151203625, 0.0019403869352652566, 0.11448282918065014, 0.10769147490722175, 0.015523095482122053, 0.01843367588501994, 0.5627122112269245, 0.7696298070207898, 0.2252575044938897, 0.42765704636410734, 0.08485258856430701, 0.4853568065878361, 0.061725740171779724, 0.13319764984436677, 0.0389846780032293, 0.7277139893936136, 0.03573595483629353, 0.9168197782841664, 0.14129611736274353, 0.10019179231176359, 0.41232776066764243, 0.166986320519606, 0.03082824378823495, 0.015414121894117476, 0.13358905641568478, 0.0650281419560402, 0.9338467598932986, 0.09178072889692196, 0.906793601501589, 0.05562864968728172, 0.13072732676511203, 0.08483369077310463, 0.11403873185892752, 0.12377374555420183, 0.3532419255142389, 0.13629019173384022, 0.043557570134460565, 0.9247607197777782, 0.010051746954106286, 0.02010349390821257, 0.19528470490769395, 0.7988919746223844, 0.11180291503244916, 0.02434085604027491, 0.012376706461156732, 0.029497817065756878, 0.01835878125071582, 0.5800549761462122, 0.012376706461156732, 0.011345314256060338, 0.0028878981742699044, 0.0907625140484827, 0.021659236307024283, 0.00041255688203855776, 0.043112194173029285, 0.040843131321817217, 0.9952207838057995, 0.9980718094361527, 0.7994948918396705, 0.18274168956335324, 0.9934570248406729, 0.9890911787461716, 0.9477612464239589, 0.9811519455528768, 0.8690313852991004, 0.028923487327512043, 0.09764993886719663, 0.0021228247579825354, 0.0021228247579825354, 0.9968960647208993, 0.9974213572239146, 0.06130317001100402, 0.209151991802249, 0.7248198336595181, 0.002491651746712763, 0.9219111462837222, 0.006229129366781907, 0.06852042303460097, 0.0014280079396328826, 0.5654911440946215, 0.09210651210632093, 0.30844971496070267, 0.006426035728347972, 0.002856015879265765, 0.007854043667980854, 0.014280079396328827, 0.989093759811466, 0.6086970757240305, 0.0027956859427826037, 0.044222668549470275, 0.00203322614020553, 0.13546369159119342, 0.009149517630924885, 0.04091867607163629, 0.07675428679275875, 0.00025415326752569123, 0.01804488199432408, 0.06125093747369159, 0.9988970031948123, 0.9984586425244578, 0.23783768374834563, 0.7606209982676561, 0.7985543640182511, 0.20072951226688276, 0.973115231931258, 0.019333415203932277, 0.9857286956716014, 0.0021791679686243145, 0.10750561978546619, 0.04213058072673675, 0.002905557291499086, 0.015254175780370203, 0.11404312369133913, 0.6573823372016683, 0.015980565103244974, 0.007263893228747716, 0.03559307682086381, 0.986773994828525, 0.6704501808767681, 0.1625333771822468, 0.1625333771822468, 0.6486590123045918, 0.04946608295272426, 0.04946608295272426, 0.022399735676705328, 0.07933239718833136, 0.04759943831299882, 0.03733289279450888, 0.06439924007052782, 0.000933322319862722, 0.9828841685315116, 0.9948239339251573, 0.7976213862041717, 0.013876145249685976, 0.0025696565277196254, 0.011306488721966351, 0.0015417939166317751, 0.1721669873572149, 0.9931417204100649, 0.9939768605766822, 0.9954004165737818, 0.6559444609725379, 0.3405425947209343, 0.9906244083070712, 0.8415356659603331, 0.1574486084699978, 0.089205079400606, 0.13101996036964006, 0.7777567860240335, 0.11630236794852904, 0.8756884174948069, 0.9394018702493143, 0.0527753859690626, 0.008362450020760711, 0.05946631125874284, 0.3140564563352356, 0.3874601842952463, 0.06132463348557855, 0.022299866722028563, 0.033449800083042845, 0.11149933361014282, 0.005969783407823545, 0.9795768162570074, 0.014411133194682315, 0.807266180763915, 0.19277998346600955, 0.09362516604583412, 0.00808074349800354, 0.017415395469835216, 0.031208388681944706, 0.16481930272652048, 0.00404037174900177, 0.3927519986357238, 0.010867206773177174, 0.003901048585243088, 0.013514346884592127, 0.2241709704877189, 0.022152383037630397, 0.0013932316375868173, 0.01212111524700531, 0.9884538596736642, 0.17540713455097737, 0.0461597722502572, 0.775484173804321, 0.021285455266675465, 0.3118319196567956, 0.13196982265338789, 0.013835545923339052, 0.3863310130901597, 0.07343482067003036, 0.011707000396671507, 0.05002081987668734, 0.9923471373377142, 0.002811205224473868, 0.04779048881605576, 0.9305089293008504, 0.01686723134684321, 0.9925315783738689, 0.9329073625718098, 0.9894522554296014, 0.40818069950132135, 0.5899049835258822, 0.9384437312552163, 0.9858907374967708, 0.8238680031722909, 0.0470781716098452, 0.11769542902461298, 0.9965701319820504, 0.03043829411725888, 0.07454276110349113, 0.1211319867931731, 0.3497297875105459, 0.009939034813798818, 0.0031059483793121306, 0.013044983193110949, 0.0068330864344866874, 0.27891416446222933, 0.0546646914758935, 0.013666172868973375, 0.04472565666209468, 0.9891656269861029, 0.046767925576083016, 0.9470504929156811, 0.9952548888338845, 0.40667724242625686, 0.5190485857282489, 0.005351016347713906, 0.06421219617256688, 0.10380375290307137, 0.26030787266462513, 0.004790942441680217, 0.10060979127528455, 0.19323467848110207, 0.30502333545364047, 0.031939616277868114, 0.08516615314027691, 0.21925754319092564, 0.0006040152704984178, 0.27059884118329114, 0.003020076352492089, 0.07670993935329906, 0.04892523691037184, 0.2953634672737263, 0.9834997266508215, 0.6564535224544011, 0.09067893993762094, 0.10695464710591188, 0.006975303072124688, 0.04495195313147021, 0.08370363686549626, 0.00930040409616625, 0.9971210547220573, 0.9405557027852566, 0.8752851157241586, 0.03442132477566916, 0.08359464588376796, 0.04272066584254718, 0.020073565877823375, 0.02522063405162424, 0.9115457735801332, 0.9839626609065316, 0.006267278094946061, 0.9803723985940703, 0.40647832511584375, 0.024059464726482963, 0.2412277910734213, 0.029757759003807876, 0.015828595214791425, 0.037355484706907756, 0.05191779230451587, 0.08864013320283197, 0.02089374568352468, 0.08294183892550706, 0.8717809600226826, 0.1194220493181757, 0.0019409556486042828, 0.034937201674877086, 0.008734300418719271, 0.13489641757799764, 0.8190832837110072, 0.9894477122509681, 0.0010152449484937, 0.04111742041399485, 0.00558384721671535, 0.10710834206608534, 0.17893692217201462, 0.0385793080427606, 0.001776678659863975, 0.14568765010884593, 0.006852903402332475, 0.0032995460826045248, 0.08528057567347079, 0.38147828939650774, 0.0030457348454810997, 0.1300075458728247, 0.03421251207179597, 0.02600150917456494, 0.07116202510933563, 0.07663602704082298, 0.01368500482871839, 0.001368500482871839, 0.10948003862974712, 0.5378206897686327, 0.024995635594976737, 0.949834152609116, 0.024995635594976737, 0.9969174847188287, 0.10587191398618054, 0.8822659498848378, 0.9649621197768515, 0.07485530134641549, 0.13528066508388342, 0.029761746318454355, 0.5817068598606987, 0.005411226603355337, 0.08387401235200773, 0.06403284813970482, 0.023448648614539793, 0.9854780929355159, 0.29639224458194335, 0.7039315808821155, 0.9245826253176713, 0.0513657014065373, 0.021402375586057207, 0.9842153698502728, 0.13599803608808564, 0.8595075880767014, 0.021784509998285483, 0.005835136606683612, 0.026841628390744613, 0.07196668481576454, 0.08363695802913176, 0.3112072856897926, 0.003501081964010167, 0.022173519105397724, 0.03034271035475478, 0.24702078301627287, 0.0011670273213367224, 0.0046681092853468895, 0.12954003266837616, 0.024896582855183407, 0.015949373391601872, 0.032348159202208404, 0.005952061293206346, 0.007504772934912349, 0.04347592596776809, 0.18089090625874937, 0.0077635582085300164, 0.18347875899492605, 0.0005175705472353344, 0.09031606049256585, 0.10946617074027323, 0.02510217154091372, 0.11593580258071491, 0.1971943784966624, 0.13306493557171473, 0.003580222481750172, 0.22078038637459393, 0.02685166861312629, 0.00298351873479181, 0.08711874705592085, 0.4666223301214391, 0.05847696720191948, 0.9671491018573568, 0.9615063186941498, 0.025458756602588416, 0.010183502641035368, 0.025458756602588416, 0.001272937830129421, 0.2011241771604485, 0.5715490857281099, 0.07892214546802409, 0.005091751320517684, 0.04073401056414147, 0.04073401056414147, 0.014075193270660178, 0.9148875625929116, 0.05630077308264071, 0.9003706022850041, 0.9619285293902049, 0.9840576815221374, 0.20626681234393252, 0.1129039393882578, 0.2627187820380614, 0.006513688810861027, 0.4103623950842447, 0.02823522595669909, 0.28343822979609473, 0.2030764328424127, 0.4848857072948517, 0.9714730678582377, 0.02233271420363765, 0.1876231370767224, 0.14835317815368748, 0.030543301384582718, 0.021816643846130513, 0.5890493838455239, 0.026179972615356616, 0.4305304431003491, 0.5658400109318874, 0.03661988052402974, 0.5992344085750321, 0.20640296295362218, 0.15646676223903616, 0.9893829114907917, 0.06246259268823921, 0.07393531379424234, 0.007648480737335414, 0.13894740006159337, 0.03696765689712117, 0.047165631213568385, 0.6322744076197275, 0.0213379498570164, 0.0071126499523388, 0.058086641277433536, 0.5832372960917817, 0.3283673394663079, 0.9872809334715861, 0.07021053239265082, 0.9267790275829909, 0.11239244839430881, 0.6431345658118782, 0.23727294661020748, 0.9793494771404877, 0.014402198193242467, 0.7356800784175005, 0.2597946151507345, 0.0024279870574834997, 0.08630335192115317, 0.41666887110320183, 0.06681549826153793, 0.23849420907243402, 0.025983804879486976, 0.0037119721256409963, 0.03526373519358947, 0.012063909408333238, 0.11414314286346064, 0.9665441800076306, 0.054531965951549126, 0.06980091641798289, 0.0501694086754252, 0.010906393190309826, 0.6194831332095981, 0.19413379878751488, 0.9344958440800268, 0.9894684535268282, 0.008834539763632394, 0.9567817631501169, 0.020827352412563463, 0.005049055130318415, 0.011991505934506236, 0.18492164414791196, 0.07889148641122523, 0.45189043416349817, 0.10918581719313573, 0.007573582695477623, 0.08330940965025385, 0.01640942917353485, 0.02966319889062069, 0.9896791900361266, 0.9874754012488798, 0.9801130985695595, 0.030998491394624725, 0.12657717319471762, 0.6303026583573694, 0.14078481508392063, 0.06974660563790563, 0.9796254281609318, 0.999538511717053, 0.009699282976296065, 0.21920379526429107, 0.2909784892888819, 0.29485820247940037, 0.01357899616681449, 0.04655655828622111, 0.12415082209658962, 0.9912860840523984, 0.9965304093431775, 0.9943179551665954, 0.03452952771192918, 0.18834287842870462, 0.03296000372502331, 0.05964191150242313, 0.5430552994694317, 0.10672763110959929, 0.03609905169883505, 0.9791402058245164, 0.00840798299653118, 0.02328364522116327, 0.8259226374284859, 0.013582126379011907, 0.08278629411969163, 0.01616919807025227, 0.018109501838682544, 0.005174143382480727, 0.006467679228100908, 0.02494190156719089, 0.8480246532844903, 0.11639554064689081, 0.009032235209641077, 0.05419341125784646, 0.0578063053417029, 0.10838682251569293, 0.014451576335425724, 0.01625802337735394, 0.4425795252724128, 0.2962573148762273, 0.9812638485906595, 0.013616090116132712, 0.5546287373971391, 0.09848971850669329, 0.33268646850417594, 0.9501172106218446, 0.029846613946235955, 0.014923306973117978, 0.9972826348352724, 0.981763609496089, 0.019104532999510142, 0.0069471029089127785, 0.838862676251218, 0.01563098154505375, 0.024314860181194723, 0.08683878636140972, 0.008683878636140972, 0.991644791844561, 0.6484316948910287, 0.0072694136198545815, 0.027623771755447408, 0.029077654479418326, 0.2864148966222705, 0.003347669851246999, 0.20086019107481992, 0.6785726788477666, 0.05724515445632368, 0.0016738349256234994, 0.05824945541169778, 0.036732509736088416, 0.05787610070612955, 0.016843199586303956, 0.3284423919329272, 0.012005259279599629, 0.0017918297432238251, 0.35442392320967264, 0.012184442253922012, 0.16341487258201287, 0.006450587075605771, 0.008779965741796743, 0.0010750978459342952, 0.9908596651468524, 0.19705464373479667, 0.5630132678137048, 0.236465572481756, 0.9816720375164373, 0.01664006336107989, 0.0018488959290088765, 0.008011882359038464, 0.06347876022930475, 0.11894563809957105, 0.040059411795192325, 0.057932072442278125, 0.002465194572011835, 0.07950252494738169, 0.6107519552159322, 0.9211569810916831, 0.06579692722083451, 0.8970900863003866, 0.07176720690403092, 0.04996703271481806, 0.9443769183100614, 0.9939369765883522, 0.10279986753118062, 0.014428051583323597, 0.014428051583323597, 0.0913776600277161, 0.0006011688159718165, 0.18035064479154495, 0.5957582966280701, 0.9885761322041894, 0.9793428226217207, 0.9860646455736137, 0.9100773947721953, 0.08508853690959549, 0.9923597312674842, 0.9162007078375227, 0.03338383145966682, 0.044511775279555764, 0.013154718346217977, 0.0753406596192484, 0.6577359173108989, 0.1423101348363581, 0.05620652384293136, 0.05501064035691154, 0.9773353345235429, 0.16596855330095941, 0.14170414492362618, 0.6832857399057043, 0.009705763350933299, 0.01755757736958973, 0.0928043375249743, 0.005016450677025638, 0.8841494318257687, 0.9838578891518724, 0.5371778061606991, 0.13954032855346288, 0.012590104831891387, 0.13114692533220193, 0.005245877013288078, 0.1080650664737344, 0.06504887496477216, 0.991429195216914, 0.9740109420214835, 0.002197851272928903, 0.2254367448518503, 0.006279575065511151, 0.033595726600484654, 0.000627957506551115, 0.0813204970983694, 0.0003139787532755575, 0.09419362598266726, 0.556370350804288, 0.9933484834654605, 0.21327824923858998, 0.0031059939209503395, 0.03830725835838752, 0.009317981762851018, 0.26193882066681196, 0.04969590273520543, 0.019671294832685482, 0.006211987841900679, 0.39653189057466, 0.9777428677629905, 0.677292515621802, 0.03579974725429525, 0.0715994945085905, 0.021286336205256638, 0.10256143807987289, 0.08998314850403942, 0.718652417939018, 0.27320670434045313, 0.7491332796304698, 0.09734500243785767, 0.0987557995746382, 0.0014107971367805457, 0.052199494060880196, 0.04502463331172476, 0.888747109718393, 0.05089741156977581, 0.013703149268785795, 0.002545242460016227, 0.12471688054079512, 0.6931543632777525, 0.05175326335366329, 0.05684374827369574, 0.06956996057377687, 0.0008484141533387423, 0.991446461993707, 0.02562677682456397, 0.7101001066620458, 0.2640153984484149, 0.04799443418494027, 0.9502897968618174, 0.1076539279476684, 0.004306157117906736, 0.13492625636107772, 0.684678981747171, 0.06315697106263213, 0.004306157117906736, 0.9951469936710436, 0.9669490900303447, 0.9359983951763533, 0.04603270795949279, 0.22309278420679804, 0.0007196541426025744, 0.6818723001159392, 0.09391486560963595, 0.22369540447277522, 0.39708610076267753, 0.05351564700305627, 0.0931172257853179, 0.23118759505320308, 0.8715740847222795, 0.1022974277843051, 0.024551382668233226, 0.9913589409468387, 0.9961592686165146, 0.02523241497230731, 0.1725351618376689, 0.17321711899908263, 0.0675137589799574, 0.009547400259791955, 0.0034097858070685555, 0.008865443098378244, 0.38121405323026447, 0.05114678710602833, 0.05728440155875173, 0.049782872783200906, 0.0027124789352769873, 0.027576869175316036, 0.00045207982254616457, 0.017179033256754253, 0.015370713966569595, 0.02576854988513138, 0.004520798225461645, 0.004520798225461645, 0.06645573391428619, 0.0036166385803693166, 0.03707054544878549, 0.7947563280361573, 0.9873352659603445, 0.9897523984956343, 0.9893590415152964, 0.8832291982639117, 0.10036695434817178, 0.020620869918791952, 0.4173271293088847, 0.023075735385314804, 0.10605018815378718, 0.05155217479697988, 0.05007925551706617, 0.03387714343801535, 0.14385511633823908, 0.07511888327559925, 0.005891677119654843, 0.03387714343801535, 0.037804928184451914, 0.046292198861605, 0.09737324588130708, 0.009577696316194139, 0.22986471158865934, 0.6161651296751562, 0.05508957231977468, 0.06886196539971835, 0.8538883709565075, 0.984298545004313, 0.08209783067194754, 0.9030761373914229, 0.9920621374546332, 0.9661243654182304, 0.9933925626167767, 0.9929092981701155, 0.9832966352836584, 0.6644838771792849, 0.3131475743028814, 0.01527549142940885, 0.9843735182688321, 0.036144388544750626, 0.6759000657868367, 0.2855406695035299, 0.9909956421441779, 0.9454632095716614, 0.9772730796856514, 0.026917880169763205, 0.029609668186739525, 0.48811089374503946, 0.07267827645836065, 0.09241805524952033, 0.13728118886579235, 0.019739778791159682, 0.012561677412556163, 0.12023319809160898, 0.14145428818012212, 0.10216143035231043, 0.517094009014002, 0.01728885744423715, 0.22004000383574554, 0.953973803908539, 0.041914490505647585, 0.0016765796202259035, 0.5237672707817014, 0.01837779897479654, 0.2802614343656472, 0.14702239179837231, 0.027566698462194807, 0.03140765780573801, 0.05653378405032841, 0.0020938438537158673, 0.06281531561147602, 0.03140765780573801, 0.7600653188988598, 0.0041876877074317346, 0.05025225248918081, 0.9598196522243284, 0.9796219272831358, 0.9900116797526612, 0.8453523562839949, 0.15291356615376017, 0.9812341578113254, 0.04100264867519284, 0.0006308099796183515, 0.10092959673893623, 0.006308099796183514, 0.15517925498611446, 0.30341960019642705, 0.23087645254031663, 0.10408364663702799, 0.006938909775801866, 0.0006308099796183515, 0.04920317841023141, 0.0006308099796183515, 0.08158562289121164, 0.7532699976531048, 0.0011176112724823513, 0.032410726901988186, 0.004470445089929405, 0.12740768506298805, 0.1886238447055086, 0.006150777544744846, 0.8037015991799933, 0.992844269329935, 0.6984278050461202, 0.29739506537447696, 0.0035591893499097946, 0.953862745775825, 0.03915108284900774, 0.9993215966729541, 0.04949692273688529, 0.014557918452025084, 0.30280470380212177, 0.03202742059445519, 0.0174695021424301, 0.0349390042848602, 0.3639479613006271, 0.18051818880511103, 0.9824126257138093, 0.47181557217716735, 0.2300972494854166, 0.2370698934092171, 0.02789057569520201, 0.030214790336468848, 0.9832721260884429, 0.9838678616609537, 0.8182539243707826, 0.17126244928690798, 0.03622962659917116, 0.9419702915784501, 0.00603582006887513, 0.0860104359814706, 0.08978282352451755, 0.15240445673909703, 0.6450782698610296, 0.019616415223844174, 0.034274716637208255, 0.1062516215753456, 0.006854943327441651, 0.6546470877706777, 0.19879335649580787, 0.05720733602727528, 0.0001515426119927822, 0.9422161900651232, 0.00037885652998195546, 0.009056203974128003, 0.9871262331799523, 0.9863208011798242, 0.4678460369432109, 0.2602805416796737, 0.014276991737703618, 0.0032946904010085275, 0.21195841579821526, 0.004392920534678037, 0.004392920534678037, 0.03184867387641577, 0.08788166623961512, 0.8733806830411235, 0.0027179896775138697, 0.03533386580768031, 0.9858465466372185, 0.9978402467795429, 0.0011217257654170445, 0.10432049618378514, 0.1991063233615254, 0.5956363814364506, 0.06506009439418858, 0.03421263584521986, 0.03955871504633627, 0.013186238348778757, 0.03164697203706902, 0.9151249414052458, 0.025558459234729634, 0.11866427501838758, 0.1971652569536286, 0.657217523178762, 0.15648068924107075, 0.8271122145599453, 0.9835105596654395, 0.0012864499796896767, 0.3036021952067637, 0.04502574928913868, 0.6496572397432867, 0.9853754127775001, 0.9859157832230782, 0.9915932949818028, 0.9784644822397127, 0.9226147916222799, 0.8973923862974278, 0.10232284077557886, 0.025580710193894716, 0.019185532645421034, 0.8473610251727623, 0.03837110176883564, 0.0017986453954141703, 0.6493109877445156, 0.0263801324660745, 0.08033949432849961, 0.19905009042583485, 0.0011990969302761137, 0.0005995484651380569, 0.0023981938605522274, 0.99335326111918, 0.05290630155859163, 0.4358471509350644, 0.34263128628421247, 0.1587189046757749, 0.008817716926431938, 0.5181696865542529, 0.06245041824920963, 0.04219622854676327, 0.13671578049151298, 0.07257751310043282, 0.08945600451913813, 0.020254189702446367, 0.057386870823598043, 0.9884624745271198, 0.9944838812764898, 0.01122389912097038, 0.0009353249267475317, 0.0177711736082031, 0.021512473315193226, 0.4255728416701269, 0.04676624633737658, 0.13562211437839208, 0.0860498932607729, 0.17864706100877853, 0.030865722582668544, 0.04583092141062905, 0.09755574994180922, 0.03902229997672369, 0.14633362491271384, 0.1658447749010757, 0.45200830806371606, 0.09755574994180922, 0.96386425031674, 0.9952384664781293, 0.00316164291830077, 0.00632328583660154, 0.010749585922222618, 0.722751571123556, 0.0233961575954257, 0.000632328583660154, 0.22131500428105388, 0.00316164291830077, 0.008220271587582002, 0.9910917933948532, 0.015950237613042668, 0.0031900475226085334, 0.41598219694815275, 0.03253848473060704, 0.05678284590243189, 0.1620544141485135, 0.004466066531651947, 0.11675573932747232, 0.191402851356512, 0.9942357677830046, 0.02594269516129058, 0.10088825896057448, 0.06341547706093252, 0.3372550370967775, 0.08071060716845958, 0.37184529731183164, 0.020177651792114896, 0.9907860794627007, 0.9898177329098247, 0.9943647357535033, 0.9947761579626776, 0.13795718497522508, 0.06054236175171748, 0.0029774932009041383, 0.2709518812822766, 0.179642089787883, 0.1478821623115722, 0.014887466004520693, 0.18361208072242188, 0.0009924977336347128, 0.06547688501091632, 0.6781534518987762, 0.20578449574859414, 0.04676920357922594, 0.9835376605007405, 0.07836277843040104, 0.0018223901960558381, 0.08747472941068023, 0.020653755555299497, 0.7623665653500256, 0.04738214509745179, 0.0012149267973705588, 0.10596151114527372, 0.007568679367519551, 0.002522893122506517, 0.09839283177775417, 0.7783125282932606, 0.006307232806266293, 0.03534396227653212, 0.9587049767509338, 0.979462326918464, 0.9652520574869076, 0.041436353419942985, 0.8237547059884666, 0.014917087231179474, 0.05469598651432474, 0.06629816547190878, 0.9905809162381863, 0.9962385471253186, 0.04245349067038405, 0.01186200474613672, 0.009989056628325658, 0.24910209966887112, 0.3421251895201538, 0.07616655679098315, 0.0006243160392703537, 0.2672072648077114, 0.03154615912541252, 0.20918107896255683, 0.0037554951339776807, 0.11679589866670588, 0.04055934744695895, 0.0007510990267955361, 0.020655223236877244, 0.00037554951339776807, 0.5712108098780052, 0.004882143674170985, 0.600907850667582, 0.21544744889788917, 0.06155641397082547, 0.09086899205217094, 0.010259402328470913, 0.019053175752874553, 0.9006156994232148, 0.09158803722947947, 0.026353651864090617, 0.03294206483011327, 0.0026353651864090616, 0.2038015744156341, 0.00043922753106817694, 0.3944263228992229, 0.010980688276704424, 0.00043922753106817694, 0.0553426689145903, 0.0021961376553408848, 0.2696857040758606, 0.9780612321991933, 0.01590343466990558, 0.991861079036139, 0.034799579165672806, 0.05993260856310316, 0.34992910161037655, 0.3711955111005099, 0.13726500670904274, 0.028999649304727336, 0.015466479629187914, 0.9888312335878868, 0.9738607033296679, 0.2247591000066904, 0.49087387441461183, 0.0773171304023015, 0.12766316880380016, 0.01618265520048171, 0.017980728000535233, 0.0467498928013916, 0.009911450476046978, 0.07929160380837583, 0.05616488603093288, 0.07598778698302683, 0.08589923745907381, 0.05946870285628187, 0.6310290136416576, 0.9874430281882823, 0.2771954926526271, 0.714311461835616, 0.05006780020560119, 0.0020027120082240476, 0.5597580062986213, 0.02403254409868857, 0.0010013560041120238, 0.035047460143920836, 0.3274434133446318, 0.01678939620544559, 0.9536377044693094, 0.02686303392871294, 0.9388373173386669, 0.9928040273374696, 0.034340181432774064, 0.0019077878573763368, 0.003338628750408589, 0.23131927770688082, 0.090619923225376, 0.18171679341509608, 0.006677257500817178, 0.10397443822701036, 0.0019077878573763368, 0.00572336357212901, 0.014308408930322526, 0.3243239357539772, 0.06676746716149808, 0.03773813361302065, 0.157726045613394, 0.1993347570328783, 0.0058058667096954845, 0.17707893464571228, 0.015482311225854625, 0.3396432025171858, 0.9871211277683078, 0.011215851676179077, 0.008411888757134308, 0.10374662800465646, 0.013085160288875589, 0.18132293543156175, 0.08505354187769133, 0.12150505982527333, 0.057948566993591896, 0.38414291990913335, 0.03271290072218897, 0.9913594810708235, 0.019264542360007523, 0.8418605011323287, 0.07127880673202783, 0.02986004065801166, 0.02697035930401053, 0.010595498298004137, 0.10894409920172823, 0.009460131863455392, 0.0534039701969256, 0.04241801061355805, 0.30058806082269557, 0.4192974574318616, 0.027464898958418884, 0.03387337538204996, 0.003967152071771616, 0.9897205200315848, 0.007964651959880902, 0.06950968983168787, 0.008688711228960984, 0.03403078564676386, 0.02172177807240246, 0.14191561673969608, 0.07892246032972894, 0.004344355614480492, 0.5155301995850184, 0.11584948305281312, 0.026760936285999053, 0.05017675553624822, 0.16725585178749408, 0.7526513330437233, 0.848459853884005, 0.002634968490322997, 0.07641408621936692, 0.002634968490322997, 0.06850918074839793, 0.010589840439414673, 0.15355268637151276, 0.10695738843808819, 0.018002728747004943, 0.014825776615180543, 0.03494647345006842, 0.6576290912876511, 0.0021179680878829345, 0.03062080339195899, 0.020413868927972662, 0.014409789831510113, 0.018012237289387643, 0.022815500566557678, 0.4202855367523783, 0.043829777404176595, 0.16691339888165882, 0.09966771300127829, 0.05343630395851667, 0.009606526554340076, 0.09906730509163203, 0.9828684573285595, 0.9874711552144646, 0.0016785568185500837, 0.055951893951669454, 0.009511821971783808, 0.016785568185500838, 0.07889217047185393, 0.07777313259282055, 0.010071340911300502, 0.05539237501215276, 0.41684160993993746, 0.021261719701634395, 0.005595189395166946, 0.05539237501215276, 0.1947125909518097, 0.020488199589176484, 0.020488199589176484, 0.027317599452235313, 0.06566730637556566, 0.7233910470332312, 0.007880076765067879, 0.002626692255022626, 0.07354738314063353, 0.0583125680615023, 0.9935210085653433, 0.9903607906581572, 0.9929038069640982, 0.18903704799517537, 0.027974092304218778, 0.05340508530805403, 0.012715496501917627, 0.1305457640863543, 0.005086198600767051, 0.05086198600767051, 0.08985617528021789, 0.24413753283681844, 0.19666634589632595, 0.9915007816113675, 0.9815051124611737, 0.5276247254901433, 0.34923011916396307, 0.01663000567447443, 0.022677280465192406, 0.08315002837237216, 0.9860132417949498, 0.9911666617758457, 0.9956380841270615, 0.009205269691093743, 0.006136846460729163, 0.09435401433371088, 0.17413301832319, 0.005369740653138017, 0.013040798729049471, 0.6972991791003511, 0.9715372217431476, 0.01873421738677521, 0.9503357547109605, 0.02895288141592532, 0.07310395737686719, 0.047517572294963666, 0.8626266970470328, 0.014620791475373436, 0.9909932347208604, 0.9962966009797724, 0.030220386737240285, 0.19038843644461378, 0.11483746960151307, 0.6648485082192862, 0.981371947368582, 0.6525770844230446, 0.0266357993642059, 0.2141962198871558, 0.0910056478277035, 0.01553754962912011, 0.03794162044610564, 0.018358848602954343, 0.005507654580886303, 0.6456195092038944, 0.006731577821083259, 0.26130761178205014, 0.009179424301477172, 0.015299040502461954, 0.9877697005209877, 0.12815080745389648, 0.8681183730747826, 0.6563304855458224, 0.036211337133562616, 0.049790588558648596, 0.1357925142508598, 0.12221326282577383, 0.9918479886346494, 0.8899526136820686, 0.10318291173125432, 0.2616889207634061, 0.5303562127471697, 0.07850667622902184, 0.1273552747715243, 0.8134504045092582, 0.1817766267059795, 0.009849036470827716, 0.06648099617808709, 0.08371681000203558, 0.009849036470827716, 0.8273190635495281, 0.9721134505520362, 0.9173664072377254, 0.9891183786472485, 0.9535148651706756, 0.9855601698355656, 0.09574108879551405, 0.0968674545460495, 0.01576912050749643, 0.06870831078266303, 0.05181282452463113, 0.2737068773801166, 0.04843372727302475, 0.1633230338276416, 0.07659287103641124, 0.11038384355247502, 0.019105847593553445, 0.12312657338067776, 0.019105847593553445, 0.05307179887098179, 0.09765210992260649, 0.5561924521678892, 0.07854626232905305, 0.05094892691614252, 0.996552132567009, 0.2962468067213991, 0.039167246080954204, 0.12747158269983278, 0.01922755716701388, 0.26491300985663574, 0.009257712710043721, 0.03631871909324844, 0.03987937782788065, 0.16735096052771342, 0.9917198236471192, 0.9749886862093374, 0.9945676675679211, 0.9975063531088554, 0.07465745814819853, 0.007465745814819854, 0.7590174911733518, 0.029862983259279417, 0.0024885819382732847, 0.12194051497539095, 0.0024885819382732847, 0.08810163923533557, 0.1107944857050432, 0.0013348733217475085, 0.2322679579840665, 0.008009239930485051, 0.5272749620902659, 0.02803233975669768, 0.004004619965242526, 0.053836609167400414, 0.04491693427576011, 0.10799177815235941, 0.0035041579931444056, 0.1331580037394874, 0.07518011694382543, 0.11882281194935121, 0.4564962185614485, 0.004778397263378735, 0.0006371196351171647, 0.9945347854271451, 0.8623339851322253, 0.0626481955010591, 0.0737037594130107, 0.039494116278373924, 0.4052594454150261, 0.20494244122831873, 0.00142321139741888, 0.07934403540610256, 0.04198473622385696, 0.19711477854251488, 0.00569284558967552, 0.024550396605475682, 0.9709813870955198, 0.10910454611802513, 0.8849590962906482, 0.145513122243761, 0.8506920992712181, 0.0867869566898406, 0.7445407337075798, 0.08069664393967634, 0.012180625500328505, 0.07612890937705315, 0.09729346804524841, 0.42997435878061396, 0.21498717939030698, 0.0329542391766164, 0.2118486804211054, 0.014123245361407027, 0.12039205085006188, 0.8493111950877092, 0.029550776117742462, 0.03381173549666991, 0.9602532881054254, 0.15636135222251482, 0.10168284254961085, 0.03069670718478818, 0.0968864820519877, 0.23310312018448526, 0.08249740055911824, 0.27914818096166755, 0.019185441990492616, 0.9032460873882282, 0.08521189503662531, 0.9860116722926378, 0.6200457054228973, 0.12056444272111892, 0.17223491817302702, 0.07750571317786216, 0.6553708001188049, 0.262148320047522, 0.9869673073576654, 0.9948070957419679, 0.9228458135400153, 0.06591755811000109, 0.995779503560983, 0.9687921572852056, 0.9861862339578249, 0.10697884272942013, 0.05301606365351794, 0.06027421522513052, 0.09151582416381072, 0.14705646227702, 0.025561316404374722, 0.07005694125643443, 0.0678479386042045, 0.000946715422384249, 0.36038300412093743, 0.0006311436149228326, 0.001893430844768498, 0.0003155718074614163, 0.013569587720840902, 0.1692721619093464, 0.005877505621852306, 0.002938752810926153, 0.32972806538591437, 0.1193133641236018, 0.007053006746222766, 0.002938752810926153, 0.22452071475475807, 0.1345948787404178, 0.002938752810926153, 0.9923555314079555, 0.0796346898088139, 0.004921244875825579, 0.03623825772198835, 0.18163867450774407, 0.052791535940674386, 0.0031317012846162774, 0.025500996174732542, 0.037133029517593, 0.0022369294890116267, 0.43978033753968576, 0.1328736116472906, 0.004026473080220928, 0.8973147289700407, 0.056609271916612344, 0.14454600499096162, 0.06375413147890321, 0.03462508864802503, 0.1319050996115239, 0.0010992091634293658, 0.004396836653717463, 0.12530984463094771, 0.4380348516266023, 0.9665311389252703, 0.02472521518180924, 0.007867113921484759, 0.8817187603232072, 0.11168437630760623, 0.44737569202659283, 0.0950868195596591, 0.4442580913852925, 0.010911602244551044, 0.9907372836063301, 0.9945533762571726, 0.98987899739668, 0.9740446790067292, 0.11423882446989558, 0.06884929153319601, 0.24428748625482138, 0.10403892942794063, 0.10097896091535413, 0.027539716613278403, 0.11219884546150459, 0.20705786935168574, 0.020909784836007674, 0.08991761712907106, 0.033469335264709785, 0.4705688629754719, 0.012488557934593204, 0.014486727204128117, 0.024977115869186408, 0.028973454408256234, 0.0059945078086047375, 0.21030731561854954, 0.022978946599651495, 0.003496796221686097, 0.08242448236831515, 0.9806041165910143, 0.9947543311677008, 0.0170788965173848, 0.035056682325158274, 0.31640903021681316, 0.019775564388550822, 0.0782033682638146, 0.1231478327832483, 0.2795545693108775, 0.13033894710635768, 0.034798265486308856, 0.07435839888127051, 0.09999922608170861, 0.2860783720506023, 0.032234182766265045, 0.016849686446002186, 0.016117091383132522, 0.20109734475772173, 0.20988848551215764, 0.0007325950628696602, 0.02783861238904709, 0.9872645189711852, 0.0072403597222243845, 0.0489586228836125, 0.9374541945108619, 0.006206022619049472, 0.985145855839303, 0.012475159260715298, 0.012475159260715298, 0.9730624223357932, 0.9863827581128684, 0.409333648664564, 0.015411658458756175, 0.01849399015050741, 0.08753822004573507, 0.04315264368451729, 0.16829531036961742, 0.054249037774821735, 0.0018493990150507409, 0.20220095897888102, 0.9904396995005975, 0.016211815630047435, 0.010013180242088122, 0.02288726912477285, 0.01907272427064404, 0.089641804072027, 0.07342998844197957, 0.007152271601491515, 0.0033377267473627074, 0.02908590451273216, 0.044344083929247394, 0.684233983209355, 0.9933516342536971, 0.9857697975580001, 0.9988739758077353, 0.9911086552771144, 0.8990582823906049, 0.09174064106026582, 0.9922913053500008, 0.06457111492815013, 0.03311339227084622, 0.05629276686043857, 0.024835044203134662, 0.14073191715109643, 0.01821236574896542, 0.20530303207924655, 0.01821236574896542, 0.4370967779751701, 0.003761377583153415, 0.026329643082073903, 0.028837228137509514, 0.08149651430165733, 0.03385239824838073, 0.011284132749460244, 0.18556129410223512, 0.0012537925277178049, 0.5541762972512698, 0.07021238155219708, 0.3559924631983256, 0.0005434999438142376, 0.03641449623555392, 0.01358749859535594, 0.07772049196543597, 0.1603324834252001, 0.14891898460510108, 0.0005434999438142376, 0.07119849263966513, 0.08750349095409225, 0.003804499606699663, 0.044023495448953245, 0.9592244864550411, 0.3780551945884438, 0.03731453868665159, 0.03731453868665159, 0.008837653899470114, 0.12176323150381045, 0.22585115520868068, 0.1914825011551858, 0.19264876882828735, 0.027178664481999047, 0.019984312119116946, 0.03437301684488115, 0.2422098628836974, 0.04556423163158664, 0.43725674916627877, 0.02498609993906388, 0.001343338706401284, 0.008060032238407703, 0.02068741607857977, 0.05239020954965007, 0.002686677412802568, 0.07495829981719164, 0.005104687084324879, 0.026329438645465164, 0.07925698367767575, 0.03707614829667544, 0.004298683860484109, 0.07280895788694959, 0.5897256921101637, 0.19208256063792595, 0.23926073342618845, 0.5678230082015882, 0.990791250647603, 0.9931851245769004, 0.2075528892923854, 0.06810329179906396, 0.09729041685580565, 0.13620658359812793, 0.42483482027035135, 0.06486027790387044, 0.974912243291445, 0.9802623481183426, 0.9711100614987378, 0.9916533366562806, 0.13452077903485316, 0.040622611490722986, 0.14118022354152907, 0.01531672236535457, 0.14184616799219665, 0.016648611266689747, 0.13452077903485316, 0.0532755560534072, 0.12253377892283655, 0.00332972225333795, 0.19512172404560385, 0.9554083258320285, 0.9832042302706471, 0.9926338532385122, 0.9197425042268196, 0.07508102075320977, 0.9842382062675574, 0.94957513523831, 0.9904414574541672, 0.09832530245171794, 0.3641677868582146, 0.5353266466815755, 0.030211958859813308, 0.027465417145284825, 0.13458054401189565, 0.4586724663262566, 0.0961289600084969, 0.24444221259303495, 0.010986166858113931, 0.9892363058151069, 0.9381919757395651, 0.37338450614276986, 0.04452120502497256, 0.10269557959093671, 0.07538924050895354, 0.01602763380899012, 0.29621441743281746, 0.026119106947983903, 0.05758075849896451, 0.007717008870995244, 0.1518893791098375, 0.017439150934833194, 0.001125106511924722, 0.19464342656297692, 0.0033753195357741662, 0.5918060252724038, 0.0016876597678870831, 0.03769106814947819, 0.9894390763370486, 0.018055290978154278, 0.07402669301043253, 0.05597140203227826, 0.02076358462487742, 0.05506863748337055, 0.6590181207026311, 0.04965205018992427, 0.06499904752135541, 0.0018055290978154278, 0.09597401545476043, 0.018957830213286012, 0.35585427129522285, 0.21051090632669675, 0.007899095922202505, 0.03989043440712265, 0.19352785009396137, 0.001579819184440501, 0.0019747739805506264, 0.004344502757211378, 0.049369349513765655, 0.020142694601616388, 0.9905704752855935, 0.036301767520838274, 0.02420117834722552, 0.019159266191553535, 0.017142501329284743, 0.30049796447805016, 0.12705618632293397, 0.238986636178852, 0.12604780389179956, 0.02621794320949431, 0.043360444538779054, 0.04134367967651026, 0.9913467138488673, 0.9834106596639923, 0.05810929232317128, 0.02213687326597001, 0.1337436093152355, 0.0018447394388308343, 0.008301327474738754, 0.7111470536692867, 0.03320530989895502, 0.030438200740708767, 0.5965040329387538, 0.23958961157374375, 0.09385984783301302, 0.06915988787695697, 0.106008317353515, 0.0233218298177733, 0.8706816465302032, 0.029067095716836088, 0.9664809325847998, 0.24191667281165583, 0.009449870031705306, 0.005669922019023183, 0.0018899740063410611, 0.32696550309700356, 0.3647649832238248, 0.04724935015852653, 0.10605644121507535, 0.011707529225040784, 0.0013773563794165628, 0.12396207414749066, 0.1387686552262187, 0.23483926269052396, 0.1022687111716798, 0.1539195753998009, 0.005165086422812111, 0.12189603957836581, 0.032222570089339146, 0.042963426785785526, 0.006137632397969361, 0.01841289719390808, 0.048333855134008716, 0.05063546728324723, 0.7265422351096231, 0.07518599687512467, 0.538663945180849, 0.14991119229089667, 0.11433904496763304, 0.010163470663789604, 0.18294247194821286, 0.9873083266229461, 0.9793677570153763, 0.019203289353242673, 0.016161402526609286, 0.9831519870353983, 0.993484106438334, 0.9953534760280939, 0.9912984515188347, 0.06271509229777379, 0.03300794331461778, 0.4703631922333034, 0.07921906395508267, 0.35318499346641025, 0.14048280970193391, 0.1134668847592543, 0.07564458983950287, 0.008104777482803879, 0.6591885686013822, 0.04441283373090781, 0.1443417096254504, 0.1369395706702991, 0.018505347387878256, 0.06661925059636171, 0.5847689774569529, 0.972016029145741, 0.9869142854890751, 0.009053493360154864, 0.030495977634205855, 0.0004764996505344665, 0.04050247029542965, 0.07481044513391123, 0.5084251271202758, 0.010006492661223797, 0.1720163738429424, 0.06337445352108405, 0.000952999301068933, 0.045267466800774314, 0.04479096715023985, 0.5732013207057093, 0.4254072519523208, 0.9843514826163628, 0.9693523532798997, 0.09926850477480564, 0.08495093197074713, 0.005727029121623402, 0.04008920385136382, 0.2157180969144815, 0.5536128150902623, 0.7847920827510163, 0.0010436064930199685, 0.09392458437179717, 0.015654097395299528, 0.09809901034387704, 0.006261638958119811, 0.9930664261143517, 0.04005835296065563, 0.4477110036779159, 0.44535462997434794, 0.06362208999633541, 0.9934404872652333, 0.06539709706990318, 0.0041854142124738035, 0.0036622374359145783, 0.0005231767765592254, 0.07586063260108769, 0.003139060659355353, 0.23647590300476992, 0.6105472982446162, 0.9822432390007406, 0.9894620160937049, 0.9828603865750605, 0.7084852636956009, 0.0024600182767208364, 0.07872058485506676, 0.15252113315669186, 0.029520219320650038, 0.024600182767208364, 0.19804796633617094, 0.5202454041069565, 0.1367122155678792, 0.007389849490155632, 0.12858338112870799, 0.008128834439171196, 0.150403985602555, 0.3186881652977214, 0.4017784790222098, 0.03470861206212807, 0.0631065673856874, 0.030501507569748915, 0.11297165998664079, 0.7365752231128979, 0.14912259118236584, 0.9783655175211948, 0.9726271338830013, 0.0195510336346868, 0.008689348282083021, 0.015930471850485538, 0.029688606630450323, 0.054308426763018884, 0.06806656154298367, 0.0021723370705207553, 0.5590147394806744, 0.12092676359232205, 0.1049962917418365, 0.015206359493645287, 0.0014482247136805035, 0.09516638894895735, 0.019554737455265207, 0.14666053091448905, 0.6283588968958553, 0.11015835433132734, 0.9973784419516879, 0.09232882689777695, 0.7946874029415801, 0.10881611741523711, 0.06608101157994915, 0.06320792411995137, 0.04309631189996684, 0.04884248681996242, 0.683794815479474, 0.0790099051499392, 0.012928893569990052, 0.8528222456142129, 0.14301987969927796, 0.027805073826391826, 0.9685434049526486, 0.9898025208861828, 0.00907683390248173, 0.17375653470465025, 0.24248113425201193, 0.00648345278748695, 0.02074704891995824, 0.548500105821396, 0.11959093062414491, 0.00936299100971953, 0.011065353011486718, 0.0400055070415289, 0.032770468534018354, 0.028088973029158592, 0.0676688895702457, 0.4030342039183816, 0.22045587922885077, 0.03574960203711093, 0.032770468534018354, 0.987625160864186, 0.9950106781383827, 0.9857224685294858, 0.2593849147096107, 0.023335667067300617, 0.14091152806023835, 0.03141339797521237, 0.2629750173353493, 0.2225863627957905, 0.0008975256564346391, 0.0026925769693039174, 0.055646590698947625, 0.010879106022842004, 0.12578966338911068, 0.2447798855139451, 0.08499301580345316, 0.4712012796143443, 0.012238994275697255, 0.05031586535564427, 0.9881031017679669, 0.974822066766246, 0.011416164893688177, 0.1997828856395431, 0.7277805119726213, 0.057080824468440886, 0.9915541663366347, 0.014787282853757848, 0.17693748793979217, 0.025495315265099735, 0.15960067355952434, 0.19784364645717395, 0.18968514557234203, 0.012237751327247873, 0.031614190928723675, 0.003059437831811968, 0.1641898303072423, 0.023965596349193753], \"Term\": [\"absolutely\", \"absolutely\", \"abyss\", \"abyss\", \"accidentally\", \"according\", \"according\", \"account\", \"account\", \"accounts\", \"ache\", \"actin\", \"actin\", \"addicted\", \"addicted\", \"addicted\", \"addicted\", \"adore\", \"adore\", \"afar\", \"affair\", \"affair\", \"affection\", \"affection\", \"affection\", \"aha\", \"ahead\", \"ahead\", \"ahead\", \"ahead\", \"ahead\", \"ahead\", \"ahead\", \"ahhh\", \"ahhh\", \"air\", \"air\", \"air\", \"air\", \"air\", \"air\", \"air\", \"air\", \"airport\", \"albums\", \"alike\", \"alive\", \"alive\", \"alive\", \"alive\", \"alive\", \"alive\", \"allowed\", \"ally\", \"amazing\", \"amazing\", \"amazing\", \"amazing\", \"ambassador\", \"american\", \"annoy\", \"anthem\", \"anxious\", \"anytime\", \"anytime\", \"anytime\", \"anytime\", \"anytime\", \"apologies\", \"apple\", \"apple\", \"apple\", \"army\", \"arrive\", \"arrive\", \"ass\", \"ass\", \"ass\", \"ass\", \"astray\", \"attitude\", \"attitude\", \"attitude\", \"attitude\", \"audience\", \"authentic\", \"awake\", \"awake\", \"babe\", \"baby\", \"baby\", \"baby\", \"baby\", \"baby\", \"baby\", \"baby\", \"baby\", \"baby\", \"baby\", \"baby\", \"backbone\", \"bad\", \"bad\", \"bad\", \"bad\", \"bad\", \"bad\", \"bad\", \"bad\", \"bad\", \"bad\", \"bad\", \"bad\", \"bad\", \"bags\", \"bags\", \"bags\", \"bags\", \"bags\", \"bah\", \"ball\", \"ball\", \"ball\", \"ball\", \"ball\", \"ball\", \"ball\", \"ball\", \"ball\", \"ball\", \"ball\", \"baller\", \"baller\", \"balling\", \"balling\", \"balling\", \"bandit\", \"bands\", \"bang\", \"bang\", \"banger\", \"bar\", \"bar\", \"bar\", \"bar\", \"bar\", \"bar\", \"bar\", \"bar\", \"barbarian\", \"bass\", \"bass\", \"bass\", \"bastards\", \"batch\", \"battered\", \"batteries\", \"beat\", \"beat\", \"beat\", \"beat\", \"beat\", \"beat\", \"beat\", \"beat\", \"beat\", \"beats\", \"beats\", \"beats\", \"beats\", \"beats\", \"beats\", \"beats\", \"beats\", \"beats\", \"beautiful\", \"beautiful\", \"beautiful\", \"beautiful\", \"beautiful\", \"bed\", \"bed\", \"bed\", \"bed\", \"bed\", \"bed\", \"bed\", \"bed\", \"bed\", \"bedroom\", \"bedroom\", \"beds\", \"beep\", \"behold\", \"beleive\", \"believe\", \"believe\", \"believe\", \"believe\", \"believe\", \"believe\", \"believe\", \"believe\", \"believe\", \"believe\", \"believe\", \"believe\", \"believe\", \"bell\", \"bell\", \"bell\", \"bells\", \"beneath\", \"benefit\", \"benefit\", \"beotch\", \"best\", \"best\", \"best\", \"best\", \"best\", \"best\", \"best\", \"best\", \"best\", \"best\", \"best\", \"bet\", \"bet\", \"bet\", \"bet\", \"bet\", \"bet\", \"bet\", \"bet\", \"better\", \"better\", \"better\", \"better\", \"better\", \"better\", \"better\", \"better\", \"better\", \"better\", \"better\", \"better\", \"better\", \"better\", \"better\", \"better\", \"better\", \"better\", \"beware\", \"beware\", \"big\", \"big\", \"big\", \"big\", \"big\", \"big\", \"big\", \"big\", \"big\", \"big\", \"big\", \"big\", \"biggie\", \"bills\", \"bills\", \"bin\", \"bird\", \"bird\", \"bird\", \"birds\", \"birds\", \"birds\", \"birds\", \"birds\", \"birds\", \"birthday\", \"birthday\", \"bit\", \"bit\", \"bit\", \"bit\", \"bit\", \"bit\", \"bitch\", \"bitch\", \"bitch\", \"bitches\", \"bitches\", \"bizarre\", \"black\", \"black\", \"black\", \"black\", \"black\", \"black\", \"black\", \"black\", \"black\", \"blanket\", \"blindness\", \"bling\", \"block\", \"block\", \"block\", \"block\", \"block\", \"block\", \"blond\", \"blood\", \"blood\", \"blood\", \"blood\", \"blood\", \"bloom\", \"blow\", \"blow\", \"blow\", \"blow\", \"blow\", \"blow\", \"blow\", \"blow\", \"blow\", \"blow\", \"blue\", \"blue\", \"blue\", \"blue\", \"blue\", \"blue\", \"blue\", \"blue\", \"blue\", \"blues\", \"blues\", \"blues\", \"blunt\", \"blunt\", \"boat\", \"boat\", \"boat\", \"bodied\", \"body\", \"body\", \"body\", \"body\", \"body\", \"body\", \"body\", \"body\", \"body\", \"body\", \"body\", \"body\", \"bodyguard\", \"bogus\", \"boi\", \"bomb\", \"bomb\", \"bomb\", \"bomber\", \"bon\", \"bone\", \"bone\", \"bone\", \"bone\", \"bone\", \"bone\", \"bone\", \"bone\", \"bones\", \"bones\", \"bones\", \"bones\", \"bong\", \"boo\", \"boogie\", \"boogie\", \"boogie\", \"boom\", \"boom\", \"boomerang\", \"boost\", \"booty\", \"bop\", \"born\", \"born\", \"born\", \"born\", \"born\", \"born\", \"born\", \"born\", \"boss\", \"boss\", \"boss\", \"boss\", \"boss\", \"boss\", \"bottle\", \"bottle\", \"bottle\", \"bottle\", \"bottle\", \"bottle\", \"bought\", \"bought\", \"bought\", \"bought\", \"bought\", \"bought\", \"bought\", \"bought\", \"bought\", \"bounce\", \"bounce\", \"bounce\", \"bow\", \"bow\", \"bow\", \"bow\", \"bow\", \"box\", \"box\", \"box\", \"box\", \"box\", \"boy\", \"boy\", \"boy\", \"boy\", \"boy\", \"boy\", \"boy\", \"boy\", \"boy\", \"boy\", \"boy\", \"boy\", \"boys\", \"boys\", \"boys\", \"boys\", \"boys\", \"boys\", \"brain\", \"brain\", \"brain\", \"brain\", \"brain\", \"brain\", \"brain\", \"brain\", \"brain\", \"break\", \"break\", \"break\", \"break\", \"break\", \"break\", \"break\", \"break\", \"break\", \"break\", \"break\", \"break\", \"breast\", \"breath\", \"breath\", \"breath\", \"breath\", \"breath\", \"breath\", \"breath\", \"breath\", \"breath\", \"breath\", \"breathe\", \"breathe\", \"breathe\", \"breathe\", \"breathe\", \"breathe\", \"brick\", \"brick\", \"bricks\", \"bricks\", \"bricks\", \"bricks\", \"bridges\", \"bright\", \"bright\", \"bright\", \"bright\", \"bright\", \"bright\", \"brighter\", \"bring\", \"bring\", \"bring\", \"bring\", \"bring\", \"bring\", \"bring\", \"bring\", \"bring\", \"bring\", \"bring\", \"bring\", \"broads\", \"broads\", \"broke\", \"broke\", \"broke\", \"broke\", \"broke\", \"broke\", \"broke\", \"broke\", \"brother\", \"brother\", \"brother\", \"brother\", \"brother\", \"brother\", \"brother\", \"brown\", \"brown\", \"brown\", \"brown\", \"brown\", \"brown\", \"buck\", \"buck\", \"buck\", \"bullets\", \"bullshit\", \"bullshit\", \"bullshit\", \"bump\", \"bumper\", \"bums\", \"burn\", \"burn\", \"burn\", \"burning\", \"burning\", \"burning\", \"burning\", \"burning\", \"burning\", \"burning\", \"burning\", \"bus\", \"bus\", \"bus\", \"bus\", \"bus\", \"business\", \"business\", \"business\", \"business\", \"business\", \"business\", \"business\", \"bust\", \"bust\", \"bust\", \"bust\", \"bust\", \"busted\", \"busted\", \"buy\", \"buy\", \"buy\", \"buy\", \"buy\", \"buy\", \"buy\", \"buzzed\", \"buzzed\", \"bye\", \"calling\", \"calling\", \"calling\", \"calling\", \"calling\", \"calling\", \"calling\", \"candy\", \"candy\", \"candy\", \"canibus\", \"car\", \"car\", \"car\", \"car\", \"car\", \"car\", \"car\", \"car\", \"care\", \"care\", \"care\", \"care\", \"care\", \"care\", \"care\", \"care\", \"care\", \"care\", \"care\", \"cars\", \"cars\", \"cars\", \"cars\", \"cars\", \"cash\", \"cash\", \"cash\", \"cash\", \"cash\", \"cash\", \"cat\", \"cat\", \"cat\", \"cat\", \"cat\", \"catch\", \"catch\", \"catch\", \"catch\", \"catch\", \"catch\", \"catch\", \"catch\", \"catch\", \"catch\", \"cats\", \"cats\", \"cats\", \"cats\", \"cats\", \"cats\", \"cease\", \"celebrate\", \"celebrate\", \"celebration\", \"celebration\", \"celebrity\", \"chain\", \"chain\", \"chain\", \"chain\", \"chain\", \"chain\", \"chain\", \"chained\", \"chains\", \"chains\", \"chains\", \"champion\", \"change\", \"change\", \"change\", \"change\", \"change\", \"change\", \"change\", \"change\", \"change\", \"change\", \"changes\", \"changes\", \"charity\", \"cheaper\", \"cheat\", \"cheat\", \"check\", \"check\", \"check\", \"check\", \"check\", \"check\", \"check\", \"cheeks\", \"cheerful\", \"chemist\", \"chick\", \"chick\", \"chick\", \"chick\", \"chinese\", \"chinese\", \"ching\", \"christmas\", \"chrome\", \"chrome\", \"chuck\", \"circles\", \"city\", \"city\", \"city\", \"city\", \"city\", \"cking\", \"clack\", \"clap\", \"clap\", \"clock\", \"clock\", \"clock\", \"clock\", \"clock\", \"clock\", \"clock\", \"clock\", \"clock\", \"clock\", \"close\", \"close\", \"close\", \"close\", \"close\", \"close\", \"close\", \"close\", \"closet\", \"closet\", \"clothes\", \"clothes\", \"clothes\", \"clothes\", \"clothes\", \"clothes\", \"clothes\", \"clouds\", \"clouds\", \"clouds\", \"clover\", \"club\", \"club\", \"club\", \"coast\", \"coast\", \"coast\", \"cocaine\", \"cock\", \"cock\", \"cock\", \"codeine\", \"coffee\", \"coffee\", \"cold\", \"cold\", \"cold\", \"cold\", \"cold\", \"cold\", \"cold\", \"cold\", \"cold\", \"cold\", \"colour\", \"coming\", \"coming\", \"coming\", \"coming\", \"coming\", \"coming\", \"coming\", \"coming\", \"coming\", \"coming\", \"coming\", \"coming\", \"coming\", \"commas\", \"communicate\", \"complicated\", \"complicated\", \"connection\", \"conspiracy\", \"contagious\", \"control\", \"control\", \"control\", \"control\", \"control\", \"control\", \"control\", \"cool\", \"cool\", \"cool\", \"cool\", \"cool\", \"cool\", \"cool\", \"cool\", \"cool\", \"cool\", \"cool\", \"cool\", \"cool\", \"cooling\", \"cooling\", \"copped\", \"corner\", \"corner\", \"corner\", \"corner\", \"corner\", \"corner\", \"corner\", \"corpse\", \"correct\", \"correct\", \"cos\", \"costs\", \"couch\", \"couch\", \"couch\", \"couch\", \"count\", \"count\", \"count\", \"count\", \"count\", \"count\", \"count\", \"count\", \"counting\", \"counting\", \"counting\", \"counting\", \"counting\", \"country\", \"country\", \"country\", \"country\", \"country\", \"country\", \"country\", \"country\", \"courts\", \"cover\", \"cover\", \"cover\", \"cover\", \"cover\", \"cover\", \"cover\", \"cowboy\", \"cowboys\", \"crack\", \"crack\", \"crack\", \"crack\", \"crack\", \"crack\", \"crack\", \"cracking\", \"crazy\", \"crazy\", \"crazy\", \"crazy\", \"crazy\", \"crazy\", \"crazy\", \"crazy\", \"crazy\", \"crazy\", \"critical\", \"crossroads\", \"crowds\", \"cruise\", \"cruise\", \"cruise\", \"crumble\", \"crunk\", \"cum\", \"curiosity\", \"cursed\", \"cussed\", \"dah\", \"dam\", \"dam\", \"damn\", \"damn\", \"damn\", \"damn\", \"damn\", \"damn\", \"damn\", \"damn\", \"damn\", \"damn\", \"damn\", \"damn\", \"damn\", \"dance\", \"dance\", \"dance\", \"dance\", \"dance\", \"dancin\", \"dark\", \"dark\", \"dark\", \"dark\", \"dark\", \"darker\", \"darkness\", \"darkness\", \"darlin\", \"darlin\", \"darlin\", \"darling\", \"darling\", \"daughter\", \"daughter\", \"day\", \"day\", \"day\", \"day\", \"day\", \"day\", \"day\", \"day\", \"day\", \"day\", \"day\", \"day\", \"day\", \"day\", \"day\", \"days\", \"days\", \"days\", \"days\", \"days\", \"days\", \"days\", \"days\", \"days\", \"days\", \"days\", \"days\", \"days\", \"dead\", \"dead\", \"dead\", \"dead\", \"dead\", \"dead\", \"dead\", \"dead\", \"dead\", \"death\", \"death\", \"death\", \"death\", \"death\", \"decay\", \"deceiving\", \"decisions\", \"decisions\", \"decisions\", \"dee\", \"deeds\", \"deep\", \"deep\", \"deep\", \"deep\", \"deep\", \"deep\", \"deep\", \"deep\", \"deep\", \"deep\", \"def\", \"delirious\", \"den\", \"den\", \"depend\", \"depend\", \"destruction\", \"destruction\", \"devil\", \"devil\", \"devil\", \"devil\", \"devil\", \"diamonds\", \"diamonds\", \"diamonds\", \"diamonds\", \"diamonds\", \"diamonds\", \"diaper\", \"dick\", \"die\", \"die\", \"die\", \"die\", \"die\", \"die\", \"died\", \"died\", \"died\", \"died\", \"dimes\", \"ding\", \"dinosaur\", \"director\", \"dirt\", \"dirt\", \"dirty\", \"dirty\", \"dirty\", \"dirty\", \"dirty\", \"dirty\", \"dis\", \"dis\", \"ditty\", \"diva\", \"dock\", \"doctor\", \"doctor\", \"doctor\", \"doctor\", \"doctor\", \"doctor\", \"doe\", \"dog\", \"dog\", \"dog\", \"dog\", \"dog\", \"dog\", \"dog\", \"dog\", \"dog\", \"dolla\", \"dollar\", \"dollar\", \"dollar\", \"dollar\", \"dollars\", \"dollars\", \"dollars\", \"dollars\", \"dollars\", \"dong\", \"doom\", \"door\", \"door\", \"door\", \"door\", \"door\", \"door\", \"door\", \"door\", \"door\", \"door\", \"dope\", \"dope\", \"dope\", \"dope\", \"dope\", \"dot\", \"double\", \"double\", \"double\", \"double\", \"double\", \"dough\", \"dough\", \"dough\", \"dough\", \"dough\", \"dough\", \"dragon\", \"dragon\", \"drain\", \"dream\", \"dream\", \"dream\", \"dream\", \"dream\", \"dream\", \"dream\", \"dream\", \"dream\", \"dream\", \"dreamer\", \"dreams\", \"dreams\", \"dreams\", \"dreams\", \"dreams\", \"dreams\", \"dreams\", \"dreams\", \"dress\", \"dress\", \"dress\", \"dress\", \"dress\", \"dress\", \"drifting\", \"drink\", \"drink\", \"drink\", \"drink\", \"drink\", \"drink\", \"drink\", \"drip\", \"drive\", \"drive\", \"drive\", \"drive\", \"drive\", \"drive\", \"drive\", \"drive\", \"drive\", \"drive\", \"drive\", \"drive\", \"driving\", \"driving\", \"driving\", \"driving\", \"driving\", \"driving\", \"driving\", \"driving\", \"drool\", \"drop\", \"drop\", \"drop\", \"drop\", \"drop\", \"drop\", \"drop\", \"drowning\", \"drum\", \"drum\", \"drum\", \"drum\", \"dub\", \"dubs\", \"duh\", \"dum\", \"dumb\", \"dumb\", \"dumb\", \"dynamite\", \"eagle\", \"eagle\", \"eagle\", \"easy\", \"easy\", \"easy\", \"easy\", \"easy\", \"easy\", \"easy\", \"easy\", \"easy\", \"ecstasy\", \"ecstasy\", \"edge\", \"edge\", \"edge\", \"edge\", \"effects\", \"egg\", \"electric\", \"electric\", \"electric\", \"electric\", \"elevator\", \"elf\", \"emcees\", \"eminem\", \"endeavor\", \"engaged\", \"enslaved\", \"enter\", \"enter\", \"entertain\", \"erotic\", \"err\", \"erupt\", \"everlasting\", \"everlasting\", \"everyday\", \"everyday\", \"everyday\", \"everyday\", \"everyday\", \"evil\", \"evil\", \"evil\", \"evil\", \"excellent\", \"exhale\", \"exit\", \"exit\", \"explain\", \"explain\", \"explain\", \"explain\", \"extra\", \"eyed\", \"eyes\", \"eyes\", \"eyes\", \"eyes\", \"eyes\", \"eyes\", \"eyes\", \"eyes\", \"eyes\", \"eyes\", \"eyes\", \"eyes\", \"eyes\", \"fabolous\", \"face\", \"face\", \"face\", \"face\", \"face\", \"face\", \"face\", \"face\", \"face\", \"face\", \"face\", \"face\", \"faced\", \"fairly\", \"faith\", \"faith\", \"faith\", \"fall\", \"fall\", \"fall\", \"fall\", \"fall\", \"fall\", \"fall\", \"fall\", \"fall\", \"fall\", \"fall\", \"fall\", \"fallin\", \"fallin\", \"falling\", \"falling\", \"falling\", \"falling\", \"falling\", \"falling\", \"falling\", \"falling\", \"falling\", \"fam\", \"fam\", \"fame\", \"fame\", \"fame\", \"fame\", \"fame\", \"fancy\", \"fancy\", \"fancy\", \"fantasies\", \"farm\", \"farther\", \"faster\", \"faster\", \"father\", \"father\", \"father\", \"father\", \"father\", \"father\", \"father\", \"father\", \"father\", \"father\", \"favors\", \"fear\", \"fear\", \"fear\", \"fear\", \"fear\", \"feeble\", \"feel\", \"feel\", \"feel\", \"feel\", \"feel\", \"feel\", \"feel\", \"feel\", \"feel\", \"feel\", \"feel\", \"feel\", \"feel\", \"feel\", \"feeling\", \"feeling\", \"feeling\", \"feeling\", \"feeling\", \"feeling\", \"feeling\", \"feeling\", \"feeling\", \"feeling\", \"feeling\", \"feels\", \"feels\", \"feels\", \"feels\", \"feels\", \"feels\", \"feet\", \"feet\", \"feet\", \"feet\", \"feet\", \"feet\", \"feet\", \"feet\", \"feet\", \"feet\", \"feet\", \"feet\", \"fellas\", \"fellas\", \"felt\", \"felt\", \"felt\", \"felt\", \"felt\", \"felt\", \"felt\", \"felt\", \"felt\", \"female\", \"female\", \"female\", \"fever\", \"fiddle\", \"fight\", \"fight\", \"fight\", \"fight\", \"fight\", \"fight\", \"fight\", \"fight\", \"fight\", \"fills\", \"fills\", \"final\", \"final\", \"final\", \"fine\", \"fine\", \"fine\", \"fine\", \"fine\", \"fine\", \"fine\", \"fine\", \"fine\", \"fine\", \"finest\", \"fireworks\", \"fish\", \"fish\", \"fish\", \"fish\", \"fish\", \"fitted\", \"flame\", \"flame\", \"flame\", \"flame\", \"flawless\", \"flawless\", \"flesh\", \"flesh\", \"flesh\", \"flesh\", \"flexing\", \"flexing\", \"fling\", \"flip\", \"flip\", \"flip\", \"flip\", \"flirt\", \"flirt\", \"floor\", \"floor\", \"floor\", \"floor\", \"floor\", \"floor\", \"floor\", \"floor\", \"floor\", \"floor\", \"floor\", \"flop\", \"flop\", \"flow\", \"flow\", \"flow\", \"flow\", \"flow\", \"flow\", \"flow\", \"flow\", \"fly\", \"fly\", \"fly\", \"fly\", \"fly\", \"fly\", \"fly\", \"fly\", \"fly\", \"fly\", \"flying\", \"flying\", \"folks\", \"folks\", \"folks\", \"folks\", \"folks\", \"folks\", \"folks\", \"fool\", \"fool\", \"fool\", \"fool\", \"fool\", \"fool\", \"fool\", \"fool\", \"forever\", \"forever\", \"forever\", \"forever\", \"forever\", \"forget\", \"forget\", \"forget\", \"forget\", \"forget\", \"forget\", \"forget\", \"forget\", \"forget\", \"forget\", \"forget\", \"forget\", \"forgetting\", \"format\", \"fountain\", \"fragile\", \"fragile\", \"freak\", \"freak\", \"freak\", \"freak\", \"free\", \"free\", \"free\", \"free\", \"free\", \"free\", \"free\", \"free\", \"free\", \"free\", \"free\", \"free\", \"free\", \"french\", \"fret\", \"friend\", \"friend\", \"friend\", \"friend\", \"friend\", \"friend\", \"friend\", \"friend\", \"friend\", \"friends\", \"friends\", \"friends\", \"friends\", \"friends\", \"friends\", \"friends\", \"friends\", \"fright\", \"fuck\", \"fuck\", \"fucked\", \"fucking\", \"fucking\", \"fucking\", \"fun\", \"fun\", \"fun\", \"fun\", \"fun\", \"fun\", \"fun\", \"funk\", \"funky\", \"funky\", \"funny\", \"funny\", \"funny\", \"funny\", \"funny\", \"funny\", \"funny\", \"fury\", \"galore\", \"game\", \"game\", \"game\", \"game\", \"game\", \"game\", \"game\", \"game\", \"game\", \"game\", \"game\", \"game\", \"gangsta\", \"gangsta\", \"gangstas\", \"gangstas\", \"gates\", \"gem\", \"gettin\", \"gettin\", \"gettin\", \"gettin\", \"gga\", \"ggas\", \"ghetto\", \"ghetto\", \"ghetto\", \"ghetto\", \"ghosts\", \"ghosts\", \"giddy\", \"gifts\", \"gimme\", \"girl\", \"girl\", \"girl\", \"girl\", \"girl\", \"girl\", \"girl\", \"girlfriend\", \"girlfriend\", \"girlfriends\", \"girls\", \"girls\", \"glass\", \"glass\", \"glass\", \"glass\", \"glass\", \"glass\", \"glass\", \"glass\", \"glass\", \"goat\", \"god\", \"god\", \"god\", \"god\", \"god\", \"god\", \"gods\", \"gods\", \"goo\", \"good\", \"good\", \"good\", \"good\", \"good\", \"good\", \"good\", \"good\", \"good\", \"good\", \"good\", \"good\", \"good\", \"good\", \"good\", \"goodbye\", \"goodbye\", \"goodbye\", \"goodness\", \"goodnight\", \"gots\", \"gots\", \"gotta\", \"grabbing\", \"graduation\", \"grateful\", \"graves\", \"great\", \"great\", \"great\", \"great\", \"great\", \"great\", \"great\", \"greedy\", \"green\", \"green\", \"green\", \"green\", \"green\", \"green\", \"green\", \"green\", \"green\", \"green\", \"grill\", \"grill\", \"grill\", \"grind\", \"grind\", \"grind\", \"grind\", \"groove\", \"groove\", \"groove\", \"groovy\", \"ground\", \"ground\", \"ground\", \"ground\", \"ground\", \"ground\", \"ground\", \"ground\", \"grow\", \"grow\", \"grow\", \"grow\", \"grow\", \"grow\", \"grow\", \"grow\", \"grow\", \"grown\", \"grown\", \"grown\", \"grown\", \"grown\", \"grown\", \"grown\", \"grown\", \"grown\", \"guap\", \"guap\", \"guess\", \"guess\", \"guess\", \"guess\", \"guess\", \"guess\", \"guess\", \"guess\", \"guess\", \"guess\", \"guilty\", \"guilty\", \"guilty\", \"guitar\", \"guitar\", \"guitar\", \"guitars\", \"gun\", \"gun\", \"gun\", \"gun\", \"guns\", \"guns\", \"guns\", \"guns\", \"guru\", \"guy\", \"guy\", \"guy\", \"guy\", \"guy\", \"guy\", \"guys\", \"guys\", \"guys\", \"guys\", \"guys\", \"guys\", \"haha\", \"haha\", \"haha\", \"haha\", \"hail\", \"hair\", \"hair\", \"hair\", \"hair\", \"hair\", \"hair\", \"hair\", \"hair\", \"hair\", \"half\", \"half\", \"half\", \"half\", \"half\", \"half\", \"half\", \"half\", \"half\", \"hallelujah\", \"hallway\", \"halo\", \"hand\", \"hand\", \"hand\", \"hand\", \"hand\", \"hand\", \"hand\", \"hand\", \"hand\", \"hand\", \"hand\", \"hand\", \"hand\", \"handle\", \"handle\", \"handle\", \"handle\", \"handle\", \"handle\", \"handle\", \"handle\", \"hands\", \"hands\", \"hands\", \"hands\", \"hands\", \"hands\", \"hands\", \"hangman\", \"hangover\", \"happy\", \"happy\", \"happy\", \"happy\", \"happy\", \"happy\", \"hard\", \"hard\", \"hard\", \"hard\", \"hard\", \"hard\", \"hard\", \"hard\", \"hard\", \"hard\", \"hard\", \"hard\", \"hard\", \"hard\", \"hard\", \"hardcore\", \"hardcore\", \"harder\", \"harder\", \"harder\", \"hat\", \"hat\", \"hat\", \"hat\", \"hata\", \"hate\", \"hate\", \"hate\", \"hate\", \"hate\", \"hate\", \"hate\", \"hate\", \"hateful\", \"haters\", \"haters\", \"haters\", \"haters\", \"hatin\", \"hatin\", \"hating\", \"hating\", \"hating\", \"hatred\", \"haunted\", \"haunting\", \"haunting\", \"head\", \"head\", \"head\", \"head\", \"head\", \"head\", \"head\", \"head\", \"head\", \"head\", \"head\", \"head\", \"head\", \"head\", \"head\", \"healing\", \"healthy\", \"hear\", \"hear\", \"hear\", \"hear\", \"hear\", \"hear\", \"hear\", \"hear\", \"hear\", \"hear\", \"hear\", \"hear\", \"hear\", \"hear\", \"hear\", \"hear\", \"heard\", \"heard\", \"heard\", \"heard\", \"heard\", \"heard\", \"heard\", \"heard\", \"heard\", \"heard\", \"heard\", \"heard\", \"heard\", \"heard\", \"heart\", \"heart\", \"heart\", \"heart\", \"heart\", \"heart\", \"heart\", \"heart\", \"heart\", \"heartache\", \"heartbeat\", \"hearted\", \"hearted\", \"heat\", \"heat\", \"heat\", \"heat\", \"heat\", \"heat\", \"heat\", \"heat\", \"heat\", \"heathen\", \"heaven\", \"heaven\", \"heaven\", \"heaven\", \"heaven\", \"heaven\", \"hell\", \"hell\", \"hell\", \"hell\", \"hell\", \"hell\", \"hell\", \"hell\", \"hello\", \"hello\", \"hello\", \"hello\", \"hello\", \"hello\", \"help\", \"help\", \"help\", \"help\", \"help\", \"help\", \"help\", \"help\", \"help\", \"help\", \"heroes\", \"heroes\", \"heroin\", \"herpes\", \"hide\", \"hide\", \"hide\", \"hide\", \"hide\", \"hide\", \"hide\", \"hide\", \"high\", \"high\", \"high\", \"high\", \"high\", \"high\", \"high\", \"high\", \"high\", \"high\", \"high\", \"high\", \"high\", \"high\", \"high\", \"higher\", \"higher\", \"higher\", \"hip\", \"hip\", \"hip\", \"hip\", \"hip\", \"hiss\", \"hit\", \"hit\", \"hit\", \"hit\", \"hit\", \"hit\", \"hit\", \"hit\", \"hit\", \"hit\", \"hoe\", \"hoes\", \"hoes\", \"hoes\", \"hold\", \"hold\", \"hold\", \"hold\", \"hold\", \"hold\", \"hold\", \"hold\", \"hold\", \"hold\", \"hold\", \"hold\", \"holy\", \"holy\", \"homework\", \"homicidal\", \"homicide\", \"homie\", \"homie\", \"homie\", \"homie\", \"homies\", \"homies\", \"homies\", \"honest\", \"honest\", \"honest\", \"honestly\", \"honey\", \"honey\", \"honey\", \"honey\", \"honey\", \"honey\", \"honey\", \"honey\", \"honeys\", \"honky\", \"hood\", \"hood\", \"hood\", \"hood\", \"hooked\", \"hooked\", \"hop\", \"hop\", \"hop\", \"hop\", \"hop\", \"hop\", \"hope\", \"hope\", \"hope\", \"hope\", \"hope\", \"hope\", \"hope\", \"hope\", \"hopes\", \"horror\", \"horse\", \"horse\", \"hot\", \"hot\", \"hot\", \"hot\", \"hot\", \"hot\", \"hotel\", \"hotel\", \"hotel\", \"house\", \"house\", \"house\", \"house\", \"house\", \"house\", \"house\", \"house\", \"house\", \"house\", \"house\", \"house\", \"house\", \"huff\", \"huge\", \"hum\", \"human\", \"human\", \"human\", \"human\", \"human\", \"hump\", \"hun\", \"hungry\", \"hungry\", \"hungry\", \"hungry\", \"hungry\", \"hungry\", \"hurt\", \"hurt\", \"hurt\", \"hurt\", \"hurt\", \"hurt\", \"hurt\", \"hurt\", \"hush\", \"hush\", \"hush\", \"hustla\", \"hustle\", \"hustle\", \"hustle\", \"hustle\", \"hustler\", \"hustler\", \"hustling\", \"hypocrite\", \"ignorance\", \"iller\", \"illest\", \"illness\", \"illusion\", \"ina\", \"incense\", \"independent\", \"independent\", \"indo\", \"infamous\", \"inferno\", \"inhale\", \"inhale\", \"insane\", \"insane\", \"insane\", \"insane\", \"insane\", \"insane\", \"inside\", \"inside\", \"inside\", \"inside\", \"inside\", \"inside\", \"inside\", \"inside\", \"inside\", \"inside\", \"inside\", \"instructions\", \"intoxicated\", \"jam\", \"jam\", \"jam\", \"jam\", \"jingle\", \"jock\", \"joined\", \"joined\", \"joy\", \"joy\", \"joy\", \"joy\", \"jukebox\", \"jump\", \"jump\", \"jump\", \"jump\", \"jump\", \"jump\", \"jump\", \"justice\", \"keeping\", \"keeping\", \"keeping\", \"keeping\", \"keeping\", \"keeping\", \"keys\", \"keys\", \"keys\", \"keys\", \"keys\", \"keys\", \"keys\", \"keys\", \"kick\", \"kick\", \"kick\", \"kick\", \"kick\", \"kick\", \"kick\", \"kidding\", \"kids\", \"kids\", \"kids\", \"kids\", \"kids\", \"kids\", \"kids\", \"kill\", \"kill\", \"kill\", \"kill\", \"kill\", \"kill\", \"kill\", \"kill\", \"killa\", \"killas\", \"killing\", \"killing\", \"killing\", \"killing\", \"killing\", \"kinda\", \"kinda\", \"kinda\", \"kinda\", \"kinda\", \"kinda\", \"kiss\", \"kiss\", \"kiss\", \"kiss\", \"kiss\", \"kiss\", \"kiss\", \"kiss\", \"kisses\", \"kisses\", \"knock\", \"knock\", \"knock\", \"knock\", \"lac\", \"lack\", \"lad\", \"ladies\", \"ladies\", \"ladies\", \"ladies\", \"ladies\", \"lady\", \"lady\", \"lady\", \"lady\", \"land\", \"land\", \"land\", \"land\", \"land\", \"land\", \"land\", \"lane\", \"lane\", \"larger\", \"late\", \"late\", \"late\", \"late\", \"late\", \"late\", \"late\", \"late\", \"laugh\", \"laugh\", \"laugh\", \"laugh\", \"laugh\", \"laugh\", \"laugh\", \"lava\", \"lay\", \"lay\", \"lay\", \"lay\", \"lay\", \"lay\", \"lay\", \"lay\", \"lay\", \"lay\", \"layin\", \"lazy\", \"lazy\", \"lazy\", \"leaf\", \"lean\", \"lean\", \"lean\", \"lean\", \"lean\", \"lean\", \"learn\", \"learn\", \"learn\", \"learn\", \"learn\", \"learn\", \"leave\", \"leave\", \"leave\", \"leave\", \"leave\", \"leave\", \"leave\", \"leave\", \"leave\", \"leave\", \"leave\", \"leave\", \"leave\", \"leave\", \"leave\", \"leave\", \"leave\", \"left\", \"left\", \"left\", \"left\", \"left\", \"left\", \"left\", \"left\", \"left\", \"left\", \"left\", \"left\", \"leg\", \"lemme\", \"lemme\", \"liar\", \"liar\", \"lie\", \"lie\", \"lie\", \"lie\", \"lie\", \"lie\", \"lie\", \"lied\", \"lied\", \"lied\", \"lieutenant\", \"life\", \"life\", \"life\", \"life\", \"life\", \"life\", \"life\", \"life\", \"life\", \"life\", \"life\", \"life\", \"life\", \"life\", \"life\", \"lifeless\", \"lift\", \"lift\", \"lift\", \"lift\", \"lift\", \"lift\", \"lift\", \"lift\", \"lift\", \"lift\", \"lifted\", \"light\", \"light\", \"light\", \"light\", \"light\", \"light\", \"light\", \"light\", \"light\", \"light\", \"light\", \"light\", \"lighters\", \"lighters\", \"lightning\", \"lights\", \"lights\", \"lights\", \"lights\", \"lights\", \"lights\", \"lights\", \"lights\", \"lights\", \"likes\", \"likes\", \"likes\", \"likes\", \"liking\", \"limits\", \"lines\", \"lines\", \"lines\", \"ling\", \"lingo\", \"link\", \"listen\", \"listen\", \"listen\", \"listen\", \"listen\", \"listen\", \"listen\", \"listen\", \"listen\", \"listen\", \"listen\", \"live\", \"live\", \"live\", \"live\", \"live\", \"live\", \"live\", \"live\", \"live\", \"live\", \"live\", \"live\", \"live\", \"lives\", \"lives\", \"lives\", \"lives\", \"lives\", \"living\", \"living\", \"living\", \"living\", \"living\", \"living\", \"living\", \"living\", \"living\", \"living\", \"locked\", \"locked\", \"locked\", \"loneliness\", \"lonesome\", \"long\", \"long\", \"long\", \"long\", \"long\", \"long\", \"long\", \"long\", \"long\", \"long\", \"long\", \"long\", \"long\", \"long\", \"long\", \"longer\", \"longer\", \"longer\", \"longer\", \"longer\", \"longer\", \"loo\", \"loop\", \"lord\", \"lord\", \"lord\", \"lord\", \"lord\", \"lose\", \"lose\", \"lose\", \"lose\", \"lose\", \"lose\", \"lose\", \"lose\", \"lose\", \"lose\", \"lost\", \"lost\", \"lost\", \"lost\", \"lost\", \"lost\", \"lost\", \"lost\", \"lost\", \"lost\", \"lost\", \"lot\", \"lot\", \"lot\", \"lot\", \"lot\", \"lot\", \"lot\", \"lot\", \"lot\", \"lot\", \"loud\", \"loud\", \"loud\", \"loud\", \"loud\", \"loud\", \"loud\", \"loud\", \"loud\", \"loud\", \"loud\", \"loud\", \"louder\", \"lounge\", \"love\", \"love\", \"love\", \"love\", \"love\", \"love\", \"love\", \"love\", \"love\", \"love\", \"love\", \"love\", \"love\", \"lovely\", \"lovely\", \"lovely\", \"lovely\", \"lover\", \"lover\", \"lover\", \"loves\", \"loves\", \"loves\", \"loving\", \"loving\", \"loving\", \"loving\", \"low\", \"low\", \"low\", \"low\", \"low\", \"low\", \"low\", \"low\", \"low\", \"lucky\", \"lucky\", \"lucky\", \"lucky\", \"lucky\", \"lucky\", \"lullaby\", \"mad\", \"mad\", \"mad\", \"mad\", \"mad\", \"mad\", \"mad\", \"mad\", \"madman\", \"magic\", \"magic\", \"magic\", \"magic\", \"magic\", \"magic\", \"magic\", \"magical\", \"making\", \"making\", \"making\", \"making\", \"making\", \"making\", \"making\", \"making\", \"making\", \"mami\", \"man\", \"man\", \"man\", \"man\", \"man\", \"man\", \"man\", \"man\", \"man\", \"man\", \"man\", \"man\", \"man\", \"man\", \"man\", \"man\", \"man\", \"man\", \"manage\", \"manage\", \"manure\", \"manure\", \"marching\", \"marijuana\", \"marine\", \"married\", \"married\", \"married\", \"married\", \"married\", \"married\", \"marry\", \"marry\", \"mas\", \"mass\", \"mass\", \"master\", \"master\", \"master\", \"master\", \"mate\", \"matter\", \"matter\", \"matter\", \"matter\", \"matter\", \"matter\", \"matter\", \"matter\", \"matter\", \"matter\", \"matter\", \"matter\", \"matter\", \"mayne\", \"mayne\", \"meant\", \"meant\", \"meant\", \"meant\", \"meet\", \"meet\", \"meet\", \"meet\", \"meet\", \"meet\", \"meet\", \"meet\", \"meet\", \"meet\", \"meet\", \"meet\", \"meet\", \"melting\", \"memories\", \"memories\", \"men\", \"men\", \"men\", \"men\", \"men\", \"men\", \"men\", \"mend\", \"mend\", \"mercy\", \"mercy\", \"mercy\", \"message\", \"message\", \"message\", \"message\", \"message\", \"messenger\", \"met\", \"met\", \"met\", \"met\", \"met\", \"met\", \"met\", \"mic\", \"mic\", \"microphone\", \"microphone\", \"middle\", \"middle\", \"middle\", \"middle\", \"middle\", \"middle\", \"middle\", \"midnight\", \"midnight\", \"midnight\", \"midnight\", \"millions\", \"millions\", \"mind\", \"mind\", \"mind\", \"mind\", \"mind\", \"mind\", \"mind\", \"mind\", \"mind\", \"mind\", \"mind\", \"mind\", \"mind\", \"mind\", \"misery\", \"missing\", \"moaning\", \"moaning\", \"modern\", \"molly\", \"momentum\", \"mommas\", \"money\", \"money\", \"money\", \"money\", \"money\", \"monkey\", \"monster\", \"mood\", \"mood\", \"mood\", \"moon\", \"moon\", \"moon\", \"moon\", \"morning\", \"morning\", \"morning\", \"morning\", \"morning\", \"morning\", \"morning\", \"morning\", \"mothafucka\", \"mother\", \"mother\", \"mother\", \"mother\", \"mother\", \"mother\", \"mother\", \"mother\", \"mother\", \"mother\", \"mother\", \"motherfucker\", \"motherfuckers\", \"motherfucking\", \"motherfucking\", \"motion\", \"motion\", \"mountains\", \"mountains\", \"mourn\", \"mouth\", \"mouth\", \"mouth\", \"mouth\", \"mouth\", \"mouth\", \"mouth\", \"mouth\", \"mouth\", \"mouth\", \"mouths\", \"movin\", \"movin\", \"movin\", \"moving\", \"moving\", \"moving\", \"moving\", \"moving\", \"moving\", \"moving\", \"moving\", \"moving\", \"mula\", \"murda\", \"music\", \"music\", \"music\", \"music\", \"music\", \"music\", \"mutha\", \"muthafucka\", \"muthafucking\", \"nah\", \"nah\", \"nana\", \"nasty\", \"nasty\", \"nation\", \"nation\", \"nation\", \"naughty\", \"naughty\", \"neat\", \"neat\", \"nice\", \"nice\", \"nice\", \"nice\", \"nice\", \"nice\", \"nice\", \"nice\", \"nigga\", \"nigga\", \"nigga\", \"niggers\", \"niggers\", \"night\", \"night\", \"night\", \"night\", \"night\", \"night\", \"night\", \"night\", \"night\", \"night\", \"night\", \"night\", \"night\", \"night\", \"nineteen\", \"noise\", \"noise\", \"noise\", \"number\", \"number\", \"number\", \"number\", \"number\", \"number\", \"number\", \"number\", \"nut\", \"nuts\", \"nuts\", \"nuts\", \"nuts\", \"nutting\", \"oblivion\", \"obsessed\", \"ocean\", \"ocean\", \"octopus\", \"offa\", \"ohhh\", \"ohhh\", \"ohhh\", \"oooh\", \"open\", \"open\", \"open\", \"open\", \"open\", \"open\", \"open\", \"open\", \"open\", \"open\", \"open\", \"open\", \"opening\", \"opportunity\", \"opportunity\", \"ordinary\", \"owe\", \"owe\", \"owe\", \"owe\", \"pack\", \"pack\", \"pack\", \"pack\", \"pack\", \"pack\", \"pack\", \"pain\", \"pain\", \"pain\", \"pain\", \"pain\", \"pain\", \"pain\", \"pain\", \"palace\", \"paper\", \"paper\", \"paper\", \"paper\", \"paper\", \"paper\", \"paper\", \"paradise\", \"paranoia\", \"parents\", \"parents\", \"parents\", \"party\", \"party\", \"party\", \"party\", \"patience\", \"patience\", \"patter\", \"pay\", \"pay\", \"pay\", \"pay\", \"pay\", \"pay\", \"pay\", \"pay\", \"pay\", \"pay\", \"pays\", \"pays\", \"peace\", \"peace\", \"peace\", \"peace\", \"peace\", \"penitentiary\", \"people\", \"people\", \"people\", \"people\", \"people\", \"people\", \"people\", \"people\", \"people\", \"people\", \"people\", \"people\", \"people\", \"perfect\", \"perfect\", \"perfect\", \"perfect\", \"perfect\", \"perfect\", \"perfect\", \"perfect\", \"perfect\", \"perfume\", \"perfume\", \"perfume\", \"person\", \"personality\", \"personality\", \"persuade\", \"phone\", \"phone\", \"phone\", \"phone\", \"phone\", \"phone\", \"phone\", \"phone\", \"phones\", \"piano\", \"piano\", \"pimping\", \"pimping\", \"pimping\", \"pinky\", \"pity\", \"pity\", \"place\", \"place\", \"place\", \"place\", \"place\", \"place\", \"place\", \"place\", \"place\", \"place\", \"place\", \"place\", \"place\", \"place\", \"place\", \"play\", \"play\", \"play\", \"play\", \"play\", \"play\", \"play\", \"play\", \"play\", \"play\", \"play\", \"play\", \"play\", \"playing\", \"playing\", \"playing\", \"playing\", \"playing\", \"playing\", \"playing\", \"playing\", \"pleasant\", \"pleased\", \"point\", \"point\", \"point\", \"point\", \"point\", \"point\", \"point\", \"point\", \"point\", \"point\", \"pointing\", \"pointing\", \"pointing\", \"policy\", \"pollution\", \"pon\", \"poor\", \"poor\", \"poor\", \"poor\", \"poor\", \"pop\", \"pop\", \"pop\", \"pop\", \"popular\", \"popular\", \"porch\", \"porch\", \"porch\", \"porch\", \"porch\", \"porch\", \"position\", \"position\", \"pour\", \"pour\", \"pour\", \"pour\", \"pow\", \"power\", \"power\", \"power\", \"power\", \"power\", \"power\", \"power\", \"pray\", \"pray\", \"pray\", \"pray\", \"pray\", \"prayed\", \"prayer\", \"prayer\", \"preach\", \"preach\", \"preach\", \"pregnant\", \"pregnant\", \"pressure\", \"pressure\", \"pressure\", \"pretty\", \"pretty\", \"pretty\", \"pretty\", \"pretty\", \"pretty\", \"pretty\", \"pretty\", \"pretty\", \"principal\", \"problems\", \"problems\", \"problems\", \"problems\", \"problems\", \"problems\", \"professor\", \"program\", \"program\", \"providing\", \"pull\", \"pull\", \"pull\", \"pull\", \"pull\", \"pull\", \"pull\", \"pull\", \"pull\", \"pull\", \"pull\", \"pullin\", \"punish\", \"puppet\", \"push\", \"push\", \"push\", \"push\", \"push\", \"pussies\", \"pussy\", \"putting\", \"putting\", \"putting\", \"putting\", \"putting\", \"putting\", \"putting\", \"pyramid\", \"racks\", \"radical\", \"radio\", \"radio\", \"radio\", \"radio\", \"radio\", \"radio\", \"radio\", \"railroad\", \"rain\", \"rain\", \"rain\", \"rain\", \"rain\", \"rain\", \"rain\", \"rain\", \"rain\", \"raining\", \"raining\", \"raining\", \"raise\", \"raise\", \"raise\", \"raise\", \"raise\", \"raise\", \"raise\", \"raise\", \"rank\", \"rap\", \"rap\", \"rap\", \"rap\", \"rappin\", \"rappin\", \"rappin\", \"rapping\", \"rave\", \"raw\", \"raw\", \"raw\", \"raw\", \"raw\", \"raw\", \"raw\", \"rays\", \"read\", \"read\", \"read\", \"read\", \"read\", \"ready\", \"ready\", \"ready\", \"ready\", \"ready\", \"ready\", \"real\", \"real\", \"real\", \"real\", \"real\", \"real\", \"real\", \"real\", \"real\", \"real\", \"real\", \"real\", \"realer\", \"rear\", \"rear\", \"rear\", \"recording\", \"red\", \"red\", \"red\", \"red\", \"red\", \"red\", \"red\", \"red\", \"red\", \"red\", \"redneck\", \"redneck\", \"reggae\", \"reggae\", \"religion\", \"religion\", \"remains\", \"remember\", \"remember\", \"remember\", \"remember\", \"remember\", \"remember\", \"remember\", \"reminds\", \"reminisce\", \"remorse\", \"rep\", \"rep\", \"repent\", \"represent\", \"represent\", \"represent\", \"respect\", \"respect\", \"respect\", \"respect\", \"respect\", \"respect\", \"retreat\", \"rhyme\", \"rhyme\", \"rhyme\", \"rhyme\", \"rhymes\", \"rhymes\", \"rhymes\", \"rhymes\", \"ribbon\", \"rich\", \"rich\", \"rich\", \"rich\", \"rich\", \"rich\", \"rich\", \"richer\", \"riddle\", \"ride\", \"ride\", \"ride\", \"ride\", \"ride\", \"ride\", \"ride\", \"ride\", \"ride\", \"ridin\", \"riding\", \"riding\", \"riding\", \"riding\", \"riding\", \"riding\", \"riding\", \"riding\", \"riding\", \"rim\", \"ring\", \"ring\", \"ring\", \"ring\", \"ring\", \"ring\", \"ringing\", \"ringing\", \"rise\", \"rise\", \"rise\", \"rise\", \"rise\", \"river\", \"river\", \"river\", \"river\", \"road\", \"road\", \"road\", \"road\", \"road\", \"road\", \"road\", \"roads\", \"rock\", \"rock\", \"rock\", \"rockin\", \"rockin\", \"rocking\", \"rocking\", \"rocking\", \"rocking\", \"rocking\", \"rocking\", \"rocky\", \"rod\", \"rodeo\", \"rodeo\", \"roll\", \"roll\", \"roll\", \"roll\", \"rolling\", \"rolling\", \"rolling\", \"rolling\", \"rolling\", \"romance\", \"romance\", \"romance\", \"romantic\", \"ron\", \"room\", \"room\", \"room\", \"room\", \"room\", \"room\", \"room\", \"room\", \"room\", \"room\", \"room\", \"round\", \"round\", \"round\", \"round\", \"round\", \"round\", \"round\", \"round\", \"round\", \"round\", \"round\", \"round\", \"rowdy\", \"rugged\", \"ruggish\", \"ruled\", \"ruled\", \"running\", \"running\", \"running\", \"running\", \"running\", \"running\", \"running\", \"running\", \"running\", \"running\", \"running\", \"running\", \"sad\", \"sad\", \"sad\", \"sad\", \"sad\", \"saddle\", \"saddle\", \"saddle\", \"sadness\", \"saint\", \"saint\", \"saints\", \"saloon\", \"salute\", \"santa\", \"satisfaction\", \"satisfied\", \"satisfied\", \"satisfied\", \"saturday\", \"saved\", \"saved\", \"saved\", \"savior\", \"scalpel\", \"scandalous\", \"school\", \"school\", \"school\", \"school\", \"school\", \"school\", \"school\", \"school\", \"school\", \"scream\", \"scream\", \"scream\", \"scream\", \"scream\", \"sea\", \"sea\", \"sea\", \"searching\", \"searching\", \"searching\", \"searching\", \"searching\", \"sense\", \"sense\", \"sense\", \"sense\", \"sense\", \"sense\", \"sense\", \"sense\", \"senseless\", \"sequel\", \"sermon\", \"serve\", \"serve\", \"session\", \"set\", \"set\", \"set\", \"set\", \"set\", \"set\", \"set\", \"set\", \"set\", \"set\", \"set\", \"set\", \"sex\", \"sex\", \"sex\", \"sex\", \"sex\", \"sex\", \"sexy\", \"sexy\", \"sexy\", \"sha\", \"shades\", \"shades\", \"shadows\", \"shadows\", \"shadows\", \"shake\", \"shaking\", \"shaking\", \"shaking\", \"shaking\", \"shaking\", \"shaking\", \"shaking\", \"shaking\", \"shank\", \"share\", \"share\", \"share\", \"share\", \"share\", \"sharing\", \"sharpen\", \"shattered\", \"shattered\", \"shh\", \"shh\", \"shine\", \"shine\", \"shine\", \"shine\", \"shine\", \"shine\", \"ship\", \"ship\", \"ship\", \"ship\", \"ship\", \"shit\", \"shit\", \"shit\", \"shit\", \"shits\", \"shits\", \"shitting\", \"shoes\", \"shoes\", \"shoes\", \"shoes\", \"shoes\", \"shoes\", \"shoes\", \"shoes\", \"shoot\", \"shoot\", \"shoot\", \"shoot\", \"shorts\", \"shorty\", \"shot\", \"shot\", \"shot\", \"shot\", \"shot\", \"shot\", \"shots\", \"shots\", \"shots\", \"shots\", \"shout\", \"shout\", \"shout\", \"shout\", \"shouting\", \"shouting\", \"shouts\", \"shut\", \"shut\", \"shut\", \"shut\", \"sic\", \"sidewalk\", \"sideways\", \"sights\", \"signature\", \"simmer\", \"sin\", \"sin\", \"sin\", \"sin\", \"sing\", \"sing\", \"sing\", \"sing\", \"sing\", \"sing\", \"sing\", \"sing\", \"sing\", \"singer\", \"singing\", \"singing\", \"singing\", \"singing\", \"singing\", \"single\", \"single\", \"single\", \"single\", \"single\", \"single\", \"single\", \"single\", \"sinners\", \"sippin\", \"sit\", \"sit\", \"sit\", \"sit\", \"sit\", \"sit\", \"sit\", \"sit\", \"sit\", \"sit\", \"sit\", \"situation\", \"situation\", \"situation\", \"situation\", \"situation\", \"situation\", \"sizzle\", \"skies\", \"sky\", \"sky\", \"sky\", \"sky\", \"sky\", \"sky\", \"sky\", \"sky\", \"sky\", \"slay\", \"sleep\", \"sleep\", \"sleep\", \"sleep\", \"sleep\", \"sleep\", \"sleep\", \"sleep\", \"sleep\", \"sleigh\", \"slide\", \"slide\", \"slide\", \"slide\", \"slide\", \"slide\", \"slide\", \"slippin\", \"slips\", \"slugs\", \"slut\", \"smile\", \"smile\", \"smile\", \"smile\", \"smile\", \"smile\", \"smile\", \"smile\", \"smile\", \"smiling\", \"smiling\", \"smiling\", \"smiling\", \"smith\", \"smoke\", \"smoke\", \"smoke\", \"smoke\", \"smoke\", \"smoke\", \"smoke\", \"smoking\", \"smoking\", \"smoking\", \"smoking\", \"smoking\", \"smoking\", \"smooth\", \"smooth\", \"smother\", \"sneaking\", \"snow\", \"snow\", \"snow\", \"snow\", \"snow\", \"society\", \"someday\", \"son\", \"son\", \"son\", \"son\", \"son\", \"son\", \"son\", \"son\", \"song\", \"song\", \"song\", \"song\", \"song\", \"song\", \"song\", \"song\", \"song\", \"song\", \"songs\", \"songs\", \"songs\", \"songs\", \"songs\", \"songs\", \"sore\", \"sore\", \"soul\", \"soul\", \"soul\", \"soul\", \"soul\", \"soul\", \"soul\", \"soul\", \"soul\", \"soul\", \"soul\", \"soup\", \"soup\", \"southern\", \"space\", \"space\", \"space\", \"space\", \"space\", \"space\", \"space\", \"spaz\", \"speakin\", \"special\", \"special\", \"special\", \"special\", \"special\", \"special\", \"special\", \"spinning\", \"spinning\", \"spinning\", \"spinning\", \"spinning\", \"spinning\", \"spinning\", \"spiritual\", \"splash\", \"splash\", \"spot\", \"spot\", \"spot\", \"spot\", \"spot\", \"spot\", \"spot\", \"spray\", \"spray\", \"spray\", \"spur\", \"stacking\", \"stand\", \"stand\", \"stand\", \"stand\", \"stand\", \"stand\", \"stand\", \"stand\", \"stand\", \"stand\", \"stand\", \"stand\", \"standing\", \"standing\", \"standing\", \"standing\", \"standing\", \"standing\", \"standing\", \"standing\", \"stank\", \"star\", \"star\", \"star\", \"star\", \"star\", \"star\", \"star\", \"star\", \"star\", \"star\", \"stares\", \"stars\", \"stars\", \"stars\", \"stars\", \"stars\", \"stars\", \"stay\", \"stay\", \"stay\", \"stay\", \"stay\", \"stay\", \"stay\", \"stay\", \"stay\", \"steam\", \"step\", \"step\", \"step\", \"step\", \"step\", \"step\", \"step\", \"step\", \"step\", \"step\", \"stops\", \"stops\", \"stops\", \"stops\", \"storm\", \"storm\", \"storm\", \"storm\", \"storm\", \"story\", \"story\", \"story\", \"story\", \"story\", \"story\", \"story\", \"story\", \"straight\", \"straight\", \"straight\", \"straight\", \"straight\", \"straight\", \"straight\", \"straight\", \"straight\", \"straight\", \"straight\", \"straight\", \"strain\", \"stream\", \"street\", \"street\", \"street\", \"street\", \"street\", \"street\", \"street\", \"street\", \"street\", \"street\", \"street\", \"street\", \"street\", \"streets\", \"streets\", \"streets\", \"streets\", \"streets\", \"streets\", \"streets\", \"streets\", \"streets\", \"stressing\", \"strife\", \"stroke\", \"strong\", \"strong\", \"strong\", \"strong\", \"strong\", \"strong\", \"strong\", \"strong\", \"strong\", \"strong\", \"strut\", \"strutting\", \"stuff\", \"stuff\", \"stuff\", \"stuff\", \"stuff\", \"stunna\", \"stuntin\", \"stunting\", \"style\", \"style\", \"style\", \"style\", \"style\", \"style\", \"style\", \"successful\", \"suck\", \"suck\", \"suck\", \"sucker\", \"sucker\", \"sucker\", \"sucker\", \"suede\", \"suga\", \"sugar\", \"sugar\", \"sugar\", \"sugar\", \"suicidal\", \"summer\", \"summer\", \"summer\", \"summer\", \"summer\", \"sun\", \"sun\", \"sun\", \"sun\", \"sun\", \"sun\", \"sun\", \"sun\", \"sung\", \"sunshine\", \"sunshine\", \"super\", \"super\", \"super\", \"super\", \"super\", \"superman\", \"superstar\", \"superstar\", \"supposed\", \"supposed\", \"supposed\", \"supposed\", \"surrender\", \"surrender\", \"survive\", \"survive\", \"survive\", \"survive\", \"survive\", \"survivor\", \"suspicion\", \"swagger\", \"swamp\", \"sway\", \"swear\", \"swear\", \"swear\", \"swear\", \"swear\", \"swear\", \"swear\", \"swear\", \"swear\", \"swear\", \"sweat\", \"sweat\", \"sweat\", \"sweat\", \"sweat\", \"sweat\", \"sweat\", \"sweat\", \"sweater\", \"sweet\", \"sweet\", \"sweet\", \"sweet\", \"sweet\", \"sweet\", \"sweet\", \"sweet\", \"sweet\", \"sweetest\", \"swelling\", \"swinging\", \"sword\", \"table\", \"table\", \"table\", \"table\", \"table\", \"table\", \"table\", \"takes\", \"takes\", \"takes\", \"takes\", \"takes\", \"takes\", \"takes\", \"takes\", \"talk\", \"talk\", \"talk\", \"talk\", \"talk\", \"talk\", \"talk\", \"talk\", \"talk\", \"talk\", \"talked\", \"talkin\", \"talkin\", \"talkin\", \"talking\", \"talking\", \"talking\", \"talking\", \"talking\", \"talking\", \"talking\", \"talking\", \"talking\", \"tangled\", \"tat\", \"tat\", \"tattoo\", \"tattoo\", \"team\", \"team\", \"team\", \"team\", \"team\", \"tear\", \"tear\", \"tear\", \"tear\", \"tear\", \"tear\", \"tears\", \"tears\", \"tears\", \"telephone\", \"telephone\", \"telling\", \"telling\", \"telling\", \"telling\", \"telling\", \"telling\", \"telling\", \"telling\", \"telly\", \"telly\", \"tempted\", \"tender\", \"tender\", \"tender\", \"tender\", \"tenderness\", \"tenderness\", \"terrible\", \"terror\", \"thankful\", \"thankful\", \"thee\", \"theory\", \"thicker\", \"things\", \"things\", \"things\", \"things\", \"things\", \"things\", \"things\", \"things\", \"things\", \"things\", \"things\", \"things\", \"things\", \"things\", \"thinking\", \"thinking\", \"thinking\", \"thinking\", \"thinking\", \"thinking\", \"thinking\", \"thinking\", \"thinking\", \"thinking\", \"thong\", \"thought\", \"thought\", \"thought\", \"thought\", \"thought\", \"thought\", \"thought\", \"thought\", \"thought\", \"thought\", \"thought\", \"thought\", \"threaten\", \"throw\", \"throw\", \"throw\", \"throw\", \"throw\", \"throw\", \"throw\", \"throw\", \"throw\", \"thug\", \"thug\", \"thug\", \"thugging\", \"thugging\", \"thugs\", \"thugs\", \"thugs\", \"thugs\", \"thy\", \"tick\", \"ticking\", \"tickle\", \"till\", \"till\", \"till\", \"till\", \"till\", \"till\", \"till\", \"till\", \"till\", \"times\", \"times\", \"times\", \"times\", \"times\", \"times\", \"times\", \"times\", \"times\", \"times\", \"times\", \"times\", \"tire\", \"tock\", \"today\", \"today\", \"today\", \"today\", \"today\", \"today\", \"today\", \"today\", \"told\", \"told\", \"told\", \"told\", \"told\", \"told\", \"told\", \"told\", \"told\", \"told\", \"told\", \"tongues\", \"tonight\", \"tonight\", \"tonight\", \"tonight\", \"tonite\", \"torn\", \"torn\", \"torn\", \"torture\", \"touch\", \"touch\", \"touch\", \"touch\", \"touch\", \"touch\", \"touch\", \"touch\", \"touch\", \"tower\", \"town\", \"town\", \"town\", \"town\", \"town\", \"town\", \"town\", \"town\", \"town\", \"town\", \"town\", \"toys\", \"trace\", \"train\", \"traveling\", \"treating\", \"treating\", \"trill\", \"trip\", \"trip\", \"trip\", \"trip\", \"trip\", \"trip\", \"trip\", \"trip\", \"trip\", \"trouble\", \"trouble\", \"trouble\", \"trouble\", \"trouble\", \"trouble\", \"trouble\", \"trouble\", \"trouble\", \"trouble\", \"true\", \"true\", \"true\", \"true\", \"true\", \"true\", \"true\", \"true\", \"true\", \"true\", \"true\", \"true\", \"trump\", \"trust\", \"trust\", \"trust\", \"trust\", \"trust\", \"trust\", \"trust\", \"truth\", \"truth\", \"truth\", \"truth\", \"truth\", \"truth\", \"truth\", \"turn\", \"turn\", \"turn\", \"turn\", \"turn\", \"turn\", \"turn\", \"turn\", \"turn\", \"turn\", \"turn\", \"turn\", \"turn\", \"turn\", \"turning\", \"turning\", \"turning\", \"turnt\", \"twilight\", \"twist\", \"twist\", \"twist\", \"twist\", \"twist\", \"twist\", \"types\", \"umbrella\", \"unable\", \"undercover\", \"understand\", \"understand\", \"understand\", \"understand\", \"understand\", \"understand\", \"understand\", \"understand\", \"understand\", \"understand\", \"understand\", \"unemployed\", \"unholy\", \"unit\", \"upgrade\", \"upgrade\", \"velvet\", \"vent\", \"victory\", \"video\", \"video\", \"video\", \"view\", \"view\", \"view\", \"view\", \"view\", \"view\", \"view\", \"vous\", \"voyage\", \"wait\", \"wait\", \"wait\", \"wait\", \"wait\", \"wait\", \"wait\", \"wait\", \"wait\", \"waiting\", \"waiting\", \"waiting\", \"waiting\", \"waiting\", \"waiting\", \"waiting\", \"waiting\", \"waits\", \"wake\", \"wake\", \"wake\", \"wake\", \"wake\", \"wake\", \"wake\", \"wake\", \"wake\", \"walk\", \"walk\", \"walk\", \"walk\", \"walk\", \"walk\", \"walk\", \"walk\", \"walk\", \"walk\", \"walk\", \"walk\", \"walkin\", \"walking\", \"walking\", \"walking\", \"walking\", \"walking\", \"walking\", \"walking\", \"walking\", \"walking\", \"walking\", \"walking\", \"waltz\", \"wan\", \"wanted\", \"wanted\", \"wanted\", \"wanted\", \"wanted\", \"wanted\", \"wanted\", \"wanted\", \"wants\", \"wants\", \"wants\", \"wants\", \"war\", \"war\", \"war\", \"warriors\", \"warriors\", \"waste\", \"waste\", \"waste\", \"waste\", \"waste\", \"waste\", \"waste\", \"watch\", \"watch\", \"watch\", \"watch\", \"watch\", \"watch\", \"watch\", \"watch\", \"watch\", \"watch\", \"water\", \"water\", \"water\", \"water\", \"water\", \"water\", \"water\", \"water\", \"wave\", \"wave\", \"wave\", \"wave\", \"wave\", \"weave\", \"wee\", \"wee\", \"weed\", \"weed\", \"weep\", \"weird\", \"western\", \"wet\", \"wet\", \"wet\", \"wet\", \"wet\", \"wheel\", \"wheel\", \"wheel\", \"wheel\", \"wheel\", \"wheels\", \"wheels\", \"wheels\", \"wheels\", \"wheels\", \"wheels\", \"whining\", \"whispers\", \"white\", \"white\", \"white\", \"white\", \"white\", \"white\", \"white\", \"white\", \"white\", \"white\", \"white\", \"white\", \"wicked\", \"wicked\", \"wicket\", \"widow\", \"wild\", \"wild\", \"wild\", \"wild\", \"wild\", \"wild\", \"wind\", \"wind\", \"wind\", \"wind\", \"wind\", \"wind\", \"winds\", \"wings\", \"wings\", \"wings\", \"wings\", \"wipe\", \"wish\", \"wish\", \"wish\", \"wish\", \"wish\", \"wish\", \"wish\", \"wish\", \"wished\", \"witch\", \"wobble\", \"woke\", \"woke\", \"woke\", \"woke\", \"woke\", \"woke\", \"woman\", \"woman\", \"woman\", \"woman\", \"woman\", \"woman\", \"women\", \"women\", \"women\", \"women\", \"women\", \"women\", \"woo\", \"woo\", \"woo\", \"woogie\", \"wop\", \"word\", \"word\", \"word\", \"word\", \"word\", \"word\", \"word\", \"word\", \"word\", \"word\", \"word\", \"word\", \"words\", \"words\", \"words\", \"words\", \"words\", \"worked\", \"worried\", \"worried\", \"worried\", \"worth\", \"worth\", \"worth\", \"worth\", \"worth\", \"worth\", \"worth\", \"worthy\", \"worthy\", \"wow\", \"wow\", \"wrecking\", \"write\", \"write\", \"write\", \"write\", \"write\", \"write\", \"wrong\", \"wrong\", \"wrong\", \"wrong\", \"wrong\", \"wrong\", \"wrong\", \"wrong\", \"wrong\", \"wrong\", \"wrong\", \"yap\", \"yay\", \"yea\", \"year\", \"year\", \"year\", \"year\", \"year\", \"year\", \"year\", \"year\", \"year\", \"years\", \"years\", \"years\", \"years\", \"years\", \"years\", \"years\", \"yeh\", \"yellin\", \"yesterday\", \"yesterday\", \"yesterday\", \"yesterday\", \"york\", \"young\", \"young\", \"young\", \"young\", \"young\", \"young\", \"young\", \"young\", \"young\", \"young\", \"young\"]}, \"R\": 30, \"lambda.step\": 0.01, \"plot.opts\": {\"xlab\": \"PC1\", \"ylab\": \"PC2\"}, \"topic.order\": [1, 2, 3, 4, 5, 6, 7, 8, 9, 10, 11, 12, 13, 14, 15, 16, 17, 18, 19, 20]};\n",
       "\n",
       "function LDAvis_load_lib(url, callback){\n",
       "  var s = document.createElement('script');\n",
       "  s.src = url;\n",
       "  s.async = true;\n",
       "  s.onreadystatechange = s.onload = callback;\n",
       "  s.onerror = function(){console.warn(\"failed to load library \" + url);};\n",
       "  document.getElementsByTagName(\"head\")[0].appendChild(s);\n",
       "}\n",
       "\n",
       "if(typeof(LDAvis) !== \"undefined\"){\n",
       "   // already loaded: just create the visualization\n",
       "   !function(LDAvis){\n",
       "       new LDAvis(\"#\" + \"ldavis_el267628940608089768139056416\", ldavis_el267628940608089768139056416_data);\n",
       "   }(LDAvis);\n",
       "}else if(typeof define === \"function\" && define.amd){\n",
       "   // require.js is available: use it to load d3/LDAvis\n",
       "   require.config({paths: {d3: \"https://cdnjs.cloudflare.com/ajax/libs/d3/3.5.5/d3.min\"}});\n",
       "   require([\"d3\"], function(d3){\n",
       "      window.d3 = d3;\n",
       "      LDAvis_load_lib(\"https://cdn.rawgit.com/bmabey/pyLDAvis/files/ldavis.v1.0.0.js\", function(){\n",
       "        new LDAvis(\"#\" + \"ldavis_el267628940608089768139056416\", ldavis_el267628940608089768139056416_data);\n",
       "      });\n",
       "    });\n",
       "}else{\n",
       "    // require.js not available: dynamically load d3 & LDAvis\n",
       "    LDAvis_load_lib(\"https://cdnjs.cloudflare.com/ajax/libs/d3/3.5.5/d3.min.js\", function(){\n",
       "         LDAvis_load_lib(\"https://cdn.rawgit.com/bmabey/pyLDAvis/files/ldavis.v1.0.0.js\", function(){\n",
       "                 new LDAvis(\"#\" + \"ldavis_el267628940608089768139056416\", ldavis_el267628940608089768139056416_data);\n",
       "            })\n",
       "         });\n",
       "}\n",
       "</script>"
      ],
      "text/plain": [
       "PreparedData(topic_coordinates=            Freq  cluster  topics         x         y\n",
       "topic                                                \n",
       "0       6.001414        1       1 -0.199538 -0.105764\n",
       "1       3.915099        1       2 -0.046232  0.100700\n",
       "2       2.263318        1       3  0.024685 -0.060121\n",
       "3       2.847439        1       4 -0.075508 -0.106165\n",
       "4       3.484924        1       5 -0.119927 -0.092598\n",
       "5       9.438642        1       6 -0.095469  0.092124\n",
       "6       9.118416        1       7 -0.142018 -0.072790\n",
       "7       0.818394        1       8  0.261973 -0.116978\n",
       "8       2.580908        1       9 -0.078197 -0.108784\n",
       "9      13.196072        1      10  0.043339  0.205764\n",
       "10      2.299887        1      11 -0.087122  0.003714\n",
       "11      2.573008        1      12  0.089735  0.100811\n",
       "12      8.687119        1      13 -0.147759  0.039267\n",
       "13     12.015099        1      14  0.025415  0.227247\n",
       "14      1.894218        1      15  0.165496  0.124445\n",
       "15      1.850163        1      16  0.093877 -0.228455\n",
       "16      6.083211        1      17  0.019461  0.079032\n",
       "17      1.413069        1      18  0.202657 -0.114508\n",
       "18      7.694851        1      19 -0.097826  0.053571\n",
       "19      1.824747        1      20  0.162958 -0.020515, topic_info=     Category          Freq      Term         Total  loglift  logprob\n",
       "term                                                                 \n",
       "3188  Default  26299.000000     nigga  26299.000000  30.0000  30.0000\n",
       "2843  Default  19920.000000      love  19920.000000  29.0000  29.0000\n",
       "215   Default  11563.000000      baby  11563.000000  28.0000  28.0000\n",
       "4217  Default  13197.000000      shit  13197.000000  27.0000  27.0000\n",
       "3067  Default   7537.000000     money   7537.000000  26.0000  26.0000\n",
       "2027  Default   7662.000000      girl   7662.000000  25.0000  25.0000\n",
       "1178  Default   6809.000000       day   6809.000000  24.0000  24.0000\n",
       "2903  Default  11960.000000       man  11960.000000  23.0000  23.0000\n",
       "1940  Default   8075.000000      fuck   8075.000000  22.0000  22.0000\n",
       "2066  Default   7033.000000      good   7033.000000  21.0000  21.0000\n",
       "366   Default   6678.000000     bitch   6678.000000  20.0000  20.0000\n",
       "1730  Default   7191.000000      feel   7191.000000  19.0000  19.0000\n",
       "492   Default   4360.000000       boy   4360.000000  18.0000  18.0000\n",
       "3191  Default   7177.000000     night   7177.000000  17.0000  17.0000\n",
       "5083  Default   3722.000000      turn   3722.000000  16.0000  16.0000\n",
       "3016  Default   4847.000000      mind   4847.000000  15.0000  15.0000\n",
       "3946  Default   3355.000000      rock   3355.000000  14.0000  14.0000\n",
       "3090  Default   3934.000000    mother   3934.000000  13.0000  13.0000\n",
       "2220  Default   4246.000000      hard   4246.000000  12.0000  12.0000\n",
       "4982  Default   2900.000000   tonight   2900.000000  11.0000  11.0000\n",
       "3783  Default   2987.000000     ready   2987.000000  10.0000  10.0000\n",
       "1945  Default   5006.000000   fucking   5006.000000   9.0000   9.0000\n",
       "351   Default   4163.000000       big   4163.000000   8.0000   8.0000\n",
       "3784  Default   5580.000000      real   5580.000000   7.0000   7.0000\n",
       "2760  Default   8912.000000      life   8912.000000   6.0000   6.0000\n",
       "3957  Default   2779.000000      roll   2779.000000   5.0000   5.0000\n",
       "3908  Default   3184.000000      ride   3184.000000   4.0000   4.0000\n",
       "1152  Default   2310.000000     dance   2310.000000   3.0000   3.0000\n",
       "168   Default   5349.000000       ass   5349.000000   2.0000   2.0000\n",
       "2308  Default   3796.000000      high   3796.000000   1.0000   1.0000\n",
       "...       ...           ...       ...           ...      ...      ...\n",
       "3199  Topic20    336.026141     noise    433.277701   3.7495  -4.3639\n",
       "4020  Topic20     62.162122    saddle     72.609023   3.8484  -6.0513\n",
       "5009  Topic20   1435.031323      town   2097.235792   3.6243  -2.9121\n",
       "809   Topic20   1379.772361      city   2091.516549   3.5878  -2.9514\n",
       "1951  Topic20    790.001525       fun   1214.173078   3.5739  -3.5090\n",
       "4248  Topic20     74.208493  shouting     89.467909   3.8167  -5.8742\n",
       "3809  Topic20    990.771883       red   1622.589975   3.5104  -3.2826\n",
       "3908  Topic20   1772.287849      ride   3184.928883   3.4176  -2.7010\n",
       "4259  Topic20    504.918986      shut    777.332983   3.5723  -3.9566\n",
       "5347  Topic20    580.313489      wild   1047.663609   3.4130  -3.8175\n",
       "5317  Topic20    243.584109     wheel    370.152050   3.5853  -4.6856\n",
       "423   Topic20    637.732372      blue   1245.631028   3.3343  -3.7231\n",
       "5086  Topic20    336.596519   turning    593.494795   3.4366  -4.3622\n",
       "4499  Topic20    191.144599  spinning    302.680219   3.5441  -4.9280\n",
       "3914  Topic20    382.556152    riding    965.874395   3.0776  -4.2342\n",
       "481   Topic20    293.182811    bounce    665.031773   3.1847  -4.5002\n",
       "2141  Topic20    445.305459    ground   1280.826801   2.9472  -4.0823\n",
       "5053  Topic20    263.860366      trip    603.985235   3.1756  -4.6056\n",
       "5318  Topic20    158.242980    wheels    270.192172   3.4687  -5.1169\n",
       "1435  Topic20    316.223532     drive   1093.204869   2.7633  -4.4246\n",
       "1441  Topic20    202.654127   driving    491.738465   3.1173  -4.8695\n",
       "2115  Topic20    274.304598     green    931.430741   2.7812  -4.5668\n",
       "4646  Topic20    348.060008    street   1787.249598   2.3677  -4.3287\n",
       "2830  Topic20    302.897556      lose   1428.499118   2.4527  -4.4676\n",
       "988   Topic20    223.178673    corner    881.374120   2.6302  -4.7731\n",
       "237   Topic20    229.450186      ball   1025.254178   2.5067  -4.7454\n",
       "898   Topic20    304.347503    coming   3572.915225   1.5408  -4.4629\n",
       "2965  Topic20    190.523843      meet    977.910631   2.3681  -4.9313\n",
       "2254  Topic20    216.831427      head   4663.932771   0.9352  -4.8019\n",
       "1730  Topic20    179.755902      feel   7191.392743   0.3147  -4.9894\n",
       "\n",
       "[1380 rows x 6 columns], token_table=      Topic      Freq          Term\n",
       "term                               \n",
       "6         2  0.096758    absolutely\n",
       "6        16  0.870821    absolutely\n",
       "9         6  0.044806         abyss\n",
       "9        12  0.940919         abyss\n",
       "12       12  0.947442  accidentally\n",
       "15        9  0.068138     according\n",
       "15       18  0.926683     according\n",
       "16        2  0.914902       account\n",
       "16        9  0.069612       account\n",
       "18        2  0.974290      accounts\n",
       "22        7  0.988641          ache\n",
       "27       10  0.963750         actin\n",
       "27       11  0.027694         actin\n",
       "36        2  0.203493      addicted\n",
       "36       11  0.658106      addicted\n",
       "36       17  0.090923      addicted\n",
       "36       19  0.047626      addicted\n",
       "41        1  0.146472         adore\n",
       "41       11  0.846284         adore\n",
       "48        4  0.987415          afar\n",
       "49        1  0.842048        affair\n",
       "49       19  0.150366        affair\n",
       "50        1  0.774287     affection\n",
       "50        4  0.050497     affection\n",
       "50        7  0.151491     affection\n",
       "65        6  0.986561           aha\n",
       "66        2  0.113040         ahead\n",
       "66        4  0.030026         ahead\n",
       "66        5  0.109508         ahead\n",
       "66        7  0.049455         ahead\n",
       "...     ...       ...           ...\n",
       "5454     10  0.262975          year\n",
       "5454     13  0.222586          year\n",
       "5454     14  0.000898          year\n",
       "5454     17  0.002693          year\n",
       "5454     20  0.055647          year\n",
       "5456      4  0.010879         years\n",
       "5456      6  0.125790         years\n",
       "5456      7  0.244780         years\n",
       "5456     10  0.084993         years\n",
       "5456     13  0.471201         years\n",
       "5456     14  0.012239         years\n",
       "5456     19  0.050316         years\n",
       "5457     20  0.988103           yeh\n",
       "5459     17  0.974822        yellin\n",
       "5463      1  0.011416     yesterday\n",
       "5463      7  0.199783     yesterday\n",
       "5463     13  0.727781     yesterday\n",
       "5463     16  0.057081     yesterday\n",
       "5465     20  0.991554          york\n",
       "5467      1  0.014787         young\n",
       "5467      2  0.176937         young\n",
       "5467      5  0.025495         young\n",
       "5467      6  0.159601         young\n",
       "5467      7  0.197844         young\n",
       "5467     10  0.189685         young\n",
       "5467     11  0.012238         young\n",
       "5467     14  0.031614         young\n",
       "5467     16  0.003059         young\n",
       "5467     18  0.164190         young\n",
       "5467     19  0.023966         young\n",
       "\n",
       "[4598 rows x 3 columns], R=30, lambda_step=0.01, plot_opts={'xlab': 'PC1', 'ylab': 'PC2'}, topic_order=[1, 2, 3, 4, 5, 6, 7, 8, 9, 10, 11, 12, 13, 14, 15, 16, 17, 18, 19, 20])"
      ]
     },
     "execution_count": 22,
     "metadata": {},
     "output_type": "execute_result"
    }
   ],
   "source": [
    "import pyLDAvis\n",
    "import pyLDAvis.sklearn\n",
    "pyLDAvis.enable_notebook()\n",
    "\n",
    "pyLDAvis.sklearn.prepare(topic_model, lyrics_vectorized, vectorizer, sort_topics=False)"
   ]
  },
  {
   "cell_type": "markdown",
   "metadata": {},
   "source": [
    "With the topic model ready, let's initialize some values to defaults and have a look:"
   ]
  },
  {
   "cell_type": "code",
   "execution_count": 23,
   "metadata": {
    "collapsed": true,
    "scrolled": false
   },
   "outputs": [],
   "source": [
    "df['topics'] = None\n",
    "df['relevancies'] = None\n",
    "df['joy'] = int(0)\n",
    "df['trust'] = int(0)\n",
    "df['sadness'] = int(0)\n",
    "df['anger'] = int(0)\n",
    "df['fear'] = int(0)\n",
    "df['anticipation'] = int(0)\n",
    "df['surprise'] = int(0)\n",
    "df['disgust'] = int(0)"
   ]
  },
  {
   "cell_type": "code",
   "execution_count": 25,
   "metadata": {
    "scrolled": false
   },
   "outputs": [
    {
     "data": {
      "text/html": [
       "<div>\n",
       "<table border=\"1\" class=\"dataframe\">\n",
       "  <thead>\n",
       "    <tr style=\"text-align: right;\">\n",
       "      <th></th>\n",
       "      <th>song</th>\n",
       "      <th>artist</th>\n",
       "      <th>topics</th>\n",
       "    </tr>\n",
       "  </thead>\n",
       "  <tbody>\n",
       "    <tr>\n",
       "      <th>7234</th>\n",
       "      <td>marvin-s-room</td>\n",
       "      <td>drake</td>\n",
       "      <td>NaN</td>\n",
       "    </tr>\n",
       "    <tr>\n",
       "      <th>8192</th>\n",
       "      <td>mockingbird</td>\n",
       "      <td>eminem</td>\n",
       "      <td>NaN</td>\n",
       "    </tr>\n",
       "    <tr>\n",
       "      <th>8290</th>\n",
       "      <td>stan</td>\n",
       "      <td>eminem</td>\n",
       "      <td>NaN</td>\n",
       "    </tr>\n",
       "  </tbody>\n",
       "</table>\n",
       "</div>"
      ],
      "text/plain": [
       "               song  artist topics\n",
       "7234  marvin-s-room   drake    NaN\n",
       "8192    mockingbird  eminem    NaN\n",
       "8290           stan  eminem    NaN"
      ]
     },
     "metadata": {},
     "output_type": "display_data"
    },
    {
     "data": {
      "text/html": [
       "<div>\n",
       "<table border=\"1\" class=\"dataframe\">\n",
       "  <thead>\n",
       "    <tr style=\"text-align: right;\">\n",
       "      <th></th>\n",
       "      <th>song</th>\n",
       "      <th>artist</th>\n",
       "      <th>joy</th>\n",
       "      <th>trust</th>\n",
       "      <th>sadness</th>\n",
       "      <th>disgust</th>\n",
       "      <th>anger</th>\n",
       "      <th>fear</th>\n",
       "      <th>anticipation</th>\n",
       "      <th>surprise</th>\n",
       "    </tr>\n",
       "  </thead>\n",
       "  <tbody>\n",
       "    <tr>\n",
       "      <th>7234</th>\n",
       "      <td>marvin-s-room</td>\n",
       "      <td>drake</td>\n",
       "      <td>0</td>\n",
       "      <td>0</td>\n",
       "      <td>0</td>\n",
       "      <td>0</td>\n",
       "      <td>0</td>\n",
       "      <td>0</td>\n",
       "      <td>0</td>\n",
       "      <td>0</td>\n",
       "    </tr>\n",
       "    <tr>\n",
       "      <th>8192</th>\n",
       "      <td>mockingbird</td>\n",
       "      <td>eminem</td>\n",
       "      <td>0</td>\n",
       "      <td>0</td>\n",
       "      <td>0</td>\n",
       "      <td>0</td>\n",
       "      <td>0</td>\n",
       "      <td>0</td>\n",
       "      <td>0</td>\n",
       "      <td>0</td>\n",
       "    </tr>\n",
       "    <tr>\n",
       "      <th>8290</th>\n",
       "      <td>stan</td>\n",
       "      <td>eminem</td>\n",
       "      <td>0</td>\n",
       "      <td>0</td>\n",
       "      <td>0</td>\n",
       "      <td>0</td>\n",
       "      <td>0</td>\n",
       "      <td>0</td>\n",
       "      <td>0</td>\n",
       "      <td>0</td>\n",
       "    </tr>\n",
       "  </tbody>\n",
       "</table>\n",
       "</div>"
      ],
      "text/plain": [
       "               song  artist  joy  trust  sadness  disgust  anger  fear  \\\n",
       "7234  marvin-s-room   drake    0      0        0        0      0     0   \n",
       "8192    mockingbird  eminem    0      0        0        0      0     0   \n",
       "8290           stan  eminem    0      0        0        0      0     0   \n",
       "\n",
       "      anticipation  surprise  \n",
       "7234             0         0  \n",
       "8192             0         0  \n",
       "8290             0         0  "
      ]
     },
     "metadata": {},
     "output_type": "display_data"
    }
   ],
   "source": [
    "display_utils.display_song_topics(['stan', 'mockingbird', 'marvin-s-room'], df)\n",
    "display_utils.display_song_emotions(['stan', 'mockingbird', 'marvin-s-room'], df)\n",
    "\n",
    "# The reason it's NaN is because addition was performed on the topics (to go from indexes to numbers, but None caused NaN)"
   ]
  },
  {
   "cell_type": "markdown",
   "metadata": {},
   "source": [
    "The next step is to transform the lyrics and then assign topics to the song:"
   ]
  },
  {
   "cell_type": "code",
   "execution_count": 26,
   "metadata": {
    "collapsed": true
   },
   "outputs": [],
   "source": [
    "lyrics_transformed = topic_model.transform(lyrics_vectorized)"
   ]
  },
  {
   "cell_type": "code",
   "execution_count": 27,
   "metadata": {
    "scrolled": false
   },
   "outputs": [
    {
     "name": "stdout",
     "output_type": "stream",
     "text": [
      "Number of songs in topic 1 = 1885 (18%) ... processing time: 6s 709ms\n",
      "Number of songs in topic 2 = 992 (9%) ... processing time: 3s 307ms\n",
      "Number of songs in topic 3 = 518 (5%) ... processing time: 2s 158ms\n",
      "Number of songs in topic 4 = 747 (7%) ... processing time: 3s 235ms\n",
      "Number of songs in topic 5 = 1106 (10%) ... processing time: 3s 500ms\n",
      "Number of songs in topic 6 = 3460 (32%) ... processing time: 11s 470ms\n",
      "Number of songs in topic 7 = 3127 (29%) ... processing time: 9s 294ms\n",
      "Number of songs in topic 8 = 123 (1%) ... processing time: 1s 48ms\n",
      "Number of songs in topic 9 = 562 (5%) ... processing time: 2s 254ms\n",
      "Number of songs in topic 10 = 3986 (37%) ... processing time: 11s 430ms\n",
      "Number of songs in topic 11 = 492 (5%) ... processing time: 1s 904ms\n",
      "Number of songs in topic 12 = 540 (5%) ... processing time: 2s 8ms\n",
      "Number of songs in topic 13 = 3205 (30%) ... processing time: 9s 328ms\n",
      "Number of songs in topic 14 = 3784 (35%) ... processing time: 10s 950ms\n",
      "Number of songs in topic 15 = 318 (3%) ... processing time: 1s 471ms\n",
      "Number of songs in topic 16 = 425 (4%) ... processing time: 1s 724ms\n",
      "Number of songs in topic 17 = 1783 (17%) ... processing time: 5s 265ms\n",
      "Number of songs in topic 18 = 298 (3%) ... processing time: 1s 423ms\n",
      "Number of songs in topic 19 = 2552 (24%) ... processing time: 7s 426ms\n",
      "Number of songs in topic 20 = 368 (3%) ... processing time: 1s 631ms\n"
     ]
    }
   ],
   "source": [
    "dict_t2s = {}\n",
    "\n",
    "for t in range(n_topics):\n",
    "    last = now()\n",
    "    df_song_topics = data_utils.get_songs_for_topic(topic_model, lyrics_transformed, t, 0, df)\n",
    "    df_song_topics['searched_topic'] = t\n",
    "    print(\"Number of songs in topic {0} = {1} ({2}%) ... processing time: \".format(t+1,len(df_song_topics),\n",
    "                                                                                   round(len(df_song_topics)/len(df)*100)), end='')\n",
    "    dict_t2s[t+1] = len(df_song_topics)\n",
    "    display_utils.print_time(now() - last)"
   ]
  },
  {
   "cell_type": "markdown",
   "metadata": {},
   "source": [
    "Let's look at that information as a graph."
   ]
  },
  {
   "cell_type": "code",
   "execution_count": 28,
   "metadata": {},
   "outputs": [
    {
     "data": {
      "text/plain": [
       "<matplotlib.axes._subplots.AxesSubplot at 0x2a1d363e630>"
      ]
     },
     "execution_count": 28,
     "metadata": {},
     "output_type": "execute_result"
    },
    {
     "data": {
      "image/png": "[encoded data removed]",
      "text/plain": [
       "<matplotlib.figure.Figure at 0x2a1d34c3780>"
      ]
     },
     "metadata": {},
     "output_type": "display_data"
    }
   ],
   "source": [
    "t2s = pd.Series(dict_t2s)\n",
    "t2s.sort_values(inplace=True)\n",
    "t2s.plot(kind='bar', figsize=(16,8))"
   ]
  },
  {
   "cell_type": "markdown",
   "metadata": {},
   "source": [
    "Depending on how emotions are assigned to the topics, we could be looking at some label imbalances. Anyway, let's not get ahead of ourselves, let's look at what topics are assigned to some of the songs:"
   ]
  },
  {
   "cell_type": "code",
   "execution_count": 29,
   "metadata": {
    "scrolled": false
   },
   "outputs": [
    {
     "data": {
      "text/html": [
       "<div>\n",
       "<table border=\"1\" class=\"dataframe\">\n",
       "  <thead>\n",
       "    <tr style=\"text-align: right;\">\n",
       "      <th></th>\n",
       "      <th>song</th>\n",
       "      <th>artist</th>\n",
       "      <th>topics</th>\n",
       "    </tr>\n",
       "  </thead>\n",
       "  <tbody>\n",
       "    <tr>\n",
       "      <th>7234</th>\n",
       "      <td>marvin-s-room</td>\n",
       "      <td>drake</td>\n",
       "      <td>[2, 5, 6, 13]</td>\n",
       "    </tr>\n",
       "    <tr>\n",
       "      <th>8192</th>\n",
       "      <td>mockingbird</td>\n",
       "      <td>eminem</td>\n",
       "      <td>[3, 13]</td>\n",
       "    </tr>\n",
       "    <tr>\n",
       "      <th>8290</th>\n",
       "      <td>stan</td>\n",
       "      <td>eminem</td>\n",
       "      <td>[6, 14]</td>\n",
       "    </tr>\n",
       "  </tbody>\n",
       "</table>\n",
       "</div>"
      ],
      "text/plain": [
       "               song  artist         topics\n",
       "7234  marvin-s-room   drake  [2, 5, 6, 13]\n",
       "8192    mockingbird  eminem        [3, 13]\n",
       "8290           stan  eminem        [6, 14]"
      ]
     },
     "metadata": {},
     "output_type": "display_data"
    }
   ],
   "source": [
    "display_utils.display_song_topics(['stan', 'mockingbird', 'marvin-s-room'], df)"
   ]
  },
  {
   "cell_type": "markdown",
   "metadata": {},
   "source": [
    "## Emotion Annotation\n",
    "\n",
    "Looking at the words for topic 3 and 13, if 3 is assigned 'love' (based on words related to family), and 13 is assigned 'sadness' (based on words like 'broke', 'leave', 'break', 'waiting', 'years', etc,) this might make sense, let's see how the assignment goes.\n",
    "\n",
    "First we stem the EmoLex dataset, and then we use it to to match the top words in each topic (and words similar to them), to assign emotions to topic, and then review them."
   ]
  },
  {
   "cell_type": "code",
   "execution_count": 30,
   "metadata": {
    "collapsed": true
   },
   "outputs": [],
   "source": [
    "from nltk import PorterStemmer\n",
    "ps = PorterStemmer()\n",
    "\n",
    "df_w2e['stem'] = df_w2e['word'].apply(lambda x: ps.stem(x))\n",
    "df_w2e_stemmed = df_w2e[['stem', 'anger', 'anticipation', 'disgust', 'fear', 'joy', 'sadness', 'surprise', 'trust']]\n",
    "df_w2e_stemmed = df_w2e_stemmed.groupby('stem').sum()\n",
    "\n",
    "words_w2e_stemmed = df_w2e_stemmed.index.tolist()"
   ]
  },
  {
   "cell_type": "code",
   "execution_count": 31,
   "metadata": {
    "scrolled": false
   },
   "outputs": [
    {
     "name": "stdout",
     "output_type": "stream",
     "text": [
      "58 words matched out of 113 words for Topic 1, (51%)\n",
      "57 words matched out of 204 words for Topic 2, (28%)\n",
      "43 words matched out of 179 words for Topic 3, (24%)\n",
      "55 words matched out of 171 words for Topic 4, (32%)\n",
      "58 words matched out of 169 words for Topic 5, (34%)\n",
      "40 words matched out of 132 words for Topic 6, (30%)\n",
      "87 words matched out of 216 words for Topic 7, (40%)\n",
      "100 words matched out of 243 words for Topic 8, (41%)\n",
      "77 words matched out of 172 words for Topic 9, (45%)\n",
      "60 words matched out of 223 words for Topic 10, (27%)\n",
      "53 words matched out of 125 words for Topic 11, (42%)\n",
      "60 words matched out of 206 words for Topic 12, (29%)\n",
      "40 words matched out of 115 words for Topic 13, (35%)\n",
      "46 words matched out of 161 words for Topic 14, (29%)\n",
      "61 words matched out of 206 words for Topic 15, (30%)\n",
      "52 words matched out of 174 words for Topic 16, (30%)\n",
      "44 words matched out of 170 words for Topic 17, (26%)\n",
      "67 words matched out of 235 words for Topic 18, (29%)\n",
      "106 words matched out of 175 words for Topic 19, (61%)\n",
      "36 words matched out of 179 words for Topic 20, (20%)\n",
      "1200 words matched out of 3568 words in total.\n",
      "That's about 34% matches.\n"
     ]
    }
   ],
   "source": [
    "df_t2e = pd.DataFrame()\n",
    "\n",
    "words_top = data_utils.get_top_words_for_each_topic(topic_model, vectorizer.get_feature_names(), 50)\n",
    "word_count = 0\n",
    "matched_word_count = 0\n",
    "\n",
    "for t in range(len(words_top)):\n",
    "    wordset = set(words_top[t])\n",
    "    t_word_count = 0\n",
    "    t_matched_word_count =  0\n",
    "    for word in words_top[t]:\n",
    "        wordset.update(data_utils.get_similar_words(w2v_model, word, 0.6))\n",
    "    for word in wordset:\n",
    "        word_count +=  1\n",
    "        t_word_count +=  1\n",
    "        word = ps.stem(word)\n",
    "        if word in words_w2e_stemmed:\n",
    "            word_i = words_w2e_stemmed.index(word)\n",
    "            matched_word_count +=  1\n",
    "            t_matched_word_count +=  1\n",
    "        \n",
    "            df_temp = df_w2e_stemmed.loc[words_w2e_stemmed[word_i:word_i+1]][\n",
    "                ['anger', 'anticipation', 'fear', 'joy', 'sadness', 'trust']] \n",
    "            # dropping 'surprise' and 'disgust' because they are difficult to manually identify\n",
    "            # also because they are less relevant\n",
    "            df_temp['topic'] = t\n",
    "            df_t2e=df_t2e.append(df_temp)\n",
    "    print(\"{0} words matched out of {1} words for Topic {2}, ({3}%)\".format(t_matched_word_count, t_word_count, t+1,\n",
    "                                                                            round(t_matched_word_count/t_word_count*100)))\n",
    "\n",
    "print(\"{0} words matched out of {1} words in total.\\nThat's about {2}% matches.\".format(\n",
    "    matched_word_count, word_count, round(matched_word_count/word_count*100)))"
   ]
  },
  {
   "cell_type": "code",
   "execution_count": 32,
   "metadata": {
    "collapsed": true,
    "scrolled": false
   },
   "outputs": [],
   "source": [
    "def get_prominent_emotions(row):\n",
    "    prominent = max(row)\n",
    "    match_count = sum(row)\n",
    "    row = (row/prominent)\n",
    "    row['prominent_emotions'] = [index for index, value in row.iteritems() if value >= 0.9]\n",
    "    row['match_count'] = match_count\n",
    "    return row"
   ]
  },
  {
   "cell_type": "code",
   "execution_count": 33,
   "metadata": {
    "scrolled": false
   },
   "outputs": [
    {
     "data": {
      "text/html": [
       "<div>\n",
       "<table border=\"1\" class=\"dataframe\">\n",
       "  <thead>\n",
       "    <tr style=\"text-align: right;\">\n",
       "      <th></th>\n",
       "      <th>anger</th>\n",
       "      <th>anticipation</th>\n",
       "      <th>fear</th>\n",
       "      <th>joy</th>\n",
       "      <th>sadness</th>\n",
       "      <th>trust</th>\n",
       "      <th>prominent_emotions</th>\n",
       "      <th>match_count</th>\n",
       "    </tr>\n",
       "    <tr>\n",
       "      <th>topic</th>\n",
       "      <th></th>\n",
       "      <th></th>\n",
       "      <th></th>\n",
       "      <th></th>\n",
       "      <th></th>\n",
       "      <th></th>\n",
       "      <th></th>\n",
       "      <th></th>\n",
       "    </tr>\n",
       "  </thead>\n",
       "  <tbody>\n",
       "    <tr>\n",
       "      <th>1</th>\n",
       "      <td>0.621622</td>\n",
       "      <td>0.756757</td>\n",
       "      <td>0.513514</td>\n",
       "      <td>1.000000</td>\n",
       "      <td>0.864865</td>\n",
       "      <td>0.864865</td>\n",
       "      <td>[joy]</td>\n",
       "      <td>171.0</td>\n",
       "    </tr>\n",
       "    <tr>\n",
       "      <th>2</th>\n",
       "      <td>0.709677</td>\n",
       "      <td>0.677419</td>\n",
       "      <td>0.645161</td>\n",
       "      <td>0.645161</td>\n",
       "      <td>0.451613</td>\n",
       "      <td>1.000000</td>\n",
       "      <td>[trust]</td>\n",
       "      <td>128.0</td>\n",
       "    </tr>\n",
       "    <tr>\n",
       "      <th>3</th>\n",
       "      <td>0.222222</td>\n",
       "      <td>0.518519</td>\n",
       "      <td>0.370370</td>\n",
       "      <td>0.851852</td>\n",
       "      <td>0.481481</td>\n",
       "      <td>1.000000</td>\n",
       "      <td>[trust]</td>\n",
       "      <td>93.0</td>\n",
       "    </tr>\n",
       "    <tr>\n",
       "      <th>4</th>\n",
       "      <td>0.342857</td>\n",
       "      <td>0.771429</td>\n",
       "      <td>0.571429</td>\n",
       "      <td>0.914286</td>\n",
       "      <td>0.628571</td>\n",
       "      <td>1.000000</td>\n",
       "      <td>[joy, trust]</td>\n",
       "      <td>148.0</td>\n",
       "    </tr>\n",
       "    <tr>\n",
       "      <th>5</th>\n",
       "      <td>0.333333</td>\n",
       "      <td>0.794872</td>\n",
       "      <td>0.487179</td>\n",
       "      <td>1.000000</td>\n",
       "      <td>0.512821</td>\n",
       "      <td>0.846154</td>\n",
       "      <td>[joy]</td>\n",
       "      <td>155.0</td>\n",
       "    </tr>\n",
       "    <tr>\n",
       "      <th>6</th>\n",
       "      <td>0.178571</td>\n",
       "      <td>0.857143</td>\n",
       "      <td>0.214286</td>\n",
       "      <td>0.714286</td>\n",
       "      <td>0.357143</td>\n",
       "      <td>1.000000</td>\n",
       "      <td>[trust]</td>\n",
       "      <td>93.0</td>\n",
       "    </tr>\n",
       "    <tr>\n",
       "      <th>7</th>\n",
       "      <td>0.509434</td>\n",
       "      <td>0.641509</td>\n",
       "      <td>0.792453</td>\n",
       "      <td>0.528302</td>\n",
       "      <td>1.000000</td>\n",
       "      <td>0.528302</td>\n",
       "      <td>[sadness]</td>\n",
       "      <td>212.0</td>\n",
       "    </tr>\n",
       "    <tr>\n",
       "      <th>8</th>\n",
       "      <td>0.728814</td>\n",
       "      <td>0.237288</td>\n",
       "      <td>1.000000</td>\n",
       "      <td>0.203390</td>\n",
       "      <td>0.915254</td>\n",
       "      <td>0.457627</td>\n",
       "      <td>[fear, sadness]</td>\n",
       "      <td>209.0</td>\n",
       "    </tr>\n",
       "    <tr>\n",
       "      <th>9</th>\n",
       "      <td>0.767857</td>\n",
       "      <td>0.357143</td>\n",
       "      <td>0.910714</td>\n",
       "      <td>0.410714</td>\n",
       "      <td>1.000000</td>\n",
       "      <td>0.642857</td>\n",
       "      <td>[fear, sadness]</td>\n",
       "      <td>229.0</td>\n",
       "    </tr>\n",
       "    <tr>\n",
       "      <th>10</th>\n",
       "      <td>1.000000</td>\n",
       "      <td>0.666667</td>\n",
       "      <td>0.888889</td>\n",
       "      <td>0.629630</td>\n",
       "      <td>0.555556</td>\n",
       "      <td>1.000000</td>\n",
       "      <td>[anger, trust]</td>\n",
       "      <td>128.0</td>\n",
       "    </tr>\n",
       "    <tr>\n",
       "      <th>11</th>\n",
       "      <td>0.633333</td>\n",
       "      <td>0.700000</td>\n",
       "      <td>0.700000</td>\n",
       "      <td>0.633333</td>\n",
       "      <td>0.733333</td>\n",
       "      <td>1.000000</td>\n",
       "      <td>[trust]</td>\n",
       "      <td>132.0</td>\n",
       "    </tr>\n",
       "    <tr>\n",
       "      <th>12</th>\n",
       "      <td>0.450000</td>\n",
       "      <td>1.000000</td>\n",
       "      <td>0.950000</td>\n",
       "      <td>1.000000</td>\n",
       "      <td>0.600000</td>\n",
       "      <td>1.000000</td>\n",
       "      <td>[anticipation, fear, joy, trust]</td>\n",
       "      <td>100.0</td>\n",
       "    </tr>\n",
       "    <tr>\n",
       "      <th>13</th>\n",
       "      <td>0.888889</td>\n",
       "      <td>0.666667</td>\n",
       "      <td>0.611111</td>\n",
       "      <td>0.444444</td>\n",
       "      <td>1.000000</td>\n",
       "      <td>0.888889</td>\n",
       "      <td>[sadness]</td>\n",
       "      <td>81.0</td>\n",
       "    </tr>\n",
       "    <tr>\n",
       "      <th>14</th>\n",
       "      <td>1.000000</td>\n",
       "      <td>0.250000</td>\n",
       "      <td>0.928571</td>\n",
       "      <td>0.178571</td>\n",
       "      <td>0.678571</td>\n",
       "      <td>0.357143</td>\n",
       "      <td>[anger, fear]</td>\n",
       "      <td>95.0</td>\n",
       "    </tr>\n",
       "    <tr>\n",
       "      <th>15</th>\n",
       "      <td>0.914286</td>\n",
       "      <td>0.257143</td>\n",
       "      <td>1.000000</td>\n",
       "      <td>0.228571</td>\n",
       "      <td>0.571429</td>\n",
       "      <td>0.342857</td>\n",
       "      <td>[anger, fear]</td>\n",
       "      <td>116.0</td>\n",
       "    </tr>\n",
       "    <tr>\n",
       "      <th>16</th>\n",
       "      <td>0.586207</td>\n",
       "      <td>0.827586</td>\n",
       "      <td>0.551724</td>\n",
       "      <td>0.862069</td>\n",
       "      <td>0.482759</td>\n",
       "      <td>1.000000</td>\n",
       "      <td>[trust]</td>\n",
       "      <td>125.0</td>\n",
       "    </tr>\n",
       "    <tr>\n",
       "      <th>17</th>\n",
       "      <td>1.000000</td>\n",
       "      <td>0.368421</td>\n",
       "      <td>0.684211</td>\n",
       "      <td>0.421053</td>\n",
       "      <td>0.526316</td>\n",
       "      <td>0.578947</td>\n",
       "      <td>[anger]</td>\n",
       "      <td>68.0</td>\n",
       "    </tr>\n",
       "    <tr>\n",
       "      <th>18</th>\n",
       "      <td>0.900000</td>\n",
       "      <td>0.700000</td>\n",
       "      <td>0.833333</td>\n",
       "      <td>0.766667</td>\n",
       "      <td>0.866667</td>\n",
       "      <td>1.000000</td>\n",
       "      <td>[anger, trust]</td>\n",
       "      <td>152.0</td>\n",
       "    </tr>\n",
       "    <tr>\n",
       "      <th>19</th>\n",
       "      <td>0.821429</td>\n",
       "      <td>0.285714</td>\n",
       "      <td>1.000000</td>\n",
       "      <td>0.285714</td>\n",
       "      <td>0.916667</td>\n",
       "      <td>0.523810</td>\n",
       "      <td>[fear, sadness]</td>\n",
       "      <td>322.0</td>\n",
       "    </tr>\n",
       "    <tr>\n",
       "      <th>20</th>\n",
       "      <td>0.857143</td>\n",
       "      <td>0.928571</td>\n",
       "      <td>0.928571</td>\n",
       "      <td>0.857143</td>\n",
       "      <td>1.000000</td>\n",
       "      <td>0.857143</td>\n",
       "      <td>[anticipation, fear, sadness]</td>\n",
       "      <td>76.0</td>\n",
       "    </tr>\n",
       "  </tbody>\n",
       "</table>\n",
       "</div>"
      ],
      "text/plain": [
       "          anger  anticipation      fear       joy   sadness     trust  \\\n",
       "topic                                                                   \n",
       "1      0.621622      0.756757  0.513514  1.000000  0.864865  0.864865   \n",
       "2      0.709677      0.677419  0.645161  0.645161  0.451613  1.000000   \n",
       "3      0.222222      0.518519  0.370370  0.851852  0.481481  1.000000   \n",
       "4      0.342857      0.771429  0.571429  0.914286  0.628571  1.000000   \n",
       "5      0.333333      0.794872  0.487179  1.000000  0.512821  0.846154   \n",
       "6      0.178571      0.857143  0.214286  0.714286  0.357143  1.000000   \n",
       "7      0.509434      0.641509  0.792453  0.528302  1.000000  0.528302   \n",
       "8      0.728814      0.237288  1.000000  0.203390  0.915254  0.457627   \n",
       "9      0.767857      0.357143  0.910714  0.410714  1.000000  0.642857   \n",
       "10     1.000000      0.666667  0.888889  0.629630  0.555556  1.000000   \n",
       "11     0.633333      0.700000  0.700000  0.633333  0.733333  1.000000   \n",
       "12     0.450000      1.000000  0.950000  1.000000  0.600000  1.000000   \n",
       "13     0.888889      0.666667  0.611111  0.444444  1.000000  0.888889   \n",
       "14     1.000000      0.250000  0.928571  0.178571  0.678571  0.357143   \n",
       "15     0.914286      0.257143  1.000000  0.228571  0.571429  0.342857   \n",
       "16     0.586207      0.827586  0.551724  0.862069  0.482759  1.000000   \n",
       "17     1.000000      0.368421  0.684211  0.421053  0.526316  0.578947   \n",
       "18     0.900000      0.700000  0.833333  0.766667  0.866667  1.000000   \n",
       "19     0.821429      0.285714  1.000000  0.285714  0.916667  0.523810   \n",
       "20     0.857143      0.928571  0.928571  0.857143  1.000000  0.857143   \n",
       "\n",
       "                     prominent_emotions  match_count  \n",
       "topic                                                 \n",
       "1                                 [joy]        171.0  \n",
       "2                               [trust]        128.0  \n",
       "3                               [trust]         93.0  \n",
       "4                          [joy, trust]        148.0  \n",
       "5                                 [joy]        155.0  \n",
       "6                               [trust]         93.0  \n",
       "7                             [sadness]        212.0  \n",
       "8                       [fear, sadness]        209.0  \n",
       "9                       [fear, sadness]        229.0  \n",
       "10                       [anger, trust]        128.0  \n",
       "11                              [trust]        132.0  \n",
       "12     [anticipation, fear, joy, trust]        100.0  \n",
       "13                            [sadness]         81.0  \n",
       "14                        [anger, fear]         95.0  \n",
       "15                        [anger, fear]        116.0  \n",
       "16                              [trust]        125.0  \n",
       "17                              [anger]         68.0  \n",
       "18                       [anger, trust]        152.0  \n",
       "19                      [fear, sadness]        322.0  \n",
       "20        [anticipation, fear, sadness]         76.0  "
      ]
     },
     "metadata": {},
     "output_type": "display_data"
    }
   ],
   "source": [
    "df_t2e_grouped = df_t2e.groupby('topic').sum()\n",
    "df_t2e_assigned = df_t2e_grouped.apply(get_prominent_emotions, axis=1)\n",
    "df_t2e_assigned.index = df_t2e_assigned.index + 1\n",
    "display(df_t2e_assigned)"
   ]
  },
  {
   "cell_type": "markdown",
   "metadata": {},
   "source": [
    "Comparing the data above with the words in the topic model, I would modify the dataset as below:"
   ]
  },
  {
   "cell_type": "code",
   "execution_count": null,
   "metadata": {
    "collapsed": true
   },
   "outputs": [],
   "source": []
  },
  {
   "cell_type": "code",
   "execution_count": 57,
   "metadata": {},
   "outputs": [
    {
     "data": {
      "text/html": [
       "<div>\n",
       "<table border=\"1\" class=\"dataframe\">\n",
       "  <thead>\n",
       "    <tr style=\"text-align: right;\">\n",
       "      <th></th>\n",
       "      <th>anger</th>\n",
       "      <th>anticipation</th>\n",
       "      <th>fear</th>\n",
       "      <th>joy</th>\n",
       "      <th>sadness</th>\n",
       "      <th>trust</th>\n",
       "      <th>prominent_emotions</th>\n",
       "      <th>match_count</th>\n",
       "    </tr>\n",
       "    <tr>\n",
       "      <th>topic</th>\n",
       "      <th></th>\n",
       "      <th></th>\n",
       "      <th></th>\n",
       "      <th></th>\n",
       "      <th></th>\n",
       "      <th></th>\n",
       "      <th></th>\n",
       "      <th></th>\n",
       "    </tr>\n",
       "  </thead>\n",
       "  <tbody>\n",
       "    <tr>\n",
       "      <th>1</th>\n",
       "      <td>0.621622</td>\n",
       "      <td>0.756757</td>\n",
       "      <td>0.513514</td>\n",
       "      <td>1.000000</td>\n",
       "      <td>0.864865</td>\n",
       "      <td>0.864865</td>\n",
       "      <td>[joy, trust, sadness]</td>\n",
       "      <td>171.0</td>\n",
       "    </tr>\n",
       "    <tr>\n",
       "      <th>2</th>\n",
       "      <td>0.709677</td>\n",
       "      <td>0.677419</td>\n",
       "      <td>0.645161</td>\n",
       "      <td>0.645161</td>\n",
       "      <td>0.451613</td>\n",
       "      <td>1.000000</td>\n",
       "      <td>[anticipation, trust]</td>\n",
       "      <td>128.0</td>\n",
       "    </tr>\n",
       "    <tr>\n",
       "      <th>3</th>\n",
       "      <td>0.222222</td>\n",
       "      <td>0.518519</td>\n",
       "      <td>0.370370</td>\n",
       "      <td>0.851852</td>\n",
       "      <td>0.481481</td>\n",
       "      <td>1.000000</td>\n",
       "      <td>[joy, trust]</td>\n",
       "      <td>93.0</td>\n",
       "    </tr>\n",
       "    <tr>\n",
       "      <th>4</th>\n",
       "      <td>0.342857</td>\n",
       "      <td>0.771429</td>\n",
       "      <td>0.571429</td>\n",
       "      <td>0.914286</td>\n",
       "      <td>0.628571</td>\n",
       "      <td>1.000000</td>\n",
       "      <td>[joy, anticipation]</td>\n",
       "      <td>148.0</td>\n",
       "    </tr>\n",
       "    <tr>\n",
       "      <th>5</th>\n",
       "      <td>0.333333</td>\n",
       "      <td>0.794872</td>\n",
       "      <td>0.487179</td>\n",
       "      <td>1.000000</td>\n",
       "      <td>0.512821</td>\n",
       "      <td>0.846154</td>\n",
       "      <td>[joy]</td>\n",
       "      <td>155.0</td>\n",
       "    </tr>\n",
       "    <tr>\n",
       "      <th>6</th>\n",
       "      <td>0.178571</td>\n",
       "      <td>0.857143</td>\n",
       "      <td>0.214286</td>\n",
       "      <td>0.714286</td>\n",
       "      <td>0.357143</td>\n",
       "      <td>1.000000</td>\n",
       "      <td>[trust]</td>\n",
       "      <td>93.0</td>\n",
       "    </tr>\n",
       "    <tr>\n",
       "      <th>7</th>\n",
       "      <td>0.509434</td>\n",
       "      <td>0.641509</td>\n",
       "      <td>0.792453</td>\n",
       "      <td>0.528302</td>\n",
       "      <td>1.000000</td>\n",
       "      <td>0.528302</td>\n",
       "      <td>[sadness]</td>\n",
       "      <td>212.0</td>\n",
       "    </tr>\n",
       "    <tr>\n",
       "      <th>8</th>\n",
       "      <td>0.728814</td>\n",
       "      <td>0.237288</td>\n",
       "      <td>1.000000</td>\n",
       "      <td>0.203390</td>\n",
       "      <td>0.915254</td>\n",
       "      <td>0.457627</td>\n",
       "      <td>[fear, sadness]</td>\n",
       "      <td>209.0</td>\n",
       "    </tr>\n",
       "    <tr>\n",
       "      <th>9</th>\n",
       "      <td>0.767857</td>\n",
       "      <td>0.357143</td>\n",
       "      <td>0.910714</td>\n",
       "      <td>0.410714</td>\n",
       "      <td>1.000000</td>\n",
       "      <td>0.642857</td>\n",
       "      <td>[fear, sadness]</td>\n",
       "      <td>229.0</td>\n",
       "    </tr>\n",
       "    <tr>\n",
       "      <th>10</th>\n",
       "      <td>1.000000</td>\n",
       "      <td>0.666667</td>\n",
       "      <td>0.888889</td>\n",
       "      <td>0.629630</td>\n",
       "      <td>0.555556</td>\n",
       "      <td>1.000000</td>\n",
       "      <td>[anger, anticipation]</td>\n",
       "      <td>128.0</td>\n",
       "    </tr>\n",
       "    <tr>\n",
       "      <th>11</th>\n",
       "      <td>0.633333</td>\n",
       "      <td>0.700000</td>\n",
       "      <td>0.700000</td>\n",
       "      <td>0.633333</td>\n",
       "      <td>0.733333</td>\n",
       "      <td>1.000000</td>\n",
       "      <td>[trust]</td>\n",
       "      <td>132.0</td>\n",
       "    </tr>\n",
       "    <tr>\n",
       "      <th>12</th>\n",
       "      <td>0.450000</td>\n",
       "      <td>1.000000</td>\n",
       "      <td>0.950000</td>\n",
       "      <td>1.000000</td>\n",
       "      <td>0.600000</td>\n",
       "      <td>1.000000</td>\n",
       "      <td>[anticipation, fear, joy]</td>\n",
       "      <td>100.0</td>\n",
       "    </tr>\n",
       "    <tr>\n",
       "      <th>13</th>\n",
       "      <td>0.888889</td>\n",
       "      <td>0.666667</td>\n",
       "      <td>0.611111</td>\n",
       "      <td>0.444444</td>\n",
       "      <td>1.000000</td>\n",
       "      <td>0.888889</td>\n",
       "      <td>[sadness]</td>\n",
       "      <td>81.0</td>\n",
       "    </tr>\n",
       "    <tr>\n",
       "      <th>14</th>\n",
       "      <td>1.000000</td>\n",
       "      <td>0.250000</td>\n",
       "      <td>0.928571</td>\n",
       "      <td>0.178571</td>\n",
       "      <td>0.678571</td>\n",
       "      <td>0.357143</td>\n",
       "      <td>[anger]</td>\n",
       "      <td>95.0</td>\n",
       "    </tr>\n",
       "    <tr>\n",
       "      <th>15</th>\n",
       "      <td>0.914286</td>\n",
       "      <td>0.257143</td>\n",
       "      <td>1.000000</td>\n",
       "      <td>0.228571</td>\n",
       "      <td>0.571429</td>\n",
       "      <td>0.342857</td>\n",
       "      <td>[anticipation, fear]</td>\n",
       "      <td>116.0</td>\n",
       "    </tr>\n",
       "    <tr>\n",
       "      <th>16</th>\n",
       "      <td>0.586207</td>\n",
       "      <td>0.827586</td>\n",
       "      <td>0.551724</td>\n",
       "      <td>0.862069</td>\n",
       "      <td>0.482759</td>\n",
       "      <td>1.000000</td>\n",
       "      <td>[joy, anticipation]</td>\n",
       "      <td>125.0</td>\n",
       "    </tr>\n",
       "    <tr>\n",
       "      <th>17</th>\n",
       "      <td>1.000000</td>\n",
       "      <td>0.368421</td>\n",
       "      <td>0.684211</td>\n",
       "      <td>0.421053</td>\n",
       "      <td>0.526316</td>\n",
       "      <td>0.578947</td>\n",
       "      <td>[joy]</td>\n",
       "      <td>68.0</td>\n",
       "    </tr>\n",
       "    <tr>\n",
       "      <th>18</th>\n",
       "      <td>0.900000</td>\n",
       "      <td>0.700000</td>\n",
       "      <td>0.833333</td>\n",
       "      <td>0.766667</td>\n",
       "      <td>0.866667</td>\n",
       "      <td>1.000000</td>\n",
       "      <td>[joy, anger, trust]</td>\n",
       "      <td>152.0</td>\n",
       "    </tr>\n",
       "    <tr>\n",
       "      <th>19</th>\n",
       "      <td>0.821429</td>\n",
       "      <td>0.285714</td>\n",
       "      <td>1.000000</td>\n",
       "      <td>0.285714</td>\n",
       "      <td>0.916667</td>\n",
       "      <td>0.523810</td>\n",
       "      <td>[anger, fear, sadness]</td>\n",
       "      <td>322.0</td>\n",
       "    </tr>\n",
       "    <tr>\n",
       "      <th>20</th>\n",
       "      <td>0.857143</td>\n",
       "      <td>0.928571</td>\n",
       "      <td>0.928571</td>\n",
       "      <td>0.857143</td>\n",
       "      <td>1.000000</td>\n",
       "      <td>0.857143</td>\n",
       "      <td>[anticipation, fear, sadness, joy]</td>\n",
       "      <td>76.0</td>\n",
       "    </tr>\n",
       "  </tbody>\n",
       "</table>\n",
       "</div>"
      ],
      "text/plain": [
       "          anger  anticipation      fear       joy   sadness     trust  \\\n",
       "topic                                                                   \n",
       "1      0.621622      0.756757  0.513514  1.000000  0.864865  0.864865   \n",
       "2      0.709677      0.677419  0.645161  0.645161  0.451613  1.000000   \n",
       "3      0.222222      0.518519  0.370370  0.851852  0.481481  1.000000   \n",
       "4      0.342857      0.771429  0.571429  0.914286  0.628571  1.000000   \n",
       "5      0.333333      0.794872  0.487179  1.000000  0.512821  0.846154   \n",
       "6      0.178571      0.857143  0.214286  0.714286  0.357143  1.000000   \n",
       "7      0.509434      0.641509  0.792453  0.528302  1.000000  0.528302   \n",
       "8      0.728814      0.237288  1.000000  0.203390  0.915254  0.457627   \n",
       "9      0.767857      0.357143  0.910714  0.410714  1.000000  0.642857   \n",
       "10     1.000000      0.666667  0.888889  0.629630  0.555556  1.000000   \n",
       "11     0.633333      0.700000  0.700000  0.633333  0.733333  1.000000   \n",
       "12     0.450000      1.000000  0.950000  1.000000  0.600000  1.000000   \n",
       "13     0.888889      0.666667  0.611111  0.444444  1.000000  0.888889   \n",
       "14     1.000000      0.250000  0.928571  0.178571  0.678571  0.357143   \n",
       "15     0.914286      0.257143  1.000000  0.228571  0.571429  0.342857   \n",
       "16     0.586207      0.827586  0.551724  0.862069  0.482759  1.000000   \n",
       "17     1.000000      0.368421  0.684211  0.421053  0.526316  0.578947   \n",
       "18     0.900000      0.700000  0.833333  0.766667  0.866667  1.000000   \n",
       "19     0.821429      0.285714  1.000000  0.285714  0.916667  0.523810   \n",
       "20     0.857143      0.928571  0.928571  0.857143  1.000000  0.857143   \n",
       "\n",
       "                       prominent_emotions  match_count  \n",
       "topic                                                   \n",
       "1                   [joy, trust, sadness]        171.0  \n",
       "2                   [anticipation, trust]        128.0  \n",
       "3                            [joy, trust]         93.0  \n",
       "4                     [joy, anticipation]        148.0  \n",
       "5                                   [joy]        155.0  \n",
       "6                                 [trust]         93.0  \n",
       "7                               [sadness]        212.0  \n",
       "8                         [fear, sadness]        209.0  \n",
       "9                         [fear, sadness]        229.0  \n",
       "10                  [anger, anticipation]        128.0  \n",
       "11                                [trust]        132.0  \n",
       "12              [anticipation, fear, joy]        100.0  \n",
       "13                              [sadness]         81.0  \n",
       "14                                [anger]         95.0  \n",
       "15                   [anticipation, fear]        116.0  \n",
       "16                    [joy, anticipation]        125.0  \n",
       "17                                  [joy]         68.0  \n",
       "18                    [joy, anger, trust]        152.0  \n",
       "19                 [anger, fear, sadness]        322.0  \n",
       "20     [anticipation, fear, sadness, joy]         76.0  "
      ]
     },
     "execution_count": 57,
     "metadata": {},
     "output_type": "execute_result"
    }
   ],
   "source": [
    "def modify_t2e(index, value):\n",
    "    global df_t2e_assigned\n",
    "    df_t2e_assigned.at[index, 'prominent_emotions'] = value\n",
    "\n",
    "modify_t2e(1, ['joy','trust','sadness']) # add trust, sadness\n",
    "modify_t2e(2, ['anticipation','trust']) # add anticipation,  remove trust\n",
    "modify_t2e(3, ['joy','trust']) # add joy\n",
    "modify_t2e(4, ['joy','anticipation']) # add anticipation, joy, remove trust\n",
    "modify_t2e(10, ['anger', 'anticipation']) # remove trust, add anticipation\n",
    "modify_t2e(12, ['anticipation', 'fear', 'joy']) \n",
    "modify_t2e(14, ['anger']) # remove fear\n",
    "modify_t2e(15, ['anticipation', 'fear']) \n",
    "modify_t2e(16, ['joy', 'anticipation']) \n",
    "modify_t2e(17, ['joy']) \n",
    "modify_t2e(18, ['joy','anger','trust']) \n",
    "modify_t2e(19, ['anger', 'fear', 'sadness']) \n",
    "modify_t2e(20, ['anticipation', 'fear', 'sadness', 'joy']) \n",
    "\n",
    "df_t2e_assigned"
   ]
  },
  {
   "cell_type": "markdown",
   "metadata": {},
   "source": [
    "The graph below shows the number of topics an emotion is present in: "
   ]
  },
  {
   "cell_type": "code",
   "execution_count": 58,
   "metadata": {},
   "outputs": [
    {
     "data": {
      "text/plain": [
       "<Container object of 6 artists>"
      ]
     },
     "execution_count": 58,
     "metadata": {},
     "output_type": "execute_result"
    },
    {
     "data": {
      "image/png": "[encoded data removed]",
      "text/plain": [
       "<matplotlib.figure.Figure at 0x2a1d7bb0630>"
      ]
     },
     "metadata": {},
     "output_type": "display_data"
    }
   ],
   "source": [
    "from collections import Counter\n",
    "\n",
    "flattened_emotions = ([emotion for emotions in df_t2e_assigned.prominent_emotions.values for emotion in emotions])\n",
    "flattened_emotions_count = Counter(flattened_emotions)\n",
    "\n",
    "plt.figure(figsize=(12,8))\n",
    "plt.bar(flattened_emotions_count.keys(), flattened_emotions_count.values())"
   ]
  },
  {
   "cell_type": "code",
   "execution_count": 59,
   "metadata": {
    "scrolled": false
   },
   "outputs": [],
   "source": [
    "def assign_prominent_emotions(row):\n",
    "    global df_t2e_assigned\n",
    "    topics = row['topics']\n",
    "    for topic in topics:\n",
    "        emotions = df_t2e_assigned.at[topic, 'prominent_emotions']\n",
    "        for emotion in emotions:\n",
    "            row[emotion] = int(1)\n",
    "    return row\n",
    "\n",
    "df_t2e_assigned.index = df_t2e_assigned.index - 1\n",
    "df = df.apply(assign_prominent_emotions, axis=1).fillna(int(0))\n",
    "df.to_csv('labeled_data.csv', encoding='utf-8', index=True)"
   ]
  },
  {
   "cell_type": "code",
   "execution_count": 62,
   "metadata": {
    "scrolled": false
   },
   "outputs": [
    {
     "data": {
      "text/html": [
       "<div>\n",
       "<table border=\"1\" class=\"dataframe\">\n",
       "  <thead>\n",
       "    <tr style=\"text-align: right;\">\n",
       "      <th></th>\n",
       "      <th>song</th>\n",
       "      <th>artist</th>\n",
       "      <th>topics</th>\n",
       "    </tr>\n",
       "  </thead>\n",
       "  <tbody>\n",
       "    <tr>\n",
       "      <th>7234</th>\n",
       "      <td>marvin-s-room</td>\n",
       "      <td>drake</td>\n",
       "      <td>[2, 5, 6, 13]</td>\n",
       "    </tr>\n",
       "    <tr>\n",
       "      <th>8192</th>\n",
       "      <td>mockingbird</td>\n",
       "      <td>eminem</td>\n",
       "      <td>[3, 13]</td>\n",
       "    </tr>\n",
       "    <tr>\n",
       "      <th>8290</th>\n",
       "      <td>stan</td>\n",
       "      <td>eminem</td>\n",
       "      <td>[6, 14]</td>\n",
       "    </tr>\n",
       "  </tbody>\n",
       "</table>\n",
       "</div>"
      ],
      "text/plain": [
       "               song  artist         topics\n",
       "7234  marvin-s-room   drake  [2, 5, 6, 13]\n",
       "8192    mockingbird  eminem        [3, 13]\n",
       "8290           stan  eminem        [6, 14]"
      ]
     },
     "metadata": {},
     "output_type": "display_data"
    },
    {
     "data": {
      "text/html": [
       "<div>\n",
       "<table border=\"1\" class=\"dataframe\">\n",
       "  <thead>\n",
       "    <tr style=\"text-align: right;\">\n",
       "      <th></th>\n",
       "      <th>song</th>\n",
       "      <th>artist</th>\n",
       "      <th>joy</th>\n",
       "      <th>trust</th>\n",
       "      <th>sadness</th>\n",
       "      <th>disgust</th>\n",
       "      <th>anger</th>\n",
       "      <th>fear</th>\n",
       "      <th>anticipation</th>\n",
       "      <th>surprise</th>\n",
       "    </tr>\n",
       "  </thead>\n",
       "  <tbody>\n",
       "    <tr>\n",
       "      <th>7234</th>\n",
       "      <td>marvin-s-room</td>\n",
       "      <td>drake</td>\n",
       "      <td>1</td>\n",
       "      <td>1</td>\n",
       "      <td>1</td>\n",
       "      <td>0</td>\n",
       "      <td>0</td>\n",
       "      <td>0</td>\n",
       "      <td>1</td>\n",
       "      <td>0</td>\n",
       "    </tr>\n",
       "    <tr>\n",
       "      <th>8192</th>\n",
       "      <td>mockingbird</td>\n",
       "      <td>eminem</td>\n",
       "      <td>1</td>\n",
       "      <td>1</td>\n",
       "      <td>1</td>\n",
       "      <td>0</td>\n",
       "      <td>0</td>\n",
       "      <td>0</td>\n",
       "      <td>0</td>\n",
       "      <td>0</td>\n",
       "    </tr>\n",
       "    <tr>\n",
       "      <th>8290</th>\n",
       "      <td>stan</td>\n",
       "      <td>eminem</td>\n",
       "      <td>0</td>\n",
       "      <td>1</td>\n",
       "      <td>0</td>\n",
       "      <td>0</td>\n",
       "      <td>1</td>\n",
       "      <td>0</td>\n",
       "      <td>0</td>\n",
       "      <td>0</td>\n",
       "    </tr>\n",
       "  </tbody>\n",
       "</table>\n",
       "</div>"
      ],
      "text/plain": [
       "               song  artist  joy  trust  sadness  disgust  anger  fear  \\\n",
       "7234  marvin-s-room   drake    1      1        1        0      0     0   \n",
       "8192    mockingbird  eminem    1      1        1        0      0     0   \n",
       "8290           stan  eminem    0      1        0        0      1     0   \n",
       "\n",
       "      anticipation  surprise  \n",
       "7234             1         0  \n",
       "8192             0         0  \n",
       "8290             0         0  "
      ]
     },
     "metadata": {},
     "output_type": "display_data"
    }
   ],
   "source": [
    "display_utils.display_song_topics(['stan', 'mockingbird', 'marvin-s-room'], df)\n",
    "display_utils.display_song_emotions(['stan', 'mockingbird', 'marvin-s-room'], df)"
   ]
  },
  {
   "cell_type": "markdown",
   "metadata": {},
   "source": [
    "The graph below shows the number of songs each emotion is present in. There is some imbalance, as 'trust' is present in over twice the number of songs as 'fear' "
   ]
  },
  {
   "cell_type": "code",
   "execution_count": 63,
   "metadata": {},
   "outputs": [
    {
     "data": {
      "text/plain": [
       "<matplotlib.axes._subplots.AxesSubplot at 0x2a211a147f0>"
      ]
     },
     "execution_count": 63,
     "metadata": {},
     "output_type": "execute_result"
    },
    {
     "data": {
      "image/png": "[encoded data removed]",
      "text/plain": [
       "<matplotlib.figure.Figure at 0x2a1d7baff98>"
      ]
     },
     "metadata": {},
     "output_type": "display_data"
    }
   ],
   "source": [
    "df[ ['anger', 'anticipation', 'fear', 'joy', 'sadness', 'trust']].sum().plot(kind='bar', figsize=(12,8))"
   ]
  },
  {
   "cell_type": "markdown",
   "metadata": {},
   "source": [
    "## Classification\n",
    "\n",
    "### Benchmark Classifiers"
   ]
  },
  {
   "cell_type": "code",
   "execution_count": 45,
   "metadata": {},
   "outputs": [],
   "source": [
    "from sklearn.multiclass import OneVsRestClassifier\n",
    "from sklearn.svm import SVC\n",
    "from sklearn.neural_network import MLPClassifier\n",
    "from sklearn.linear_model import Perceptron\n",
    "from sklearn.metrics import fbeta_score\n",
    "from sklearn.model_selection import train_test_split\n",
    "\n",
    "def fscore(y_true, y_pred):\n",
    "    return fbeta_score(y_true, y_pred, average='weighted', beta=0.5)"
   ]
  },
  {
   "cell_type": "code",
   "execution_count": 64,
   "metadata": {},
   "outputs": [
    {
     "name": "stdout",
     "output_type": "stream",
     "text": [
      "Input shape: (8601, 5474), output shape: (8601, 6)\n"
     ]
    }
   ],
   "source": [
    "x, y = lyrics_vectorized.toarray(), df[['trust','anger','anticipation','fear','joy','sadness']]\n",
    "x_train, x_test, y_train, y_test = train_test_split(x, y, test_size=0.20, random_state=4)\n",
    "print(\"Input shape: {}, output shape: {}\".format(x_train.shape, y_train.shape))"
   ]
  },
  {
   "cell_type": "code",
   "execution_count": 65,
   "metadata": {
    "collapsed": true
   },
   "outputs": [],
   "source": [
    "classifiers = {\n",
    "    'OneVsRestClassifier_SVC' : OneVsRestClassifier(SVC(kernel='linear', random_state=4),n_jobs=-1),\n",
    "    'OneVsRestClassifier_Perceptron' : OneVsRestClassifier(Perceptron(random_state=4),n_jobs=-1),\n",
    "    'MLPClassifier' : MLPClassifier(random_state=4)\n",
    "}"
   ]
  },
  {
   "cell_type": "code",
   "execution_count": 66,
   "metadata": {},
   "outputs": [
    {
     "name": "stdout",
     "output_type": "stream",
     "text": [
      "\n",
      "OneVsRestClassifier_SVC:\n",
      "Time taken for training = 10m 13s 264ms\n",
      "Time taken for prediction = 4m 51s 693ms\n",
      "F-Score = 0.8509206782283636\n",
      "\n",
      "\n",
      "OneVsRestClassifier_Perceptron:\n",
      "Time taken for training = 7s 791ms\n",
      "Time taken for prediction = 440ms\n",
      "F-Score = 0.8534511738590372\n",
      "\n",
      "\n",
      "MLPClassifier:\n",
      "Time taken for training = 2m 41s 481ms\n",
      "Time taken for prediction = 150ms\n",
      "F-Score = 0.8730384636452395\n",
      "\n"
     ]
    }
   ],
   "source": [
    "for clf_name, clf in classifiers.items():\n",
    "    print()\n",
    "    print(clf_name + \":\")\n",
    "    \n",
    "    last = now()\n",
    "    clf.fit(x_train, y_train)\n",
    "    print('Time taken for training = ', end='')\n",
    "    display_utils.print_time(now()-last)\n",
    "\n",
    "    last = now()\n",
    "    y_pred = clf.predict(x_test)\n",
    "    print('Time taken for prediction = ', end='')\n",
    "    display_utils.print_time(now()-last)\n",
    "    \n",
    "    print('F-Score = ', end='')\n",
    "    print(fscore(y_test, y_pred))\n",
    "    \n",
    "    print()"
   ]
  },
  {
   "cell_type": "markdown",
   "metadata": {},
   "source": [
    "### The Final Model"
   ]
  },
  {
   "cell_type": "code",
   "execution_count": 70,
   "metadata": {},
   "outputs": [],
   "source": [
    "from keras.callbacks import Callback, ModelCheckpoint\n",
    "\n",
    "class F1BetaCallback(Callback):\n",
    "    def __init__(self, test_data):\n",
    "        self.test_data = test_data\n",
    "        self.df = pd.DataFrame()\n",
    "\n",
    "    def on_epoch_end(self, epoch, logs={}):\n",
    "        x_test, y_test = self.test_data\n",
    "        y_pred = model.predict(x_test)\n",
    "        y_pred[y_pred>=0.5] = 1\n",
    "        y_pred[y_pred<0.5] = 0\n",
    "        logs['f1_score']=fscore(y_test, y_pred)\n",
    "        self.df = self.df.append({'epoch':epoch, 'f1_score':logs['f1_score']}, ignore_index=True)"
   ]
  },
  {
   "cell_type": "code",
   "execution_count": 71,
   "metadata": {
    "scrolled": false
   },
   "outputs": [
    {
     "name": "stdout",
     "output_type": "stream",
     "text": [
      "Epoch 1/10\n",
      "8601/8601 [==============================] - 4s 422us/step - loss: 0.4865\n",
      "\n",
      "Epoch 00001: f1_score improved from -inf to 0.86203, saving model to weights.best\n",
      "Epoch 2/10\n",
      "8601/8601 [==============================] - 3s 382us/step - loss: 0.2792\n",
      "\n",
      "Epoch 00002: f1_score improved from 0.86203 to 0.88034, saving model to weights.best\n",
      "Epoch 3/10\n",
      "8601/8601 [==============================] - 3s 367us/step - loss: 0.1633\n",
      "\n",
      "Epoch 00003: f1_score improved from 0.88034 to 0.89015, saving model to weights.best\n",
      "Epoch 4/10\n",
      "8601/8601 [==============================] - 3s 366us/step - loss: 0.0928\n",
      "\n",
      "Epoch 00004: f1_score did not improve from 0.89015\n",
      "Epoch 5/10\n",
      "8601/8601 [==============================] - 3s 361us/step - loss: 0.0551\n",
      "\n",
      "Epoch 00005: f1_score did not improve from 0.89015\n",
      "Epoch 6/10\n",
      "8601/8601 [==============================] - 3s 391us/step - loss: 0.0381\n",
      "\n",
      "Epoch 00006: f1_score did not improve from 0.89015\n",
      "Epoch 7/10\n",
      "8601/8601 [==============================] - 3s 392us/step - loss: 0.0289\n",
      "\n",
      "Epoch 00007: f1_score did not improve from 0.89015\n",
      "Epoch 8/10\n",
      "8601/8601 [==============================] - 3s 399us/step - loss: 0.0234\n",
      "\n",
      "Epoch 00008: f1_score did not improve from 0.89015\n",
      "Epoch 9/10\n",
      "8601/8601 [==============================] - 3s 374us/step - loss: 0.0200\n",
      "\n",
      "Epoch 00009: f1_score did not improve from 0.89015\n",
      "Epoch 10/10\n",
      "8601/8601 [==============================] - 3s 390us/step - loss: 0.0162\n",
      "\n",
      "Epoch 00010: f1_score did not improve from 0.89015\n",
      "Total time taken for training: 38s 188ms\n"
     ]
    },
    {
     "data": {
      "text/html": [
       "<div>\n",
       "<table border=\"1\" class=\"dataframe\">\n",
       "  <thead>\n",
       "    <tr style=\"text-align: right;\">\n",
       "      <th></th>\n",
       "      <th>epoch</th>\n",
       "      <th>f1_score</th>\n",
       "    </tr>\n",
       "  </thead>\n",
       "  <tbody>\n",
       "    <tr>\n",
       "      <th>count</th>\n",
       "      <td>10.00000</td>\n",
       "      <td>10.000000</td>\n",
       "    </tr>\n",
       "    <tr>\n",
       "      <th>mean</th>\n",
       "      <td>4.50000</td>\n",
       "      <td>0.877810</td>\n",
       "    </tr>\n",
       "    <tr>\n",
       "      <th>std</th>\n",
       "      <td>3.02765</td>\n",
       "      <td>0.007509</td>\n",
       "    </tr>\n",
       "    <tr>\n",
       "      <th>min</th>\n",
       "      <td>0.00000</td>\n",
       "      <td>0.862032</td>\n",
       "    </tr>\n",
       "    <tr>\n",
       "      <th>25%</th>\n",
       "      <td>2.25000</td>\n",
       "      <td>0.875095</td>\n",
       "    </tr>\n",
       "    <tr>\n",
       "      <th>50%</th>\n",
       "      <td>4.50000</td>\n",
       "      <td>0.878584</td>\n",
       "    </tr>\n",
       "    <tr>\n",
       "      <th>75%</th>\n",
       "      <td>6.75000</td>\n",
       "      <td>0.881622</td>\n",
       "    </tr>\n",
       "    <tr>\n",
       "      <th>max</th>\n",
       "      <td>9.00000</td>\n",
       "      <td>0.890153</td>\n",
       "    </tr>\n",
       "  </tbody>\n",
       "</table>\n",
       "</div>"
      ],
      "text/plain": [
       "          epoch   f1_score\n",
       "count  10.00000  10.000000\n",
       "mean    4.50000   0.877810\n",
       "std     3.02765   0.007509\n",
       "min     0.00000   0.862032\n",
       "25%     2.25000   0.875095\n",
       "50%     4.50000   0.878584\n",
       "75%     6.75000   0.881622\n",
       "max     9.00000   0.890153"
      ]
     },
     "metadata": {},
     "output_type": "display_data"
    },
    {
     "data": {
      "text/html": [
       "<div>\n",
       "<table border=\"1\" class=\"dataframe\">\n",
       "  <thead>\n",
       "    <tr style=\"text-align: right;\">\n",
       "      <th></th>\n",
       "      <th>f1_score</th>\n",
       "      <th>loss</th>\n",
       "    </tr>\n",
       "  </thead>\n",
       "  <tbody>\n",
       "    <tr>\n",
       "      <th>0</th>\n",
       "      <td>0.862032</td>\n",
       "      <td>0.486466</td>\n",
       "    </tr>\n",
       "    <tr>\n",
       "      <th>1</th>\n",
       "      <td>0.880342</td>\n",
       "      <td>0.279172</td>\n",
       "    </tr>\n",
       "    <tr>\n",
       "      <th>2</th>\n",
       "      <td>0.890153</td>\n",
       "      <td>0.163277</td>\n",
       "    </tr>\n",
       "    <tr>\n",
       "      <th>3</th>\n",
       "      <td>0.876903</td>\n",
       "      <td>0.092833</td>\n",
       "    </tr>\n",
       "    <tr>\n",
       "      <th>4</th>\n",
       "      <td>0.871632</td>\n",
       "      <td>0.055110</td>\n",
       "    </tr>\n",
       "    <tr>\n",
       "      <th>5</th>\n",
       "      <td>0.882049</td>\n",
       "      <td>0.038066</td>\n",
       "    </tr>\n",
       "    <tr>\n",
       "      <th>6</th>\n",
       "      <td>0.883331</td>\n",
       "      <td>0.028869</td>\n",
       "    </tr>\n",
       "    <tr>\n",
       "      <th>7</th>\n",
       "      <td>0.874492</td>\n",
       "      <td>0.023388</td>\n",
       "    </tr>\n",
       "    <tr>\n",
       "      <th>8</th>\n",
       "      <td>0.878274</td>\n",
       "      <td>0.019999</td>\n",
       "    </tr>\n",
       "    <tr>\n",
       "      <th>9</th>\n",
       "      <td>0.878894</td>\n",
       "      <td>0.016184</td>\n",
       "    </tr>\n",
       "  </tbody>\n",
       "</table>\n",
       "</div>"
      ],
      "text/plain": [
       "   f1_score      loss\n",
       "0  0.862032  0.486466\n",
       "1  0.880342  0.279172\n",
       "2  0.890153  0.163277\n",
       "3  0.876903  0.092833\n",
       "4  0.871632  0.055110\n",
       "5  0.882049  0.038066\n",
       "6  0.883331  0.028869\n",
       "7  0.874492  0.023388\n",
       "8  0.878274  0.019999\n",
       "9  0.878894  0.016184"
      ]
     },
     "execution_count": 71,
     "metadata": {},
     "output_type": "execute_result"
    }
   ],
   "source": [
    "from keras.models import Sequential\n",
    "from keras.layers import Dense, Dropout, Activation, Flatten\n",
    "from keras.initializers import TruncatedNormal\n",
    "from keras.regularizers import l1_l2\n",
    "from keras.optimizers import SGD, Adam\n",
    "\n",
    "model = Sequential()\n",
    "input_dim = x_train.shape[1]\n",
    "output_dim = y_train.shape[1]\n",
    "\n",
    "model.add(Dense(256, activation='relu', input_dim=input_dim))\n",
    "model.add(Dropout(0.2))\n",
    "model.add(Dense(512, activation='relu'))\n",
    "model.add(Dropout(0.2))\n",
    "model.add(Dense(output_dim, activation='sigmoid'))\n",
    "\n",
    "model.compile(loss='binary_crossentropy', optimizer='adam')\n",
    "\n",
    "filepath=\"weights.best\"\n",
    "checkpoint = ModelCheckpoint(filepath, monitor='f1_score', verbose=1, save_best_only=True, mode='max')\n",
    "f1test = F1BetaCallback((x_test, y_test))\n",
    "last = now()\n",
    "model_hist = model.fit(x_train, y_train, \n",
    "                       epochs=10, \n",
    "                       batch_size=256, verbose=1,\n",
    "                       callbacks=[f1test, checkpoint], \n",
    "                       shuffle=True)\n",
    "print(\"Total time taken for training: \",  end='')\n",
    "display_utils.print_time(now() - last)\n",
    "display(f1test.df.describe())\n",
    "model.save_weights('weights.last')\n",
    "pd.DataFrame(model_hist.history)"
   ]
  },
  {
   "cell_type": "code",
   "execution_count": 72,
   "metadata": {},
   "outputs": [
    {
     "name": "stdout",
     "output_type": "stream",
     "text": [
      "F-score with final weights: 0.8788936163135941\n",
      "F-score with the best weights: 0.8901527930593972\n"
     ]
    }
   ],
   "source": [
    "print(\"F-score with final weights: \", end='')\n",
    "model.load_weights('weights.last')\n",
    "preds = model.predict(x_test)\n",
    "preds[preds>=0.5] = 1\n",
    "preds[preds<0.5] = 0\n",
    "print(fscore(y_test, preds))\n",
    "\n",
    "print(\"F-score with the best weights: \", end='')\n",
    "model.load_weights('weights.best')\n",
    "preds = model.predict(x_test)\n",
    "preds[preds>=0.5] = 1\n",
    "preds[preds<0.5] = 0\n",
    "print(fscore(y_test, preds))"
   ]
  },
  {
   "cell_type": "code",
   "execution_count": 73,
   "metadata": {
    "scrolled": false
   },
   "outputs": [
    {
     "name": "stdout",
     "output_type": "stream",
     "text": [
      "F-scores for each epoch: \n"
     ]
    },
    {
     "data": {
      "text/html": [
       "<div>\n",
       "<table border=\"1\" class=\"dataframe\">\n",
       "  <thead>\n",
       "    <tr style=\"text-align: right;\">\n",
       "      <th></th>\n",
       "      <th>f1_score</th>\n",
       "    </tr>\n",
       "    <tr>\n",
       "      <th>epoch</th>\n",
       "      <th></th>\n",
       "    </tr>\n",
       "  </thead>\n",
       "  <tbody>\n",
       "    <tr>\n",
       "      <th>0</th>\n",
       "      <td>0.862032</td>\n",
       "    </tr>\n",
       "    <tr>\n",
       "      <th>1</th>\n",
       "      <td>0.880342</td>\n",
       "    </tr>\n",
       "    <tr>\n",
       "      <th>2</th>\n",
       "      <td>0.890153</td>\n",
       "    </tr>\n",
       "    <tr>\n",
       "      <th>3</th>\n",
       "      <td>0.876903</td>\n",
       "    </tr>\n",
       "    <tr>\n",
       "      <th>4</th>\n",
       "      <td>0.871632</td>\n",
       "    </tr>\n",
       "    <tr>\n",
       "      <th>5</th>\n",
       "      <td>0.882049</td>\n",
       "    </tr>\n",
       "    <tr>\n",
       "      <th>6</th>\n",
       "      <td>0.883331</td>\n",
       "    </tr>\n",
       "    <tr>\n",
       "      <th>7</th>\n",
       "      <td>0.874492</td>\n",
       "    </tr>\n",
       "    <tr>\n",
       "      <th>8</th>\n",
       "      <td>0.878274</td>\n",
       "    </tr>\n",
       "    <tr>\n",
       "      <th>9</th>\n",
       "      <td>0.878894</td>\n",
       "    </tr>\n",
       "  </tbody>\n",
       "</table>\n",
       "</div>"
      ],
      "text/plain": [
       "       f1_score\n",
       "epoch          \n",
       "0      0.862032\n",
       "1      0.880342\n",
       "2      0.890153\n",
       "3      0.876903\n",
       "4      0.871632\n",
       "5      0.882049\n",
       "6      0.883331\n",
       "7      0.874492\n",
       "8      0.878274\n",
       "9      0.878894"
      ]
     },
     "execution_count": 73,
     "metadata": {},
     "output_type": "execute_result"
    }
   ],
   "source": [
    "print(\"F-scores for each epoch: \")\n",
    "f1test.df.epoch = f1test.df.epoch.astype(int)\n",
    "f1test.df.set_index('epoch')"
   ]
  },
  {
   "cell_type": "markdown",
   "metadata": {},
   "source": [
    "The model learns quickly with the **Adam** optimizer, converging in *3 epochs*, and perhaps overfitting after 4.  \n",
    "\n",
    "When using **Stochastic Gradient Descent** as the optimizer, it takes over *50 (or more) epochs* to converge and get similar results.\n",
    "\n",
    "In closing, the final model improves just a tiny bit over the MLP Classifier. And I'm certain that the MLP Classifier could also be used to acheive the same result (since the final model is essentially an extension of the MLP Classifier)."
   ]
  }
 ],
 "metadata": {
  "kernelspec": {
   "display_name": "Python 3",
   "language": "python",
   "name": "python3"
  },
  "language_info": {
   "codemirror_mode": {
    "name": "ipython",
    "version": 3
   },
   "file_extension": ".py",
   "mimetype": "text/x-python",
   "name": "python",
   "nbconvert_exporter": "python",
   "pygments_lexer": "ipython3",
   "version": "3.6.5"
  }
 },
 "nbformat": 4,
 "nbformat_minor": 2
}
